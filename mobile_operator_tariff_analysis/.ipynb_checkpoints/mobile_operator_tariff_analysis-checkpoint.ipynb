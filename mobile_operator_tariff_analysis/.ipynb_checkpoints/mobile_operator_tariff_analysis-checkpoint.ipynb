{
 "cells": [
  {
   "cell_type": "markdown",
   "metadata": {},
   "source": [
    "# Определение перспективного тарифа мобильного оператора\n",
    "\n",
    "Для корректировки рекламного бюджета требуется проанализировать поведение клиентов и сделать вывод — какой тариф приносит больше прибыли."
   ]
  },
  {
   "cell_type": "markdown",
   "metadata": {},
   "source": [
    "<h3>Описание тарифов</h3>\n",
    "\n",
    "<h4>Тариф «Смарт»</h4>\n",
    "\n",
    "- Ежемесячная плата: 550 рублей\n",
    "- Включено 500 минут разговора, 50 сообщений и 15 Гб интернет-трафика\n",
    "\n",
    "    Стоимость услуг сверх тарифного пакета: \n",
    "    1. минута разговора: 3 рубля («Мегалайн» всегда округляет вверх значения минут и мегабайтов.Если пользователь проговорил всего 1 секунду, в тарифе засчитывается целая минута); \n",
    "    2. сообщение: 3 рубля; \n",
    "    3. 1 Гб интернет-трафика: 200 рублей.\n",
    "\n",
    "<h4>Тариф «Ультра»</h4>\n",
    "\n",
    "- Ежемесячная плата: 1950 рублей\n",
    "- Включено 3000 минут разговора, 1000 сообщений и 30 Гб интернет-трафика\n",
    "\n",
    "    Стоимость услуг сверх тарифного пакета: \n",
    "    1. минута разговора: 1 рубль; \n",
    "    2. сообщение: 1 рубль; \n",
    "    3. 1 Гб интернет-трафика: 150 рублей."
   ]
  },
  {
   "cell_type": "markdown",
   "metadata": {},
   "source": [
    "<h3>Описание данных</h3>\n",
    "    \n",
    "<h4>Таблица users (информация о пользователях):</h4>\n",
    "\n",
    "*user_id* — уникальный идентификатор пользователя\n",
    "\n",
    "*first_name* — имя пользователя\n",
    "\n",
    "*last_name* — фамилия пользователя\n",
    "    \n",
    "*age* — возраст пользователя (годы)\n",
    "    \n",
    "*reg_date* — дата подключения тарифа (день, месяц, год)\n",
    "    \n",
    "*churn_date* — дата прекращения пользования тарифом (если значение пропущено, то тариф ещё действовал на момент выгрузки ых)\n",
    "    \n",
    "*city* — город проживания пользователя\n",
    "    \n",
    "*tarif* — название тарифного плана\n",
    "    \n",
    "\n",
    "<h4>Таблица calls (информация о звонках):</h4>\n",
    "\n",
    "*id* — уникальный номер звонка\n",
    "\n",
    "*call_date* — дата звонка\n",
    "\n",
    "*duration* — длительность звонка в минутах\n",
    "\n",
    "*user_id* — идентификатор пользователя, сделавшего звонок\n",
    "\n",
    "<h4>Таблица messages (информация о сообщениях):</h4>\n",
    "\n",
    "*id* — уникальный номер сообщения\n",
    "\n",
    "*message_date* — дата сообщения\n",
    "\n",
    "*user_id* — идентификатор пользователя, отправившего сообщение\n",
    "\n",
    "<h4>Таблица internet (информация об интернет-сессиях):</h4>\n",
    "\n",
    "*id* — уникальный номер сессии\n",
    "\n",
    "*mb_used* — объём потраченного за сессию интернет-трафика (в мегабайтах)\n",
    "\n",
    "*session_date* — дата интернет-сессии\n",
    "\n",
    "*user_id* — идентификатор пользователя\n",
    "\n",
    "<h4>Таблица tariffs (информация о тарифах):</h4>\n",
    "\n",
    "*tariff_name* — название тарифа\n",
    "\n",
    "*rub_monthly_fee* — ежемесячная абонентская плата в рублях\n",
    "\n",
    "*minutes_included* — количество минут разговора в месяц, включённых в абонентскую плату\n",
    "\n",
    "*messages_included* — количество сообщений в месяц, включённых в абонентскую плату\n",
    "\n",
    "*mb_per_month_included* — объём интернет-трафика, включённого в абонентскую плату (в мегабайтах)\n",
    "\n",
    "*rub_per_minute* — стоимость минуты разговора сверх тарифного пакета (например, если в тарифе 100 минут разговора в месяц, то со 101 минуты будет взиматься плата)\n",
    "\n",
    "*rub_per_message* — стоимость отправки сообщения сверх тарифного пакета\n",
    "\n",
    "*rub_per_gb* — стоимость дополнительного гигабайта интернет-трафика сверх тарифного пакета (1 гигабайт = 1024 мегабайта)"
   ]
  },
  {
   "cell_type": "markdown",
   "metadata": {},
   "source": [
    "## Изучение данных"
   ]
  },
  {
   "cell_type": "markdown",
   "metadata": {},
   "source": [
    "Импортируем нужные библиотеки."
   ]
  },
  {
   "cell_type": "code",
   "execution_count": 3,
   "metadata": {},
   "outputs": [],
   "source": [
    "import pandas as pd\n",
    "import math\n",
    "import seaborn as sns\n",
    "from matplotlib import pyplot as plt\n",
    "from scipy import stats as st\n",
    "import numpy as np\n",
    "pd.set_option('display.max_columns', None)"
   ]
  },
  {
   "cell_type": "markdown",
   "metadata": {},
   "source": [
    "Требуется произвести анализ таблиц на корректное чтение и пропуски."
   ]
  },
  {
   "cell_type": "code",
   "execution_count": 4,
   "metadata": {},
   "outputs": [],
   "source": [
    "calls = pd.read_csv('calls.csv')"
   ]
  },
  {
   "cell_type": "code",
   "execution_count": 5,
   "metadata": {},
   "outputs": [
    {
     "data": {
      "text/html": [
       "<div>\n",
       "<style scoped>\n",
       "    .dataframe tbody tr th:only-of-type {\n",
       "        vertical-align: middle;\n",
       "    }\n",
       "\n",
       "    .dataframe tbody tr th {\n",
       "        vertical-align: top;\n",
       "    }\n",
       "\n",
       "    .dataframe thead th {\n",
       "        text-align: right;\n",
       "    }\n",
       "</style>\n",
       "<table border=\"1\" class=\"dataframe\">\n",
       "  <thead>\n",
       "    <tr style=\"text-align: right;\">\n",
       "      <th></th>\n",
       "      <th>id</th>\n",
       "      <th>call_date</th>\n",
       "      <th>duration</th>\n",
       "      <th>user_id</th>\n",
       "    </tr>\n",
       "  </thead>\n",
       "  <tbody>\n",
       "    <tr>\n",
       "      <td>0</td>\n",
       "      <td>1000_0</td>\n",
       "      <td>2018-07-25</td>\n",
       "      <td>0.00</td>\n",
       "      <td>1000</td>\n",
       "    </tr>\n",
       "    <tr>\n",
       "      <td>1</td>\n",
       "      <td>1000_1</td>\n",
       "      <td>2018-08-17</td>\n",
       "      <td>0.00</td>\n",
       "      <td>1000</td>\n",
       "    </tr>\n",
       "    <tr>\n",
       "      <td>2</td>\n",
       "      <td>1000_2</td>\n",
       "      <td>2018-06-11</td>\n",
       "      <td>2.85</td>\n",
       "      <td>1000</td>\n",
       "    </tr>\n",
       "    <tr>\n",
       "      <td>3</td>\n",
       "      <td>1000_3</td>\n",
       "      <td>2018-09-21</td>\n",
       "      <td>13.80</td>\n",
       "      <td>1000</td>\n",
       "    </tr>\n",
       "    <tr>\n",
       "      <td>4</td>\n",
       "      <td>1000_4</td>\n",
       "      <td>2018-12-15</td>\n",
       "      <td>5.18</td>\n",
       "      <td>1000</td>\n",
       "    </tr>\n",
       "  </tbody>\n",
       "</table>\n",
       "</div>"
      ],
      "text/plain": [
       "       id   call_date  duration  user_id\n",
       "0  1000_0  2018-07-25      0.00     1000\n",
       "1  1000_1  2018-08-17      0.00     1000\n",
       "2  1000_2  2018-06-11      2.85     1000\n",
       "3  1000_3  2018-09-21     13.80     1000\n",
       "4  1000_4  2018-12-15      5.18     1000"
      ]
     },
     "execution_count": 5,
     "metadata": {},
     "output_type": "execute_result"
    }
   ],
   "source": [
    "calls.head()"
   ]
  },
  {
   "cell_type": "code",
   "execution_count": 6,
   "metadata": {},
   "outputs": [
    {
     "name": "stdout",
     "output_type": "stream",
     "text": [
      "<class 'pandas.core.frame.DataFrame'>\n",
      "RangeIndex: 202607 entries, 0 to 202606\n",
      "Data columns (total 4 columns):\n",
      "id           202607 non-null object\n",
      "call_date    202607 non-null object\n",
      "duration     202607 non-null float64\n",
      "user_id      202607 non-null int64\n",
      "dtypes: float64(1), int64(1), object(2)\n",
      "memory usage: 6.2+ MB\n"
     ]
    }
   ],
   "source": [
    "calls.info()"
   ]
  },
  {
   "cell_type": "code",
   "execution_count": 7,
   "metadata": {},
   "outputs": [],
   "source": [
    "internet = pd.read_csv('/datasets/internet.csv', index_col=0)"
   ]
  },
  {
   "cell_type": "code",
   "execution_count": 8,
   "metadata": {},
   "outputs": [
    {
     "data": {
      "text/html": [
       "<div>\n",
       "<style scoped>\n",
       "    .dataframe tbody tr th:only-of-type {\n",
       "        vertical-align: middle;\n",
       "    }\n",
       "\n",
       "    .dataframe tbody tr th {\n",
       "        vertical-align: top;\n",
       "    }\n",
       "\n",
       "    .dataframe thead th {\n",
       "        text-align: right;\n",
       "    }\n",
       "</style>\n",
       "<table border=\"1\" class=\"dataframe\">\n",
       "  <thead>\n",
       "    <tr style=\"text-align: right;\">\n",
       "      <th></th>\n",
       "      <th>id</th>\n",
       "      <th>mb_used</th>\n",
       "      <th>session_date</th>\n",
       "      <th>user_id</th>\n",
       "    </tr>\n",
       "  </thead>\n",
       "  <tbody>\n",
       "    <tr>\n",
       "      <td>0</td>\n",
       "      <td>1000_0</td>\n",
       "      <td>112.95</td>\n",
       "      <td>2018-11-25</td>\n",
       "      <td>1000</td>\n",
       "    </tr>\n",
       "    <tr>\n",
       "      <td>1</td>\n",
       "      <td>1000_1</td>\n",
       "      <td>1052.81</td>\n",
       "      <td>2018-09-07</td>\n",
       "      <td>1000</td>\n",
       "    </tr>\n",
       "    <tr>\n",
       "      <td>2</td>\n",
       "      <td>1000_2</td>\n",
       "      <td>1197.26</td>\n",
       "      <td>2018-06-25</td>\n",
       "      <td>1000</td>\n",
       "    </tr>\n",
       "    <tr>\n",
       "      <td>3</td>\n",
       "      <td>1000_3</td>\n",
       "      <td>550.27</td>\n",
       "      <td>2018-08-22</td>\n",
       "      <td>1000</td>\n",
       "    </tr>\n",
       "    <tr>\n",
       "      <td>4</td>\n",
       "      <td>1000_4</td>\n",
       "      <td>302.56</td>\n",
       "      <td>2018-09-24</td>\n",
       "      <td>1000</td>\n",
       "    </tr>\n",
       "  </tbody>\n",
       "</table>\n",
       "</div>"
      ],
      "text/plain": [
       "       id  mb_used session_date  user_id\n",
       "0  1000_0   112.95   2018-11-25     1000\n",
       "1  1000_1  1052.81   2018-09-07     1000\n",
       "2  1000_2  1197.26   2018-06-25     1000\n",
       "3  1000_3   550.27   2018-08-22     1000\n",
       "4  1000_4   302.56   2018-09-24     1000"
      ]
     },
     "execution_count": 8,
     "metadata": {},
     "output_type": "execute_result"
    }
   ],
   "source": [
    "internet.head()"
   ]
  },
  {
   "cell_type": "code",
   "execution_count": 9,
   "metadata": {},
   "outputs": [
    {
     "name": "stdout",
     "output_type": "stream",
     "text": [
      "<class 'pandas.core.frame.DataFrame'>\n",
      "Int64Index: 149396 entries, 0 to 149395\n",
      "Data columns (total 4 columns):\n",
      "id              149396 non-null object\n",
      "mb_used         149396 non-null float64\n",
      "session_date    149396 non-null object\n",
      "user_id         149396 non-null int64\n",
      "dtypes: float64(1), int64(1), object(2)\n",
      "memory usage: 5.7+ MB\n"
     ]
    }
   ],
   "source": [
    "internet.info()"
   ]
  },
  {
   "cell_type": "code",
   "execution_count": 10,
   "metadata": {},
   "outputs": [],
   "source": [
    "messages = pd.read_csv('/datasets/messages.csv')"
   ]
  },
  {
   "cell_type": "code",
   "execution_count": 11,
   "metadata": {},
   "outputs": [
    {
     "data": {
      "text/html": [
       "<div>\n",
       "<style scoped>\n",
       "    .dataframe tbody tr th:only-of-type {\n",
       "        vertical-align: middle;\n",
       "    }\n",
       "\n",
       "    .dataframe tbody tr th {\n",
       "        vertical-align: top;\n",
       "    }\n",
       "\n",
       "    .dataframe thead th {\n",
       "        text-align: right;\n",
       "    }\n",
       "</style>\n",
       "<table border=\"1\" class=\"dataframe\">\n",
       "  <thead>\n",
       "    <tr style=\"text-align: right;\">\n",
       "      <th></th>\n",
       "      <th>id</th>\n",
       "      <th>message_date</th>\n",
       "      <th>user_id</th>\n",
       "    </tr>\n",
       "  </thead>\n",
       "  <tbody>\n",
       "    <tr>\n",
       "      <td>0</td>\n",
       "      <td>1000_0</td>\n",
       "      <td>2018-06-27</td>\n",
       "      <td>1000</td>\n",
       "    </tr>\n",
       "    <tr>\n",
       "      <td>1</td>\n",
       "      <td>1000_1</td>\n",
       "      <td>2018-10-08</td>\n",
       "      <td>1000</td>\n",
       "    </tr>\n",
       "    <tr>\n",
       "      <td>2</td>\n",
       "      <td>1000_2</td>\n",
       "      <td>2018-08-04</td>\n",
       "      <td>1000</td>\n",
       "    </tr>\n",
       "    <tr>\n",
       "      <td>3</td>\n",
       "      <td>1000_3</td>\n",
       "      <td>2018-06-16</td>\n",
       "      <td>1000</td>\n",
       "    </tr>\n",
       "    <tr>\n",
       "      <td>4</td>\n",
       "      <td>1000_4</td>\n",
       "      <td>2018-12-05</td>\n",
       "      <td>1000</td>\n",
       "    </tr>\n",
       "  </tbody>\n",
       "</table>\n",
       "</div>"
      ],
      "text/plain": [
       "       id message_date  user_id\n",
       "0  1000_0   2018-06-27     1000\n",
       "1  1000_1   2018-10-08     1000\n",
       "2  1000_2   2018-08-04     1000\n",
       "3  1000_3   2018-06-16     1000\n",
       "4  1000_4   2018-12-05     1000"
      ]
     },
     "execution_count": 11,
     "metadata": {},
     "output_type": "execute_result"
    }
   ],
   "source": [
    "messages.head()"
   ]
  },
  {
   "cell_type": "code",
   "execution_count": 12,
   "metadata": {},
   "outputs": [
    {
     "name": "stdout",
     "output_type": "stream",
     "text": [
      "<class 'pandas.core.frame.DataFrame'>\n",
      "RangeIndex: 123036 entries, 0 to 123035\n",
      "Data columns (total 3 columns):\n",
      "id              123036 non-null object\n",
      "message_date    123036 non-null object\n",
      "user_id         123036 non-null int64\n",
      "dtypes: int64(1), object(2)\n",
      "memory usage: 2.8+ MB\n"
     ]
    }
   ],
   "source": [
    "messages.info()"
   ]
  },
  {
   "cell_type": "code",
   "execution_count": 13,
   "metadata": {},
   "outputs": [],
   "source": [
    "tariffs = pd.read_csv('/datasets/tariffs.csv')"
   ]
  },
  {
   "cell_type": "code",
   "execution_count": 14,
   "metadata": {},
   "outputs": [
    {
     "data": {
      "text/html": [
       "<div>\n",
       "<style scoped>\n",
       "    .dataframe tbody tr th:only-of-type {\n",
       "        vertical-align: middle;\n",
       "    }\n",
       "\n",
       "    .dataframe tbody tr th {\n",
       "        vertical-align: top;\n",
       "    }\n",
       "\n",
       "    .dataframe thead th {\n",
       "        text-align: right;\n",
       "    }\n",
       "</style>\n",
       "<table border=\"1\" class=\"dataframe\">\n",
       "  <thead>\n",
       "    <tr style=\"text-align: right;\">\n",
       "      <th></th>\n",
       "      <th>messages_included</th>\n",
       "      <th>mb_per_month_included</th>\n",
       "      <th>minutes_included</th>\n",
       "      <th>rub_monthly_fee</th>\n",
       "      <th>rub_per_gb</th>\n",
       "      <th>rub_per_message</th>\n",
       "      <th>rub_per_minute</th>\n",
       "      <th>tariff_name</th>\n",
       "    </tr>\n",
       "  </thead>\n",
       "  <tbody>\n",
       "    <tr>\n",
       "      <td>0</td>\n",
       "      <td>50</td>\n",
       "      <td>15360</td>\n",
       "      <td>500</td>\n",
       "      <td>550</td>\n",
       "      <td>200</td>\n",
       "      <td>3</td>\n",
       "      <td>3</td>\n",
       "      <td>smart</td>\n",
       "    </tr>\n",
       "    <tr>\n",
       "      <td>1</td>\n",
       "      <td>1000</td>\n",
       "      <td>30720</td>\n",
       "      <td>3000</td>\n",
       "      <td>1950</td>\n",
       "      <td>150</td>\n",
       "      <td>1</td>\n",
       "      <td>1</td>\n",
       "      <td>ultra</td>\n",
       "    </tr>\n",
       "  </tbody>\n",
       "</table>\n",
       "</div>"
      ],
      "text/plain": [
       "   messages_included  mb_per_month_included  minutes_included  \\\n",
       "0                 50                  15360               500   \n",
       "1               1000                  30720              3000   \n",
       "\n",
       "   rub_monthly_fee  rub_per_gb  rub_per_message  rub_per_minute tariff_name  \n",
       "0              550         200                3               3       smart  \n",
       "1             1950         150                1               1       ultra  "
      ]
     },
     "execution_count": 14,
     "metadata": {},
     "output_type": "execute_result"
    }
   ],
   "source": [
    "tariffs.head()"
   ]
  },
  {
   "cell_type": "code",
   "execution_count": 15,
   "metadata": {},
   "outputs": [
    {
     "name": "stdout",
     "output_type": "stream",
     "text": [
      "<class 'pandas.core.frame.DataFrame'>\n",
      "RangeIndex: 2 entries, 0 to 1\n",
      "Data columns (total 8 columns):\n",
      "messages_included        2 non-null int64\n",
      "mb_per_month_included    2 non-null int64\n",
      "minutes_included         2 non-null int64\n",
      "rub_monthly_fee          2 non-null int64\n",
      "rub_per_gb               2 non-null int64\n",
      "rub_per_message          2 non-null int64\n",
      "rub_per_minute           2 non-null int64\n",
      "tariff_name              2 non-null object\n",
      "dtypes: int64(7), object(1)\n",
      "memory usage: 256.0+ bytes\n"
     ]
    }
   ],
   "source": [
    "tariffs.info()"
   ]
  },
  {
   "cell_type": "code",
   "execution_count": 16,
   "metadata": {},
   "outputs": [],
   "source": [
    "users = pd.read_csv('/datasets/users.csv')"
   ]
  },
  {
   "cell_type": "code",
   "execution_count": 17,
   "metadata": {},
   "outputs": [
    {
     "data": {
      "text/html": [
       "<div>\n",
       "<style scoped>\n",
       "    .dataframe tbody tr th:only-of-type {\n",
       "        vertical-align: middle;\n",
       "    }\n",
       "\n",
       "    .dataframe tbody tr th {\n",
       "        vertical-align: top;\n",
       "    }\n",
       "\n",
       "    .dataframe thead th {\n",
       "        text-align: right;\n",
       "    }\n",
       "</style>\n",
       "<table border=\"1\" class=\"dataframe\">\n",
       "  <thead>\n",
       "    <tr style=\"text-align: right;\">\n",
       "      <th></th>\n",
       "      <th>user_id</th>\n",
       "      <th>age</th>\n",
       "      <th>churn_date</th>\n",
       "      <th>city</th>\n",
       "      <th>first_name</th>\n",
       "      <th>last_name</th>\n",
       "      <th>reg_date</th>\n",
       "      <th>tariff</th>\n",
       "    </tr>\n",
       "  </thead>\n",
       "  <tbody>\n",
       "    <tr>\n",
       "      <td>0</td>\n",
       "      <td>1000</td>\n",
       "      <td>52</td>\n",
       "      <td>NaN</td>\n",
       "      <td>Краснодар</td>\n",
       "      <td>Рафаил</td>\n",
       "      <td>Верещагин</td>\n",
       "      <td>2018-05-25</td>\n",
       "      <td>ultra</td>\n",
       "    </tr>\n",
       "    <tr>\n",
       "      <td>1</td>\n",
       "      <td>1001</td>\n",
       "      <td>41</td>\n",
       "      <td>NaN</td>\n",
       "      <td>Москва</td>\n",
       "      <td>Иван</td>\n",
       "      <td>Ежов</td>\n",
       "      <td>2018-11-01</td>\n",
       "      <td>smart</td>\n",
       "    </tr>\n",
       "    <tr>\n",
       "      <td>2</td>\n",
       "      <td>1002</td>\n",
       "      <td>59</td>\n",
       "      <td>NaN</td>\n",
       "      <td>Стерлитамак</td>\n",
       "      <td>Евгений</td>\n",
       "      <td>Абрамович</td>\n",
       "      <td>2018-06-17</td>\n",
       "      <td>smart</td>\n",
       "    </tr>\n",
       "    <tr>\n",
       "      <td>3</td>\n",
       "      <td>1003</td>\n",
       "      <td>23</td>\n",
       "      <td>NaN</td>\n",
       "      <td>Москва</td>\n",
       "      <td>Белла</td>\n",
       "      <td>Белякова</td>\n",
       "      <td>2018-08-17</td>\n",
       "      <td>ultra</td>\n",
       "    </tr>\n",
       "    <tr>\n",
       "      <td>4</td>\n",
       "      <td>1004</td>\n",
       "      <td>68</td>\n",
       "      <td>NaN</td>\n",
       "      <td>Новокузнецк</td>\n",
       "      <td>Татьяна</td>\n",
       "      <td>Авдеенко</td>\n",
       "      <td>2018-05-14</td>\n",
       "      <td>ultra</td>\n",
       "    </tr>\n",
       "  </tbody>\n",
       "</table>\n",
       "</div>"
      ],
      "text/plain": [
       "   user_id  age churn_date         city first_name  last_name    reg_date  \\\n",
       "0     1000   52        NaN    Краснодар     Рафаил  Верещагин  2018-05-25   \n",
       "1     1001   41        NaN       Москва       Иван       Ежов  2018-11-01   \n",
       "2     1002   59        NaN  Стерлитамак    Евгений  Абрамович  2018-06-17   \n",
       "3     1003   23        NaN       Москва      Белла   Белякова  2018-08-17   \n",
       "4     1004   68        NaN  Новокузнецк    Татьяна   Авдеенко  2018-05-14   \n",
       "\n",
       "  tariff  \n",
       "0  ultra  \n",
       "1  smart  \n",
       "2  smart  \n",
       "3  ultra  \n",
       "4  ultra  "
      ]
     },
     "execution_count": 17,
     "metadata": {},
     "output_type": "execute_result"
    }
   ],
   "source": [
    "users.head()"
   ]
  },
  {
   "cell_type": "code",
   "execution_count": 18,
   "metadata": {},
   "outputs": [
    {
     "name": "stdout",
     "output_type": "stream",
     "text": [
      "<class 'pandas.core.frame.DataFrame'>\n",
      "RangeIndex: 500 entries, 0 to 499\n",
      "Data columns (total 8 columns):\n",
      "user_id       500 non-null int64\n",
      "age           500 non-null int64\n",
      "churn_date    38 non-null object\n",
      "city          500 non-null object\n",
      "first_name    500 non-null object\n",
      "last_name     500 non-null object\n",
      "reg_date      500 non-null object\n",
      "tariff        500 non-null object\n",
      "dtypes: int64(2), object(6)\n",
      "memory usage: 31.4+ KB\n"
     ]
    }
   ],
   "source": [
    "users.info()"
   ]
  },
  {
   "cell_type": "markdown",
   "metadata": {},
   "source": [
    "**Вывод**"
   ]
  },
  {
   "cell_type": "markdown",
   "metadata": {},
   "source": [
    "На первый взгляд могу заметить, что дата во всех таблицах имеет тип object вместо data. Требуется проверка на аномалии и на дубли. Пропусков нет."
   ]
  },
  {
   "cell_type": "markdown",
   "metadata": {},
   "source": [
    "## Подготовка данных"
   ]
  },
  {
   "cell_type": "markdown",
   "metadata": {},
   "source": [
    "### Предобработка данных"
   ]
  },
  {
   "cell_type": "markdown",
   "metadata": {},
   "source": [
    "#### Предобработка таблицы calls.csv"
   ]
  },
  {
   "cell_type": "code",
   "execution_count": 19,
   "metadata": {
    "scrolled": false
   },
   "outputs": [
    {
     "data": {
      "text/html": [
       "<div>\n",
       "<style scoped>\n",
       "    .dataframe tbody tr th:only-of-type {\n",
       "        vertical-align: middle;\n",
       "    }\n",
       "\n",
       "    .dataframe tbody tr th {\n",
       "        vertical-align: top;\n",
       "    }\n",
       "\n",
       "    .dataframe thead th {\n",
       "        text-align: right;\n",
       "    }\n",
       "</style>\n",
       "<table border=\"1\" class=\"dataframe\">\n",
       "  <thead>\n",
       "    <tr style=\"text-align: right;\">\n",
       "      <th></th>\n",
       "      <th>id</th>\n",
       "      <th>call_date</th>\n",
       "      <th>duration</th>\n",
       "      <th>user_id</th>\n",
       "    </tr>\n",
       "  </thead>\n",
       "  <tbody>\n",
       "    <tr>\n",
       "      <td>0</td>\n",
       "      <td>1000_0</td>\n",
       "      <td>2018-07-25</td>\n",
       "      <td>0.00</td>\n",
       "      <td>1000</td>\n",
       "    </tr>\n",
       "    <tr>\n",
       "      <td>1</td>\n",
       "      <td>1000_1</td>\n",
       "      <td>2018-08-17</td>\n",
       "      <td>0.00</td>\n",
       "      <td>1000</td>\n",
       "    </tr>\n",
       "    <tr>\n",
       "      <td>2</td>\n",
       "      <td>1000_2</td>\n",
       "      <td>2018-06-11</td>\n",
       "      <td>2.85</td>\n",
       "      <td>1000</td>\n",
       "    </tr>\n",
       "    <tr>\n",
       "      <td>3</td>\n",
       "      <td>1000_3</td>\n",
       "      <td>2018-09-21</td>\n",
       "      <td>13.80</td>\n",
       "      <td>1000</td>\n",
       "    </tr>\n",
       "    <tr>\n",
       "      <td>4</td>\n",
       "      <td>1000_4</td>\n",
       "      <td>2018-12-15</td>\n",
       "      <td>5.18</td>\n",
       "      <td>1000</td>\n",
       "    </tr>\n",
       "  </tbody>\n",
       "</table>\n",
       "</div>"
      ],
      "text/plain": [
       "       id   call_date  duration  user_id\n",
       "0  1000_0  2018-07-25      0.00     1000\n",
       "1  1000_1  2018-08-17      0.00     1000\n",
       "2  1000_2  2018-06-11      2.85     1000\n",
       "3  1000_3  2018-09-21     13.80     1000\n",
       "4  1000_4  2018-12-15      5.18     1000"
      ]
     },
     "execution_count": 19,
     "metadata": {},
     "output_type": "execute_result"
    }
   ],
   "source": [
    "calls.head()"
   ]
  },
  {
   "cell_type": "code",
   "execution_count": 20,
   "metadata": {},
   "outputs": [
    {
     "name": "stdout",
     "output_type": "stream",
     "text": [
      "<class 'pandas.core.frame.DataFrame'>\n",
      "RangeIndex: 202607 entries, 0 to 202606\n",
      "Data columns (total 4 columns):\n",
      "id           202607 non-null object\n",
      "call_date    202607 non-null object\n",
      "duration     202607 non-null float64\n",
      "user_id      202607 non-null int64\n",
      "dtypes: float64(1), int64(1), object(2)\n",
      "memory usage: 6.2+ MB\n"
     ]
    }
   ],
   "source": [
    "calls.info()"
   ]
  },
  {
   "cell_type": "markdown",
   "metadata": {},
   "source": [
    "Изменим тип данных в столбце call_date на data."
   ]
  },
  {
   "cell_type": "code",
   "execution_count": 21,
   "metadata": {},
   "outputs": [],
   "source": [
    "calls['call_date'] = pd.to_datetime(calls['call_date'], format='%Y-%m-%d')"
   ]
  },
  {
   "cell_type": "markdown",
   "metadata": {},
   "source": [
    "Сделаем округление значений duration до большего, т.к. даже секунда свыше минуты в тарифе считается как дополнительная минута."
   ]
  },
  {
   "cell_type": "code",
   "execution_count": 22,
   "metadata": {},
   "outputs": [],
   "source": [
    "calls['duration'] = np.ceil(calls['duration'])"
   ]
  },
  {
   "cell_type": "markdown",
   "metadata": {},
   "source": [
    "Проверим таблицу на полные дубликаты."
   ]
  },
  {
   "cell_type": "code",
   "execution_count": 23,
   "metadata": {},
   "outputs": [
    {
     "data": {
      "text/plain": [
       "0"
      ]
     },
     "execution_count": 23,
     "metadata": {},
     "output_type": "execute_result"
    }
   ],
   "source": [
    "calls.duplicated().sum()"
   ]
  },
  {
   "cell_type": "markdown",
   "metadata": {},
   "source": [
    "Добавим столбец обозначающий номер месяца."
   ]
  },
  {
   "cell_type": "code",
   "execution_count": 24,
   "metadata": {},
   "outputs": [],
   "source": [
    "calls['month'] = calls['call_date'].astype('datetime64[M]')"
   ]
  },
  {
   "cell_type": "code",
   "execution_count": 25,
   "metadata": {},
   "outputs": [
    {
     "data": {
      "text/html": [
       "<div>\n",
       "<style scoped>\n",
       "    .dataframe tbody tr th:only-of-type {\n",
       "        vertical-align: middle;\n",
       "    }\n",
       "\n",
       "    .dataframe tbody tr th {\n",
       "        vertical-align: top;\n",
       "    }\n",
       "\n",
       "    .dataframe thead th {\n",
       "        text-align: right;\n",
       "    }\n",
       "</style>\n",
       "<table border=\"1\" class=\"dataframe\">\n",
       "  <thead>\n",
       "    <tr style=\"text-align: right;\">\n",
       "      <th></th>\n",
       "      <th>id</th>\n",
       "      <th>call_date</th>\n",
       "      <th>duration</th>\n",
       "      <th>user_id</th>\n",
       "      <th>month</th>\n",
       "    </tr>\n",
       "  </thead>\n",
       "  <tbody>\n",
       "    <tr>\n",
       "      <td>0</td>\n",
       "      <td>1000_0</td>\n",
       "      <td>2018-07-25</td>\n",
       "      <td>0.0</td>\n",
       "      <td>1000</td>\n",
       "      <td>2018-07-01</td>\n",
       "    </tr>\n",
       "    <tr>\n",
       "      <td>1</td>\n",
       "      <td>1000_1</td>\n",
       "      <td>2018-08-17</td>\n",
       "      <td>0.0</td>\n",
       "      <td>1000</td>\n",
       "      <td>2018-08-01</td>\n",
       "    </tr>\n",
       "    <tr>\n",
       "      <td>2</td>\n",
       "      <td>1000_2</td>\n",
       "      <td>2018-06-11</td>\n",
       "      <td>3.0</td>\n",
       "      <td>1000</td>\n",
       "      <td>2018-06-01</td>\n",
       "    </tr>\n",
       "    <tr>\n",
       "      <td>3</td>\n",
       "      <td>1000_3</td>\n",
       "      <td>2018-09-21</td>\n",
       "      <td>14.0</td>\n",
       "      <td>1000</td>\n",
       "      <td>2018-09-01</td>\n",
       "    </tr>\n",
       "    <tr>\n",
       "      <td>4</td>\n",
       "      <td>1000_4</td>\n",
       "      <td>2018-12-15</td>\n",
       "      <td>6.0</td>\n",
       "      <td>1000</td>\n",
       "      <td>2018-12-01</td>\n",
       "    </tr>\n",
       "  </tbody>\n",
       "</table>\n",
       "</div>"
      ],
      "text/plain": [
       "       id  call_date  duration  user_id      month\n",
       "0  1000_0 2018-07-25       0.0     1000 2018-07-01\n",
       "1  1000_1 2018-08-17       0.0     1000 2018-08-01\n",
       "2  1000_2 2018-06-11       3.0     1000 2018-06-01\n",
       "3  1000_3 2018-09-21      14.0     1000 2018-09-01\n",
       "4  1000_4 2018-12-15       6.0     1000 2018-12-01"
      ]
     },
     "execution_count": 25,
     "metadata": {},
     "output_type": "execute_result"
    }
   ],
   "source": [
    "calls.head()"
   ]
  },
  {
   "cell_type": "markdown",
   "metadata": {},
   "source": [
    "#### Предобработка таблицы internet.csv"
   ]
  },
  {
   "cell_type": "code",
   "execution_count": 26,
   "metadata": {},
   "outputs": [
    {
     "data": {
      "text/html": [
       "<div>\n",
       "<style scoped>\n",
       "    .dataframe tbody tr th:only-of-type {\n",
       "        vertical-align: middle;\n",
       "    }\n",
       "\n",
       "    .dataframe tbody tr th {\n",
       "        vertical-align: top;\n",
       "    }\n",
       "\n",
       "    .dataframe thead th {\n",
       "        text-align: right;\n",
       "    }\n",
       "</style>\n",
       "<table border=\"1\" class=\"dataframe\">\n",
       "  <thead>\n",
       "    <tr style=\"text-align: right;\">\n",
       "      <th></th>\n",
       "      <th>id</th>\n",
       "      <th>mb_used</th>\n",
       "      <th>session_date</th>\n",
       "      <th>user_id</th>\n",
       "    </tr>\n",
       "  </thead>\n",
       "  <tbody>\n",
       "    <tr>\n",
       "      <td>0</td>\n",
       "      <td>1000_0</td>\n",
       "      <td>112.95</td>\n",
       "      <td>2018-11-25</td>\n",
       "      <td>1000</td>\n",
       "    </tr>\n",
       "    <tr>\n",
       "      <td>1</td>\n",
       "      <td>1000_1</td>\n",
       "      <td>1052.81</td>\n",
       "      <td>2018-09-07</td>\n",
       "      <td>1000</td>\n",
       "    </tr>\n",
       "    <tr>\n",
       "      <td>2</td>\n",
       "      <td>1000_2</td>\n",
       "      <td>1197.26</td>\n",
       "      <td>2018-06-25</td>\n",
       "      <td>1000</td>\n",
       "    </tr>\n",
       "    <tr>\n",
       "      <td>3</td>\n",
       "      <td>1000_3</td>\n",
       "      <td>550.27</td>\n",
       "      <td>2018-08-22</td>\n",
       "      <td>1000</td>\n",
       "    </tr>\n",
       "    <tr>\n",
       "      <td>4</td>\n",
       "      <td>1000_4</td>\n",
       "      <td>302.56</td>\n",
       "      <td>2018-09-24</td>\n",
       "      <td>1000</td>\n",
       "    </tr>\n",
       "    <tr>\n",
       "      <td>...</td>\n",
       "      <td>...</td>\n",
       "      <td>...</td>\n",
       "      <td>...</td>\n",
       "      <td>...</td>\n",
       "    </tr>\n",
       "    <tr>\n",
       "      <td>149391</td>\n",
       "      <td>1499_152</td>\n",
       "      <td>318.90</td>\n",
       "      <td>2018-10-03</td>\n",
       "      <td>1499</td>\n",
       "    </tr>\n",
       "    <tr>\n",
       "      <td>149392</td>\n",
       "      <td>1499_153</td>\n",
       "      <td>490.13</td>\n",
       "      <td>2018-12-14</td>\n",
       "      <td>1499</td>\n",
       "    </tr>\n",
       "    <tr>\n",
       "      <td>149393</td>\n",
       "      <td>1499_154</td>\n",
       "      <td>0.00</td>\n",
       "      <td>2018-10-27</td>\n",
       "      <td>1499</td>\n",
       "    </tr>\n",
       "    <tr>\n",
       "      <td>149394</td>\n",
       "      <td>1499_155</td>\n",
       "      <td>1246.32</td>\n",
       "      <td>2018-11-26</td>\n",
       "      <td>1499</td>\n",
       "    </tr>\n",
       "    <tr>\n",
       "      <td>149395</td>\n",
       "      <td>1499_156</td>\n",
       "      <td>544.37</td>\n",
       "      <td>2018-10-26</td>\n",
       "      <td>1499</td>\n",
       "    </tr>\n",
       "  </tbody>\n",
       "</table>\n",
       "<p>149396 rows × 4 columns</p>\n",
       "</div>"
      ],
      "text/plain": [
       "              id  mb_used session_date  user_id\n",
       "0         1000_0   112.95   2018-11-25     1000\n",
       "1         1000_1  1052.81   2018-09-07     1000\n",
       "2         1000_2  1197.26   2018-06-25     1000\n",
       "3         1000_3   550.27   2018-08-22     1000\n",
       "4         1000_4   302.56   2018-09-24     1000\n",
       "...          ...      ...          ...      ...\n",
       "149391  1499_152   318.90   2018-10-03     1499\n",
       "149392  1499_153   490.13   2018-12-14     1499\n",
       "149393  1499_154     0.00   2018-10-27     1499\n",
       "149394  1499_155  1246.32   2018-11-26     1499\n",
       "149395  1499_156   544.37   2018-10-26     1499\n",
       "\n",
       "[149396 rows x 4 columns]"
      ]
     },
     "execution_count": 26,
     "metadata": {},
     "output_type": "execute_result"
    }
   ],
   "source": [
    "internet"
   ]
  },
  {
   "cell_type": "code",
   "execution_count": 27,
   "metadata": {
    "scrolled": false
   },
   "outputs": [
    {
     "name": "stdout",
     "output_type": "stream",
     "text": [
      "<class 'pandas.core.frame.DataFrame'>\n",
      "Int64Index: 149396 entries, 0 to 149395\n",
      "Data columns (total 4 columns):\n",
      "id              149396 non-null object\n",
      "mb_used         149396 non-null float64\n",
      "session_date    149396 non-null object\n",
      "user_id         149396 non-null int64\n",
      "dtypes: float64(1), int64(1), object(2)\n",
      "memory usage: 5.7+ MB\n"
     ]
    }
   ],
   "source": [
    "internet.info()"
   ]
  },
  {
   "cell_type": "markdown",
   "metadata": {},
   "source": [
    "Изменим тип данных столбца session_date на data."
   ]
  },
  {
   "cell_type": "code",
   "execution_count": 28,
   "metadata": {},
   "outputs": [],
   "source": [
    "internet['session_date'] = pd.to_datetime(internet['session_date'], format='%Y-%m-%d')"
   ]
  },
  {
   "cell_type": "markdown",
   "metadata": {},
   "source": [
    "Проверим таблицу на дубликаты."
   ]
  },
  {
   "cell_type": "code",
   "execution_count": 29,
   "metadata": {
    "scrolled": true
   },
   "outputs": [
    {
     "data": {
      "text/plain": [
       "0"
      ]
     },
     "execution_count": 29,
     "metadata": {},
     "output_type": "execute_result"
    }
   ],
   "source": [
    "internet.duplicated().sum()"
   ]
  },
  {
   "cell_type": "markdown",
   "metadata": {},
   "source": [
    "Добавим столбец с информацией о месяце."
   ]
  },
  {
   "cell_type": "code",
   "execution_count": 30,
   "metadata": {},
   "outputs": [],
   "source": [
    "internet['month'] = internet['session_date'].astype('datetime64[M]')"
   ]
  },
  {
   "cell_type": "code",
   "execution_count": 31,
   "metadata": {},
   "outputs": [
    {
     "data": {
      "text/html": [
       "<div>\n",
       "<style scoped>\n",
       "    .dataframe tbody tr th:only-of-type {\n",
       "        vertical-align: middle;\n",
       "    }\n",
       "\n",
       "    .dataframe tbody tr th {\n",
       "        vertical-align: top;\n",
       "    }\n",
       "\n",
       "    .dataframe thead th {\n",
       "        text-align: right;\n",
       "    }\n",
       "</style>\n",
       "<table border=\"1\" class=\"dataframe\">\n",
       "  <thead>\n",
       "    <tr style=\"text-align: right;\">\n",
       "      <th></th>\n",
       "      <th>id</th>\n",
       "      <th>mb_used</th>\n",
       "      <th>session_date</th>\n",
       "      <th>user_id</th>\n",
       "      <th>month</th>\n",
       "    </tr>\n",
       "  </thead>\n",
       "  <tbody>\n",
       "    <tr>\n",
       "      <td>0</td>\n",
       "      <td>1000_0</td>\n",
       "      <td>112.95</td>\n",
       "      <td>2018-11-25</td>\n",
       "      <td>1000</td>\n",
       "      <td>2018-11-01</td>\n",
       "    </tr>\n",
       "    <tr>\n",
       "      <td>1</td>\n",
       "      <td>1000_1</td>\n",
       "      <td>1052.81</td>\n",
       "      <td>2018-09-07</td>\n",
       "      <td>1000</td>\n",
       "      <td>2018-09-01</td>\n",
       "    </tr>\n",
       "    <tr>\n",
       "      <td>2</td>\n",
       "      <td>1000_2</td>\n",
       "      <td>1197.26</td>\n",
       "      <td>2018-06-25</td>\n",
       "      <td>1000</td>\n",
       "      <td>2018-06-01</td>\n",
       "    </tr>\n",
       "    <tr>\n",
       "      <td>3</td>\n",
       "      <td>1000_3</td>\n",
       "      <td>550.27</td>\n",
       "      <td>2018-08-22</td>\n",
       "      <td>1000</td>\n",
       "      <td>2018-08-01</td>\n",
       "    </tr>\n",
       "    <tr>\n",
       "      <td>4</td>\n",
       "      <td>1000_4</td>\n",
       "      <td>302.56</td>\n",
       "      <td>2018-09-24</td>\n",
       "      <td>1000</td>\n",
       "      <td>2018-09-01</td>\n",
       "    </tr>\n",
       "  </tbody>\n",
       "</table>\n",
       "</div>"
      ],
      "text/plain": [
       "       id  mb_used session_date  user_id      month\n",
       "0  1000_0   112.95   2018-11-25     1000 2018-11-01\n",
       "1  1000_1  1052.81   2018-09-07     1000 2018-09-01\n",
       "2  1000_2  1197.26   2018-06-25     1000 2018-06-01\n",
       "3  1000_3   550.27   2018-08-22     1000 2018-08-01\n",
       "4  1000_4   302.56   2018-09-24     1000 2018-09-01"
      ]
     },
     "execution_count": 31,
     "metadata": {},
     "output_type": "execute_result"
    }
   ],
   "source": [
    "internet.head()"
   ]
  },
  {
   "cell_type": "markdown",
   "metadata": {},
   "source": [
    "#### Предобработка таблицы messages.csv"
   ]
  },
  {
   "cell_type": "code",
   "execution_count": 32,
   "metadata": {},
   "outputs": [
    {
     "data": {
      "text/html": [
       "<div>\n",
       "<style scoped>\n",
       "    .dataframe tbody tr th:only-of-type {\n",
       "        vertical-align: middle;\n",
       "    }\n",
       "\n",
       "    .dataframe tbody tr th {\n",
       "        vertical-align: top;\n",
       "    }\n",
       "\n",
       "    .dataframe thead th {\n",
       "        text-align: right;\n",
       "    }\n",
       "</style>\n",
       "<table border=\"1\" class=\"dataframe\">\n",
       "  <thead>\n",
       "    <tr style=\"text-align: right;\">\n",
       "      <th></th>\n",
       "      <th>id</th>\n",
       "      <th>message_date</th>\n",
       "      <th>user_id</th>\n",
       "    </tr>\n",
       "  </thead>\n",
       "  <tbody>\n",
       "    <tr>\n",
       "      <td>0</td>\n",
       "      <td>1000_0</td>\n",
       "      <td>2018-06-27</td>\n",
       "      <td>1000</td>\n",
       "    </tr>\n",
       "    <tr>\n",
       "      <td>1</td>\n",
       "      <td>1000_1</td>\n",
       "      <td>2018-10-08</td>\n",
       "      <td>1000</td>\n",
       "    </tr>\n",
       "    <tr>\n",
       "      <td>2</td>\n",
       "      <td>1000_2</td>\n",
       "      <td>2018-08-04</td>\n",
       "      <td>1000</td>\n",
       "    </tr>\n",
       "    <tr>\n",
       "      <td>3</td>\n",
       "      <td>1000_3</td>\n",
       "      <td>2018-06-16</td>\n",
       "      <td>1000</td>\n",
       "    </tr>\n",
       "    <tr>\n",
       "      <td>4</td>\n",
       "      <td>1000_4</td>\n",
       "      <td>2018-12-05</td>\n",
       "      <td>1000</td>\n",
       "    </tr>\n",
       "  </tbody>\n",
       "</table>\n",
       "</div>"
      ],
      "text/plain": [
       "       id message_date  user_id\n",
       "0  1000_0   2018-06-27     1000\n",
       "1  1000_1   2018-10-08     1000\n",
       "2  1000_2   2018-08-04     1000\n",
       "3  1000_3   2018-06-16     1000\n",
       "4  1000_4   2018-12-05     1000"
      ]
     },
     "execution_count": 32,
     "metadata": {},
     "output_type": "execute_result"
    }
   ],
   "source": [
    "messages.head()"
   ]
  },
  {
   "cell_type": "code",
   "execution_count": 33,
   "metadata": {
    "scrolled": true
   },
   "outputs": [
    {
     "name": "stdout",
     "output_type": "stream",
     "text": [
      "<class 'pandas.core.frame.DataFrame'>\n",
      "RangeIndex: 123036 entries, 0 to 123035\n",
      "Data columns (total 3 columns):\n",
      "id              123036 non-null object\n",
      "message_date    123036 non-null object\n",
      "user_id         123036 non-null int64\n",
      "dtypes: int64(1), object(2)\n",
      "memory usage: 2.8+ MB\n"
     ]
    }
   ],
   "source": [
    "messages.info()"
   ]
  },
  {
   "cell_type": "markdown",
   "metadata": {},
   "source": [
    "Изменим тип данных столбца session_date на data."
   ]
  },
  {
   "cell_type": "code",
   "execution_count": 34,
   "metadata": {},
   "outputs": [],
   "source": [
    "messages['message_date'] = pd.to_datetime(messages['message_date'], format='%Y-%m-%d')"
   ]
  },
  {
   "cell_type": "markdown",
   "metadata": {},
   "source": [
    "Проверим таблицу на дубликаты."
   ]
  },
  {
   "cell_type": "code",
   "execution_count": 35,
   "metadata": {},
   "outputs": [
    {
     "data": {
      "text/plain": [
       "0"
      ]
     },
     "execution_count": 35,
     "metadata": {},
     "output_type": "execute_result"
    }
   ],
   "source": [
    "messages.duplicated().sum()"
   ]
  },
  {
   "cell_type": "markdown",
   "metadata": {},
   "source": [
    "Добавим информацию о месяце."
   ]
  },
  {
   "cell_type": "code",
   "execution_count": 36,
   "metadata": {},
   "outputs": [],
   "source": [
    "messages['month'] = messages['message_date'].astype('datetime64[M]')"
   ]
  },
  {
   "cell_type": "code",
   "execution_count": 37,
   "metadata": {},
   "outputs": [
    {
     "data": {
      "text/html": [
       "<div>\n",
       "<style scoped>\n",
       "    .dataframe tbody tr th:only-of-type {\n",
       "        vertical-align: middle;\n",
       "    }\n",
       "\n",
       "    .dataframe tbody tr th {\n",
       "        vertical-align: top;\n",
       "    }\n",
       "\n",
       "    .dataframe thead th {\n",
       "        text-align: right;\n",
       "    }\n",
       "</style>\n",
       "<table border=\"1\" class=\"dataframe\">\n",
       "  <thead>\n",
       "    <tr style=\"text-align: right;\">\n",
       "      <th></th>\n",
       "      <th>id</th>\n",
       "      <th>message_date</th>\n",
       "      <th>user_id</th>\n",
       "      <th>month</th>\n",
       "    </tr>\n",
       "  </thead>\n",
       "  <tbody>\n",
       "    <tr>\n",
       "      <td>0</td>\n",
       "      <td>1000_0</td>\n",
       "      <td>2018-06-27</td>\n",
       "      <td>1000</td>\n",
       "      <td>2018-06-01</td>\n",
       "    </tr>\n",
       "    <tr>\n",
       "      <td>1</td>\n",
       "      <td>1000_1</td>\n",
       "      <td>2018-10-08</td>\n",
       "      <td>1000</td>\n",
       "      <td>2018-10-01</td>\n",
       "    </tr>\n",
       "    <tr>\n",
       "      <td>2</td>\n",
       "      <td>1000_2</td>\n",
       "      <td>2018-08-04</td>\n",
       "      <td>1000</td>\n",
       "      <td>2018-08-01</td>\n",
       "    </tr>\n",
       "    <tr>\n",
       "      <td>3</td>\n",
       "      <td>1000_3</td>\n",
       "      <td>2018-06-16</td>\n",
       "      <td>1000</td>\n",
       "      <td>2018-06-01</td>\n",
       "    </tr>\n",
       "    <tr>\n",
       "      <td>4</td>\n",
       "      <td>1000_4</td>\n",
       "      <td>2018-12-05</td>\n",
       "      <td>1000</td>\n",
       "      <td>2018-12-01</td>\n",
       "    </tr>\n",
       "  </tbody>\n",
       "</table>\n",
       "</div>"
      ],
      "text/plain": [
       "       id message_date  user_id      month\n",
       "0  1000_0   2018-06-27     1000 2018-06-01\n",
       "1  1000_1   2018-10-08     1000 2018-10-01\n",
       "2  1000_2   2018-08-04     1000 2018-08-01\n",
       "3  1000_3   2018-06-16     1000 2018-06-01\n",
       "4  1000_4   2018-12-05     1000 2018-12-01"
      ]
     },
     "execution_count": 37,
     "metadata": {},
     "output_type": "execute_result"
    }
   ],
   "source": [
    "messages.head()"
   ]
  },
  {
   "cell_type": "markdown",
   "metadata": {},
   "source": [
    "#### Предобработка таблицы users.csv"
   ]
  },
  {
   "cell_type": "code",
   "execution_count": 38,
   "metadata": {},
   "outputs": [
    {
     "data": {
      "text/html": [
       "<div>\n",
       "<style scoped>\n",
       "    .dataframe tbody tr th:only-of-type {\n",
       "        vertical-align: middle;\n",
       "    }\n",
       "\n",
       "    .dataframe tbody tr th {\n",
       "        vertical-align: top;\n",
       "    }\n",
       "\n",
       "    .dataframe thead th {\n",
       "        text-align: right;\n",
       "    }\n",
       "</style>\n",
       "<table border=\"1\" class=\"dataframe\">\n",
       "  <thead>\n",
       "    <tr style=\"text-align: right;\">\n",
       "      <th></th>\n",
       "      <th>user_id</th>\n",
       "      <th>age</th>\n",
       "      <th>churn_date</th>\n",
       "      <th>city</th>\n",
       "      <th>first_name</th>\n",
       "      <th>last_name</th>\n",
       "      <th>reg_date</th>\n",
       "      <th>tariff</th>\n",
       "    </tr>\n",
       "  </thead>\n",
       "  <tbody>\n",
       "    <tr>\n",
       "      <td>0</td>\n",
       "      <td>1000</td>\n",
       "      <td>52</td>\n",
       "      <td>NaN</td>\n",
       "      <td>Краснодар</td>\n",
       "      <td>Рафаил</td>\n",
       "      <td>Верещагин</td>\n",
       "      <td>2018-05-25</td>\n",
       "      <td>ultra</td>\n",
       "    </tr>\n",
       "    <tr>\n",
       "      <td>1</td>\n",
       "      <td>1001</td>\n",
       "      <td>41</td>\n",
       "      <td>NaN</td>\n",
       "      <td>Москва</td>\n",
       "      <td>Иван</td>\n",
       "      <td>Ежов</td>\n",
       "      <td>2018-11-01</td>\n",
       "      <td>smart</td>\n",
       "    </tr>\n",
       "    <tr>\n",
       "      <td>2</td>\n",
       "      <td>1002</td>\n",
       "      <td>59</td>\n",
       "      <td>NaN</td>\n",
       "      <td>Стерлитамак</td>\n",
       "      <td>Евгений</td>\n",
       "      <td>Абрамович</td>\n",
       "      <td>2018-06-17</td>\n",
       "      <td>smart</td>\n",
       "    </tr>\n",
       "    <tr>\n",
       "      <td>3</td>\n",
       "      <td>1003</td>\n",
       "      <td>23</td>\n",
       "      <td>NaN</td>\n",
       "      <td>Москва</td>\n",
       "      <td>Белла</td>\n",
       "      <td>Белякова</td>\n",
       "      <td>2018-08-17</td>\n",
       "      <td>ultra</td>\n",
       "    </tr>\n",
       "    <tr>\n",
       "      <td>4</td>\n",
       "      <td>1004</td>\n",
       "      <td>68</td>\n",
       "      <td>NaN</td>\n",
       "      <td>Новокузнецк</td>\n",
       "      <td>Татьяна</td>\n",
       "      <td>Авдеенко</td>\n",
       "      <td>2018-05-14</td>\n",
       "      <td>ultra</td>\n",
       "    </tr>\n",
       "  </tbody>\n",
       "</table>\n",
       "</div>"
      ],
      "text/plain": [
       "   user_id  age churn_date         city first_name  last_name    reg_date  \\\n",
       "0     1000   52        NaN    Краснодар     Рафаил  Верещагин  2018-05-25   \n",
       "1     1001   41        NaN       Москва       Иван       Ежов  2018-11-01   \n",
       "2     1002   59        NaN  Стерлитамак    Евгений  Абрамович  2018-06-17   \n",
       "3     1003   23        NaN       Москва      Белла   Белякова  2018-08-17   \n",
       "4     1004   68        NaN  Новокузнецк    Татьяна   Авдеенко  2018-05-14   \n",
       "\n",
       "  tariff  \n",
       "0  ultra  \n",
       "1  smart  \n",
       "2  smart  \n",
       "3  ultra  \n",
       "4  ultra  "
      ]
     },
     "execution_count": 38,
     "metadata": {},
     "output_type": "execute_result"
    }
   ],
   "source": [
    "users.head()"
   ]
  },
  {
   "cell_type": "code",
   "execution_count": 39,
   "metadata": {},
   "outputs": [
    {
     "name": "stdout",
     "output_type": "stream",
     "text": [
      "<class 'pandas.core.frame.DataFrame'>\n",
      "RangeIndex: 500 entries, 0 to 499\n",
      "Data columns (total 8 columns):\n",
      "user_id       500 non-null int64\n",
      "age           500 non-null int64\n",
      "churn_date    38 non-null object\n",
      "city          500 non-null object\n",
      "first_name    500 non-null object\n",
      "last_name     500 non-null object\n",
      "reg_date      500 non-null object\n",
      "tariff        500 non-null object\n",
      "dtypes: int64(2), object(6)\n",
      "memory usage: 31.4+ KB\n"
     ]
    }
   ],
   "source": [
    "users.info()"
   ]
  },
  {
   "cell_type": "markdown",
   "metadata": {},
   "source": [
    "Изменим тип данных столбца reg_date."
   ]
  },
  {
   "cell_type": "code",
   "execution_count": 40,
   "metadata": {},
   "outputs": [],
   "source": [
    "users['reg_date'] = pd.to_datetime(users['reg_date'], format='%Y-%m-%d')"
   ]
  },
  {
   "cell_type": "markdown",
   "metadata": {},
   "source": [
    "Приведем к нижнему регистру значения столбцов city, first_name, last_name."
   ]
  },
  {
   "cell_type": "code",
   "execution_count": 41,
   "metadata": {},
   "outputs": [],
   "source": [
    "users['city'] = users['city'].str.lower()\n",
    "users['first_name'] = users['first_name'].str.lower()\n",
    "users['last_name'] = users['last_name'].str.lower()"
   ]
  },
  {
   "cell_type": "markdown",
   "metadata": {},
   "source": [
    "Проверим наличие аномалий в столбцах age, tariff."
   ]
  },
  {
   "cell_type": "code",
   "execution_count": 42,
   "metadata": {},
   "outputs": [
    {
     "data": {
      "text/plain": [
       "count    500.00000\n",
       "mean      46.58800\n",
       "std       16.66763\n",
       "min       18.00000\n",
       "25%       32.00000\n",
       "50%       46.00000\n",
       "75%       62.00000\n",
       "max       75.00000\n",
       "Name: age, dtype: float64"
      ]
     },
     "execution_count": 42,
     "metadata": {},
     "output_type": "execute_result"
    }
   ],
   "source": [
    "users['age'].describe()"
   ]
  },
  {
   "cell_type": "code",
   "execution_count": 43,
   "metadata": {},
   "outputs": [
    {
     "data": {
      "text/plain": [
       "smart    351\n",
       "ultra    149\n",
       "Name: tariff, dtype: int64"
      ]
     },
     "execution_count": 43,
     "metadata": {},
     "output_type": "execute_result"
    }
   ],
   "source": [
    "users['tariff'].value_counts()"
   ]
  },
  {
   "cell_type": "markdown",
   "metadata": {},
   "source": [
    "Аномалий не обнаружено."
   ]
  },
  {
   "cell_type": "markdown",
   "metadata": {},
   "source": [
    "Подсчитаем полные дубликаты таблицы."
   ]
  },
  {
   "cell_type": "code",
   "execution_count": 44,
   "metadata": {},
   "outputs": [
    {
     "data": {
      "text/plain": [
       "0"
      ]
     },
     "execution_count": 44,
     "metadata": {},
     "output_type": "execute_result"
    }
   ],
   "source": [
    "users.duplicated().sum()"
   ]
  },
  {
   "cell_type": "markdown",
   "metadata": {},
   "source": [
    "### Подготовка общей таблицы"
   ]
  },
  {
   "cell_type": "markdown",
   "metadata": {},
   "source": [
    "Для дальнейшего анализа потребуется сделать общую сводную таблицу, в которой будут информация о пользователе, количество использованных минут, мегабайт, СМС в месяц и итоговые затраты."
   ]
  },
  {
   "cell_type": "markdown",
   "metadata": {},
   "source": [
    "Сгруппируем данные таблицы calls по столбцам user_id, month. Подсчитаем кол-во звонков и сумму минут."
   ]
  },
  {
   "cell_type": "code",
   "execution_count": 45,
   "metadata": {},
   "outputs": [],
   "source": [
    "calls_group = calls.groupby(['user_id', 'month']).agg({'duration' : ['count', 'sum']})"
   ]
  },
  {
   "cell_type": "markdown",
   "metadata": {},
   "source": [
    "Изменим названия колонок на count_calls, sum_minuts"
   ]
  },
  {
   "cell_type": "code",
   "execution_count": 46,
   "metadata": {},
   "outputs": [],
   "source": [
    "calls_group.columns = ['count_calls', 'sum_minuts']"
   ]
  },
  {
   "cell_type": "markdown",
   "metadata": {},
   "source": [
    "По аналогии выполним действия с таблицами internet и messages."
   ]
  },
  {
   "cell_type": "code",
   "execution_count": 47,
   "metadata": {},
   "outputs": [],
   "source": [
    "internet_group = internet.groupby(['user_id', 'month']).agg({'mb_used' : ['sum']})"
   ]
  },
  {
   "cell_type": "code",
   "execution_count": 48,
   "metadata": {},
   "outputs": [],
   "source": [
    "internet_group.columns = ['sum_mb']"
   ]
  },
  {
   "cell_type": "code",
   "execution_count": 49,
   "metadata": {},
   "outputs": [],
   "source": [
    "messages_group = messages.groupby(['user_id', 'month']).agg({'id' : ['count']})"
   ]
  },
  {
   "cell_type": "code",
   "execution_count": 50,
   "metadata": {},
   "outputs": [],
   "source": [
    "messages_group.columns = ['count_messages']"
   ]
  },
  {
   "cell_type": "markdown",
   "metadata": {},
   "source": [
    "Объединим вышеперечисленные таблицы по столбцам user_id, month не отбрасывая строки с пропусками."
   ]
  },
  {
   "cell_type": "code",
   "execution_count": 51,
   "metadata": {},
   "outputs": [],
   "source": [
    "df = calls_group.merge(internet_group, on=['user_id', 'month'], how='outer').merge(messages_group,\n",
    "                                                                                   on=['user_id', 'month'], how='outer')"
   ]
  },
  {
   "cell_type": "markdown",
   "metadata": {},
   "source": [
    "Произведем объединение с таблицами users и tariffs, но перед этим сброшу индексы в df и переименую столбец tariff."
   ]
  },
  {
   "cell_type": "code",
   "execution_count": 52,
   "metadata": {},
   "outputs": [],
   "source": [
    "df = df.reset_index()"
   ]
  },
  {
   "cell_type": "code",
   "execution_count": 53,
   "metadata": {},
   "outputs": [],
   "source": [
    "df = df.merge(users, on=['user_id'], how='outer')"
   ]
  },
  {
   "cell_type": "code",
   "execution_count": 54,
   "metadata": {},
   "outputs": [],
   "source": [
    "df = df.rename(columns={'tariff':'tariff_name'})"
   ]
  },
  {
   "cell_type": "code",
   "execution_count": 55,
   "metadata": {},
   "outputs": [],
   "source": [
    "df = df.merge(tariffs, on=['tariff_name'], how='outer')"
   ]
  },
  {
   "cell_type": "markdown",
   "metadata": {},
   "source": [
    "Осталось подсчитать помесячную выручку с каждого пользователя. Для решения данной задачи используем метод apply. Создамим функцию cost, которая будет считать выручку с учетом превышения лимита пользователем."
   ]
  },
  {
   "cell_type": "code",
   "execution_count": 56,
   "metadata": {},
   "outputs": [],
   "source": [
    "def cost(data):\n",
    "    total = 0\n",
    "    over_minuts = 0\n",
    "    over_gb = 0\n",
    "    over_sms = 0\n",
    "    if data['sum_minuts'] > data['minutes_included']:\n",
    "        over_minuts = data['sum_minuts'] - data['minutes_included']\n",
    "    if data['sum_mb'] > data['mb_per_month_included']:\n",
    "        over_gb = math.ceil((data['sum_mb'] - data['mb_per_month_included']) / 1024)\n",
    "    if data['count_messages'] > data['messages_included']:\n",
    "        over_sms = data['count_messages'] - data['messages_included']\n",
    "    total = (data['rub_monthly_fee'] + over_minuts * data['rub_per_minute'] +\n",
    "             over_gb * data['rub_per_gb'] + over_sms * data['rub_per_message'])\n",
    "    return total"
   ]
  },
  {
   "cell_type": "markdown",
   "metadata": {},
   "source": [
    "Подсчитаем помесячную выручку и добавим ее в столбец cost."
   ]
  },
  {
   "cell_type": "code",
   "execution_count": 57,
   "metadata": {},
   "outputs": [],
   "source": [
    "df['cost'] = df.apply(cost, axis=1)"
   ]
  },
  {
   "cell_type": "code",
   "execution_count": 58,
   "metadata": {
    "scrolled": false
   },
   "outputs": [
    {
     "data": {
      "text/html": [
       "<div>\n",
       "<style scoped>\n",
       "    .dataframe tbody tr th:only-of-type {\n",
       "        vertical-align: middle;\n",
       "    }\n",
       "\n",
       "    .dataframe tbody tr th {\n",
       "        vertical-align: top;\n",
       "    }\n",
       "\n",
       "    .dataframe thead th {\n",
       "        text-align: right;\n",
       "    }\n",
       "</style>\n",
       "<table border=\"1\" class=\"dataframe\">\n",
       "  <thead>\n",
       "    <tr style=\"text-align: right;\">\n",
       "      <th></th>\n",
       "      <th>user_id</th>\n",
       "      <th>month</th>\n",
       "      <th>count_calls</th>\n",
       "      <th>sum_minuts</th>\n",
       "      <th>sum_mb</th>\n",
       "      <th>count_messages</th>\n",
       "      <th>age</th>\n",
       "      <th>churn_date</th>\n",
       "      <th>city</th>\n",
       "      <th>first_name</th>\n",
       "      <th>last_name</th>\n",
       "      <th>reg_date</th>\n",
       "      <th>tariff_name</th>\n",
       "      <th>messages_included</th>\n",
       "      <th>mb_per_month_included</th>\n",
       "      <th>minutes_included</th>\n",
       "      <th>rub_monthly_fee</th>\n",
       "      <th>rub_per_gb</th>\n",
       "      <th>rub_per_message</th>\n",
       "      <th>rub_per_minute</th>\n",
       "      <th>cost</th>\n",
       "    </tr>\n",
       "  </thead>\n",
       "  <tbody>\n",
       "    <tr>\n",
       "      <td>0</td>\n",
       "      <td>1000</td>\n",
       "      <td>2018-05-01</td>\n",
       "      <td>22.0</td>\n",
       "      <td>159.0</td>\n",
       "      <td>2253.49</td>\n",
       "      <td>22.0</td>\n",
       "      <td>52</td>\n",
       "      <td>NaN</td>\n",
       "      <td>краснодар</td>\n",
       "      <td>рафаил</td>\n",
       "      <td>верещагин</td>\n",
       "      <td>2018-05-25</td>\n",
       "      <td>ultra</td>\n",
       "      <td>1000</td>\n",
       "      <td>30720</td>\n",
       "      <td>3000</td>\n",
       "      <td>1950</td>\n",
       "      <td>150</td>\n",
       "      <td>1</td>\n",
       "      <td>1</td>\n",
       "      <td>1950.0</td>\n",
       "    </tr>\n",
       "    <tr>\n",
       "      <td>1</td>\n",
       "      <td>1000</td>\n",
       "      <td>2018-06-01</td>\n",
       "      <td>43.0</td>\n",
       "      <td>172.0</td>\n",
       "      <td>23233.77</td>\n",
       "      <td>60.0</td>\n",
       "      <td>52</td>\n",
       "      <td>NaN</td>\n",
       "      <td>краснодар</td>\n",
       "      <td>рафаил</td>\n",
       "      <td>верещагин</td>\n",
       "      <td>2018-05-25</td>\n",
       "      <td>ultra</td>\n",
       "      <td>1000</td>\n",
       "      <td>30720</td>\n",
       "      <td>3000</td>\n",
       "      <td>1950</td>\n",
       "      <td>150</td>\n",
       "      <td>1</td>\n",
       "      <td>1</td>\n",
       "      <td>1950.0</td>\n",
       "    </tr>\n",
       "    <tr>\n",
       "      <td>2</td>\n",
       "      <td>1000</td>\n",
       "      <td>2018-07-01</td>\n",
       "      <td>47.0</td>\n",
       "      <td>340.0</td>\n",
       "      <td>14003.64</td>\n",
       "      <td>75.0</td>\n",
       "      <td>52</td>\n",
       "      <td>NaN</td>\n",
       "      <td>краснодар</td>\n",
       "      <td>рафаил</td>\n",
       "      <td>верещагин</td>\n",
       "      <td>2018-05-25</td>\n",
       "      <td>ultra</td>\n",
       "      <td>1000</td>\n",
       "      <td>30720</td>\n",
       "      <td>3000</td>\n",
       "      <td>1950</td>\n",
       "      <td>150</td>\n",
       "      <td>1</td>\n",
       "      <td>1</td>\n",
       "      <td>1950.0</td>\n",
       "    </tr>\n",
       "    <tr>\n",
       "      <td>3</td>\n",
       "      <td>1000</td>\n",
       "      <td>2018-08-01</td>\n",
       "      <td>52.0</td>\n",
       "      <td>408.0</td>\n",
       "      <td>14055.93</td>\n",
       "      <td>81.0</td>\n",
       "      <td>52</td>\n",
       "      <td>NaN</td>\n",
       "      <td>краснодар</td>\n",
       "      <td>рафаил</td>\n",
       "      <td>верещагин</td>\n",
       "      <td>2018-05-25</td>\n",
       "      <td>ultra</td>\n",
       "      <td>1000</td>\n",
       "      <td>30720</td>\n",
       "      <td>3000</td>\n",
       "      <td>1950</td>\n",
       "      <td>150</td>\n",
       "      <td>1</td>\n",
       "      <td>1</td>\n",
       "      <td>1950.0</td>\n",
       "    </tr>\n",
       "    <tr>\n",
       "      <td>4</td>\n",
       "      <td>1000</td>\n",
       "      <td>2018-09-01</td>\n",
       "      <td>58.0</td>\n",
       "      <td>466.0</td>\n",
       "      <td>14568.91</td>\n",
       "      <td>57.0</td>\n",
       "      <td>52</td>\n",
       "      <td>NaN</td>\n",
       "      <td>краснодар</td>\n",
       "      <td>рафаил</td>\n",
       "      <td>верещагин</td>\n",
       "      <td>2018-05-25</td>\n",
       "      <td>ultra</td>\n",
       "      <td>1000</td>\n",
       "      <td>30720</td>\n",
       "      <td>3000</td>\n",
       "      <td>1950</td>\n",
       "      <td>150</td>\n",
       "      <td>1</td>\n",
       "      <td>1</td>\n",
       "      <td>1950.0</td>\n",
       "    </tr>\n",
       "  </tbody>\n",
       "</table>\n",
       "</div>"
      ],
      "text/plain": [
       "   user_id      month  count_calls  sum_minuts    sum_mb  count_messages  age  \\\n",
       "0     1000 2018-05-01         22.0       159.0   2253.49            22.0   52   \n",
       "1     1000 2018-06-01         43.0       172.0  23233.77            60.0   52   \n",
       "2     1000 2018-07-01         47.0       340.0  14003.64            75.0   52   \n",
       "3     1000 2018-08-01         52.0       408.0  14055.93            81.0   52   \n",
       "4     1000 2018-09-01         58.0       466.0  14568.91            57.0   52   \n",
       "\n",
       "  churn_date       city first_name  last_name   reg_date tariff_name  \\\n",
       "0        NaN  краснодар     рафаил  верещагин 2018-05-25       ultra   \n",
       "1        NaN  краснодар     рафаил  верещагин 2018-05-25       ultra   \n",
       "2        NaN  краснодар     рафаил  верещагин 2018-05-25       ultra   \n",
       "3        NaN  краснодар     рафаил  верещагин 2018-05-25       ultra   \n",
       "4        NaN  краснодар     рафаил  верещагин 2018-05-25       ultra   \n",
       "\n",
       "   messages_included  mb_per_month_included  minutes_included  \\\n",
       "0               1000                  30720              3000   \n",
       "1               1000                  30720              3000   \n",
       "2               1000                  30720              3000   \n",
       "3               1000                  30720              3000   \n",
       "4               1000                  30720              3000   \n",
       "\n",
       "   rub_monthly_fee  rub_per_gb  rub_per_message  rub_per_minute    cost  \n",
       "0             1950         150                1               1  1950.0  \n",
       "1             1950         150                1               1  1950.0  \n",
       "2             1950         150                1               1  1950.0  \n",
       "3             1950         150                1               1  1950.0  \n",
       "4             1950         150                1               1  1950.0  "
      ]
     },
     "execution_count": 58,
     "metadata": {},
     "output_type": "execute_result"
    }
   ],
   "source": [
    "df.head()"
   ]
  },
  {
   "cell_type": "markdown",
   "metadata": {},
   "source": [
    "Обработаю пропуски в столбце month. Они появились благодаря объединению таблиц."
   ]
  },
  {
   "cell_type": "code",
   "execution_count": 59,
   "metadata": {},
   "outputs": [],
   "source": [
    "df = df.dropna(subset=['month']).reset_index(drop=True)"
   ]
  },
  {
   "cell_type": "markdown",
   "metadata": {},
   "source": [
    "**Вывод**"
   ]
  },
  {
   "cell_type": "markdown",
   "metadata": {},
   "source": [
    "Данные в таблицах были достаточно \"чистыми\". Пропусков связанных с ошибками не было обнаружено. Тип в столбцах с датами был приведен к соответствующему типу данных. \n",
    "\n",
    "Было принято решение формировать общую таблицу с данными разбитыми по пользователю и месяцу. Для достижения данной цели использовались методы groupby и merge. "
   ]
  },
  {
   "cell_type": "markdown",
   "metadata": {},
   "source": [
    "## Исследовательский анализ данных"
   ]
  },
  {
   "cell_type": "markdown",
   "metadata": {},
   "source": [
    "Проанализируем минуты затраченные на разговоры в разрезе месяца и типа тарифа."
   ]
  },
  {
   "cell_type": "code",
   "execution_count": 60,
   "metadata": {},
   "outputs": [],
   "source": [
    "data_minuts = df.groupby(['month', 'tariff_name']).agg({'sum_minuts' : ['median']})"
   ]
  },
  {
   "cell_type": "code",
   "execution_count": 61,
   "metadata": {},
   "outputs": [],
   "source": [
    "data_minuts.columns = ['median_minuts']"
   ]
  },
  {
   "cell_type": "code",
   "execution_count": 62,
   "metadata": {},
   "outputs": [],
   "source": [
    "data_minuts = data_minuts.reset_index()"
   ]
  },
  {
   "cell_type": "code",
   "execution_count": 63,
   "metadata": {},
   "outputs": [
    {
     "data": {
      "text/plain": [
       "<seaborn.axisgrid.FacetGrid at 0x7f0b70166750>"
      ]
     },
     "execution_count": 63,
     "metadata": {},
     "output_type": "execute_result"
    },
    {
     "data": {
      "image/png": "[encoded data removed]",
      "text/plain": [
       "<Figure size 497.5x432 with 1 Axes>"
      ]
     },
     "metadata": {
      "needs_background": "light"
     },
     "output_type": "display_data"
    }
   ],
   "source": [
    "g = sns.catplot(\n",
    "    data=data_minuts, kind=\"bar\",\n",
    "    x=\"month\", y=\"median_minuts\", hue=\"tariff_name\",\n",
    "    ci=\"sd\", palette=\"dark\", alpha=.6, height=6\n",
    ")\n",
    "g.despine(left=True)\n",
    "g.set_axis_labels(\"Месяц\", \"Минут\")\n",
    "g.set_xticklabels(labels=data_minuts['month'].dt.date.unique(), rotation=45, ha='right')"
   ]
  },
  {
   "cell_type": "markdown",
   "metadata": {},
   "source": [
    "В глаза бросаются две особенности:\n",
    "1) На тарифе ultra пользователи больше разговаривают (логично ведь включенных минут в абон. плату в шесть раз больше)\n",
    "\n",
    "2) Заметен рост медианы в течении года (возможно это связано с появлением тарифов в начале года)"
   ]
  },
  {
   "cell_type": "markdown",
   "metadata": {},
   "source": [
    "Построим гистограммы распределений количества минут по тарифам."
   ]
  },
  {
   "cell_type": "code",
   "execution_count": 64,
   "metadata": {
    "scrolled": true
   },
   "outputs": [
    {
     "data": {
      "text/plain": [
       "<matplotlib.axes._subplots.AxesSubplot at 0x7f0b7005dfd0>"
      ]
     },
     "execution_count": 64,
     "metadata": {},
     "output_type": "execute_result"
    },
    {
     "data": {
      "image/png": "[encoded data removed]",
      "text/plain": [
       "<Figure size 1080x360 with 1 Axes>"
      ]
     },
     "metadata": {
      "needs_background": "light"
     },
     "output_type": "display_data"
    }
   ],
   "source": [
    "ax = df[df['tariff_name'] == 'smart'].plot(kind='hist', y='sum_minuts', alpha=0.5, bins=100, label='smart')\n",
    "df[df['tariff_name'] == 'ultra'].plot(kind='hist', y='sum_minuts', ax=ax, alpha=0.5, bins=100, grid=True,\n",
    "                                      label='ultra', figsize=(15,5))"
   ]
  },
  {
   "cell_type": "markdown",
   "metadata": {},
   "source": [
    "Можно сделать вывод, что пользователи тарифа смарт в среднем тратят меньше минут на один разговор."
   ]
  },
  {
   "cell_type": "code",
   "execution_count": 65,
   "metadata": {},
   "outputs": [
    {
     "data": {
      "text/plain": [
       "count     951.000000\n",
       "mean      545.451104\n",
       "std       306.925754\n",
       "min         0.000000\n",
       "25%       310.000000\n",
       "50%       528.000000\n",
       "75%       756.500000\n",
       "max      1673.000000\n",
       "Name: sum_minuts, dtype: float64"
      ]
     },
     "execution_count": 65,
     "metadata": {},
     "output_type": "execute_result"
    }
   ],
   "source": [
    "df[df['tariff_name'] == 'ultra'].describe()['sum_minuts']"
   ]
  },
  {
   "cell_type": "code",
   "execution_count": 66,
   "metadata": {},
   "outputs": [
    {
     "data": {
      "text/plain": [
       "count    2223.000000\n",
       "mean      419.062978\n",
       "std       189.325618\n",
       "min         0.000000\n",
       "25%       285.000000\n",
       "50%       423.000000\n",
       "75%       545.500000\n",
       "max      1435.000000\n",
       "Name: sum_minuts, dtype: float64"
      ]
     },
     "execution_count": 66,
     "metadata": {},
     "output_type": "execute_result"
    }
   ],
   "source": [
    "df[df['tariff_name'] == 'smart'].describe()['sum_minuts']"
   ]
  },
  {
   "cell_type": "markdown",
   "metadata": {},
   "source": [
    "Стандартные отклонения имеют значительную разницу в данных выборках. Это хорошо заметно на графике: в тарифе смарт имеется большая скученность. Связанно это с большим кол-вом пользователей и особенностью тарифов (ultra имеет больше включенных минут - следовательно могут позволить себе дольше общаться)."
   ]
  },
  {
   "cell_type": "markdown",
   "metadata": {},
   "source": [
    "Проанализируем интернет трафик."
   ]
  },
  {
   "cell_type": "code",
   "execution_count": 67,
   "metadata": {},
   "outputs": [],
   "source": [
    "data_mb = df.groupby(['month', 'tariff_name']).agg({'sum_mb' : ['median']})"
   ]
  },
  {
   "cell_type": "code",
   "execution_count": 68,
   "metadata": {},
   "outputs": [],
   "source": [
    "data_mb.columns = ['median_mb']"
   ]
  },
  {
   "cell_type": "code",
   "execution_count": 69,
   "metadata": {},
   "outputs": [],
   "source": [
    "data_mb = data_mb.reset_index()"
   ]
  },
  {
   "cell_type": "code",
   "execution_count": 70,
   "metadata": {},
   "outputs": [
    {
     "data": {
      "text/plain": [
       "<seaborn.axisgrid.FacetGrid at 0x7f0b70137b10>"
      ]
     },
     "execution_count": 70,
     "metadata": {},
     "output_type": "execute_result"
    },
    {
     "data": {
      "image/png": "[encoded data removed]",
      "text/plain": [
       "<Figure size 497.5x432 with 1 Axes>"
      ]
     },
     "metadata": {
      "needs_background": "light"
     },
     "output_type": "display_data"
    }
   ],
   "source": [
    "g = sns.catplot(\n",
    "    data=data_mb, kind=\"bar\",\n",
    "    x=\"month\", y=\"median_mb\", hue=\"tariff_name\",\n",
    "    ci=\"sd\", palette=\"dark\", alpha=.6, height=6\n",
    ")\n",
    "g.despine(left=True)\n",
    "g.set_axis_labels(\"Месяц\", \"Мегабайт\")\n",
    "g.set_xticklabels(labels=data_mb['month'].dt.date.unique(), rotation=45, ha='right')"
   ]
  },
  {
   "cell_type": "markdown",
   "metadata": {},
   "source": [
    "Вывод такой же как и в оценке звонков. Дополнительно могу отметить, что средний пользователь тарифа smart постоянно выходит за лимит тарифа в 15 гб."
   ]
  },
  {
   "cell_type": "markdown",
   "metadata": {},
   "source": [
    "Построим гистограммы распределений."
   ]
  },
  {
   "cell_type": "code",
   "execution_count": 71,
   "metadata": {},
   "outputs": [
    {
     "data": {
      "text/plain": [
       "<matplotlib.axes._subplots.AxesSubplot at 0x7f0b70170150>"
      ]
     },
     "execution_count": 71,
     "metadata": {},
     "output_type": "execute_result"
    },
    {
     "data": {
      "image/png": "[encoded data removed]",
      "text/plain": [
       "<Figure size 1080x360 with 1 Axes>"
      ]
     },
     "metadata": {
      "needs_background": "light"
     },
     "output_type": "display_data"
    }
   ],
   "source": [
    "ax = df[df['tariff_name'] == 'smart'].plot(kind='hist', y='sum_mb', alpha=0.5, bins=100, label='smart')\n",
    "df[df['tariff_name'] == 'ultra'].plot(kind='hist', y='sum_mb', ax=ax, alpha=0.5, bins=100, grid=True,\n",
    "                                      label='ultra', figsize=(15,5))"
   ]
  },
  {
   "cell_type": "code",
   "execution_count": 72,
   "metadata": {},
   "outputs": [
    {
     "data": {
      "text/plain": [
       "count      975.000000\n",
       "mean     19668.485262\n",
       "std       9943.050284\n",
       "min          0.000000\n",
       "25%      12008.305000\n",
       "50%      19394.290000\n",
       "75%      26896.550000\n",
       "max      49745.690000\n",
       "Name: sum_mb, dtype: float64"
      ]
     },
     "execution_count": 72,
     "metadata": {},
     "output_type": "execute_result"
    }
   ],
   "source": [
    "df[df['tariff_name'] == 'ultra'].describe()['sum_mb']"
   ]
  },
  {
   "cell_type": "code",
   "execution_count": 73,
   "metadata": {},
   "outputs": [
    {
     "data": {
      "text/plain": [
       "count     2228.000000\n",
       "mean     16215.661849\n",
       "std       5861.736234\n",
       "min          0.000000\n",
       "25%      12649.272500\n",
       "50%      16507.740000\n",
       "75%      20043.792500\n",
       "max      38552.450000\n",
       "Name: sum_mb, dtype: float64"
      ]
     },
     "execution_count": 73,
     "metadata": {},
     "output_type": "execute_result"
    }
   ],
   "source": [
    "df[df['tariff_name'] == 'smart'].describe()['sum_mb']"
   ]
  },
  {
   "cell_type": "markdown",
   "metadata": {},
   "source": [
    "В целом оценка гистограмм и отклонений схожа с оценкой потребления минут. Подсчет средних подтвердил, что пользователи smart выходят за лимит. Пользователи ultra в основном не успевают потратить 10гб своего трафика."
   ]
  },
  {
   "cell_type": "markdown",
   "metadata": {},
   "source": [
    "Проанализируем отправку сообщений в разрезе типа тарифа и месяцев."
   ]
  },
  {
   "cell_type": "code",
   "execution_count": 74,
   "metadata": {},
   "outputs": [],
   "source": [
    "data_mes = df.groupby(['month', 'tariff_name']).agg({'count_messages' : ['median']})"
   ]
  },
  {
   "cell_type": "code",
   "execution_count": 75,
   "metadata": {},
   "outputs": [],
   "source": [
    "data_mes.columns = ['median_mes']"
   ]
  },
  {
   "cell_type": "code",
   "execution_count": 76,
   "metadata": {},
   "outputs": [],
   "source": [
    "data_mes = data_mes.reset_index()"
   ]
  },
  {
   "cell_type": "code",
   "execution_count": 77,
   "metadata": {},
   "outputs": [
    {
     "data": {
      "text/plain": [
       "<seaborn.axisgrid.FacetGrid at 0x7f0b6d89a150>"
      ]
     },
     "execution_count": 77,
     "metadata": {},
     "output_type": "execute_result"
    },
    {
     "data": {
      "image/png": "[encoded data removed]",
      "text/plain": [
       "<Figure size 497.5x432 with 1 Axes>"
      ]
     },
     "metadata": {
      "needs_background": "light"
     },
     "output_type": "display_data"
    }
   ],
   "source": [
    "g = sns.catplot(\n",
    "    data=data_mes, kind=\"bar\",\n",
    "    x=\"month\", y=\"median_mes\", hue=\"tariff_name\",\n",
    "    ci=\"sd\", palette=\"dark\", alpha=.6, height=6\n",
    ")\n",
    "g.despine(left=True)\n",
    "g.set_axis_labels(\"Месяц\", \"СМС\")\n",
    "g.set_xticklabels(labels=data_mes['month'].dt.date.unique(), rotation=45, ha='right')"
   ]
  },
  {
   "cell_type": "markdown",
   "metadata": {},
   "source": [
    "Лимит СМС, который дан тарифом, средний пользователь не превышает."
   ]
  },
  {
   "cell_type": "code",
   "execution_count": 78,
   "metadata": {},
   "outputs": [
    {
     "data": {
      "text/plain": [
       "<matplotlib.axes._subplots.AxesSubplot at 0x7f0b6d6b0150>"
      ]
     },
     "execution_count": 78,
     "metadata": {},
     "output_type": "execute_result"
    },
    {
     "data": {
      "image/png": "[encoded data removed]",
      "text/plain": [
       "<Figure size 1080x360 with 1 Axes>"
      ]
     },
     "metadata": {
      "needs_background": "light"
     },
     "output_type": "display_data"
    }
   ],
   "source": [
    "ax = df[df['tariff_name'] == 'smart'].plot(kind='hist', y='count_messages', alpha=0.5, bins=100, label='smart')\n",
    "df[df['tariff_name'] == 'ultra'].plot(kind='hist', y='count_messages', ax=ax, alpha=0.5, bins=100, grid=True,\n",
    "                                      label='ultra', figsize=(15,5))"
   ]
  },
  {
   "cell_type": "markdown",
   "metadata": {},
   "source": [
    "Распределение отправки сообщений пользователями тарифа smart схоже с распределением Пуассона."
   ]
  },
  {
   "cell_type": "code",
   "execution_count": 79,
   "metadata": {},
   "outputs": [
    {
     "data": {
      "text/plain": [
       "count    795.000000\n",
       "mean      61.161006\n",
       "std       45.931026\n",
       "min        1.000000\n",
       "25%       24.000000\n",
       "50%       51.000000\n",
       "75%       87.500000\n",
       "max      224.000000\n",
       "Name: count_messages, dtype: float64"
      ]
     },
     "execution_count": 79,
     "metadata": {},
     "output_type": "execute_result"
    }
   ],
   "source": [
    "df[df['tariff_name'] == 'ultra'].describe()['count_messages']"
   ]
  },
  {
   "cell_type": "code",
   "execution_count": 80,
   "metadata": {},
   "outputs": [
    {
     "data": {
      "text/plain": [
       "count    1922.000000\n",
       "mean       38.716441\n",
       "std        26.787949\n",
       "min         1.000000\n",
       "25%        17.000000\n",
       "50%        34.000000\n",
       "75%        55.000000\n",
       "max       143.000000\n",
       "Name: count_messages, dtype: float64"
      ]
     },
     "execution_count": 80,
     "metadata": {},
     "output_type": "execute_result"
    }
   ],
   "source": [
    "df[df['tariff_name'] == 'smart'].describe()['count_messages']"
   ]
  },
  {
   "cell_type": "markdown",
   "metadata": {},
   "source": [
    "**Вывод**"
   ]
  },
  {
   "cell_type": "markdown",
   "metadata": {},
   "source": [
    "Пользователи тарифа smart выходят за рамки лимита по звонкам и по использованию интернета, а средний пользователь тарифа ultra до лимита по всем трем сферам услуг не доходит. Могу сделать вывод, что тариф смарт имеет большую популярность, поэтому он более прибыльный. Связано это скорее всего с ценой абонентской платы и с достаточно оптимальным объемом тарифного пакета."
   ]
  },
  {
   "cell_type": "markdown",
   "metadata": {},
   "source": [
    "## Проверка гипотез"
   ]
  },
  {
   "cell_type": "markdown",
   "metadata": {},
   "source": [
    "### Проверка гипотезы, что средняя выручка пользователей тарифов «Ультра» и «Смарт» различаются."
   ]
  },
  {
   "cell_type": "markdown",
   "metadata": {},
   "source": [
    "Для начала сформируем нулевую гипотезу. H0 - средняя выручка пользователей тарифов «Ультра» и «Смарт» равна. Альтернативная гипотеза: H1 - средняя выручка пользователей тарифов «Ультра» и «Смарт» отличается. Проверять будем с помощью гипотезы о равенстве средних двух генеральных совокупностей. Пороговое значение будет 5%."
   ]
  },
  {
   "cell_type": "code",
   "execution_count": 81,
   "metadata": {},
   "outputs": [
    {
     "name": "stdout",
     "output_type": "stream",
     "text": [
      "p-значение: 4.2606313931076085e-250\n",
      "Отвергаем нулевую гипотезу\n"
     ]
    }
   ],
   "source": [
    "alpha = 0.05\n",
    "\n",
    "results = st.ttest_ind(df[df['tariff_name'] == 'ultra']['cost'], df[df['tariff_name'] == 'smart']['cost'])\n",
    "\n",
    "print('p-значение:', results.pvalue)\n",
    "\n",
    "if results.pvalue < alpha:\n",
    "    print('Отвергаем нулевую гипотезу')\n",
    "else:\n",
    "    print('Не получилось отвергнуть нулевую гипотезу') "
   ]
  },
  {
   "cell_type": "markdown",
   "metadata": {},
   "source": [
    "Гипотеза отвергнута. p-значение имеет значение намного ниже порога. Следовательно средняя выручка с тарифов имеет отличия."
   ]
  },
  {
   "cell_type": "markdown",
   "metadata": {},
   "source": [
    "## Общий вывод"
   ]
  },
  {
   "cell_type": "markdown",
   "metadata": {},
   "source": [
    "Данные, которые были предоставлены оказались без ошибочных пропусков, аномалии не были обнаружены. В ходе работы я решил объединить все таблицы в один датафрейм, со срезом данных по пользователю и месяцу. \n",
    "\n",
    "В результате анализа данных было обнаружено, что средний пользователь тарифа smart в течении месяца исчерпывает лимит тарифа в сфере интернета и звонков, а средний пользователь ultra в конце месяца имеет избыток не использованных им услуг предосталенным тарифом. Могу сделать вывод, что тариф смарт имеет большую популярность. Связано это скорее всего с ценой абонентской платы и с достаточно оптимальным объемом тарифного пакета.\n",
    "\n",
    "Предполагаю, что данные тарифы появились в начале года. Данный вывод я сделал по гистограммам в разрезе месяцев. Можно увидеть, что в январе больше продвигался тариф ultra, а в феврале тариф smart.\n",
    "\n",
    "По ходу проверки гипотезы выяснилось, что средняя выручка пользователей тарифов ultra и smart отличается и исходя из анализа тариф смарт приносит больше прибыли."
   ]
  }
 ],
 "metadata": {
  "ExecuteTimeLog": [
   {
    "duration": 908,
    "start_time": "2021-11-28T14:10:23.959Z"
   },
   {
    "duration": 108,
    "start_time": "2021-11-28T14:11:02.976Z"
   },
   {
    "duration": 2554,
    "start_time": "2021-11-28T14:12:46.788Z"
   },
   {
    "duration": 303,
    "start_time": "2021-11-28T14:12:56.495Z"
   },
   {
    "duration": 37,
    "start_time": "2021-11-28T14:13:08.008Z"
   },
   {
    "duration": 31,
    "start_time": "2021-11-28T14:13:23.776Z"
   },
   {
    "duration": 182,
    "start_time": "2021-11-28T14:14:12.240Z"
   },
   {
    "duration": 13,
    "start_time": "2021-11-28T14:14:21.370Z"
   },
   {
    "duration": 101,
    "start_time": "2021-11-28T14:15:33.091Z"
   },
   {
    "duration": 24,
    "start_time": "2021-11-28T14:15:37.348Z"
   },
   {
    "duration": 111,
    "start_time": "2021-11-28T14:18:02.853Z"
   },
   {
    "duration": 10,
    "start_time": "2021-11-28T14:18:13.273Z"
   },
   {
    "duration": 19,
    "start_time": "2021-11-28T14:19:15.456Z"
   },
   {
    "duration": 16,
    "start_time": "2021-11-28T14:20:21.016Z"
   },
   {
    "duration": 12,
    "start_time": "2021-11-28T14:20:35.438Z"
   },
   {
    "duration": 9,
    "start_time": "2021-11-28T14:21:00.111Z"
   },
   {
    "duration": 13,
    "start_time": "2021-11-28T14:21:15.274Z"
   },
   {
    "duration": 117,
    "start_time": "2021-11-28T14:21:26.171Z"
   },
   {
    "duration": 12,
    "start_time": "2021-11-28T14:21:30.388Z"
   },
   {
    "duration": 12,
    "start_time": "2021-11-28T14:21:41.785Z"
   },
   {
    "duration": 33,
    "start_time": "2021-11-28T14:22:30.987Z"
   },
   {
    "duration": 15,
    "start_time": "2021-11-28T14:22:37.185Z"
   },
   {
    "duration": 9,
    "start_time": "2021-11-28T14:23:24.734Z"
   },
   {
    "duration": 17,
    "start_time": "2021-11-28T14:46:49.166Z"
   },
   {
    "duration": 27,
    "start_time": "2021-11-28T14:50:56.704Z"
   },
   {
    "duration": 28,
    "start_time": "2021-11-28T14:51:09.620Z"
   },
   {
    "duration": 12,
    "start_time": "2021-11-28T14:51:10.534Z"
   },
   {
    "duration": 2543,
    "start_time": "2021-11-28T14:55:29.193Z"
   },
   {
    "duration": 60,
    "start_time": "2021-11-28T14:57:14.048Z"
   },
   {
    "duration": 15,
    "start_time": "2021-11-28T14:57:21.012Z"
   },
   {
    "duration": 20,
    "start_time": "2021-11-28T14:57:29.828Z"
   },
   {
    "duration": 7,
    "start_time": "2021-11-28T14:59:22.368Z"
   },
   {
    "duration": 12,
    "start_time": "2021-11-28T14:59:26.819Z"
   },
   {
    "duration": 83,
    "start_time": "2021-11-28T15:06:08.715Z"
   },
   {
    "duration": 11,
    "start_time": "2021-11-28T15:06:10.777Z"
   },
   {
    "duration": 4,
    "start_time": "2021-11-28T15:06:23.960Z"
   },
   {
    "duration": 210,
    "start_time": "2021-11-28T15:06:23.967Z"
   },
   {
    "duration": 11,
    "start_time": "2021-11-28T15:06:24.181Z"
   },
   {
    "duration": 30,
    "start_time": "2021-11-28T15:06:24.195Z"
   },
   {
    "duration": 183,
    "start_time": "2021-11-28T15:06:24.227Z"
   },
   {
    "duration": 12,
    "start_time": "2021-11-28T15:06:24.413Z"
   },
   {
    "duration": 26,
    "start_time": "2021-11-28T15:06:24.427Z"
   },
   {
    "duration": 138,
    "start_time": "2021-11-28T15:06:24.457Z"
   },
   {
    "duration": 10,
    "start_time": "2021-11-28T15:06:24.598Z"
   },
   {
    "duration": 27,
    "start_time": "2021-11-28T15:06:24.610Z"
   },
   {
    "duration": 17,
    "start_time": "2021-11-28T15:06:24.640Z"
   },
   {
    "duration": 27,
    "start_time": "2021-11-28T15:06:24.659Z"
   },
   {
    "duration": 15,
    "start_time": "2021-11-28T15:06:24.689Z"
   },
   {
    "duration": 36,
    "start_time": "2021-11-28T15:06:24.707Z"
   },
   {
    "duration": 20,
    "start_time": "2021-11-28T15:06:24.746Z"
   },
   {
    "duration": 22,
    "start_time": "2021-11-28T15:06:24.768Z"
   },
   {
    "duration": 14,
    "start_time": "2021-11-28T15:06:24.793Z"
   },
   {
    "duration": 30,
    "start_time": "2021-11-28T15:06:24.810Z"
   },
   {
    "duration": 70,
    "start_time": "2021-11-28T15:06:24.843Z"
   },
   {
    "duration": 116,
    "start_time": "2021-11-28T15:06:24.916Z"
   },
   {
    "duration": 13,
    "start_time": "2021-11-28T15:06:25.035Z"
   },
   {
    "duration": 4,
    "start_time": "2021-11-28T15:06:45.689Z"
   },
   {
    "duration": 4,
    "start_time": "2021-11-28T15:06:54.182Z"
   },
   {
    "duration": 220,
    "start_time": "2021-11-28T15:06:54.189Z"
   },
   {
    "duration": 12,
    "start_time": "2021-11-28T15:06:54.413Z"
   },
   {
    "duration": 30,
    "start_time": "2021-11-28T15:06:54.428Z"
   },
   {
    "duration": 173,
    "start_time": "2021-11-28T15:06:54.482Z"
   },
   {
    "duration": 13,
    "start_time": "2021-11-28T15:06:54.658Z"
   },
   {
    "duration": 29,
    "start_time": "2021-11-28T15:06:54.673Z"
   },
   {
    "duration": 138,
    "start_time": "2021-11-28T15:06:54.707Z"
   },
   {
    "duration": 11,
    "start_time": "2021-11-28T15:06:54.848Z"
   },
   {
    "duration": 43,
    "start_time": "2021-11-28T15:06:54.861Z"
   },
   {
    "duration": 16,
    "start_time": "2021-11-28T15:06:54.907Z"
   },
   {
    "duration": 14,
    "start_time": "2021-11-28T15:06:54.925Z"
   },
   {
    "duration": 9,
    "start_time": "2021-11-28T15:06:54.941Z"
   },
   {
    "duration": 40,
    "start_time": "2021-11-28T15:06:54.953Z"
   },
   {
    "duration": 21,
    "start_time": "2021-11-28T15:06:54.996Z"
   },
   {
    "duration": 13,
    "start_time": "2021-11-28T15:06:55.020Z"
   },
   {
    "duration": 14,
    "start_time": "2021-11-28T15:06:55.036Z"
   },
   {
    "duration": 69,
    "start_time": "2021-11-28T15:06:55.053Z"
   },
   {
    "duration": 67,
    "start_time": "2021-11-28T15:06:55.126Z"
   },
   {
    "duration": 119,
    "start_time": "2021-11-28T15:06:55.196Z"
   },
   {
    "duration": 11,
    "start_time": "2021-11-28T15:06:55.318Z"
   },
   {
    "duration": 25,
    "start_time": "2021-11-28T15:09:51.855Z"
   },
   {
    "duration": 309,
    "start_time": "2021-11-28T15:10:53.541Z"
   },
   {
    "duration": 116,
    "start_time": "2021-11-28T15:10:59.444Z"
   },
   {
    "duration": 502,
    "start_time": "2021-11-28T15:12:23.414Z"
   },
   {
    "duration": 5361,
    "start_time": "2021-11-28T15:12:41.621Z"
   },
   {
    "duration": 6,
    "start_time": "2021-11-28T15:19:57.425Z"
   },
   {
    "duration": 467,
    "start_time": "2021-11-28T15:22:06.905Z"
   },
   {
    "duration": 11,
    "start_time": "2021-11-28T15:22:12.276Z"
   },
   {
    "duration": 14,
    "start_time": "2021-11-28T15:23:17.500Z"
   },
   {
    "duration": 24,
    "start_time": "2021-11-28T15:23:30.495Z"
   },
   {
    "duration": 22,
    "start_time": "2021-11-28T15:24:04.219Z"
   },
   {
    "duration": 10,
    "start_time": "2021-11-28T15:26:57.030Z"
   },
   {
    "duration": 21,
    "start_time": "2021-11-28T15:27:01.469Z"
   },
   {
    "duration": 12,
    "start_time": "2021-11-28T15:27:14.232Z"
   },
   {
    "duration": 20,
    "start_time": "2021-11-28T15:27:34.595Z"
   },
   {
    "duration": 308,
    "start_time": "2021-11-28T15:28:34.402Z"
   },
   {
    "duration": 4,
    "start_time": "2021-11-28T15:28:37.926Z"
   },
   {
    "duration": 221,
    "start_time": "2021-11-28T15:28:37.932Z"
   },
   {
    "duration": 11,
    "start_time": "2021-11-28T15:28:38.156Z"
   },
   {
    "duration": 38,
    "start_time": "2021-11-28T15:28:38.171Z"
   },
   {
    "duration": 192,
    "start_time": "2021-11-28T15:28:38.212Z"
   },
   {
    "duration": 12,
    "start_time": "2021-11-28T15:28:38.407Z"
   },
   {
    "duration": 26,
    "start_time": "2021-11-28T15:28:38.421Z"
   },
   {
    "duration": 142,
    "start_time": "2021-11-28T15:28:38.451Z"
   },
   {
    "duration": 14,
    "start_time": "2021-11-28T15:28:38.596Z"
   },
   {
    "duration": 33,
    "start_time": "2021-11-28T15:28:38.613Z"
   },
   {
    "duration": 34,
    "start_time": "2021-11-28T15:28:38.649Z"
   },
   {
    "duration": 17,
    "start_time": "2021-11-28T15:28:38.686Z"
   },
   {
    "duration": 11,
    "start_time": "2021-11-28T15:28:38.706Z"
   },
   {
    "duration": 28,
    "start_time": "2021-11-28T15:28:38.721Z"
   },
   {
    "duration": 39,
    "start_time": "2021-11-28T15:28:38.751Z"
   },
   {
    "duration": 10,
    "start_time": "2021-11-28T15:28:38.792Z"
   },
   {
    "duration": 14,
    "start_time": "2021-11-28T15:28:38.804Z"
   },
   {
    "duration": 30,
    "start_time": "2021-11-28T15:28:38.820Z"
   },
   {
    "duration": 41,
    "start_time": "2021-11-28T15:28:38.881Z"
   },
   {
    "duration": 171,
    "start_time": "2021-11-28T15:28:38.924Z"
   },
   {
    "duration": 122,
    "start_time": "2021-11-28T15:28:39.097Z"
   },
   {
    "duration": 11,
    "start_time": "2021-11-28T15:28:39.221Z"
   },
   {
    "duration": 44,
    "start_time": "2021-11-28T15:28:39.239Z"
   },
   {
    "duration": 24,
    "start_time": "2021-11-28T15:28:39.286Z"
   },
   {
    "duration": 11,
    "start_time": "2021-11-28T15:28:39.313Z"
   },
   {
    "duration": 11,
    "start_time": "2021-11-28T15:28:39.327Z"
   },
   {
    "duration": 31,
    "start_time": "2021-11-28T15:33:01.285Z"
   },
   {
    "duration": 11,
    "start_time": "2021-11-28T15:33:44.528Z"
   },
   {
    "duration": 5,
    "start_time": "2021-11-28T15:37:56.857Z"
   },
   {
    "duration": 288,
    "start_time": "2021-11-28T15:37:56.866Z"
   },
   {
    "duration": 11,
    "start_time": "2021-11-28T15:37:57.157Z"
   },
   {
    "duration": 39,
    "start_time": "2021-11-28T15:37:57.182Z"
   },
   {
    "duration": 262,
    "start_time": "2021-11-28T15:37:57.225Z"
   },
   {
    "duration": 15,
    "start_time": "2021-11-28T15:37:57.491Z"
   },
   {
    "duration": 39,
    "start_time": "2021-11-28T15:37:57.510Z"
   },
   {
    "duration": 128,
    "start_time": "2021-11-28T15:37:57.583Z"
   },
   {
    "duration": 15,
    "start_time": "2021-11-28T15:37:57.715Z"
   },
   {
    "duration": 24,
    "start_time": "2021-11-28T15:37:57.734Z"
   },
   {
    "duration": 17,
    "start_time": "2021-11-28T15:37:57.781Z"
   },
   {
    "duration": 13,
    "start_time": "2021-11-28T15:37:57.802Z"
   },
   {
    "duration": 12,
    "start_time": "2021-11-28T15:37:57.818Z"
   },
   {
    "duration": 34,
    "start_time": "2021-11-28T15:37:57.833Z"
   },
   {
    "duration": 29,
    "start_time": "2021-11-28T15:37:57.870Z"
   },
   {
    "duration": 13,
    "start_time": "2021-11-28T15:37:57.902Z"
   },
   {
    "duration": 18,
    "start_time": "2021-11-28T15:37:57.918Z"
   },
   {
    "duration": 82,
    "start_time": "2021-11-28T15:37:57.940Z"
   },
   {
    "duration": 76,
    "start_time": "2021-11-28T15:37:58.025Z"
   },
   {
    "duration": 192,
    "start_time": "2021-11-28T15:37:58.104Z"
   },
   {
    "duration": 175,
    "start_time": "2021-11-28T15:37:58.300Z"
   },
   {
    "duration": 18,
    "start_time": "2021-11-28T15:37:58.478Z"
   },
   {
    "duration": 26,
    "start_time": "2021-11-28T15:37:58.501Z"
   },
   {
    "duration": 59,
    "start_time": "2021-11-28T15:37:58.533Z"
   },
   {
    "duration": 11,
    "start_time": "2021-11-28T15:37:58.594Z"
   },
   {
    "duration": 109,
    "start_time": "2021-11-28T15:37:58.608Z"
   },
   {
    "duration": 142734,
    "start_time": "2021-11-28T15:35:35.986Z"
   },
   {
    "duration": 50,
    "start_time": "2021-11-28T15:38:12.593Z"
   },
   {
    "duration": 5,
    "start_time": "2021-11-28T15:39:53.318Z"
   },
   {
    "duration": 314,
    "start_time": "2021-11-28T15:40:02.869Z"
   },
   {
    "duration": 11,
    "start_time": "2021-11-28T15:41:21.117Z"
   },
   {
    "duration": 21,
    "start_time": "2021-11-28T15:41:42.069Z"
   },
   {
    "duration": 25,
    "start_time": "2021-11-28T15:42:54.688Z"
   },
   {
    "duration": 80,
    "start_time": "2021-11-28T16:04:17.794Z"
   },
   {
    "duration": 64,
    "start_time": "2021-11-28T16:04:50.499Z"
   },
   {
    "duration": 11,
    "start_time": "2021-11-28T16:05:46.478Z"
   },
   {
    "duration": 15,
    "start_time": "2021-11-28T16:06:43.014Z"
   },
   {
    "duration": 9,
    "start_time": "2021-11-28T16:09:36.410Z"
   },
   {
    "duration": 8,
    "start_time": "2021-11-28T16:10:54.676Z"
   },
   {
    "duration": 8,
    "start_time": "2021-11-28T16:17:48.245Z"
   },
   {
    "duration": 5,
    "start_time": "2021-11-28T16:18:00.925Z"
   },
   {
    "duration": 12,
    "start_time": "2021-11-28T16:18:26.818Z"
   },
   {
    "duration": 5,
    "start_time": "2021-11-28T16:20:19.052Z"
   },
   {
    "duration": 358,
    "start_time": "2021-11-28T16:20:45.804Z"
   },
   {
    "duration": 9,
    "start_time": "2021-11-28T16:21:03.719Z"
   },
   {
    "duration": 9,
    "start_time": "2021-11-28T16:22:21.662Z"
   },
   {
    "duration": 343,
    "start_time": "2021-11-28T20:04:28.269Z"
   },
   {
    "duration": 311,
    "start_time": "2021-11-28T20:04:39.465Z"
   },
   {
    "duration": 11,
    "start_time": "2021-11-28T20:05:11.277Z"
   },
   {
    "duration": 384,
    "start_time": "2021-11-29T19:00:34.938Z"
   },
   {
    "duration": 666,
    "start_time": "2021-11-29T19:00:39.224Z"
   },
   {
    "duration": 154,
    "start_time": "2021-11-29T19:00:39.892Z"
   },
   {
    "duration": 15,
    "start_time": "2021-11-29T19:00:40.049Z"
   },
   {
    "duration": 30,
    "start_time": "2021-11-29T19:00:40.066Z"
   },
   {
    "duration": 132,
    "start_time": "2021-11-29T19:00:40.098Z"
   },
   {
    "duration": 13,
    "start_time": "2021-11-29T19:00:40.231Z"
   },
   {
    "duration": 17,
    "start_time": "2021-11-29T19:00:40.246Z"
   },
   {
    "duration": 88,
    "start_time": "2021-11-29T19:00:40.264Z"
   },
   {
    "duration": 7,
    "start_time": "2021-11-29T19:00:40.354Z"
   },
   {
    "duration": 39,
    "start_time": "2021-11-29T19:00:40.364Z"
   },
   {
    "duration": 17,
    "start_time": "2021-11-29T19:00:40.405Z"
   },
   {
    "duration": 11,
    "start_time": "2021-11-29T19:00:40.424Z"
   },
   {
    "duration": 9,
    "start_time": "2021-11-29T19:00:40.437Z"
   },
   {
    "duration": 90,
    "start_time": "2021-11-29T19:00:40.447Z"
   },
   {
    "duration": 19,
    "start_time": "2021-11-29T19:00:40.538Z"
   },
   {
    "duration": 15,
    "start_time": "2021-11-29T19:00:40.559Z"
   },
   {
    "duration": 18,
    "start_time": "2021-11-29T19:00:40.576Z"
   },
   {
    "duration": 32,
    "start_time": "2021-11-29T19:00:40.596Z"
   },
   {
    "duration": 30,
    "start_time": "2021-11-29T19:00:40.629Z"
   },
   {
    "duration": 67,
    "start_time": "2021-11-29T19:00:40.661Z"
   },
   {
    "duration": 90,
    "start_time": "2021-11-29T19:00:40.730Z"
   },
   {
    "duration": 22,
    "start_time": "2021-11-29T19:00:40.822Z"
   },
   {
    "duration": 24,
    "start_time": "2021-11-29T19:00:40.846Z"
   },
   {
    "duration": 21,
    "start_time": "2021-11-29T19:00:40.872Z"
   },
   {
    "duration": 34,
    "start_time": "2021-11-29T19:00:40.896Z"
   },
   {
    "duration": 8,
    "start_time": "2021-11-29T19:00:40.932Z"
   },
   {
    "duration": 44,
    "start_time": "2021-11-29T19:00:40.943Z"
   },
   {
    "duration": 35,
    "start_time": "2021-11-29T19:00:40.989Z"
   },
   {
    "duration": 6,
    "start_time": "2021-11-29T19:00:41.025Z"
   },
   {
    "duration": 20,
    "start_time": "2021-11-29T19:00:41.033Z"
   },
   {
    "duration": 20,
    "start_time": "2021-11-29T19:00:41.055Z"
   },
   {
    "duration": 34,
    "start_time": "2021-11-29T19:00:41.077Z"
   },
   {
    "duration": 10,
    "start_time": "2021-11-29T19:00:41.112Z"
   },
   {
    "duration": 28,
    "start_time": "2021-11-29T19:00:41.124Z"
   },
   {
    "duration": 19,
    "start_time": "2021-11-29T19:00:41.154Z"
   },
   {
    "duration": 10,
    "start_time": "2021-11-29T19:00:41.175Z"
   },
   {
    "duration": 18,
    "start_time": "2021-11-29T19:00:41.187Z"
   },
   {
    "duration": 11,
    "start_time": "2021-11-29T19:00:41.207Z"
   },
   {
    "duration": 16,
    "start_time": "2021-11-29T19:00:41.220Z"
   },
   {
    "duration": 302,
    "start_time": "2021-11-29T19:00:41.238Z"
   },
   {
    "duration": 22,
    "start_time": "2021-11-29T19:01:00.453Z"
   },
   {
    "duration": 9,
    "start_time": "2021-11-29T19:01:02.276Z"
   },
   {
    "duration": 17,
    "start_time": "2021-11-29T19:01:54.829Z"
   },
   {
    "duration": 11,
    "start_time": "2021-11-29T19:02:07.541Z"
   },
   {
    "duration": 3,
    "start_time": "2021-11-29T19:02:32.210Z"
   },
   {
    "duration": 167,
    "start_time": "2021-11-29T19:02:32.214Z"
   },
   {
    "duration": 7,
    "start_time": "2021-11-29T19:02:32.384Z"
   },
   {
    "duration": 47,
    "start_time": "2021-11-29T19:02:32.393Z"
   },
   {
    "duration": 154,
    "start_time": "2021-11-29T19:02:32.442Z"
   },
   {
    "duration": 8,
    "start_time": "2021-11-29T19:02:32.598Z"
   },
   {
    "duration": 44,
    "start_time": "2021-11-29T19:02:32.608Z"
   },
   {
    "duration": 108,
    "start_time": "2021-11-29T19:02:32.653Z"
   },
   {
    "duration": 8,
    "start_time": "2021-11-29T19:02:32.764Z"
   },
   {
    "duration": 41,
    "start_time": "2021-11-29T19:02:32.774Z"
   },
   {
    "duration": 43,
    "start_time": "2021-11-29T19:02:32.817Z"
   },
   {
    "duration": 38,
    "start_time": "2021-11-29T19:02:32.862Z"
   },
   {
    "duration": 19,
    "start_time": "2021-11-29T19:02:32.901Z"
   },
   {
    "duration": 38,
    "start_time": "2021-11-29T19:02:32.922Z"
   },
   {
    "duration": 32,
    "start_time": "2021-11-29T19:02:32.962Z"
   },
   {
    "duration": 12,
    "start_time": "2021-11-29T19:02:32.996Z"
   },
   {
    "duration": 43,
    "start_time": "2021-11-29T19:02:33.010Z"
   },
   {
    "duration": 39,
    "start_time": "2021-11-29T19:02:33.055Z"
   },
   {
    "duration": 23,
    "start_time": "2021-11-29T19:02:33.096Z"
   },
   {
    "duration": 76,
    "start_time": "2021-11-29T19:02:33.120Z"
   },
   {
    "duration": 97,
    "start_time": "2021-11-29T19:02:33.198Z"
   },
   {
    "duration": 22,
    "start_time": "2021-11-29T19:02:33.296Z"
   },
   {
    "duration": 20,
    "start_time": "2021-11-29T19:02:33.319Z"
   },
   {
    "duration": 27,
    "start_time": "2021-11-29T19:02:33.340Z"
   },
   {
    "duration": 37,
    "start_time": "2021-11-29T19:02:33.368Z"
   },
   {
    "duration": 8,
    "start_time": "2021-11-29T19:02:33.407Z"
   },
   {
    "duration": 22,
    "start_time": "2021-11-29T19:02:33.418Z"
   },
   {
    "duration": 49,
    "start_time": "2021-11-29T19:02:33.442Z"
   },
   {
    "duration": 17,
    "start_time": "2021-11-29T19:02:33.493Z"
   },
   {
    "duration": 42,
    "start_time": "2021-11-29T19:02:33.512Z"
   },
   {
    "duration": 23,
    "start_time": "2021-11-29T19:02:33.556Z"
   },
   {
    "duration": 24,
    "start_time": "2021-11-29T19:02:33.580Z"
   },
   {
    "duration": 32,
    "start_time": "2021-11-29T19:02:33.605Z"
   },
   {
    "duration": 46,
    "start_time": "2021-11-29T19:02:33.640Z"
   },
   {
    "duration": 9,
    "start_time": "2021-11-29T19:02:33.688Z"
   },
   {
    "duration": 26,
    "start_time": "2021-11-29T19:02:33.698Z"
   },
   {
    "duration": 11,
    "start_time": "2021-11-29T19:02:33.726Z"
   },
   {
    "duration": 22,
    "start_time": "2021-11-29T19:02:33.739Z"
   },
   {
    "duration": 25,
    "start_time": "2021-11-29T19:02:33.762Z"
   },
   {
    "duration": 25,
    "start_time": "2021-11-29T19:02:33.789Z"
   },
   {
    "duration": 17,
    "start_time": "2021-11-29T19:02:33.816Z"
   },
   {
    "duration": 643,
    "start_time": "2021-11-29T19:02:33.834Z"
   },
   {
    "duration": 15,
    "start_time": "2021-11-29T19:03:54.804Z"
   },
   {
    "duration": 8,
    "start_time": "2021-11-29T19:04:07.179Z"
   },
   {
    "duration": 3,
    "start_time": "2021-11-29T19:04:23.831Z"
   },
   {
    "duration": 157,
    "start_time": "2021-11-29T19:04:23.836Z"
   },
   {
    "duration": 7,
    "start_time": "2021-11-29T19:04:23.996Z"
   },
   {
    "duration": 24,
    "start_time": "2021-11-29T19:04:24.005Z"
   },
   {
    "duration": 130,
    "start_time": "2021-11-29T19:04:24.033Z"
   },
   {
    "duration": 8,
    "start_time": "2021-11-29T19:04:24.165Z"
   },
   {
    "duration": 19,
    "start_time": "2021-11-29T19:04:24.174Z"
   },
   {
    "duration": 102,
    "start_time": "2021-11-29T19:04:24.196Z"
   },
   {
    "duration": 7,
    "start_time": "2021-11-29T19:04:24.300Z"
   },
   {
    "duration": 17,
    "start_time": "2021-11-29T19:04:24.308Z"
   },
   {
    "duration": 19,
    "start_time": "2021-11-29T19:04:24.327Z"
   },
   {
    "duration": 13,
    "start_time": "2021-11-29T19:04:24.348Z"
   },
   {
    "duration": 8,
    "start_time": "2021-11-29T19:04:24.363Z"
   },
   {
    "duration": 42,
    "start_time": "2021-11-29T19:04:24.373Z"
   },
   {
    "duration": 10,
    "start_time": "2021-11-29T19:04:24.417Z"
   },
   {
    "duration": 9,
    "start_time": "2021-11-29T19:04:24.429Z"
   },
   {
    "duration": 14,
    "start_time": "2021-11-29T19:04:24.439Z"
   },
   {
    "duration": 23,
    "start_time": "2021-11-29T19:04:24.454Z"
   },
   {
    "duration": 27,
    "start_time": "2021-11-29T19:04:24.479Z"
   },
   {
    "duration": 84,
    "start_time": "2021-11-29T19:04:24.507Z"
   },
   {
    "duration": 104,
    "start_time": "2021-11-29T19:04:24.592Z"
   },
   {
    "duration": 24,
    "start_time": "2021-11-29T19:04:24.698Z"
   },
   {
    "duration": 21,
    "start_time": "2021-11-29T19:04:24.725Z"
   },
   {
    "duration": 29,
    "start_time": "2021-11-29T19:04:24.748Z"
   },
   {
    "duration": 38,
    "start_time": "2021-11-29T19:04:24.779Z"
   },
   {
    "duration": 18,
    "start_time": "2021-11-29T19:04:24.818Z"
   },
   {
    "duration": 36,
    "start_time": "2021-11-29T19:04:24.838Z"
   },
   {
    "duration": 38,
    "start_time": "2021-11-29T19:04:24.876Z"
   },
   {
    "duration": 18,
    "start_time": "2021-11-29T19:04:24.916Z"
   },
   {
    "duration": 36,
    "start_time": "2021-11-29T19:04:24.935Z"
   },
   {
    "duration": 39,
    "start_time": "2021-11-29T19:04:24.973Z"
   },
   {
    "duration": 85,
    "start_time": "2021-11-29T19:04:25.014Z"
   },
   {
    "duration": 32,
    "start_time": "2021-11-29T19:04:25.101Z"
   },
   {
    "duration": 37,
    "start_time": "2021-11-29T19:04:25.135Z"
   },
   {
    "duration": 14,
    "start_time": "2021-11-29T19:04:25.173Z"
   },
   {
    "duration": 7,
    "start_time": "2021-11-29T19:04:25.189Z"
   },
   {
    "duration": 11,
    "start_time": "2021-11-29T19:04:25.197Z"
   },
   {
    "duration": 6,
    "start_time": "2021-11-29T19:04:25.210Z"
   },
   {
    "duration": 4,
    "start_time": "2021-11-29T19:04:25.244Z"
   },
   {
    "duration": 7,
    "start_time": "2021-11-29T19:04:25.250Z"
   },
   {
    "duration": 10,
    "start_time": "2021-11-29T19:04:25.259Z"
   },
   {
    "duration": 7,
    "start_time": "2021-11-29T19:04:25.270Z"
   },
   {
    "duration": 9,
    "start_time": "2021-11-29T19:04:25.278Z"
   },
   {
    "duration": 394,
    "start_time": "2021-11-29T19:04:25.288Z"
   },
   {
    "duration": 4,
    "start_time": "2021-11-29T19:04:37.228Z"
   },
   {
    "duration": 398,
    "start_time": "2021-11-29T19:05:28.157Z"
   },
   {
    "duration": 24,
    "start_time": "2021-11-29T19:06:52.963Z"
   },
   {
    "duration": 5,
    "start_time": "2021-11-29T19:07:33.619Z"
   },
   {
    "duration": 1059,
    "start_time": "2021-11-29T19:08:36.195Z"
   },
   {
    "duration": 3,
    "start_time": "2021-11-29T19:08:57.299Z"
   },
   {
    "duration": 12,
    "start_time": "2021-11-29T19:09:02.251Z"
   },
   {
    "duration": 271,
    "start_time": "2021-11-29T19:09:25.379Z"
   },
   {
    "duration": 3,
    "start_time": "2021-11-29T19:09:33.902Z"
   },
   {
    "duration": 150,
    "start_time": "2021-11-29T19:09:33.906Z"
   },
   {
    "duration": 8,
    "start_time": "2021-11-29T19:09:34.059Z"
   },
   {
    "duration": 24,
    "start_time": "2021-11-29T19:09:34.069Z"
   },
   {
    "duration": 130,
    "start_time": "2021-11-29T19:09:34.095Z"
   },
   {
    "duration": 8,
    "start_time": "2021-11-29T19:09:34.227Z"
   },
   {
    "duration": 25,
    "start_time": "2021-11-29T19:09:34.236Z"
   },
   {
    "duration": 86,
    "start_time": "2021-11-29T19:09:34.263Z"
   },
   {
    "duration": 7,
    "start_time": "2021-11-29T19:09:34.351Z"
   },
   {
    "duration": 16,
    "start_time": "2021-11-29T19:09:34.360Z"
   },
   {
    "duration": 17,
    "start_time": "2021-11-29T19:09:34.379Z"
   },
   {
    "duration": 9,
    "start_time": "2021-11-29T19:09:34.398Z"
   },
   {
    "duration": 11,
    "start_time": "2021-11-29T19:09:34.409Z"
   },
   {
    "duration": 47,
    "start_time": "2021-11-29T19:09:34.422Z"
   },
   {
    "duration": 10,
    "start_time": "2021-11-29T19:09:34.471Z"
   },
   {
    "duration": 8,
    "start_time": "2021-11-29T19:09:34.483Z"
   },
   {
    "duration": 11,
    "start_time": "2021-11-29T19:09:34.493Z"
   },
   {
    "duration": 27,
    "start_time": "2021-11-29T19:09:34.506Z"
   },
   {
    "duration": 33,
    "start_time": "2021-11-29T19:09:34.535Z"
   },
   {
    "duration": 82,
    "start_time": "2021-11-29T19:09:34.570Z"
   },
   {
    "duration": 94,
    "start_time": "2021-11-29T19:09:34.654Z"
   },
   {
    "duration": 24,
    "start_time": "2021-11-29T19:09:34.750Z"
   },
   {
    "duration": 9,
    "start_time": "2021-11-29T19:09:34.778Z"
   },
   {
    "duration": 14,
    "start_time": "2021-11-29T19:09:34.790Z"
   },
   {
    "duration": 46,
    "start_time": "2021-11-29T19:09:34.805Z"
   },
   {
    "duration": 7,
    "start_time": "2021-11-29T19:09:34.853Z"
   },
   {
    "duration": 27,
    "start_time": "2021-11-29T19:09:34.862Z"
   },
   {
    "duration": 55,
    "start_time": "2021-11-29T19:09:34.891Z"
   },
   {
    "duration": 17,
    "start_time": "2021-11-29T19:09:34.947Z"
   },
   {
    "duration": 9,
    "start_time": "2021-11-29T19:09:34.966Z"
   },
   {
    "duration": 7,
    "start_time": "2021-11-29T19:09:34.976Z"
   },
   {
    "duration": 16,
    "start_time": "2021-11-29T19:09:34.985Z"
   },
   {
    "duration": 41,
    "start_time": "2021-11-29T19:09:35.003Z"
   },
   {
    "duration": 42,
    "start_time": "2021-11-29T19:09:35.046Z"
   },
   {
    "duration": 15,
    "start_time": "2021-11-29T19:09:35.089Z"
   },
   {
    "duration": 8,
    "start_time": "2021-11-29T19:09:35.106Z"
   },
   {
    "duration": 31,
    "start_time": "2021-11-29T19:09:35.116Z"
   },
   {
    "duration": 8,
    "start_time": "2021-11-29T19:09:35.149Z"
   },
   {
    "duration": 7,
    "start_time": "2021-11-29T19:09:35.159Z"
   },
   {
    "duration": 7,
    "start_time": "2021-11-29T19:09:35.167Z"
   },
   {
    "duration": 9,
    "start_time": "2021-11-29T19:09:35.175Z"
   },
   {
    "duration": 12,
    "start_time": "2021-11-29T19:09:35.186Z"
   },
   {
    "duration": 7,
    "start_time": "2021-11-29T19:09:35.199Z"
   },
   {
    "duration": 56,
    "start_time": "2021-11-29T19:09:35.208Z"
   },
   {
    "duration": 4,
    "start_time": "2021-11-29T19:09:35.266Z"
   },
   {
    "duration": 4,
    "start_time": "2021-11-29T19:09:35.272Z"
   },
   {
    "duration": 12,
    "start_time": "2021-11-29T19:09:35.278Z"
   },
   {
    "duration": 18,
    "start_time": "2021-11-29T19:09:51.395Z"
   },
   {
    "duration": 5,
    "start_time": "2021-11-29T19:10:02.621Z"
   },
   {
    "duration": 14,
    "start_time": "2021-11-29T19:10:29.218Z"
   },
   {
    "duration": 1123,
    "start_time": "2021-11-29T19:10:51.268Z"
   },
   {
    "duration": 3,
    "start_time": "2021-11-29T19:11:06.530Z"
   },
   {
    "duration": 12,
    "start_time": "2021-11-29T19:11:08.130Z"
   },
   {
    "duration": 4,
    "start_time": "2021-11-29T19:11:18.523Z"
   },
   {
    "duration": 14,
    "start_time": "2021-11-29T19:12:24.739Z"
   },
   {
    "duration": 14,
    "start_time": "2021-11-29T19:12:29.819Z"
   },
   {
    "duration": 3,
    "start_time": "2021-11-29T19:12:54.626Z"
   },
   {
    "duration": 15,
    "start_time": "2021-11-29T19:14:32.049Z"
   },
   {
    "duration": 7,
    "start_time": "2021-11-29T19:14:36.633Z"
   },
   {
    "duration": 263,
    "start_time": "2021-11-29T19:14:49.577Z"
   },
   {
    "duration": 16,
    "start_time": "2021-11-29T19:15:21.569Z"
   },
   {
    "duration": 3,
    "start_time": "2021-11-29T19:15:32.393Z"
   },
   {
    "duration": 14,
    "start_time": "2021-11-29T19:15:37.258Z"
   },
   {
    "duration": 11,
    "start_time": "2021-11-29T19:16:51.073Z"
   },
   {
    "duration": 13,
    "start_time": "2021-11-29T19:17:07.817Z"
   },
   {
    "duration": 11,
    "start_time": "2021-11-29T19:17:22.665Z"
   },
   {
    "duration": 16,
    "start_time": "2021-11-29T19:23:13.161Z"
   },
   {
    "duration": 18,
    "start_time": "2021-11-29T19:23:15.216Z"
   },
   {
    "duration": 2,
    "start_time": "2021-11-29T19:25:29.635Z"
   },
   {
    "duration": 141,
    "start_time": "2021-11-29T19:25:29.639Z"
   },
   {
    "duration": 7,
    "start_time": "2021-11-29T19:25:29.782Z"
   },
   {
    "duration": 21,
    "start_time": "2021-11-29T19:25:29.791Z"
   },
   {
    "duration": 113,
    "start_time": "2021-11-29T19:25:29.813Z"
   },
   {
    "duration": 8,
    "start_time": "2021-11-29T19:25:29.928Z"
   },
   {
    "duration": 17,
    "start_time": "2021-11-29T19:25:29.945Z"
   },
   {
    "duration": 89,
    "start_time": "2021-11-29T19:25:29.965Z"
   },
   {
    "duration": 8,
    "start_time": "2021-11-29T19:25:30.056Z"
   },
   {
    "duration": 26,
    "start_time": "2021-11-29T19:25:30.066Z"
   },
   {
    "duration": 26,
    "start_time": "2021-11-29T19:25:30.094Z"
   },
   {
    "duration": 11,
    "start_time": "2021-11-29T19:25:30.122Z"
   },
   {
    "duration": 6,
    "start_time": "2021-11-29T19:25:30.135Z"
   },
   {
    "duration": 30,
    "start_time": "2021-11-29T19:25:30.142Z"
   },
   {
    "duration": 23,
    "start_time": "2021-11-29T19:25:30.173Z"
   },
   {
    "duration": 20,
    "start_time": "2021-11-29T19:25:30.197Z"
   },
   {
    "duration": 40,
    "start_time": "2021-11-29T19:25:30.218Z"
   },
   {
    "duration": 34,
    "start_time": "2021-11-29T19:25:30.260Z"
   },
   {
    "duration": 33,
    "start_time": "2021-11-29T19:25:30.296Z"
   },
   {
    "duration": 67,
    "start_time": "2021-11-29T19:25:30.331Z"
   },
   {
    "duration": 73,
    "start_time": "2021-11-29T19:25:30.400Z"
   },
   {
    "duration": 21,
    "start_time": "2021-11-29T19:25:30.474Z"
   },
   {
    "duration": 8,
    "start_time": "2021-11-29T19:25:30.498Z"
   },
   {
    "duration": 31,
    "start_time": "2021-11-29T19:25:30.508Z"
   },
   {
    "duration": 32,
    "start_time": "2021-11-29T19:25:30.540Z"
   },
   {
    "duration": 6,
    "start_time": "2021-11-29T19:25:30.573Z"
   },
   {
    "duration": 33,
    "start_time": "2021-11-29T19:25:30.580Z"
   },
   {
    "duration": 53,
    "start_time": "2021-11-29T19:25:30.614Z"
   },
   {
    "duration": 16,
    "start_time": "2021-11-29T19:25:30.669Z"
   },
   {
    "duration": 9,
    "start_time": "2021-11-29T19:25:30.687Z"
   },
   {
    "duration": 23,
    "start_time": "2021-11-29T19:25:30.698Z"
   },
   {
    "duration": 22,
    "start_time": "2021-11-29T19:25:30.723Z"
   },
   {
    "duration": 38,
    "start_time": "2021-11-29T19:25:30.746Z"
   },
   {
    "duration": 63,
    "start_time": "2021-11-29T19:25:30.785Z"
   },
   {
    "duration": 14,
    "start_time": "2021-11-29T19:25:30.849Z"
   },
   {
    "duration": 14,
    "start_time": "2021-11-29T19:25:30.864Z"
   },
   {
    "duration": 16,
    "start_time": "2021-11-29T19:25:30.880Z"
   },
   {
    "duration": 28,
    "start_time": "2021-11-29T19:25:30.897Z"
   },
   {
    "duration": 19,
    "start_time": "2021-11-29T19:25:30.927Z"
   },
   {
    "duration": 27,
    "start_time": "2021-11-29T19:25:30.947Z"
   },
   {
    "duration": 23,
    "start_time": "2021-11-29T19:25:30.976Z"
   },
   {
    "duration": 21,
    "start_time": "2021-11-29T19:25:31.001Z"
   },
   {
    "duration": 24,
    "start_time": "2021-11-29T19:25:31.024Z"
   },
   {
    "duration": 62,
    "start_time": "2021-11-29T19:25:31.049Z"
   },
   {
    "duration": 11,
    "start_time": "2021-11-29T19:25:31.113Z"
   },
   {
    "duration": 21,
    "start_time": "2021-11-29T19:25:31.126Z"
   },
   {
    "duration": 11,
    "start_time": "2021-11-29T19:25:31.149Z"
   },
   {
    "duration": 23,
    "start_time": "2021-11-29T19:25:31.162Z"
   },
   {
    "duration": 2,
    "start_time": "2021-11-29T19:25:31.187Z"
   },
   {
    "duration": 34,
    "start_time": "2021-11-29T19:25:31.191Z"
   },
   {
    "duration": 15,
    "start_time": "2021-11-29T19:25:31.227Z"
   },
   {
    "duration": 3,
    "start_time": "2021-11-29T19:25:46.471Z"
   },
   {
    "duration": 16,
    "start_time": "2021-11-29T19:25:49.239Z"
   },
   {
    "duration": 2,
    "start_time": "2021-11-29T19:26:01.307Z"
   },
   {
    "duration": 167,
    "start_time": "2021-11-29T19:26:01.311Z"
   },
   {
    "duration": 7,
    "start_time": "2021-11-29T19:26:01.480Z"
   },
   {
    "duration": 55,
    "start_time": "2021-11-29T19:26:01.489Z"
   },
   {
    "duration": 144,
    "start_time": "2021-11-29T19:26:01.545Z"
   },
   {
    "duration": 8,
    "start_time": "2021-11-29T19:26:01.690Z"
   },
   {
    "duration": 76,
    "start_time": "2021-11-29T19:26:01.699Z"
   },
   {
    "duration": 88,
    "start_time": "2021-11-29T19:26:01.777Z"
   },
   {
    "duration": 6,
    "start_time": "2021-11-29T19:26:01.868Z"
   },
   {
    "duration": 47,
    "start_time": "2021-11-29T19:26:01.876Z"
   },
   {
    "duration": 62,
    "start_time": "2021-11-29T19:26:01.925Z"
   },
   {
    "duration": 28,
    "start_time": "2021-11-29T19:26:01.989Z"
   },
   {
    "duration": 30,
    "start_time": "2021-11-29T19:26:02.019Z"
   },
   {
    "duration": 38,
    "start_time": "2021-11-29T19:26:02.050Z"
   },
   {
    "duration": 29,
    "start_time": "2021-11-29T19:26:02.090Z"
   },
   {
    "duration": 25,
    "start_time": "2021-11-29T19:26:02.121Z"
   },
   {
    "duration": 31,
    "start_time": "2021-11-29T19:26:02.148Z"
   },
   {
    "duration": 34,
    "start_time": "2021-11-29T19:26:02.181Z"
   },
   {
    "duration": 46,
    "start_time": "2021-11-29T19:26:02.218Z"
   },
   {
    "duration": 102,
    "start_time": "2021-11-29T19:26:02.266Z"
   },
   {
    "duration": 90,
    "start_time": "2021-11-29T19:26:02.370Z"
   },
   {
    "duration": 23,
    "start_time": "2021-11-29T19:26:02.462Z"
   },
   {
    "duration": 8,
    "start_time": "2021-11-29T19:26:02.488Z"
   },
   {
    "duration": 25,
    "start_time": "2021-11-29T19:26:02.498Z"
   },
   {
    "duration": 42,
    "start_time": "2021-11-29T19:26:02.525Z"
   },
   {
    "duration": 8,
    "start_time": "2021-11-29T19:26:02.569Z"
   },
   {
    "duration": 42,
    "start_time": "2021-11-29T19:26:02.579Z"
   },
   {
    "duration": 40,
    "start_time": "2021-11-29T19:26:02.623Z"
   },
   {
    "duration": 20,
    "start_time": "2021-11-29T19:26:02.664Z"
   },
   {
    "duration": 18,
    "start_time": "2021-11-29T19:26:02.685Z"
   },
   {
    "duration": 33,
    "start_time": "2021-11-29T19:26:02.705Z"
   },
   {
    "duration": 40,
    "start_time": "2021-11-29T19:26:02.740Z"
   },
   {
    "duration": 33,
    "start_time": "2021-11-29T19:26:02.782Z"
   },
   {
    "duration": 44,
    "start_time": "2021-11-29T19:26:02.817Z"
   },
   {
    "duration": 17,
    "start_time": "2021-11-29T19:26:02.863Z"
   },
   {
    "duration": 43,
    "start_time": "2021-11-29T19:26:02.881Z"
   },
   {
    "duration": 27,
    "start_time": "2021-11-29T19:26:02.926Z"
   },
   {
    "duration": 13,
    "start_time": "2021-11-29T19:26:02.955Z"
   },
   {
    "duration": 29,
    "start_time": "2021-11-29T19:26:02.970Z"
   },
   {
    "duration": 18,
    "start_time": "2021-11-29T19:26:03.001Z"
   },
   {
    "duration": 29,
    "start_time": "2021-11-29T19:26:03.020Z"
   },
   {
    "duration": 36,
    "start_time": "2021-11-29T19:26:03.051Z"
   },
   {
    "duration": 18,
    "start_time": "2021-11-29T19:26:03.089Z"
   },
   {
    "duration": 41,
    "start_time": "2021-11-29T19:26:03.109Z"
   },
   {
    "duration": 4,
    "start_time": "2021-11-29T19:26:03.152Z"
   },
   {
    "duration": 31,
    "start_time": "2021-11-29T19:26:03.158Z"
   },
   {
    "duration": 18,
    "start_time": "2021-11-29T19:26:03.190Z"
   },
   {
    "duration": 27,
    "start_time": "2021-11-29T19:26:03.209Z"
   },
   {
    "duration": 14,
    "start_time": "2021-11-29T19:26:03.237Z"
   },
   {
    "duration": 30,
    "start_time": "2021-11-29T19:26:03.252Z"
   },
   {
    "duration": 20,
    "start_time": "2021-11-29T19:26:03.284Z"
   },
   {
    "duration": 14,
    "start_time": "2021-11-29T19:27:31.719Z"
   },
   {
    "duration": 15,
    "start_time": "2021-11-29T19:32:56.351Z"
   },
   {
    "duration": 14,
    "start_time": "2021-11-29T19:32:57.103Z"
   },
   {
    "duration": 5,
    "start_time": "2021-11-29T19:33:19.463Z"
   },
   {
    "duration": 5,
    "start_time": "2021-11-29T19:33:34.919Z"
   },
   {
    "duration": 2,
    "start_time": "2021-11-29T19:34:33.434Z"
   },
   {
    "duration": 158,
    "start_time": "2021-11-29T19:34:33.438Z"
   },
   {
    "duration": 7,
    "start_time": "2021-11-29T19:34:33.599Z"
   },
   {
    "duration": 60,
    "start_time": "2021-11-29T19:34:33.608Z"
   },
   {
    "duration": 125,
    "start_time": "2021-11-29T19:34:33.670Z"
   },
   {
    "duration": 9,
    "start_time": "2021-11-29T19:34:33.797Z"
   },
   {
    "duration": 36,
    "start_time": "2021-11-29T19:34:33.807Z"
   },
   {
    "duration": 98,
    "start_time": "2021-11-29T19:34:33.845Z"
   },
   {
    "duration": 7,
    "start_time": "2021-11-29T19:34:33.946Z"
   },
   {
    "duration": 33,
    "start_time": "2021-11-29T19:34:33.955Z"
   },
   {
    "duration": 31,
    "start_time": "2021-11-29T19:34:33.990Z"
   },
   {
    "duration": 39,
    "start_time": "2021-11-29T19:34:34.023Z"
   },
   {
    "duration": 26,
    "start_time": "2021-11-29T19:34:34.064Z"
   },
   {
    "duration": 43,
    "start_time": "2021-11-29T19:34:34.092Z"
   },
   {
    "duration": 11,
    "start_time": "2021-11-29T19:34:34.137Z"
   },
   {
    "duration": 17,
    "start_time": "2021-11-29T19:34:34.149Z"
   },
   {
    "duration": 14,
    "start_time": "2021-11-29T19:34:34.168Z"
   },
   {
    "duration": 62,
    "start_time": "2021-11-29T19:34:34.184Z"
   },
   {
    "duration": 27,
    "start_time": "2021-11-29T19:34:34.248Z"
   },
   {
    "duration": 68,
    "start_time": "2021-11-29T19:34:34.277Z"
   },
   {
    "duration": 142,
    "start_time": "2021-11-29T19:34:34.347Z"
   },
   {
    "duration": 24,
    "start_time": "2021-11-29T19:34:34.491Z"
   },
   {
    "duration": 10,
    "start_time": "2021-11-29T19:34:34.517Z"
   },
   {
    "duration": 35,
    "start_time": "2021-11-29T19:34:34.529Z"
   },
   {
    "duration": 31,
    "start_time": "2021-11-29T19:34:34.566Z"
   },
   {
    "duration": 7,
    "start_time": "2021-11-29T19:34:34.599Z"
   },
   {
    "duration": 31,
    "start_time": "2021-11-29T19:34:34.611Z"
   },
   {
    "duration": 38,
    "start_time": "2021-11-29T19:34:34.645Z"
   },
   {
    "duration": 17,
    "start_time": "2021-11-29T19:34:34.684Z"
   },
   {
    "duration": 46,
    "start_time": "2021-11-29T19:34:34.703Z"
   },
   {
    "duration": 15,
    "start_time": "2021-11-29T19:34:34.751Z"
   },
   {
    "duration": 15,
    "start_time": "2021-11-29T19:34:34.768Z"
   },
   {
    "duration": 70,
    "start_time": "2021-11-29T19:34:34.785Z"
   },
   {
    "duration": 37,
    "start_time": "2021-11-29T19:34:34.857Z"
   },
   {
    "duration": 14,
    "start_time": "2021-11-29T19:34:34.895Z"
   },
   {
    "duration": 40,
    "start_time": "2021-11-29T19:34:34.910Z"
   },
   {
    "duration": 17,
    "start_time": "2021-11-29T19:34:34.952Z"
   },
   {
    "duration": 13,
    "start_time": "2021-11-29T19:34:34.971Z"
   },
   {
    "duration": 6,
    "start_time": "2021-11-29T19:34:34.985Z"
   },
   {
    "duration": 6,
    "start_time": "2021-11-29T19:34:34.993Z"
   },
   {
    "duration": 22,
    "start_time": "2021-11-29T19:34:35.001Z"
   },
   {
    "duration": 15,
    "start_time": "2021-11-29T19:34:35.024Z"
   },
   {
    "duration": 31,
    "start_time": "2021-11-29T19:34:35.041Z"
   },
   {
    "duration": 38,
    "start_time": "2021-11-29T19:34:35.074Z"
   },
   {
    "duration": 3,
    "start_time": "2021-11-29T19:34:35.113Z"
   },
   {
    "duration": 35,
    "start_time": "2021-11-29T19:34:35.118Z"
   },
   {
    "duration": 19,
    "start_time": "2021-11-29T19:34:35.154Z"
   },
   {
    "duration": 34,
    "start_time": "2021-11-29T19:34:35.174Z"
   },
   {
    "duration": 4,
    "start_time": "2021-11-29T19:34:35.210Z"
   },
   {
    "duration": 41,
    "start_time": "2021-11-29T19:34:35.216Z"
   },
   {
    "duration": 6,
    "start_time": "2021-11-29T19:34:35.259Z"
   },
   {
    "duration": 10,
    "start_time": "2021-11-29T19:47:39.501Z"
   },
   {
    "duration": 19,
    "start_time": "2021-11-29T19:47:41.390Z"
   },
   {
    "duration": 254,
    "start_time": "2021-11-29T19:49:18.166Z"
   },
   {
    "duration": 265,
    "start_time": "2021-11-29T19:49:41.437Z"
   },
   {
    "duration": 18,
    "start_time": "2021-11-29T19:50:45.813Z"
   },
   {
    "duration": 5,
    "start_time": "2021-11-29T19:51:10.430Z"
   },
   {
    "duration": 8,
    "start_time": "2021-11-29T19:51:14.366Z"
   },
   {
    "duration": 25,
    "start_time": "2021-11-29T19:51:17.660Z"
   },
   {
    "duration": 14,
    "start_time": "2021-11-29T19:55:37.124Z"
   },
   {
    "duration": 9,
    "start_time": "2021-11-29T19:55:42.629Z"
   },
   {
    "duration": 6,
    "start_time": "2021-11-29T19:56:09.109Z"
   },
   {
    "duration": 22,
    "start_time": "2021-11-29T19:56:11.663Z"
   },
   {
    "duration": 2,
    "start_time": "2021-11-29T19:57:07.663Z"
   },
   {
    "duration": 160,
    "start_time": "2021-11-29T19:57:07.667Z"
   },
   {
    "duration": 8,
    "start_time": "2021-11-29T19:57:07.829Z"
   },
   {
    "duration": 20,
    "start_time": "2021-11-29T19:57:07.844Z"
   },
   {
    "duration": 130,
    "start_time": "2021-11-29T19:57:07.865Z"
   },
   {
    "duration": 9,
    "start_time": "2021-11-29T19:57:07.997Z"
   },
   {
    "duration": 28,
    "start_time": "2021-11-29T19:57:08.007Z"
   },
   {
    "duration": 82,
    "start_time": "2021-11-29T19:57:08.037Z"
   },
   {
    "duration": 7,
    "start_time": "2021-11-29T19:57:08.122Z"
   },
   {
    "duration": 23,
    "start_time": "2021-11-29T19:57:08.131Z"
   },
   {
    "duration": 22,
    "start_time": "2021-11-29T19:57:08.155Z"
   },
   {
    "duration": 13,
    "start_time": "2021-11-29T19:57:08.179Z"
   },
   {
    "duration": 13,
    "start_time": "2021-11-29T19:57:08.194Z"
   },
   {
    "duration": 33,
    "start_time": "2021-11-29T19:57:08.209Z"
   },
   {
    "duration": 9,
    "start_time": "2021-11-29T19:57:08.243Z"
   },
   {
    "duration": 16,
    "start_time": "2021-11-29T19:57:08.254Z"
   },
   {
    "duration": 9,
    "start_time": "2021-11-29T19:57:08.272Z"
   },
   {
    "duration": 20,
    "start_time": "2021-11-29T19:57:08.282Z"
   },
   {
    "duration": 40,
    "start_time": "2021-11-29T19:57:08.304Z"
   },
   {
    "duration": 61,
    "start_time": "2021-11-29T19:57:08.346Z"
   },
   {
    "duration": 83,
    "start_time": "2021-11-29T19:57:08.409Z"
   },
   {
    "duration": 22,
    "start_time": "2021-11-29T19:57:08.494Z"
   },
   {
    "duration": 8,
    "start_time": "2021-11-29T19:57:08.520Z"
   },
   {
    "duration": 25,
    "start_time": "2021-11-29T19:57:08.530Z"
   },
   {
    "duration": 16,
    "start_time": "2021-11-29T19:57:08.557Z"
   },
   {
    "duration": 5,
    "start_time": "2021-11-29T19:57:08.575Z"
   },
   {
    "duration": 25,
    "start_time": "2021-11-29T19:57:08.582Z"
   },
   {
    "duration": 61,
    "start_time": "2021-11-29T19:57:08.609Z"
   },
   {
    "duration": 17,
    "start_time": "2021-11-29T19:57:08.672Z"
   },
   {
    "duration": 9,
    "start_time": "2021-11-29T19:57:08.691Z"
   },
   {
    "duration": 11,
    "start_time": "2021-11-29T19:57:08.702Z"
   },
   {
    "duration": 37,
    "start_time": "2021-11-29T19:57:08.714Z"
   },
   {
    "duration": 80,
    "start_time": "2021-11-29T19:57:08.752Z"
   },
   {
    "duration": 65,
    "start_time": "2021-11-29T19:57:08.834Z"
   },
   {
    "duration": 14,
    "start_time": "2021-11-29T19:57:08.901Z"
   },
   {
    "duration": 68,
    "start_time": "2021-11-29T19:57:08.917Z"
   },
   {
    "duration": 35,
    "start_time": "2021-11-29T19:57:08.987Z"
   },
   {
    "duration": 37,
    "start_time": "2021-11-29T19:57:09.024Z"
   },
   {
    "duration": 49,
    "start_time": "2021-11-29T19:57:09.063Z"
   },
   {
    "duration": 32,
    "start_time": "2021-11-29T19:57:09.114Z"
   },
   {
    "duration": 27,
    "start_time": "2021-11-29T19:57:09.147Z"
   },
   {
    "duration": 24,
    "start_time": "2021-11-29T19:57:09.176Z"
   },
   {
    "duration": 13,
    "start_time": "2021-11-29T19:57:09.202Z"
   },
   {
    "duration": 35,
    "start_time": "2021-11-29T19:57:09.216Z"
   },
   {
    "duration": 3,
    "start_time": "2021-11-29T19:57:09.253Z"
   },
   {
    "duration": 27,
    "start_time": "2021-11-29T19:57:09.257Z"
   },
   {
    "duration": 15,
    "start_time": "2021-11-29T19:57:09.286Z"
   },
   {
    "duration": 29,
    "start_time": "2021-11-29T19:57:09.303Z"
   },
   {
    "duration": 3,
    "start_time": "2021-11-29T19:57:09.334Z"
   },
   {
    "duration": 23,
    "start_time": "2021-11-29T19:57:09.338Z"
   },
   {
    "duration": 5,
    "start_time": "2021-11-29T19:57:09.363Z"
   },
   {
    "duration": 9,
    "start_time": "2021-11-29T19:57:09.369Z"
   },
   {
    "duration": 20,
    "start_time": "2021-11-29T19:57:09.380Z"
   },
   {
    "duration": 4,
    "start_time": "2021-11-29T19:57:09.402Z"
   },
   {
    "duration": 8,
    "start_time": "2021-11-29T19:57:09.407Z"
   },
   {
    "duration": 46,
    "start_time": "2021-11-29T19:57:09.417Z"
   },
   {
    "duration": 4,
    "start_time": "2021-11-29T20:11:05.257Z"
   },
   {
    "duration": 237,
    "start_time": "2021-11-29T20:13:01.777Z"
   },
   {
    "duration": 19,
    "start_time": "2021-11-29T20:13:07.096Z"
   },
   {
    "duration": 41,
    "start_time": "2021-11-29T20:13:17.951Z"
   },
   {
    "duration": 4,
    "start_time": "2021-11-29T20:16:26.487Z"
   },
   {
    "duration": 4,
    "start_time": "2021-11-29T20:16:28.946Z"
   },
   {
    "duration": 172,
    "start_time": "2021-11-29T20:16:28.952Z"
   },
   {
    "duration": 7,
    "start_time": "2021-11-29T20:16:29.126Z"
   },
   {
    "duration": 27,
    "start_time": "2021-11-29T20:16:29.135Z"
   },
   {
    "duration": 134,
    "start_time": "2021-11-29T20:16:29.164Z"
   },
   {
    "duration": 9,
    "start_time": "2021-11-29T20:16:29.300Z"
   },
   {
    "duration": 31,
    "start_time": "2021-11-29T20:16:29.310Z"
   },
   {
    "duration": 93,
    "start_time": "2021-11-29T20:16:29.344Z"
   },
   {
    "duration": 8,
    "start_time": "2021-11-29T20:16:29.439Z"
   },
   {
    "duration": 29,
    "start_time": "2021-11-29T20:16:29.448Z"
   },
   {
    "duration": 41,
    "start_time": "2021-11-29T20:16:29.479Z"
   },
   {
    "duration": 25,
    "start_time": "2021-11-29T20:16:29.522Z"
   },
   {
    "duration": 28,
    "start_time": "2021-11-29T20:16:29.550Z"
   },
   {
    "duration": 46,
    "start_time": "2021-11-29T20:16:29.581Z"
   },
   {
    "duration": 10,
    "start_time": "2021-11-29T20:16:29.629Z"
   },
   {
    "duration": 7,
    "start_time": "2021-11-29T20:16:29.641Z"
   },
   {
    "duration": 11,
    "start_time": "2021-11-29T20:16:29.650Z"
   },
   {
    "duration": 30,
    "start_time": "2021-11-29T20:16:29.663Z"
   },
   {
    "duration": 25,
    "start_time": "2021-11-29T20:16:29.695Z"
   },
   {
    "duration": 95,
    "start_time": "2021-11-29T20:16:29.722Z"
   },
   {
    "duration": 103,
    "start_time": "2021-11-29T20:16:29.819Z"
   },
   {
    "duration": 43,
    "start_time": "2021-11-29T20:16:29.924Z"
   },
   {
    "duration": 10,
    "start_time": "2021-11-29T20:16:29.973Z"
   },
   {
    "duration": 14,
    "start_time": "2021-11-29T20:16:29.986Z"
   },
   {
    "duration": 26,
    "start_time": "2021-11-29T20:16:30.002Z"
   },
   {
    "duration": 19,
    "start_time": "2021-11-29T20:16:30.030Z"
   },
   {
    "duration": 30,
    "start_time": "2021-11-29T20:16:30.051Z"
   },
   {
    "duration": 37,
    "start_time": "2021-11-29T20:16:30.083Z"
   },
   {
    "duration": 34,
    "start_time": "2021-11-29T20:16:30.122Z"
   },
   {
    "duration": 14,
    "start_time": "2021-11-29T20:16:30.157Z"
   },
   {
    "duration": 27,
    "start_time": "2021-11-29T20:16:30.173Z"
   },
   {
    "duration": 16,
    "start_time": "2021-11-29T20:16:30.202Z"
   },
   {
    "duration": 24,
    "start_time": "2021-11-29T20:16:30.220Z"
   },
   {
    "duration": 51,
    "start_time": "2021-11-29T20:16:30.247Z"
   },
   {
    "duration": 14,
    "start_time": "2021-11-29T20:16:30.300Z"
   },
   {
    "duration": 8,
    "start_time": "2021-11-29T20:16:30.315Z"
   },
   {
    "duration": 14,
    "start_time": "2021-11-29T20:16:30.345Z"
   },
   {
    "duration": 9,
    "start_time": "2021-11-29T20:16:30.361Z"
   },
   {
    "duration": 10,
    "start_time": "2021-11-29T20:16:30.372Z"
   },
   {
    "duration": 11,
    "start_time": "2021-11-29T20:16:30.384Z"
   },
   {
    "duration": 29,
    "start_time": "2021-11-29T20:16:30.397Z"
   },
   {
    "duration": 11,
    "start_time": "2021-11-29T20:16:30.428Z"
   },
   {
    "duration": 17,
    "start_time": "2021-11-29T20:16:30.441Z"
   },
   {
    "duration": 28,
    "start_time": "2021-11-29T20:16:30.460Z"
   },
   {
    "duration": 2,
    "start_time": "2021-11-29T20:16:30.490Z"
   },
   {
    "duration": 23,
    "start_time": "2021-11-29T20:16:30.494Z"
   },
   {
    "duration": 2,
    "start_time": "2021-11-29T20:16:30.519Z"
   },
   {
    "duration": 32,
    "start_time": "2021-11-29T20:16:30.523Z"
   },
   {
    "duration": 9,
    "start_time": "2021-11-29T20:16:30.557Z"
   },
   {
    "duration": 32,
    "start_time": "2021-11-29T20:16:30.568Z"
   },
   {
    "duration": 7,
    "start_time": "2021-11-29T20:16:30.602Z"
   },
   {
    "duration": 18,
    "start_time": "2021-11-29T20:16:30.611Z"
   },
   {
    "duration": 39,
    "start_time": "2021-11-29T20:16:30.631Z"
   },
   {
    "duration": 10,
    "start_time": "2021-11-29T20:16:30.672Z"
   },
   {
    "duration": 23,
    "start_time": "2021-11-29T20:16:30.684Z"
   },
   {
    "duration": 31,
    "start_time": "2021-11-29T20:16:30.709Z"
   },
   {
    "duration": 6,
    "start_time": "2021-11-29T20:16:30.742Z"
   },
   {
    "duration": 280,
    "start_time": "2021-11-29T20:16:30.750Z"
   },
   {
    "duration": 114,
    "start_time": "2021-11-29T20:19:29.247Z"
   },
   {
    "duration": 3,
    "start_time": "2021-11-29T20:24:23.506Z"
   },
   {
    "duration": 174,
    "start_time": "2021-11-29T20:24:23.511Z"
   },
   {
    "duration": 7,
    "start_time": "2021-11-29T20:24:23.687Z"
   },
   {
    "duration": 24,
    "start_time": "2021-11-29T20:24:23.695Z"
   },
   {
    "duration": 119,
    "start_time": "2021-11-29T20:24:23.720Z"
   },
   {
    "duration": 10,
    "start_time": "2021-11-29T20:24:23.841Z"
   },
   {
    "duration": 25,
    "start_time": "2021-11-29T20:24:23.853Z"
   },
   {
    "duration": 86,
    "start_time": "2021-11-29T20:24:23.881Z"
   },
   {
    "duration": 7,
    "start_time": "2021-11-29T20:24:23.969Z"
   },
   {
    "duration": 16,
    "start_time": "2021-11-29T20:24:23.978Z"
   },
   {
    "duration": 17,
    "start_time": "2021-11-29T20:24:23.996Z"
   },
   {
    "duration": 12,
    "start_time": "2021-11-29T20:24:24.015Z"
   },
   {
    "duration": 18,
    "start_time": "2021-11-29T20:24:24.028Z"
   },
   {
    "duration": 29,
    "start_time": "2021-11-29T20:24:24.048Z"
   },
   {
    "duration": 12,
    "start_time": "2021-11-29T20:24:24.079Z"
   },
   {
    "duration": 6,
    "start_time": "2021-11-29T20:24:24.093Z"
   },
   {
    "duration": 8,
    "start_time": "2021-11-29T20:24:24.101Z"
   },
   {
    "duration": 21,
    "start_time": "2021-11-29T20:24:24.110Z"
   },
   {
    "duration": 35,
    "start_time": "2021-11-29T20:24:24.134Z"
   },
   {
    "duration": 77,
    "start_time": "2021-11-29T20:24:24.172Z"
   },
   {
    "duration": 93,
    "start_time": "2021-11-29T20:24:24.251Z"
   },
   {
    "duration": 27,
    "start_time": "2021-11-29T20:24:24.347Z"
   },
   {
    "duration": 9,
    "start_time": "2021-11-29T20:24:24.376Z"
   },
   {
    "duration": 19,
    "start_time": "2021-11-29T20:24:24.387Z"
   },
   {
    "duration": 47,
    "start_time": "2021-11-29T20:24:24.408Z"
   },
   {
    "duration": 8,
    "start_time": "2021-11-29T20:24:24.457Z"
   },
   {
    "duration": 26,
    "start_time": "2021-11-29T20:24:24.467Z"
   },
   {
    "duration": 52,
    "start_time": "2021-11-29T20:24:24.495Z"
   },
   {
    "duration": 18,
    "start_time": "2021-11-29T20:24:24.549Z"
   },
   {
    "duration": 10,
    "start_time": "2021-11-29T20:24:24.569Z"
   },
   {
    "duration": 12,
    "start_time": "2021-11-29T20:24:24.581Z"
   },
   {
    "duration": 20,
    "start_time": "2021-11-29T20:24:24.594Z"
   },
   {
    "duration": 42,
    "start_time": "2021-11-29T20:24:24.616Z"
   },
   {
    "duration": 44,
    "start_time": "2021-11-29T20:24:24.660Z"
   },
   {
    "duration": 14,
    "start_time": "2021-11-29T20:24:24.706Z"
   },
   {
    "duration": 29,
    "start_time": "2021-11-29T20:24:24.722Z"
   },
   {
    "duration": 32,
    "start_time": "2021-11-29T20:24:24.752Z"
   },
   {
    "duration": 16,
    "start_time": "2021-11-29T20:24:24.786Z"
   },
   {
    "duration": 14,
    "start_time": "2021-11-29T20:24:24.803Z"
   },
   {
    "duration": 8,
    "start_time": "2021-11-29T20:24:24.818Z"
   },
   {
    "duration": 8,
    "start_time": "2021-11-29T20:24:24.828Z"
   },
   {
    "duration": 6,
    "start_time": "2021-11-29T20:24:24.838Z"
   },
   {
    "duration": 9,
    "start_time": "2021-11-29T20:24:24.846Z"
   },
   {
    "duration": 29,
    "start_time": "2021-11-29T20:24:24.856Z"
   },
   {
    "duration": 2,
    "start_time": "2021-11-29T20:24:24.887Z"
   },
   {
    "duration": 16,
    "start_time": "2021-11-29T20:24:24.891Z"
   },
   {
    "duration": 3,
    "start_time": "2021-11-29T20:24:24.909Z"
   },
   {
    "duration": 53,
    "start_time": "2021-11-29T20:24:24.913Z"
   },
   {
    "duration": 3,
    "start_time": "2021-11-29T20:24:24.968Z"
   },
   {
    "duration": 19,
    "start_time": "2021-11-29T20:24:24.973Z"
   },
   {
    "duration": 5,
    "start_time": "2021-11-29T20:24:24.994Z"
   },
   {
    "duration": 8,
    "start_time": "2021-11-29T20:24:25.001Z"
   },
   {
    "duration": 47,
    "start_time": "2021-11-29T20:24:25.011Z"
   },
   {
    "duration": 6,
    "start_time": "2021-11-29T20:24:25.060Z"
   },
   {
    "duration": 10,
    "start_time": "2021-11-29T20:24:25.072Z"
   },
   {
    "duration": 22,
    "start_time": "2021-11-29T20:24:25.084Z"
   },
   {
    "duration": 4,
    "start_time": "2021-11-29T20:24:25.108Z"
   },
   {
    "duration": 288,
    "start_time": "2021-11-29T20:24:25.113Z"
   },
   {
    "duration": 2,
    "start_time": "2021-11-29T20:25:29.362Z"
   },
   {
    "duration": 150,
    "start_time": "2021-11-29T20:25:29.368Z"
   },
   {
    "duration": 9,
    "start_time": "2021-11-29T20:25:29.520Z"
   },
   {
    "duration": 21,
    "start_time": "2021-11-29T20:25:29.544Z"
   },
   {
    "duration": 116,
    "start_time": "2021-11-29T20:25:29.567Z"
   },
   {
    "duration": 8,
    "start_time": "2021-11-29T20:25:29.684Z"
   },
   {
    "duration": 16,
    "start_time": "2021-11-29T20:25:29.694Z"
   },
   {
    "duration": 83,
    "start_time": "2021-11-29T20:25:29.712Z"
   },
   {
    "duration": 7,
    "start_time": "2021-11-29T20:25:29.796Z"
   },
   {
    "duration": 13,
    "start_time": "2021-11-29T20:25:29.805Z"
   },
   {
    "duration": 15,
    "start_time": "2021-11-29T20:25:29.820Z"
   },
   {
    "duration": 7,
    "start_time": "2021-11-29T20:25:29.844Z"
   },
   {
    "duration": 6,
    "start_time": "2021-11-29T20:25:29.853Z"
   },
   {
    "duration": 27,
    "start_time": "2021-11-29T20:25:29.861Z"
   },
   {
    "duration": 9,
    "start_time": "2021-11-29T20:25:29.889Z"
   },
   {
    "duration": 7,
    "start_time": "2021-11-29T20:25:29.900Z"
   },
   {
    "duration": 7,
    "start_time": "2021-11-29T20:25:29.909Z"
   },
   {
    "duration": 36,
    "start_time": "2021-11-29T20:25:29.917Z"
   },
   {
    "duration": 25,
    "start_time": "2021-11-29T20:25:29.955Z"
   },
   {
    "duration": 78,
    "start_time": "2021-11-29T20:25:29.982Z"
   },
   {
    "duration": 91,
    "start_time": "2021-11-29T20:25:30.062Z"
   },
   {
    "duration": 22,
    "start_time": "2021-11-29T20:25:30.155Z"
   },
   {
    "duration": 9,
    "start_time": "2021-11-29T20:25:30.178Z"
   },
   {
    "duration": 22,
    "start_time": "2021-11-29T20:25:30.189Z"
   },
   {
    "duration": 16,
    "start_time": "2021-11-29T20:25:30.212Z"
   },
   {
    "duration": 7,
    "start_time": "2021-11-29T20:25:30.244Z"
   },
   {
    "duration": 25,
    "start_time": "2021-11-29T20:25:30.253Z"
   },
   {
    "duration": 34,
    "start_time": "2021-11-29T20:25:30.282Z"
   },
   {
    "duration": 33,
    "start_time": "2021-11-29T20:25:30.318Z"
   },
   {
    "duration": 8,
    "start_time": "2021-11-29T20:25:30.353Z"
   },
   {
    "duration": 11,
    "start_time": "2021-11-29T20:25:30.363Z"
   },
   {
    "duration": 15,
    "start_time": "2021-11-29T20:25:30.375Z"
   },
   {
    "duration": 20,
    "start_time": "2021-11-29T20:25:30.391Z"
   },
   {
    "duration": 52,
    "start_time": "2021-11-29T20:25:30.412Z"
   },
   {
    "duration": 14,
    "start_time": "2021-11-29T20:25:30.466Z"
   },
   {
    "duration": 18,
    "start_time": "2021-11-29T20:25:30.481Z"
   },
   {
    "duration": 18,
    "start_time": "2021-11-29T20:25:30.501Z"
   },
   {
    "duration": 16,
    "start_time": "2021-11-29T20:25:30.521Z"
   },
   {
    "duration": 9,
    "start_time": "2021-11-29T20:25:30.539Z"
   },
   {
    "duration": 19,
    "start_time": "2021-11-29T20:25:30.550Z"
   },
   {
    "duration": 24,
    "start_time": "2021-11-29T20:25:30.570Z"
   },
   {
    "duration": 12,
    "start_time": "2021-11-29T20:25:30.596Z"
   },
   {
    "duration": 16,
    "start_time": "2021-11-29T20:25:30.610Z"
   },
   {
    "duration": 29,
    "start_time": "2021-11-29T20:25:30.628Z"
   },
   {
    "duration": 3,
    "start_time": "2021-11-29T20:25:30.658Z"
   },
   {
    "duration": 34,
    "start_time": "2021-11-29T20:25:30.663Z"
   },
   {
    "duration": 6,
    "start_time": "2021-11-29T20:25:30.699Z"
   },
   {
    "duration": 28,
    "start_time": "2021-11-29T20:25:30.706Z"
   },
   {
    "duration": 3,
    "start_time": "2021-11-29T20:25:30.736Z"
   },
   {
    "duration": 25,
    "start_time": "2021-11-29T20:25:30.741Z"
   },
   {
    "duration": 5,
    "start_time": "2021-11-29T20:25:30.768Z"
   },
   {
    "duration": 16,
    "start_time": "2021-11-29T20:25:30.775Z"
   },
   {
    "duration": 25,
    "start_time": "2021-11-29T20:25:30.793Z"
   },
   {
    "duration": 6,
    "start_time": "2021-11-29T20:25:30.820Z"
   },
   {
    "duration": 12,
    "start_time": "2021-11-29T20:25:30.827Z"
   },
   {
    "duration": 26,
    "start_time": "2021-11-29T20:25:30.841Z"
   },
   {
    "duration": 3,
    "start_time": "2021-11-29T20:25:30.869Z"
   },
   {
    "duration": 301,
    "start_time": "2021-11-29T20:25:30.874Z"
   },
   {
    "duration": 26,
    "start_time": "2021-11-29T20:25:54.861Z"
   },
   {
    "duration": 246,
    "start_time": "2021-11-29T20:32:11.309Z"
   },
   {
    "duration": 3,
    "start_time": "2021-11-29T20:32:23.217Z"
   },
   {
    "duration": 170,
    "start_time": "2021-11-29T20:32:23.221Z"
   },
   {
    "duration": 8,
    "start_time": "2021-11-29T20:32:23.393Z"
   },
   {
    "duration": 21,
    "start_time": "2021-11-29T20:32:23.402Z"
   },
   {
    "duration": 133,
    "start_time": "2021-11-29T20:32:23.425Z"
   },
   {
    "duration": 8,
    "start_time": "2021-11-29T20:32:23.560Z"
   },
   {
    "duration": 18,
    "start_time": "2021-11-29T20:32:23.570Z"
   },
   {
    "duration": 91,
    "start_time": "2021-11-29T20:32:23.589Z"
   },
   {
    "duration": 6,
    "start_time": "2021-11-29T20:32:23.683Z"
   },
   {
    "duration": 14,
    "start_time": "2021-11-29T20:32:23.691Z"
   },
   {
    "duration": 17,
    "start_time": "2021-11-29T20:32:23.707Z"
   },
   {
    "duration": 19,
    "start_time": "2021-11-29T20:32:23.726Z"
   },
   {
    "duration": 6,
    "start_time": "2021-11-29T20:32:23.746Z"
   },
   {
    "duration": 33,
    "start_time": "2021-11-29T20:32:23.753Z"
   },
   {
    "duration": 9,
    "start_time": "2021-11-29T20:32:23.788Z"
   },
   {
    "duration": 7,
    "start_time": "2021-11-29T20:32:23.799Z"
   },
   {
    "duration": 9,
    "start_time": "2021-11-29T20:32:23.808Z"
   },
   {
    "duration": 29,
    "start_time": "2021-11-29T20:32:23.818Z"
   },
   {
    "duration": 27,
    "start_time": "2021-11-29T20:32:23.849Z"
   },
   {
    "duration": 74,
    "start_time": "2021-11-29T20:32:23.877Z"
   },
   {
    "duration": 77,
    "start_time": "2021-11-29T20:32:23.953Z"
   },
   {
    "duration": 29,
    "start_time": "2021-11-29T20:32:24.032Z"
   },
   {
    "duration": 9,
    "start_time": "2021-11-29T20:32:24.063Z"
   },
   {
    "duration": 15,
    "start_time": "2021-11-29T20:32:24.073Z"
   },
   {
    "duration": 20,
    "start_time": "2021-11-29T20:32:24.090Z"
   },
   {
    "duration": 32,
    "start_time": "2021-11-29T20:32:24.112Z"
   },
   {
    "duration": 23,
    "start_time": "2021-11-29T20:32:24.149Z"
   },
   {
    "duration": 37,
    "start_time": "2021-11-29T20:32:24.175Z"
   },
   {
    "duration": 39,
    "start_time": "2021-11-29T20:32:24.214Z"
   },
   {
    "duration": 11,
    "start_time": "2021-11-29T20:32:24.254Z"
   },
   {
    "duration": 7,
    "start_time": "2021-11-29T20:32:24.267Z"
   },
   {
    "duration": 19,
    "start_time": "2021-11-29T20:32:24.275Z"
   },
   {
    "duration": 16,
    "start_time": "2021-11-29T20:32:24.296Z"
   },
   {
    "duration": 63,
    "start_time": "2021-11-29T20:32:24.313Z"
   },
   {
    "duration": 16,
    "start_time": "2021-11-29T20:32:24.378Z"
   },
   {
    "duration": 10,
    "start_time": "2021-11-29T20:32:24.395Z"
   },
   {
    "duration": 39,
    "start_time": "2021-11-29T20:32:24.407Z"
   },
   {
    "duration": 8,
    "start_time": "2021-11-29T20:32:24.447Z"
   },
   {
    "duration": 6,
    "start_time": "2021-11-29T20:32:24.456Z"
   },
   {
    "duration": 7,
    "start_time": "2021-11-29T20:32:24.463Z"
   },
   {
    "duration": 9,
    "start_time": "2021-11-29T20:32:24.471Z"
   },
   {
    "duration": 7,
    "start_time": "2021-11-29T20:32:24.481Z"
   },
   {
    "duration": 7,
    "start_time": "2021-11-29T20:32:24.490Z"
   },
   {
    "duration": 53,
    "start_time": "2021-11-29T20:32:24.499Z"
   },
   {
    "duration": 2,
    "start_time": "2021-11-29T20:32:24.554Z"
   },
   {
    "duration": 16,
    "start_time": "2021-11-29T20:32:24.558Z"
   },
   {
    "duration": 3,
    "start_time": "2021-11-29T20:32:24.575Z"
   },
   {
    "duration": 18,
    "start_time": "2021-11-29T20:32:24.580Z"
   },
   {
    "duration": 4,
    "start_time": "2021-11-29T20:32:24.600Z"
   },
   {
    "duration": 47,
    "start_time": "2021-11-29T20:32:24.606Z"
   },
   {
    "duration": 4,
    "start_time": "2021-11-29T20:32:24.655Z"
   },
   {
    "duration": 14,
    "start_time": "2021-11-29T20:32:24.660Z"
   },
   {
    "duration": 5,
    "start_time": "2021-11-29T20:32:24.676Z"
   },
   {
    "duration": 14,
    "start_time": "2021-11-29T20:32:24.682Z"
   },
   {
    "duration": 6,
    "start_time": "2021-11-29T20:32:24.698Z"
   },
   {
    "duration": 253,
    "start_time": "2021-11-29T20:32:24.706Z"
   },
   {
    "duration": 20,
    "start_time": "2021-11-29T20:32:24.961Z"
   },
   {
    "duration": 1221,
    "start_time": "2021-11-30T16:57:18.026Z"
   },
   {
    "duration": 537,
    "start_time": "2021-11-30T16:57:22.041Z"
   },
   {
    "duration": 168,
    "start_time": "2021-11-30T16:57:22.580Z"
   },
   {
    "duration": 12,
    "start_time": "2021-11-30T16:57:22.750Z"
   },
   {
    "duration": 24,
    "start_time": "2021-11-30T16:57:22.763Z"
   },
   {
    "duration": 116,
    "start_time": "2021-11-30T16:57:22.789Z"
   },
   {
    "duration": 7,
    "start_time": "2021-11-30T16:57:22.907Z"
   },
   {
    "duration": 16,
    "start_time": "2021-11-30T16:57:22.916Z"
   },
   {
    "duration": 76,
    "start_time": "2021-11-30T16:57:22.935Z"
   },
   {
    "duration": 7,
    "start_time": "2021-11-30T16:57:23.013Z"
   },
   {
    "duration": 18,
    "start_time": "2021-11-30T16:57:23.021Z"
   },
   {
    "duration": 16,
    "start_time": "2021-11-30T16:57:23.040Z"
   },
   {
    "duration": 9,
    "start_time": "2021-11-30T16:57:23.057Z"
   },
   {
    "duration": 9,
    "start_time": "2021-11-30T16:57:23.067Z"
   },
   {
    "duration": 27,
    "start_time": "2021-11-30T16:57:23.077Z"
   },
   {
    "duration": 8,
    "start_time": "2021-11-30T16:57:23.106Z"
   },
   {
    "duration": 7,
    "start_time": "2021-11-30T16:57:23.116Z"
   },
   {
    "duration": 14,
    "start_time": "2021-11-30T16:57:23.125Z"
   },
   {
    "duration": 21,
    "start_time": "2021-11-30T16:57:23.140Z"
   },
   {
    "duration": 33,
    "start_time": "2021-11-30T16:57:23.162Z"
   },
   {
    "duration": 65,
    "start_time": "2021-11-30T16:57:23.197Z"
   },
   {
    "duration": 89,
    "start_time": "2021-11-30T16:57:23.263Z"
   },
   {
    "duration": 20,
    "start_time": "2021-11-30T16:57:23.354Z"
   },
   {
    "duration": 15,
    "start_time": "2021-11-30T16:57:23.378Z"
   },
   {
    "duration": 12,
    "start_time": "2021-11-30T16:57:23.395Z"
   },
   {
    "duration": 14,
    "start_time": "2021-11-30T16:57:23.408Z"
   },
   {
    "duration": 8,
    "start_time": "2021-11-30T16:57:23.424Z"
   },
   {
    "duration": 26,
    "start_time": "2021-11-30T16:57:23.433Z"
   },
   {
    "duration": 56,
    "start_time": "2021-11-30T16:57:23.460Z"
   },
   {
    "duration": 16,
    "start_time": "2021-11-30T16:57:23.517Z"
   },
   {
    "duration": 8,
    "start_time": "2021-11-30T16:57:23.534Z"
   },
   {
    "duration": 8,
    "start_time": "2021-11-30T16:57:23.543Z"
   },
   {
    "duration": 36,
    "start_time": "2021-11-30T16:57:23.552Z"
   },
   {
    "duration": 15,
    "start_time": "2021-11-30T16:57:23.589Z"
   },
   {
    "duration": 30,
    "start_time": "2021-11-30T16:57:23.606Z"
   },
   {
    "duration": 14,
    "start_time": "2021-11-30T16:57:23.637Z"
   },
   {
    "duration": 7,
    "start_time": "2021-11-30T16:57:23.652Z"
   },
   {
    "duration": 30,
    "start_time": "2021-11-30T16:57:23.660Z"
   },
   {
    "duration": 7,
    "start_time": "2021-11-30T16:57:23.691Z"
   },
   {
    "duration": 5,
    "start_time": "2021-11-30T16:57:23.699Z"
   },
   {
    "duration": 8,
    "start_time": "2021-11-30T16:57:23.705Z"
   },
   {
    "duration": 8,
    "start_time": "2021-11-30T16:57:23.714Z"
   },
   {
    "duration": 6,
    "start_time": "2021-11-30T16:57:23.723Z"
   },
   {
    "duration": 7,
    "start_time": "2021-11-30T16:57:23.731Z"
   },
   {
    "duration": 19,
    "start_time": "2021-11-30T16:57:23.739Z"
   },
   {
    "duration": 29,
    "start_time": "2021-11-30T16:57:23.759Z"
   },
   {
    "duration": 18,
    "start_time": "2021-11-30T16:57:23.789Z"
   },
   {
    "duration": 2,
    "start_time": "2021-11-30T16:57:23.809Z"
   },
   {
    "duration": 18,
    "start_time": "2021-11-30T16:57:23.812Z"
   },
   {
    "duration": 3,
    "start_time": "2021-11-30T16:57:23.831Z"
   },
   {
    "duration": 20,
    "start_time": "2021-11-30T16:57:23.835Z"
   },
   {
    "duration": 4,
    "start_time": "2021-11-30T16:57:23.856Z"
   },
   {
    "duration": 7,
    "start_time": "2021-11-30T16:57:23.862Z"
   },
   {
    "duration": 4,
    "start_time": "2021-11-30T16:57:23.888Z"
   },
   {
    "duration": 6,
    "start_time": "2021-11-30T16:57:23.894Z"
   },
   {
    "duration": 3,
    "start_time": "2021-11-30T16:57:23.902Z"
   },
   {
    "duration": 232,
    "start_time": "2021-11-30T16:57:23.907Z"
   },
   {
    "duration": 17,
    "start_time": "2021-11-30T16:57:24.141Z"
   },
   {
    "duration": 43,
    "start_time": "2021-11-30T16:57:24.160Z"
   },
   {
    "duration": 30,
    "start_time": "2021-11-30T16:57:48.304Z"
   },
   {
    "duration": 18,
    "start_time": "2021-11-30T16:58:53.687Z"
   },
   {
    "duration": 16,
    "start_time": "2021-11-30T17:00:03.484Z"
   },
   {
    "duration": 57,
    "start_time": "2021-11-30T17:00:43.891Z"
   },
   {
    "duration": 5834,
    "start_time": "2021-11-30T17:01:00.680Z"
   },
   {
    "duration": 77,
    "start_time": "2021-11-30T17:01:18.077Z"
   },
   {
    "duration": 29,
    "start_time": "2021-11-30T17:01:29.868Z"
   },
   {
    "duration": 570,
    "start_time": "2021-11-30T17:27:57.664Z"
   },
   {
    "duration": 139,
    "start_time": "2021-11-30T17:27:58.235Z"
   },
   {
    "duration": 7,
    "start_time": "2021-11-30T17:27:58.376Z"
   },
   {
    "duration": 20,
    "start_time": "2021-11-30T17:27:58.385Z"
   },
   {
    "duration": 119,
    "start_time": "2021-11-30T17:27:58.407Z"
   },
   {
    "duration": 8,
    "start_time": "2021-11-30T17:27:58.528Z"
   },
   {
    "duration": 18,
    "start_time": "2021-11-30T17:27:58.537Z"
   },
   {
    "duration": 118,
    "start_time": "2021-11-30T17:27:58.558Z"
   },
   {
    "duration": 9,
    "start_time": "2021-11-30T17:27:58.679Z"
   },
   {
    "duration": 22,
    "start_time": "2021-11-30T17:27:58.690Z"
   },
   {
    "duration": 16,
    "start_time": "2021-11-30T17:27:58.713Z"
   },
   {
    "duration": 11,
    "start_time": "2021-11-30T17:27:58.730Z"
   },
   {
    "duration": 8,
    "start_time": "2021-11-30T17:27:58.742Z"
   },
   {
    "duration": 27,
    "start_time": "2021-11-30T17:27:58.752Z"
   },
   {
    "duration": 11,
    "start_time": "2021-11-30T17:27:58.780Z"
   },
   {
    "duration": 8,
    "start_time": "2021-11-30T17:27:58.793Z"
   },
   {
    "duration": 9,
    "start_time": "2021-11-30T17:27:58.802Z"
   },
   {
    "duration": 21,
    "start_time": "2021-11-30T17:27:58.812Z"
   },
   {
    "duration": 27,
    "start_time": "2021-11-30T17:27:58.834Z"
   },
   {
    "duration": 59,
    "start_time": "2021-11-30T17:27:58.888Z"
   },
   {
    "duration": 92,
    "start_time": "2021-11-30T17:27:58.948Z"
   },
   {
    "duration": 20,
    "start_time": "2021-11-30T17:27:59.042Z"
   },
   {
    "duration": 9,
    "start_time": "2021-11-30T17:27:59.065Z"
   },
   {
    "duration": 26,
    "start_time": "2021-11-30T17:27:59.076Z"
   },
   {
    "duration": 16,
    "start_time": "2021-11-30T17:27:59.104Z"
   },
   {
    "duration": 6,
    "start_time": "2021-11-30T17:27:59.122Z"
   },
   {
    "duration": 22,
    "start_time": "2021-11-30T17:27:59.129Z"
   },
   {
    "duration": 62,
    "start_time": "2021-11-30T17:27:59.152Z"
   },
   {
    "duration": 19,
    "start_time": "2021-11-30T17:27:59.215Z"
   },
   {
    "duration": 10,
    "start_time": "2021-11-30T17:27:59.235Z"
   },
   {
    "duration": 9,
    "start_time": "2021-11-30T17:27:59.247Z"
   },
   {
    "duration": 42,
    "start_time": "2021-11-30T17:27:59.257Z"
   },
   {
    "duration": 23,
    "start_time": "2021-11-30T17:27:59.301Z"
   },
   {
    "duration": 43,
    "start_time": "2021-11-30T17:27:59.325Z"
   },
   {
    "duration": 18,
    "start_time": "2021-11-30T17:27:59.388Z"
   },
   {
    "duration": 11,
    "start_time": "2021-11-30T17:27:59.408Z"
   },
   {
    "duration": 10,
    "start_time": "2021-11-30T17:27:59.420Z"
   },
   {
    "duration": 9,
    "start_time": "2021-11-30T17:27:59.432Z"
   },
   {
    "duration": 9,
    "start_time": "2021-11-30T17:27:59.443Z"
   },
   {
    "duration": 34,
    "start_time": "2021-11-30T17:27:59.454Z"
   },
   {
    "duration": 10,
    "start_time": "2021-11-30T17:27:59.490Z"
   },
   {
    "duration": 6,
    "start_time": "2021-11-30T17:27:59.502Z"
   },
   {
    "duration": 8,
    "start_time": "2021-11-30T17:27:59.510Z"
   },
   {
    "duration": 20,
    "start_time": "2021-11-30T17:27:59.520Z"
   },
   {
    "duration": 7,
    "start_time": "2021-11-30T17:27:59.542Z"
   },
   {
    "duration": 48,
    "start_time": "2021-11-30T17:27:59.551Z"
   },
   {
    "duration": 2,
    "start_time": "2021-11-30T17:27:59.601Z"
   },
   {
    "duration": 39,
    "start_time": "2021-11-30T17:27:59.605Z"
   },
   {
    "duration": 3,
    "start_time": "2021-11-30T17:27:59.646Z"
   },
   {
    "duration": 39,
    "start_time": "2021-11-30T17:27:59.651Z"
   },
   {
    "duration": 5,
    "start_time": "2021-11-30T17:27:59.692Z"
   },
   {
    "duration": 13,
    "start_time": "2021-11-30T17:27:59.698Z"
   },
   {
    "duration": 13,
    "start_time": "2021-11-30T17:27:59.712Z"
   },
   {
    "duration": 18,
    "start_time": "2021-11-30T17:27:59.727Z"
   },
   {
    "duration": 18,
    "start_time": "2021-11-30T17:27:59.746Z"
   },
   {
    "duration": 246,
    "start_time": "2021-11-30T17:27:59.765Z"
   },
   {
    "duration": 18,
    "start_time": "2021-11-30T17:28:00.013Z"
   },
   {
    "duration": 30,
    "start_time": "2021-11-30T17:28:00.032Z"
   },
   {
    "duration": 6,
    "start_time": "2021-11-30T17:36:20.574Z"
   },
   {
    "duration": 6,
    "start_time": "2021-11-30T17:36:25.936Z"
   },
   {
    "duration": 24,
    "start_time": "2021-11-30T17:36:29.636Z"
   },
   {
    "duration": 80,
    "start_time": "2021-11-30T17:43:57.927Z"
   },
   {
    "duration": 4,
    "start_time": "2021-11-30T18:39:50.406Z"
   },
   {
    "duration": 278,
    "start_time": "2021-11-30T18:40:10.294Z"
   },
   {
    "duration": 229,
    "start_time": "2021-11-30T18:40:18.680Z"
   },
   {
    "duration": 263,
    "start_time": "2021-11-30T18:40:23.692Z"
   },
   {
    "duration": 3,
    "start_time": "2021-11-30T18:40:41.045Z"
   },
   {
    "duration": 3,
    "start_time": "2021-11-30T18:40:44.424Z"
   },
   {
    "duration": 199,
    "start_time": "2021-11-30T18:40:44.429Z"
   },
   {
    "duration": 9,
    "start_time": "2021-11-30T18:40:44.630Z"
   },
   {
    "duration": 53,
    "start_time": "2021-11-30T18:40:44.642Z"
   },
   {
    "duration": 114,
    "start_time": "2021-11-30T18:40:44.697Z"
   },
   {
    "duration": 8,
    "start_time": "2021-11-30T18:40:44.812Z"
   },
   {
    "duration": 23,
    "start_time": "2021-11-30T18:40:44.821Z"
   },
   {
    "duration": 78,
    "start_time": "2021-11-30T18:40:44.846Z"
   },
   {
    "duration": 6,
    "start_time": "2021-11-30T18:40:44.927Z"
   },
   {
    "duration": 22,
    "start_time": "2021-11-30T18:40:44.935Z"
   },
   {
    "duration": 16,
    "start_time": "2021-11-30T18:40:44.959Z"
   },
   {
    "duration": 10,
    "start_time": "2021-11-30T18:40:44.977Z"
   },
   {
    "duration": 10,
    "start_time": "2021-11-30T18:40:44.988Z"
   },
   {
    "duration": 41,
    "start_time": "2021-11-30T18:40:44.999Z"
   },
   {
    "duration": 13,
    "start_time": "2021-11-30T18:40:45.042Z"
   },
   {
    "duration": 20,
    "start_time": "2021-11-30T18:40:45.056Z"
   },
   {
    "duration": 12,
    "start_time": "2021-11-30T18:40:45.077Z"
   },
   {
    "duration": 29,
    "start_time": "2021-11-30T18:40:45.090Z"
   },
   {
    "duration": 25,
    "start_time": "2021-11-30T18:40:45.120Z"
   },
   {
    "duration": 112,
    "start_time": "2021-11-30T18:40:45.147Z"
   },
   {
    "duration": 102,
    "start_time": "2021-11-30T18:40:45.261Z"
   },
   {
    "duration": 29,
    "start_time": "2021-11-30T18:40:45.365Z"
   },
   {
    "duration": 8,
    "start_time": "2021-11-30T18:40:45.396Z"
   },
   {
    "duration": 12,
    "start_time": "2021-11-30T18:40:45.408Z"
   },
   {
    "duration": 16,
    "start_time": "2021-11-30T18:40:45.422Z"
   },
   {
    "duration": 6,
    "start_time": "2021-11-30T18:40:45.439Z"
   },
   {
    "duration": 47,
    "start_time": "2021-11-30T18:40:45.446Z"
   },
   {
    "duration": 31,
    "start_time": "2021-11-30T18:40:45.495Z"
   },
   {
    "duration": 16,
    "start_time": "2021-11-30T18:40:45.527Z"
   },
   {
    "duration": 8,
    "start_time": "2021-11-30T18:40:45.545Z"
   },
   {
    "duration": 34,
    "start_time": "2021-11-30T18:40:45.555Z"
   },
   {
    "duration": 13,
    "start_time": "2021-11-30T18:40:45.590Z"
   },
   {
    "duration": 26,
    "start_time": "2021-11-30T18:40:45.604Z"
   },
   {
    "duration": 66,
    "start_time": "2021-11-30T18:40:45.632Z"
   },
   {
    "duration": 13,
    "start_time": "2021-11-30T18:40:45.700Z"
   },
   {
    "duration": 8,
    "start_time": "2021-11-30T18:40:45.715Z"
   },
   {
    "duration": 16,
    "start_time": "2021-11-30T18:40:45.724Z"
   },
   {
    "duration": 7,
    "start_time": "2021-11-30T18:40:45.742Z"
   },
   {
    "duration": 6,
    "start_time": "2021-11-30T18:40:45.750Z"
   },
   {
    "duration": 9,
    "start_time": "2021-11-30T18:40:45.757Z"
   },
   {
    "duration": 9,
    "start_time": "2021-11-30T18:40:45.767Z"
   },
   {
    "duration": 5,
    "start_time": "2021-11-30T18:40:45.787Z"
   },
   {
    "duration": 13,
    "start_time": "2021-11-30T18:40:45.794Z"
   },
   {
    "duration": 19,
    "start_time": "2021-11-30T18:40:45.808Z"
   },
   {
    "duration": 3,
    "start_time": "2021-11-30T18:40:45.828Z"
   },
   {
    "duration": 16,
    "start_time": "2021-11-30T18:40:45.832Z"
   },
   {
    "duration": 2,
    "start_time": "2021-11-30T18:40:45.849Z"
   },
   {
    "duration": 35,
    "start_time": "2021-11-30T18:40:45.853Z"
   },
   {
    "duration": 2,
    "start_time": "2021-11-30T18:40:45.889Z"
   },
   {
    "duration": 17,
    "start_time": "2021-11-30T18:40:45.893Z"
   },
   {
    "duration": 4,
    "start_time": "2021-11-30T18:40:45.911Z"
   },
   {
    "duration": 7,
    "start_time": "2021-11-30T18:40:45.917Z"
   },
   {
    "duration": 4,
    "start_time": "2021-11-30T18:40:45.925Z"
   },
   {
    "duration": 7,
    "start_time": "2021-11-30T18:40:45.931Z"
   },
   {
    "duration": 240,
    "start_time": "2021-11-30T18:40:45.939Z"
   },
   {
    "duration": 144351,
    "start_time": "2021-11-30T18:38:21.829Z"
   },
   {
    "duration": 144346,
    "start_time": "2021-11-30T18:38:21.835Z"
   },
   {
    "duration": 144337,
    "start_time": "2021-11-30T18:38:21.845Z"
   },
   {
    "duration": 144330,
    "start_time": "2021-11-30T18:38:21.853Z"
   },
   {
    "duration": 3,
    "start_time": "2021-11-30T18:41:40.860Z"
   },
   {
    "duration": 154,
    "start_time": "2021-11-30T18:41:40.865Z"
   },
   {
    "duration": 11,
    "start_time": "2021-11-30T18:41:41.021Z"
   },
   {
    "duration": 54,
    "start_time": "2021-11-30T18:41:41.035Z"
   },
   {
    "duration": 116,
    "start_time": "2021-11-30T18:41:41.091Z"
   },
   {
    "duration": 7,
    "start_time": "2021-11-30T18:41:41.208Z"
   },
   {
    "duration": 17,
    "start_time": "2021-11-30T18:41:41.217Z"
   },
   {
    "duration": 77,
    "start_time": "2021-11-30T18:41:41.236Z"
   },
   {
    "duration": 7,
    "start_time": "2021-11-30T18:41:41.315Z"
   },
   {
    "duration": 15,
    "start_time": "2021-11-30T18:41:41.323Z"
   },
   {
    "duration": 16,
    "start_time": "2021-11-30T18:41:41.340Z"
   },
   {
    "duration": 11,
    "start_time": "2021-11-30T18:41:41.357Z"
   },
   {
    "duration": 18,
    "start_time": "2021-11-30T18:41:41.369Z"
   },
   {
    "duration": 27,
    "start_time": "2021-11-30T18:41:41.389Z"
   },
   {
    "duration": 10,
    "start_time": "2021-11-30T18:41:41.418Z"
   },
   {
    "duration": 7,
    "start_time": "2021-11-30T18:41:41.430Z"
   },
   {
    "duration": 9,
    "start_time": "2021-11-30T18:41:41.438Z"
   },
   {
    "duration": 21,
    "start_time": "2021-11-30T18:41:41.448Z"
   },
   {
    "duration": 35,
    "start_time": "2021-11-30T18:41:41.472Z"
   },
   {
    "duration": 109,
    "start_time": "2021-11-30T18:41:41.509Z"
   },
   {
    "duration": 84,
    "start_time": "2021-11-30T18:41:41.620Z"
   },
   {
    "duration": 20,
    "start_time": "2021-11-30T18:41:41.705Z"
   },
   {
    "duration": 7,
    "start_time": "2021-11-30T18:41:41.727Z"
   },
   {
    "duration": 13,
    "start_time": "2021-11-30T18:41:41.735Z"
   },
   {
    "duration": 53,
    "start_time": "2021-11-30T18:41:41.750Z"
   },
   {
    "duration": 8,
    "start_time": "2021-11-30T18:41:41.805Z"
   },
   {
    "duration": 30,
    "start_time": "2021-11-30T18:41:41.815Z"
   },
   {
    "duration": 61,
    "start_time": "2021-11-30T18:41:41.848Z"
   },
   {
    "duration": 21,
    "start_time": "2021-11-30T18:41:41.912Z"
   },
   {
    "duration": 9,
    "start_time": "2021-11-30T18:41:41.935Z"
   },
   {
    "duration": 7,
    "start_time": "2021-11-30T18:41:41.946Z"
   },
   {
    "duration": 40,
    "start_time": "2021-11-30T18:41:41.955Z"
   },
   {
    "duration": 17,
    "start_time": "2021-11-30T18:41:41.997Z"
   },
   {
    "duration": 31,
    "start_time": "2021-11-30T18:41:42.015Z"
   },
   {
    "duration": 13,
    "start_time": "2021-11-30T18:41:42.048Z"
   },
   {
    "duration": 26,
    "start_time": "2021-11-30T18:41:42.062Z"
   },
   {
    "duration": 8,
    "start_time": "2021-11-30T18:41:42.090Z"
   },
   {
    "duration": 16,
    "start_time": "2021-11-30T18:41:42.100Z"
   },
   {
    "duration": 8,
    "start_time": "2021-11-30T18:41:42.118Z"
   },
   {
    "duration": 8,
    "start_time": "2021-11-30T18:41:42.127Z"
   },
   {
    "duration": 11,
    "start_time": "2021-11-30T18:41:42.137Z"
   },
   {
    "duration": 6,
    "start_time": "2021-11-30T18:41:42.150Z"
   },
   {
    "duration": 33,
    "start_time": "2021-11-30T18:41:42.158Z"
   },
   {
    "duration": 19,
    "start_time": "2021-11-30T18:41:42.192Z"
   },
   {
    "duration": 3,
    "start_time": "2021-11-30T18:41:42.212Z"
   },
   {
    "duration": 14,
    "start_time": "2021-11-30T18:41:42.217Z"
   },
   {
    "duration": 3,
    "start_time": "2021-11-30T18:41:42.232Z"
   },
   {
    "duration": 16,
    "start_time": "2021-11-30T18:41:42.236Z"
   },
   {
    "duration": 2,
    "start_time": "2021-11-30T18:41:42.254Z"
   },
   {
    "duration": 41,
    "start_time": "2021-11-30T18:41:42.257Z"
   },
   {
    "duration": 4,
    "start_time": "2021-11-30T18:41:42.299Z"
   },
   {
    "duration": 8,
    "start_time": "2021-11-30T18:41:42.305Z"
   },
   {
    "duration": 4,
    "start_time": "2021-11-30T18:41:42.315Z"
   },
   {
    "duration": 9,
    "start_time": "2021-11-30T18:41:42.320Z"
   },
   {
    "duration": 43,
    "start_time": "2021-11-30T18:41:42.333Z"
   },
   {
    "duration": 220,
    "start_time": "2021-11-30T18:41:42.378Z"
   },
   {
    "duration": 29,
    "start_time": "2021-11-30T18:41:42.599Z"
   },
   {
    "duration": 8,
    "start_time": "2021-11-30T18:41:42.630Z"
   },
   {
    "duration": 4,
    "start_time": "2021-11-30T18:41:42.641Z"
   },
   {
    "duration": 8,
    "start_time": "2021-11-30T18:43:03.415Z"
   },
   {
    "duration": 3,
    "start_time": "2021-11-30T18:43:58.518Z"
   },
   {
    "duration": 133,
    "start_time": "2021-11-30T18:43:58.523Z"
   },
   {
    "duration": 8,
    "start_time": "2021-11-30T18:43:58.657Z"
   },
   {
    "duration": 40,
    "start_time": "2021-11-30T18:43:58.667Z"
   },
   {
    "duration": 124,
    "start_time": "2021-11-30T18:43:58.708Z"
   },
   {
    "duration": 9,
    "start_time": "2021-11-30T18:43:58.833Z"
   },
   {
    "duration": 17,
    "start_time": "2021-11-30T18:43:58.845Z"
   },
   {
    "duration": 110,
    "start_time": "2021-11-30T18:43:58.864Z"
   },
   {
    "duration": 13,
    "start_time": "2021-11-30T18:43:58.976Z"
   },
   {
    "duration": 15,
    "start_time": "2021-11-30T18:43:58.991Z"
   },
   {
    "duration": 15,
    "start_time": "2021-11-30T18:43:59.008Z"
   },
   {
    "duration": 10,
    "start_time": "2021-11-30T18:43:59.025Z"
   },
   {
    "duration": 7,
    "start_time": "2021-11-30T18:43:59.036Z"
   },
   {
    "duration": 29,
    "start_time": "2021-11-30T18:43:59.045Z"
   },
   {
    "duration": 9,
    "start_time": "2021-11-30T18:43:59.076Z"
   },
   {
    "duration": 9,
    "start_time": "2021-11-30T18:43:59.087Z"
   },
   {
    "duration": 9,
    "start_time": "2021-11-30T18:43:59.098Z"
   },
   {
    "duration": 21,
    "start_time": "2021-11-30T18:43:59.109Z"
   },
   {
    "duration": 55,
    "start_time": "2021-11-30T18:43:59.133Z"
   },
   {
    "duration": 63,
    "start_time": "2021-11-30T18:43:59.191Z"
   },
   {
    "duration": 93,
    "start_time": "2021-11-30T18:43:59.256Z"
   },
   {
    "duration": 21,
    "start_time": "2021-11-30T18:43:59.351Z"
   },
   {
    "duration": 17,
    "start_time": "2021-11-30T18:43:59.373Z"
   },
   {
    "duration": 18,
    "start_time": "2021-11-30T18:43:59.392Z"
   },
   {
    "duration": 26,
    "start_time": "2021-11-30T18:43:59.412Z"
   },
   {
    "duration": 7,
    "start_time": "2021-11-30T18:43:59.440Z"
   },
   {
    "duration": 49,
    "start_time": "2021-11-30T18:43:59.448Z"
   },
   {
    "duration": 38,
    "start_time": "2021-11-30T18:43:59.499Z"
   },
   {
    "duration": 16,
    "start_time": "2021-11-30T18:43:59.539Z"
   },
   {
    "duration": 9,
    "start_time": "2021-11-30T18:43:59.556Z"
   },
   {
    "duration": 29,
    "start_time": "2021-11-30T18:43:59.566Z"
   },
   {
    "duration": 14,
    "start_time": "2021-11-30T18:43:59.597Z"
   },
   {
    "duration": 16,
    "start_time": "2021-11-30T18:43:59.613Z"
   },
   {
    "duration": 65,
    "start_time": "2021-11-30T18:43:59.630Z"
   },
   {
    "duration": 14,
    "start_time": "2021-11-30T18:43:59.697Z"
   },
   {
    "duration": 8,
    "start_time": "2021-11-30T18:43:59.712Z"
   },
   {
    "duration": 10,
    "start_time": "2021-11-30T18:43:59.722Z"
   },
   {
    "duration": 8,
    "start_time": "2021-11-30T18:43:59.733Z"
   },
   {
    "duration": 6,
    "start_time": "2021-11-30T18:43:59.742Z"
   },
   {
    "duration": 39,
    "start_time": "2021-11-30T18:43:59.750Z"
   },
   {
    "duration": 9,
    "start_time": "2021-11-30T18:43:59.791Z"
   },
   {
    "duration": 9,
    "start_time": "2021-11-30T18:43:59.802Z"
   },
   {
    "duration": 9,
    "start_time": "2021-11-30T18:43:59.813Z"
   },
   {
    "duration": 30,
    "start_time": "2021-11-30T18:43:59.823Z"
   },
   {
    "duration": 3,
    "start_time": "2021-11-30T18:43:59.855Z"
   },
   {
    "duration": 44,
    "start_time": "2021-11-30T18:43:59.860Z"
   },
   {
    "duration": 3,
    "start_time": "2021-11-30T18:43:59.906Z"
   },
   {
    "duration": 25,
    "start_time": "2021-11-30T18:43:59.911Z"
   },
   {
    "duration": 3,
    "start_time": "2021-11-30T18:43:59.938Z"
   },
   {
    "duration": 47,
    "start_time": "2021-11-30T18:43:59.943Z"
   },
   {
    "duration": 6,
    "start_time": "2021-11-30T18:43:59.992Z"
   },
   {
    "duration": 10,
    "start_time": "2021-11-30T18:44:00.000Z"
   },
   {
    "duration": 16,
    "start_time": "2021-11-30T18:44:00.012Z"
   },
   {
    "duration": 13,
    "start_time": "2021-11-30T18:44:00.030Z"
   },
   {
    "duration": 5,
    "start_time": "2021-11-30T18:44:00.049Z"
   },
   {
    "duration": 434,
    "start_time": "2021-11-30T18:44:00.057Z"
   },
   {
    "duration": 30,
    "start_time": "2021-11-30T18:44:00.493Z"
   },
   {
    "duration": 7,
    "start_time": "2021-11-30T18:44:00.525Z"
   },
   {
    "duration": 9,
    "start_time": "2021-11-30T18:44:00.534Z"
   },
   {
    "duration": 83,
    "start_time": "2021-11-30T18:44:00.544Z"
   },
   {
    "duration": 6,
    "start_time": "2021-11-30T18:44:16.799Z"
   },
   {
    "duration": 227,
    "start_time": "2021-11-30T18:44:20.393Z"
   },
   {
    "duration": 165,
    "start_time": "2021-11-30T18:45:30.824Z"
   },
   {
    "duration": 6,
    "start_time": "2021-11-30T18:51:01.043Z"
   },
   {
    "duration": 6183,
    "start_time": "2021-11-30T18:52:06.313Z"
   },
   {
    "duration": 6486,
    "start_time": "2021-11-30T18:52:32.124Z"
   },
   {
    "duration": 5987,
    "start_time": "2021-11-30T18:53:12.257Z"
   },
   {
    "duration": 260,
    "start_time": "2021-11-30T18:56:13.873Z"
   },
   {
    "duration": 6,
    "start_time": "2021-11-30T18:57:27.973Z"
   },
   {
    "duration": 4,
    "start_time": "2021-11-30T18:57:30.069Z"
   },
   {
    "duration": 9,
    "start_time": "2021-11-30T18:57:33.443Z"
   },
   {
    "duration": 6,
    "start_time": "2021-11-30T18:57:54.434Z"
   },
   {
    "duration": 2,
    "start_time": "2021-11-30T18:58:20.334Z"
   },
   {
    "duration": 8,
    "start_time": "2021-11-30T18:58:26.521Z"
   },
   {
    "duration": 10,
    "start_time": "2021-11-30T18:58:35.296Z"
   },
   {
    "duration": 6,
    "start_time": "2021-11-30T18:58:48.165Z"
   },
   {
    "duration": 11,
    "start_time": "2021-11-30T18:58:55.291Z"
   },
   {
    "duration": 5,
    "start_time": "2021-11-30T18:59:09.010Z"
   },
   {
    "duration": 8,
    "start_time": "2021-11-30T18:59:21.105Z"
   },
   {
    "duration": 872,
    "start_time": "2021-11-30T18:59:44.638Z"
   },
   {
    "duration": 776,
    "start_time": "2021-11-30T19:00:22.894Z"
   },
   {
    "duration": 473,
    "start_time": "2021-11-30T19:01:05.885Z"
   },
   {
    "duration": 519,
    "start_time": "2021-11-30T19:01:29.304Z"
   },
   {
    "duration": 555,
    "start_time": "2021-11-30T19:01:43.053Z"
   },
   {
    "duration": 3,
    "start_time": "2021-11-30T19:02:15.545Z"
   },
   {
    "duration": 148,
    "start_time": "2021-11-30T19:02:15.550Z"
   },
   {
    "duration": 7,
    "start_time": "2021-11-30T19:02:15.700Z"
   },
   {
    "duration": 22,
    "start_time": "2021-11-30T19:02:15.709Z"
   },
   {
    "duration": 130,
    "start_time": "2021-11-30T19:02:15.732Z"
   },
   {
    "duration": 8,
    "start_time": "2021-11-30T19:02:15.863Z"
   },
   {
    "duration": 25,
    "start_time": "2021-11-30T19:02:15.873Z"
   },
   {
    "duration": 84,
    "start_time": "2021-11-30T19:02:15.900Z"
   },
   {
    "duration": 7,
    "start_time": "2021-11-30T19:02:15.985Z"
   },
   {
    "duration": 16,
    "start_time": "2021-11-30T19:02:15.993Z"
   },
   {
    "duration": 16,
    "start_time": "2021-11-30T19:02:16.011Z"
   },
   {
    "duration": 11,
    "start_time": "2021-11-30T19:02:16.029Z"
   },
   {
    "duration": 7,
    "start_time": "2021-11-30T19:02:16.042Z"
   },
   {
    "duration": 33,
    "start_time": "2021-11-30T19:02:16.050Z"
   },
   {
    "duration": 9,
    "start_time": "2021-11-30T19:02:16.084Z"
   },
   {
    "duration": 7,
    "start_time": "2021-11-30T19:02:16.095Z"
   },
   {
    "duration": 9,
    "start_time": "2021-11-30T19:02:16.103Z"
   },
   {
    "duration": 20,
    "start_time": "2021-11-30T19:02:16.113Z"
   },
   {
    "duration": 24,
    "start_time": "2021-11-30T19:02:16.136Z"
   },
   {
    "duration": 76,
    "start_time": "2021-11-30T19:02:16.163Z"
   },
   {
    "duration": 87,
    "start_time": "2021-11-30T19:02:16.241Z"
   },
   {
    "duration": 21,
    "start_time": "2021-11-30T19:02:16.330Z"
   },
   {
    "duration": 8,
    "start_time": "2021-11-30T19:02:16.352Z"
   },
   {
    "duration": 33,
    "start_time": "2021-11-30T19:02:16.361Z"
   },
   {
    "duration": 15,
    "start_time": "2021-11-30T19:02:16.395Z"
   },
   {
    "duration": 6,
    "start_time": "2021-11-30T19:02:16.411Z"
   },
   {
    "duration": 20,
    "start_time": "2021-11-30T19:02:16.418Z"
   },
   {
    "duration": 62,
    "start_time": "2021-11-30T19:02:16.440Z"
   },
   {
    "duration": 16,
    "start_time": "2021-11-30T19:02:16.504Z"
   },
   {
    "duration": 9,
    "start_time": "2021-11-30T19:02:16.522Z"
   },
   {
    "duration": 9,
    "start_time": "2021-11-30T19:02:16.533Z"
   },
   {
    "duration": 21,
    "start_time": "2021-11-30T19:02:16.544Z"
   },
   {
    "duration": 34,
    "start_time": "2021-11-30T19:02:16.567Z"
   },
   {
    "duration": 35,
    "start_time": "2021-11-30T19:02:16.603Z"
   },
   {
    "duration": 13,
    "start_time": "2021-11-30T19:02:16.640Z"
   },
   {
    "duration": 33,
    "start_time": "2021-11-30T19:02:16.655Z"
   },
   {
    "duration": 9,
    "start_time": "2021-11-30T19:02:16.690Z"
   },
   {
    "duration": 10,
    "start_time": "2021-11-30T19:02:16.701Z"
   },
   {
    "duration": 6,
    "start_time": "2021-11-30T19:02:16.712Z"
   },
   {
    "duration": 6,
    "start_time": "2021-11-30T19:02:16.720Z"
   },
   {
    "duration": 12,
    "start_time": "2021-11-30T19:02:16.728Z"
   },
   {
    "duration": 7,
    "start_time": "2021-11-30T19:02:16.742Z"
   },
   {
    "duration": 40,
    "start_time": "2021-11-30T19:02:16.751Z"
   },
   {
    "duration": 20,
    "start_time": "2021-11-30T19:02:16.792Z"
   },
   {
    "duration": 3,
    "start_time": "2021-11-30T19:02:16.813Z"
   },
   {
    "duration": 15,
    "start_time": "2021-11-30T19:02:16.818Z"
   },
   {
    "duration": 2,
    "start_time": "2021-11-30T19:02:16.835Z"
   },
   {
    "duration": 17,
    "start_time": "2021-11-30T19:02:16.839Z"
   },
   {
    "duration": 2,
    "start_time": "2021-11-30T19:02:16.858Z"
   },
   {
    "duration": 36,
    "start_time": "2021-11-30T19:02:16.861Z"
   },
   {
    "duration": 4,
    "start_time": "2021-11-30T19:02:16.899Z"
   },
   {
    "duration": 8,
    "start_time": "2021-11-30T19:02:16.905Z"
   },
   {
    "duration": 13,
    "start_time": "2021-11-30T19:02:16.915Z"
   },
   {
    "duration": 7,
    "start_time": "2021-11-30T19:02:16.929Z"
   },
   {
    "duration": 4,
    "start_time": "2021-11-30T19:02:16.940Z"
   },
   {
    "duration": 234,
    "start_time": "2021-11-30T19:02:16.946Z"
   },
   {
    "duration": 19,
    "start_time": "2021-11-30T19:02:17.182Z"
   },
   {
    "duration": 6,
    "start_time": "2021-11-30T19:02:17.202Z"
   },
   {
    "duration": 15,
    "start_time": "2021-11-30T19:02:17.209Z"
   },
   {
    "duration": 23,
    "start_time": "2021-11-30T19:02:17.225Z"
   },
   {
    "duration": 13,
    "start_time": "2021-11-30T19:02:17.250Z"
   },
   {
    "duration": 13,
    "start_time": "2021-11-30T19:02:17.265Z"
   },
   {
    "duration": 723,
    "start_time": "2021-11-30T19:02:17.280Z"
   },
   {
    "duration": 8,
    "start_time": "2021-11-30T19:04:17.074Z"
   },
   {
    "duration": 3,
    "start_time": "2021-11-30T19:04:17.788Z"
   },
   {
    "duration": 5,
    "start_time": "2021-11-30T19:04:18.469Z"
   },
   {
    "duration": 512,
    "start_time": "2021-11-30T19:04:19.141Z"
   },
   {
    "duration": 517,
    "start_time": "2021-11-30T19:04:29.172Z"
   },
   {
    "duration": 8,
    "start_time": "2021-11-30T19:10:48.176Z"
   },
   {
    "duration": 2,
    "start_time": "2021-11-30T19:10:50.082Z"
   },
   {
    "duration": 5,
    "start_time": "2021-11-30T19:10:51.042Z"
   },
   {
    "duration": 495,
    "start_time": "2021-11-30T19:10:51.670Z"
   },
   {
    "duration": 8,
    "start_time": "2021-11-30T19:15:36.033Z"
   },
   {
    "duration": 3,
    "start_time": "2021-11-30T19:15:38.891Z"
   },
   {
    "duration": 4,
    "start_time": "2021-11-30T19:15:41.419Z"
   },
   {
    "duration": 455,
    "start_time": "2021-11-30T19:15:42.105Z"
   },
   {
    "duration": 874,
    "start_time": "2021-11-30T19:16:27.461Z"
   },
   {
    "duration": 7,
    "start_time": "2021-11-30T19:16:31.092Z"
   },
   {
    "duration": 3,
    "start_time": "2021-11-30T19:16:32.297Z"
   },
   {
    "duration": 4,
    "start_time": "2021-11-30T19:16:34.883Z"
   },
   {
    "duration": 566,
    "start_time": "2021-11-30T19:16:44.063Z"
   },
   {
    "duration": 156,
    "start_time": "2021-11-30T19:24:48.179Z"
   },
   {
    "duration": 445,
    "start_time": "2021-11-30T19:25:13.292Z"
   },
   {
    "duration": 355,
    "start_time": "2021-11-30T19:25:47.829Z"
   },
   {
    "duration": 153,
    "start_time": "2021-11-30T19:25:54.440Z"
   },
   {
    "duration": 149,
    "start_time": "2021-11-30T19:26:27.805Z"
   },
   {
    "duration": 6050,
    "start_time": "2021-11-30T19:29:23.992Z"
   },
   {
    "duration": 197,
    "start_time": "2021-11-30T19:29:40.612Z"
   },
   {
    "duration": 507,
    "start_time": "2021-11-30T19:30:16.920Z"
   },
   {
    "duration": 603,
    "start_time": "2021-11-30T19:31:17.853Z"
   },
   {
    "duration": 691,
    "start_time": "2021-11-30T19:32:41.055Z"
   },
   {
    "duration": 674,
    "start_time": "2021-11-30T19:32:46.708Z"
   },
   {
    "duration": 596,
    "start_time": "2021-11-30T19:33:00.142Z"
   },
   {
    "duration": 797,
    "start_time": "2021-11-30T19:33:06.227Z"
   },
   {
    "duration": 646,
    "start_time": "2021-11-30T19:33:14.053Z"
   },
   {
    "duration": 602,
    "start_time": "2021-11-30T19:33:19.977Z"
   },
   {
    "duration": 707,
    "start_time": "2021-11-30T19:33:26.514Z"
   },
   {
    "duration": 43,
    "start_time": "2021-11-30T19:40:54.359Z"
   },
   {
    "duration": 34,
    "start_time": "2021-11-30T19:41:09.070Z"
   },
   {
    "duration": 34,
    "start_time": "2021-11-30T19:41:18.439Z"
   },
   {
    "duration": 2,
    "start_time": "2021-11-30T19:44:18.279Z"
   },
   {
    "duration": 270,
    "start_time": "2021-11-30T19:44:18.284Z"
   },
   {
    "duration": 11,
    "start_time": "2021-11-30T19:44:18.556Z"
   },
   {
    "duration": 34,
    "start_time": "2021-11-30T19:44:18.570Z"
   },
   {
    "duration": 403,
    "start_time": "2021-11-30T19:44:18.605Z"
   },
   {
    "duration": 10,
    "start_time": "2021-11-30T19:44:19.011Z"
   },
   {
    "duration": 19,
    "start_time": "2021-11-30T19:44:19.023Z"
   },
   {
    "duration": 382,
    "start_time": "2021-11-30T19:44:19.043Z"
   },
   {
    "duration": 6,
    "start_time": "2021-11-30T19:44:19.427Z"
   },
   {
    "duration": 16,
    "start_time": "2021-11-30T19:44:19.435Z"
   },
   {
    "duration": 38,
    "start_time": "2021-11-30T19:44:19.452Z"
   },
   {
    "duration": 8,
    "start_time": "2021-11-30T19:44:19.491Z"
   },
   {
    "duration": 8,
    "start_time": "2021-11-30T19:44:19.501Z"
   },
   {
    "duration": 32,
    "start_time": "2021-11-30T19:44:19.511Z"
   },
   {
    "duration": 12,
    "start_time": "2021-11-30T19:44:19.544Z"
   },
   {
    "duration": 6,
    "start_time": "2021-11-30T19:44:19.558Z"
   },
   {
    "duration": 9,
    "start_time": "2021-11-30T19:44:19.566Z"
   },
   {
    "duration": 28,
    "start_time": "2021-11-30T19:44:19.577Z"
   },
   {
    "duration": 25,
    "start_time": "2021-11-30T19:44:19.607Z"
   },
   {
    "duration": 126,
    "start_time": "2021-11-30T19:44:19.634Z"
   },
   {
    "duration": 120,
    "start_time": "2021-11-30T19:44:19.762Z"
   },
   {
    "duration": 29,
    "start_time": "2021-11-30T19:44:19.884Z"
   },
   {
    "duration": 12,
    "start_time": "2021-11-30T19:44:19.914Z"
   },
   {
    "duration": 17,
    "start_time": "2021-11-30T19:44:19.931Z"
   },
   {
    "duration": 47,
    "start_time": "2021-11-30T19:44:19.951Z"
   },
   {
    "duration": 9,
    "start_time": "2021-11-30T19:44:19.999Z"
   },
   {
    "duration": 34,
    "start_time": "2021-11-30T19:44:20.010Z"
   },
   {
    "duration": 76,
    "start_time": "2021-11-30T19:44:20.047Z"
   },
   {
    "duration": 20,
    "start_time": "2021-11-30T19:44:20.125Z"
   },
   {
    "duration": 11,
    "start_time": "2021-11-30T19:44:20.147Z"
   },
   {
    "duration": 11,
    "start_time": "2021-11-30T19:44:20.160Z"
   },
   {
    "duration": 22,
    "start_time": "2021-11-30T19:44:20.188Z"
   },
   {
    "duration": 24,
    "start_time": "2021-11-30T19:44:20.212Z"
   },
   {
    "duration": 69,
    "start_time": "2021-11-30T19:44:20.238Z"
   },
   {
    "duration": 18,
    "start_time": "2021-11-30T19:44:20.309Z"
   },
   {
    "duration": 11,
    "start_time": "2021-11-30T19:44:20.329Z"
   },
   {
    "duration": 15,
    "start_time": "2021-11-30T19:44:20.342Z"
   },
   {
    "duration": 30,
    "start_time": "2021-11-30T19:44:20.359Z"
   },
   {
    "duration": 5,
    "start_time": "2021-11-30T19:44:20.391Z"
   },
   {
    "duration": 8,
    "start_time": "2021-11-30T19:44:20.398Z"
   },
   {
    "duration": 12,
    "start_time": "2021-11-30T19:44:20.408Z"
   },
   {
    "duration": 6,
    "start_time": "2021-11-30T19:44:20.421Z"
   },
   {
    "duration": 8,
    "start_time": "2021-11-30T19:44:20.428Z"
   },
   {
    "duration": 23,
    "start_time": "2021-11-30T19:44:20.437Z"
   },
   {
    "duration": 4,
    "start_time": "2021-11-30T19:44:20.488Z"
   },
   {
    "duration": 20,
    "start_time": "2021-11-30T19:44:20.494Z"
   },
   {
    "duration": 3,
    "start_time": "2021-11-30T19:44:20.516Z"
   },
   {
    "duration": 24,
    "start_time": "2021-11-30T19:44:20.521Z"
   },
   {
    "duration": 4,
    "start_time": "2021-11-30T19:44:20.547Z"
   },
   {
    "duration": 46,
    "start_time": "2021-11-30T19:44:20.552Z"
   },
   {
    "duration": 5,
    "start_time": "2021-11-30T19:44:20.600Z"
   },
   {
    "duration": 11,
    "start_time": "2021-11-30T19:44:20.607Z"
   },
   {
    "duration": 5,
    "start_time": "2021-11-30T19:44:20.620Z"
   },
   {
    "duration": 13,
    "start_time": "2021-11-30T19:44:20.626Z"
   },
   {
    "duration": 6,
    "start_time": "2021-11-30T19:44:20.641Z"
   },
   {
    "duration": 421,
    "start_time": "2021-11-30T19:44:20.649Z"
   },
   {
    "duration": 33,
    "start_time": "2021-11-30T19:44:21.072Z"
   },
   {
    "duration": 8,
    "start_time": "2021-11-30T19:44:21.107Z"
   },
   {
    "duration": 4,
    "start_time": "2021-11-30T19:44:21.117Z"
   },
   {
    "duration": 7,
    "start_time": "2021-11-30T19:44:21.123Z"
   },
   {
    "duration": 3,
    "start_time": "2021-11-30T19:44:21.132Z"
   },
   {
    "duration": 5,
    "start_time": "2021-11-30T19:44:21.136Z"
   },
   {
    "duration": 524,
    "start_time": "2021-11-30T19:44:21.143Z"
   },
   {
    "duration": 586,
    "start_time": "2021-11-30T19:44:21.669Z"
   },
   {
    "duration": 39,
    "start_time": "2021-11-30T19:44:22.256Z"
   },
   {
    "duration": 35,
    "start_time": "2021-11-30T19:44:22.296Z"
   },
   {
    "duration": 565,
    "start_time": "2021-11-30T19:50:27.126Z"
   },
   {
    "duration": 571,
    "start_time": "2021-11-30T19:50:59.192Z"
   },
   {
    "duration": 8,
    "start_time": "2021-11-30T19:56:53.853Z"
   },
   {
    "duration": 3,
    "start_time": "2021-11-30T19:57:07.209Z"
   },
   {
    "duration": 232,
    "start_time": "2021-11-30T19:58:08.403Z"
   },
   {
    "duration": 3,
    "start_time": "2021-11-30T19:58:12.204Z"
   },
   {
    "duration": 137,
    "start_time": "2021-11-30T19:58:12.210Z"
   },
   {
    "duration": 11,
    "start_time": "2021-11-30T19:58:12.349Z"
   },
   {
    "duration": 48,
    "start_time": "2021-11-30T19:58:12.363Z"
   },
   {
    "duration": 180,
    "start_time": "2021-11-30T19:58:12.414Z"
   },
   {
    "duration": 11,
    "start_time": "2021-11-30T19:58:12.596Z"
   },
   {
    "duration": 30,
    "start_time": "2021-11-30T19:58:12.609Z"
   },
   {
    "duration": 117,
    "start_time": "2021-11-30T19:58:12.641Z"
   },
   {
    "duration": 10,
    "start_time": "2021-11-30T19:58:12.761Z"
   },
   {
    "duration": 25,
    "start_time": "2021-11-30T19:58:12.774Z"
   },
   {
    "duration": 16,
    "start_time": "2021-11-30T19:58:12.800Z"
   },
   {
    "duration": 11,
    "start_time": "2021-11-30T19:58:12.818Z"
   },
   {
    "duration": 7,
    "start_time": "2021-11-30T19:58:12.831Z"
   },
   {
    "duration": 28,
    "start_time": "2021-11-30T19:58:12.840Z"
   },
   {
    "duration": 10,
    "start_time": "2021-11-30T19:58:12.869Z"
   },
   {
    "duration": 10,
    "start_time": "2021-11-30T19:58:12.881Z"
   },
   {
    "duration": 8,
    "start_time": "2021-11-30T19:58:12.892Z"
   },
   {
    "duration": 22,
    "start_time": "2021-11-30T19:58:12.902Z"
   },
   {
    "duration": 25,
    "start_time": "2021-11-30T19:58:12.925Z"
   },
   {
    "duration": 89,
    "start_time": "2021-11-30T19:58:12.952Z"
   },
   {
    "duration": 86,
    "start_time": "2021-11-30T19:58:13.043Z"
   },
   {
    "duration": 21,
    "start_time": "2021-11-30T19:58:13.131Z"
   },
   {
    "duration": 9,
    "start_time": "2021-11-30T19:58:13.153Z"
   },
   {
    "duration": 12,
    "start_time": "2021-11-30T19:58:13.187Z"
   },
   {
    "duration": 15,
    "start_time": "2021-11-30T19:58:13.202Z"
   },
   {
    "duration": 7,
    "start_time": "2021-11-30T19:58:13.219Z"
   },
   {
    "duration": 21,
    "start_time": "2021-11-30T19:58:13.227Z"
   },
   {
    "duration": 58,
    "start_time": "2021-11-30T19:58:13.249Z"
   },
   {
    "duration": 15,
    "start_time": "2021-11-30T19:58:13.310Z"
   },
   {
    "duration": 8,
    "start_time": "2021-11-30T19:58:13.327Z"
   },
   {
    "duration": 7,
    "start_time": "2021-11-30T19:58:13.337Z"
   },
   {
    "duration": 14,
    "start_time": "2021-11-30T19:58:13.346Z"
   },
   {
    "duration": 38,
    "start_time": "2021-11-30T19:58:13.362Z"
   },
   {
    "duration": 33,
    "start_time": "2021-11-30T19:58:13.401Z"
   },
   {
    "duration": 13,
    "start_time": "2021-11-30T19:58:13.435Z"
   },
   {
    "duration": 7,
    "start_time": "2021-11-30T19:58:13.450Z"
   },
   {
    "duration": 31,
    "start_time": "2021-11-30T19:58:13.458Z"
   },
   {
    "duration": 6,
    "start_time": "2021-11-30T19:58:13.491Z"
   },
   {
    "duration": 8,
    "start_time": "2021-11-30T19:58:13.499Z"
   },
   {
    "duration": 12,
    "start_time": "2021-11-30T19:58:13.508Z"
   },
   {
    "duration": 10,
    "start_time": "2021-11-30T19:58:13.521Z"
   },
   {
    "duration": 6,
    "start_time": "2021-11-30T19:58:13.532Z"
   },
   {
    "duration": 9,
    "start_time": "2021-11-30T19:58:13.540Z"
   },
   {
    "duration": 50,
    "start_time": "2021-11-30T19:58:13.551Z"
   },
   {
    "duration": 3,
    "start_time": "2021-11-30T19:58:13.603Z"
   },
   {
    "duration": 19,
    "start_time": "2021-11-30T19:58:13.608Z"
   },
   {
    "duration": 3,
    "start_time": "2021-11-30T19:58:13.629Z"
   },
   {
    "duration": 24,
    "start_time": "2021-11-30T19:58:13.634Z"
   },
   {
    "duration": 3,
    "start_time": "2021-11-30T19:58:13.660Z"
   },
   {
    "duration": 43,
    "start_time": "2021-11-30T19:58:13.665Z"
   },
   {
    "duration": 5,
    "start_time": "2021-11-30T19:58:13.710Z"
   },
   {
    "duration": 7,
    "start_time": "2021-11-30T19:58:13.717Z"
   },
   {
    "duration": 4,
    "start_time": "2021-11-30T19:58:13.725Z"
   },
   {
    "duration": 7,
    "start_time": "2021-11-30T19:58:13.731Z"
   },
   {
    "duration": 4,
    "start_time": "2021-11-30T19:58:13.739Z"
   },
   {
    "duration": 252,
    "start_time": "2021-11-30T19:58:13.745Z"
   },
   {
    "duration": 19,
    "start_time": "2021-11-30T19:58:13.999Z"
   },
   {
    "duration": 6,
    "start_time": "2021-11-30T19:58:14.019Z"
   },
   {
    "duration": 3,
    "start_time": "2021-11-30T19:58:14.027Z"
   },
   {
    "duration": 10,
    "start_time": "2021-11-30T19:58:14.031Z"
   },
   {
    "duration": 3,
    "start_time": "2021-11-30T19:58:14.042Z"
   },
   {
    "duration": 7,
    "start_time": "2021-11-30T19:58:14.046Z"
   },
   {
    "duration": 515,
    "start_time": "2021-11-30T19:58:14.054Z"
   },
   {
    "duration": 814,
    "start_time": "2021-11-30T19:58:14.570Z"
   },
   {
    "duration": 34,
    "start_time": "2021-11-30T19:58:15.388Z"
   },
   {
    "duration": 36,
    "start_time": "2021-11-30T19:58:15.423Z"
   },
   {
    "duration": 28,
    "start_time": "2021-11-30T19:58:15.460Z"
   },
   {
    "duration": 2,
    "start_time": "2021-11-30T19:58:15.490Z"
   },
   {
    "duration": 7,
    "start_time": "2021-11-30T19:58:15.497Z"
   },
   {
    "duration": 501,
    "start_time": "2021-11-30T19:59:10.151Z"
   },
   {
    "duration": 666,
    "start_time": "2021-11-30T20:09:16.529Z"
   },
   {
    "duration": 34,
    "start_time": "2021-11-30T20:11:24.690Z"
   },
   {
    "duration": 35,
    "start_time": "2021-11-30T20:11:36.722Z"
   },
   {
    "duration": 77,
    "start_time": "2021-11-30T21:07:57.040Z"
   },
   {
    "duration": 6,
    "start_time": "2021-11-30T21:08:37.636Z"
   },
   {
    "duration": 10,
    "start_time": "2021-11-30T21:09:27.047Z"
   },
   {
    "duration": 16,
    "start_time": "2021-11-30T21:09:27.058Z"
   },
   {
    "duration": 16,
    "start_time": "2021-11-30T21:09:27.076Z"
   },
   {
    "duration": 245,
    "start_time": "2021-11-30T21:10:07.381Z"
   },
   {
    "duration": 3,
    "start_time": "2021-11-30T21:10:40.943Z"
   },
   {
    "duration": 141,
    "start_time": "2021-11-30T21:10:40.949Z"
   },
   {
    "duration": 6,
    "start_time": "2021-11-30T21:10:41.092Z"
   },
   {
    "duration": 20,
    "start_time": "2021-11-30T21:10:41.100Z"
   },
   {
    "duration": 125,
    "start_time": "2021-11-30T21:10:41.122Z"
   },
   {
    "duration": 7,
    "start_time": "2021-11-30T21:10:41.248Z"
   },
   {
    "duration": 35,
    "start_time": "2021-11-30T21:10:41.256Z"
   },
   {
    "duration": 76,
    "start_time": "2021-11-30T21:10:41.293Z"
   },
   {
    "duration": 6,
    "start_time": "2021-11-30T21:10:41.371Z"
   },
   {
    "duration": 18,
    "start_time": "2021-11-30T21:10:41.379Z"
   },
   {
    "duration": 14,
    "start_time": "2021-11-30T21:10:41.399Z"
   },
   {
    "duration": 9,
    "start_time": "2021-11-30T21:10:41.415Z"
   },
   {
    "duration": 6,
    "start_time": "2021-11-30T21:10:41.426Z"
   },
   {
    "duration": 28,
    "start_time": "2021-11-30T21:10:41.434Z"
   },
   {
    "duration": 9,
    "start_time": "2021-11-30T21:10:41.463Z"
   },
   {
    "duration": 7,
    "start_time": "2021-11-30T21:10:41.474Z"
   },
   {
    "duration": 12,
    "start_time": "2021-11-30T21:10:41.482Z"
   },
   {
    "duration": 19,
    "start_time": "2021-11-30T21:10:41.496Z"
   },
   {
    "duration": 22,
    "start_time": "2021-11-30T21:10:41.517Z"
   },
   {
    "duration": 63,
    "start_time": "2021-11-30T21:10:41.541Z"
   },
   {
    "duration": 70,
    "start_time": "2021-11-30T21:10:41.605Z"
   },
   {
    "duration": 29,
    "start_time": "2021-11-30T21:10:41.677Z"
   },
   {
    "duration": 9,
    "start_time": "2021-11-30T21:10:41.707Z"
   },
   {
    "duration": 13,
    "start_time": "2021-11-30T21:10:41.720Z"
   },
   {
    "duration": 15,
    "start_time": "2021-11-30T21:10:41.736Z"
   },
   {
    "duration": 35,
    "start_time": "2021-11-30T21:10:41.753Z"
   },
   {
    "duration": 19,
    "start_time": "2021-11-30T21:10:41.789Z"
   },
   {
    "duration": 30,
    "start_time": "2021-11-30T21:10:41.809Z"
   },
   {
    "duration": 16,
    "start_time": "2021-11-30T21:10:41.840Z"
   },
   {
    "duration": 8,
    "start_time": "2021-11-30T21:10:41.857Z"
   },
   {
    "duration": 6,
    "start_time": "2021-11-30T21:10:41.888Z"
   },
   {
    "duration": 15,
    "start_time": "2021-11-30T21:10:41.895Z"
   },
   {
    "duration": 16,
    "start_time": "2021-11-30T21:10:41.911Z"
   },
   {
    "duration": 29,
    "start_time": "2021-11-30T21:10:41.928Z"
   },
   {
    "duration": 37,
    "start_time": "2021-11-30T21:10:41.959Z"
   },
   {
    "duration": 7,
    "start_time": "2021-11-30T21:10:41.997Z"
   },
   {
    "duration": 13,
    "start_time": "2021-11-30T21:10:42.005Z"
   },
   {
    "duration": 8,
    "start_time": "2021-11-30T21:10:42.019Z"
   },
   {
    "duration": 7,
    "start_time": "2021-11-30T21:10:42.028Z"
   },
   {
    "duration": 6,
    "start_time": "2021-11-30T21:10:42.037Z"
   },
   {
    "duration": 9,
    "start_time": "2021-11-30T21:10:42.044Z"
   },
   {
    "duration": 8,
    "start_time": "2021-11-30T21:10:42.054Z"
   },
   {
    "duration": 7,
    "start_time": "2021-11-30T21:10:42.063Z"
   },
   {
    "duration": 19,
    "start_time": "2021-11-30T21:10:42.088Z"
   },
   {
    "duration": 2,
    "start_time": "2021-11-30T21:10:42.109Z"
   },
   {
    "duration": 14,
    "start_time": "2021-11-30T21:10:42.112Z"
   },
   {
    "duration": 3,
    "start_time": "2021-11-30T21:10:42.127Z"
   },
   {
    "duration": 17,
    "start_time": "2021-11-30T21:10:42.131Z"
   },
   {
    "duration": 5,
    "start_time": "2021-11-30T21:10:42.149Z"
   },
   {
    "duration": 37,
    "start_time": "2021-11-30T21:10:42.155Z"
   },
   {
    "duration": 5,
    "start_time": "2021-11-30T21:10:42.193Z"
   },
   {
    "duration": 8,
    "start_time": "2021-11-30T21:10:42.199Z"
   },
   {
    "duration": 3,
    "start_time": "2021-11-30T21:10:42.209Z"
   },
   {
    "duration": 6,
    "start_time": "2021-11-30T21:10:42.214Z"
   },
   {
    "duration": 4,
    "start_time": "2021-11-30T21:10:42.221Z"
   },
   {
    "duration": 242,
    "start_time": "2021-11-30T21:10:42.226Z"
   },
   {
    "duration": 24,
    "start_time": "2021-11-30T21:10:42.469Z"
   },
   {
    "duration": 5,
    "start_time": "2021-11-30T21:10:42.495Z"
   },
   {
    "duration": 3,
    "start_time": "2021-11-30T21:10:42.501Z"
   },
   {
    "duration": 11,
    "start_time": "2021-11-30T21:10:42.505Z"
   },
   {
    "duration": 2,
    "start_time": "2021-11-30T21:10:42.517Z"
   },
   {
    "duration": 7,
    "start_time": "2021-11-30T21:10:42.520Z"
   },
   {
    "duration": 520,
    "start_time": "2021-11-30T21:10:42.528Z"
   },
   {
    "duration": 570,
    "start_time": "2021-11-30T21:10:43.049Z"
   },
   {
    "duration": 35,
    "start_time": "2021-11-30T21:10:43.620Z"
   },
   {
    "duration": 49,
    "start_time": "2021-11-30T21:10:43.656Z"
   },
   {
    "duration": 6,
    "start_time": "2021-11-30T21:10:43.707Z"
   },
   {
    "duration": 2,
    "start_time": "2021-11-30T21:10:43.714Z"
   },
   {
    "duration": 4,
    "start_time": "2021-11-30T21:10:43.720Z"
   },
   {
    "duration": 470,
    "start_time": "2021-11-30T21:10:43.725Z"
   },
   {
    "duration": 646,
    "start_time": "2021-11-30T21:10:44.196Z"
   },
   {
    "duration": 47,
    "start_time": "2021-11-30T21:10:44.843Z"
   },
   {
    "duration": 33,
    "start_time": "2021-11-30T21:10:44.891Z"
   },
   {
    "duration": 6,
    "start_time": "2021-11-30T21:10:44.926Z"
   },
   {
    "duration": 2,
    "start_time": "2021-11-30T21:10:44.934Z"
   },
   {
    "duration": 8,
    "start_time": "2021-11-30T21:10:44.937Z"
   },
   {
    "duration": 230,
    "start_time": "2021-11-30T21:10:44.946Z"
   },
   {
    "duration": 8,
    "start_time": "2021-11-30T21:11:01.390Z"
   },
   {
    "duration": 1222,
    "start_time": "2021-11-30T21:11:15.106Z"
   },
   {
    "duration": 8,
    "start_time": "2021-11-30T21:11:18.586Z"
   },
   {
    "duration": 3,
    "start_time": "2021-11-30T21:11:19.705Z"
   },
   {
    "duration": 5,
    "start_time": "2021-11-30T21:11:20.712Z"
   },
   {
    "duration": 13,
    "start_time": "2021-11-30T21:11:21.390Z"
   },
   {
    "duration": 240,
    "start_time": "2021-11-30T21:11:23.292Z"
   },
   {
    "duration": 258,
    "start_time": "2021-11-30T21:11:36.763Z"
   },
   {
    "duration": 2,
    "start_time": "2021-11-30T21:12:11.301Z"
   },
   {
    "duration": 139,
    "start_time": "2021-11-30T21:12:11.305Z"
   },
   {
    "duration": 7,
    "start_time": "2021-11-30T21:12:11.446Z"
   },
   {
    "duration": 54,
    "start_time": "2021-11-30T21:12:11.454Z"
   },
   {
    "duration": 124,
    "start_time": "2021-11-30T21:12:11.509Z"
   },
   {
    "duration": 8,
    "start_time": "2021-11-30T21:12:11.635Z"
   },
   {
    "duration": 21,
    "start_time": "2021-11-30T21:12:11.645Z"
   },
   {
    "duration": 83,
    "start_time": "2021-11-30T21:12:11.668Z"
   },
   {
    "duration": 6,
    "start_time": "2021-11-30T21:12:11.752Z"
   },
   {
    "duration": 14,
    "start_time": "2021-11-30T21:12:11.760Z"
   },
   {
    "duration": 15,
    "start_time": "2021-11-30T21:12:11.776Z"
   },
   {
    "duration": 13,
    "start_time": "2021-11-30T21:12:11.793Z"
   },
   {
    "duration": 6,
    "start_time": "2021-11-30T21:12:11.808Z"
   },
   {
    "duration": 32,
    "start_time": "2021-11-30T21:12:11.816Z"
   },
   {
    "duration": 8,
    "start_time": "2021-11-30T21:12:11.850Z"
   },
   {
    "duration": 11,
    "start_time": "2021-11-30T21:12:11.860Z"
   },
   {
    "duration": 8,
    "start_time": "2021-11-30T21:12:11.872Z"
   },
   {
    "duration": 31,
    "start_time": "2021-11-30T21:12:11.882Z"
   },
   {
    "duration": 25,
    "start_time": "2021-11-30T21:12:11.917Z"
   },
   {
    "duration": 80,
    "start_time": "2021-11-30T21:12:11.944Z"
   },
   {
    "duration": 91,
    "start_time": "2021-11-30T21:12:12.026Z"
   },
   {
    "duration": 20,
    "start_time": "2021-11-30T21:12:12.119Z"
   },
   {
    "duration": 8,
    "start_time": "2021-11-30T21:12:12.141Z"
   },
   {
    "duration": 21,
    "start_time": "2021-11-30T21:12:12.150Z"
   },
   {
    "duration": 38,
    "start_time": "2021-11-30T21:12:12.172Z"
   },
   {
    "duration": 5,
    "start_time": "2021-11-30T21:12:12.212Z"
   },
   {
    "duration": 37,
    "start_time": "2021-11-30T21:12:12.219Z"
   },
   {
    "duration": 34,
    "start_time": "2021-11-30T21:12:12.258Z"
   },
   {
    "duration": 16,
    "start_time": "2021-11-30T21:12:12.294Z"
   },
   {
    "duration": 14,
    "start_time": "2021-11-30T21:12:12.312Z"
   },
   {
    "duration": 27,
    "start_time": "2021-11-30T21:12:12.328Z"
   },
   {
    "duration": 26,
    "start_time": "2021-11-30T21:12:12.356Z"
   },
   {
    "duration": 20,
    "start_time": "2021-11-30T21:12:12.384Z"
   },
   {
    "duration": 33,
    "start_time": "2021-11-30T21:12:12.406Z"
   },
   {
    "duration": 13,
    "start_time": "2021-11-30T21:12:12.441Z"
   },
   {
    "duration": 7,
    "start_time": "2021-11-30T21:12:12.456Z"
   },
   {
    "duration": 16,
    "start_time": "2021-11-30T21:12:12.464Z"
   },
   {
    "duration": 15,
    "start_time": "2021-11-30T21:12:12.487Z"
   },
   {
    "duration": 23,
    "start_time": "2021-11-30T21:12:12.503Z"
   },
   {
    "duration": 12,
    "start_time": "2021-11-30T21:12:12.527Z"
   },
   {
    "duration": 23,
    "start_time": "2021-11-30T21:12:12.540Z"
   },
   {
    "duration": 19,
    "start_time": "2021-11-30T21:12:12.565Z"
   },
   {
    "duration": 25,
    "start_time": "2021-11-30T21:12:12.585Z"
   },
   {
    "duration": 31,
    "start_time": "2021-11-30T21:12:12.611Z"
   },
   {
    "duration": 6,
    "start_time": "2021-11-30T21:12:12.643Z"
   },
   {
    "duration": 25,
    "start_time": "2021-11-30T21:12:12.651Z"
   },
   {
    "duration": 13,
    "start_time": "2021-11-30T21:12:12.677Z"
   },
   {
    "duration": 38,
    "start_time": "2021-11-30T21:12:12.692Z"
   },
   {
    "duration": 21,
    "start_time": "2021-11-30T21:12:12.731Z"
   },
   {
    "duration": 37,
    "start_time": "2021-11-30T21:12:12.754Z"
   },
   {
    "duration": 9,
    "start_time": "2021-11-30T21:12:12.793Z"
   },
   {
    "duration": 17,
    "start_time": "2021-11-30T21:12:12.804Z"
   },
   {
    "duration": 17,
    "start_time": "2021-11-30T21:12:12.822Z"
   },
   {
    "duration": 20,
    "start_time": "2021-11-30T21:12:12.840Z"
   },
   {
    "duration": 9,
    "start_time": "2021-11-30T21:12:12.864Z"
   },
   {
    "duration": 246,
    "start_time": "2021-11-30T21:12:12.874Z"
   },
   {
    "duration": 16,
    "start_time": "2021-11-30T21:12:13.122Z"
   },
   {
    "duration": 23,
    "start_time": "2021-11-30T21:12:13.140Z"
   },
   {
    "duration": 13,
    "start_time": "2021-11-30T21:12:13.164Z"
   },
   {
    "duration": 25,
    "start_time": "2021-11-30T21:12:13.179Z"
   },
   {
    "duration": 21,
    "start_time": "2021-11-30T21:12:13.205Z"
   },
   {
    "duration": 16,
    "start_time": "2021-11-30T21:12:13.227Z"
   },
   {
    "duration": 492,
    "start_time": "2021-11-30T21:12:13.245Z"
   },
   {
    "duration": 775,
    "start_time": "2021-11-30T21:12:13.739Z"
   },
   {
    "duration": 33,
    "start_time": "2021-11-30T21:12:14.516Z"
   },
   {
    "duration": 45,
    "start_time": "2021-11-30T21:12:14.551Z"
   },
   {
    "duration": 6,
    "start_time": "2021-11-30T21:12:14.597Z"
   },
   {
    "duration": 5,
    "start_time": "2021-11-30T21:12:14.605Z"
   },
   {
    "duration": 7,
    "start_time": "2021-11-30T21:12:14.611Z"
   },
   {
    "duration": 471,
    "start_time": "2021-11-30T21:12:14.620Z"
   },
   {
    "duration": 587,
    "start_time": "2021-11-30T21:12:15.092Z"
   },
   {
    "duration": 39,
    "start_time": "2021-11-30T21:12:15.681Z"
   },
   {
    "duration": 32,
    "start_time": "2021-11-30T21:12:15.721Z"
   },
   {
    "duration": 6,
    "start_time": "2021-11-30T21:12:15.754Z"
   },
   {
    "duration": 2,
    "start_time": "2021-11-30T21:12:15.761Z"
   },
   {
    "duration": 4,
    "start_time": "2021-11-30T21:12:15.788Z"
   },
   {
    "duration": 11,
    "start_time": "2021-11-30T21:12:15.793Z"
   },
   {
    "duration": 226,
    "start_time": "2021-11-30T21:12:15.805Z"
   },
   {
    "duration": 480,
    "start_time": "2021-11-30T21:12:38.245Z"
   },
   {
    "duration": 571,
    "start_time": "2021-11-30T21:16:20.525Z"
   },
   {
    "duration": 35,
    "start_time": "2021-11-30T21:22:43.344Z"
   },
   {
    "duration": 35,
    "start_time": "2021-11-30T21:22:58.949Z"
   },
   {
    "duration": 3,
    "start_time": "2021-11-30T21:26:35.634Z"
   },
   {
    "duration": 128,
    "start_time": "2021-11-30T21:26:35.639Z"
   },
   {
    "duration": 21,
    "start_time": "2021-11-30T21:26:35.769Z"
   },
   {
    "duration": 18,
    "start_time": "2021-11-30T21:26:35.792Z"
   },
   {
    "duration": 127,
    "start_time": "2021-11-30T21:26:35.812Z"
   },
   {
    "duration": 9,
    "start_time": "2021-11-30T21:26:35.940Z"
   },
   {
    "duration": 15,
    "start_time": "2021-11-30T21:26:35.952Z"
   },
   {
    "duration": 82,
    "start_time": "2021-11-30T21:26:35.987Z"
   },
   {
    "duration": 6,
    "start_time": "2021-11-30T21:26:36.070Z"
   },
   {
    "duration": 15,
    "start_time": "2021-11-30T21:26:36.078Z"
   },
   {
    "duration": 16,
    "start_time": "2021-11-30T21:26:36.095Z"
   },
   {
    "duration": 14,
    "start_time": "2021-11-30T21:26:36.113Z"
   },
   {
    "duration": 7,
    "start_time": "2021-11-30T21:26:36.128Z"
   },
   {
    "duration": 30,
    "start_time": "2021-11-30T21:26:36.137Z"
   },
   {
    "duration": 10,
    "start_time": "2021-11-30T21:26:36.168Z"
   },
   {
    "duration": 8,
    "start_time": "2021-11-30T21:26:36.179Z"
   },
   {
    "duration": 6,
    "start_time": "2021-11-30T21:26:36.189Z"
   },
   {
    "duration": 23,
    "start_time": "2021-11-30T21:26:36.197Z"
   },
   {
    "duration": 23,
    "start_time": "2021-11-30T21:26:36.223Z"
   },
   {
    "duration": 78,
    "start_time": "2021-11-30T21:26:36.249Z"
   },
   {
    "duration": 74,
    "start_time": "2021-11-30T21:26:36.328Z"
   },
   {
    "duration": 20,
    "start_time": "2021-11-30T21:26:36.403Z"
   },
   {
    "duration": 8,
    "start_time": "2021-11-30T21:26:36.424Z"
   },
   {
    "duration": 13,
    "start_time": "2021-11-30T21:26:36.433Z"
   },
   {
    "duration": 16,
    "start_time": "2021-11-30T21:26:36.447Z"
   },
   {
    "duration": 26,
    "start_time": "2021-11-30T21:26:36.465Z"
   },
   {
    "duration": 19,
    "start_time": "2021-11-30T21:26:36.493Z"
   },
   {
    "duration": 31,
    "start_time": "2021-11-30T21:26:36.514Z"
   },
   {
    "duration": 15,
    "start_time": "2021-11-30T21:26:36.546Z"
   },
   {
    "duration": 28,
    "start_time": "2021-11-30T21:26:36.563Z"
   },
   {
    "duration": 10,
    "start_time": "2021-11-30T21:26:36.593Z"
   },
   {
    "duration": 17,
    "start_time": "2021-11-30T21:26:36.604Z"
   },
   {
    "duration": 16,
    "start_time": "2021-11-30T21:26:36.623Z"
   },
   {
    "duration": 49,
    "start_time": "2021-11-30T21:26:36.640Z"
   },
   {
    "duration": 13,
    "start_time": "2021-11-30T21:26:36.691Z"
   },
   {
    "duration": 7,
    "start_time": "2021-11-30T21:26:36.706Z"
   },
   {
    "duration": 8,
    "start_time": "2021-11-30T21:26:36.715Z"
   },
   {
    "duration": 7,
    "start_time": "2021-11-30T21:26:36.724Z"
   },
   {
    "duration": 6,
    "start_time": "2021-11-30T21:26:36.733Z"
   },
   {
    "duration": 7,
    "start_time": "2021-11-30T21:26:36.740Z"
   },
   {
    "duration": 10,
    "start_time": "2021-11-30T21:26:36.749Z"
   },
   {
    "duration": 30,
    "start_time": "2021-11-30T21:26:36.761Z"
   },
   {
    "duration": 6,
    "start_time": "2021-11-30T21:26:36.793Z"
   },
   {
    "duration": 18,
    "start_time": "2021-11-30T21:26:36.801Z"
   },
   {
    "duration": 2,
    "start_time": "2021-11-30T21:26:36.821Z"
   },
   {
    "duration": 13,
    "start_time": "2021-11-30T21:26:36.825Z"
   },
   {
    "duration": 3,
    "start_time": "2021-11-30T21:26:36.839Z"
   },
   {
    "duration": 45,
    "start_time": "2021-11-30T21:26:36.843Z"
   },
   {
    "duration": 2,
    "start_time": "2021-11-30T21:26:36.890Z"
   },
   {
    "duration": 16,
    "start_time": "2021-11-30T21:26:36.894Z"
   },
   {
    "duration": 4,
    "start_time": "2021-11-30T21:26:36.912Z"
   },
   {
    "duration": 8,
    "start_time": "2021-11-30T21:26:36.917Z"
   },
   {
    "duration": 8,
    "start_time": "2021-11-30T21:26:36.927Z"
   },
   {
    "duration": 6,
    "start_time": "2021-11-30T21:26:36.937Z"
   },
   {
    "duration": 3,
    "start_time": "2021-11-30T21:26:36.948Z"
   },
   {
    "duration": 343,
    "start_time": "2021-11-30T21:26:36.953Z"
   },
   {
    "duration": 18,
    "start_time": "2021-11-30T21:26:37.298Z"
   },
   {
    "duration": 6,
    "start_time": "2021-11-30T21:26:37.317Z"
   },
   {
    "duration": 3,
    "start_time": "2021-11-30T21:26:37.324Z"
   },
   {
    "duration": 8,
    "start_time": "2021-11-30T21:26:37.328Z"
   },
   {
    "duration": 2,
    "start_time": "2021-11-30T21:26:37.338Z"
   },
   {
    "duration": 6,
    "start_time": "2021-11-30T21:26:37.341Z"
   },
   {
    "duration": 494,
    "start_time": "2021-11-30T21:26:37.349Z"
   },
   {
    "duration": 574,
    "start_time": "2021-11-30T21:26:37.845Z"
   },
   {
    "duration": 34,
    "start_time": "2021-11-30T21:26:38.421Z"
   },
   {
    "duration": 50,
    "start_time": "2021-11-30T21:26:38.457Z"
   },
   {
    "duration": 6,
    "start_time": "2021-11-30T21:26:38.509Z"
   },
   {
    "duration": 3,
    "start_time": "2021-11-30T21:26:38.516Z"
   },
   {
    "duration": 6,
    "start_time": "2021-11-30T21:26:38.520Z"
   },
   {
    "duration": 483,
    "start_time": "2021-11-30T21:26:38.528Z"
   },
   {
    "duration": 826,
    "start_time": "2021-11-30T21:26:39.013Z"
   },
   {
    "duration": 33,
    "start_time": "2021-11-30T21:26:39.840Z"
   },
   {
    "duration": 43,
    "start_time": "2021-11-30T21:26:39.874Z"
   },
   {
    "duration": 6,
    "start_time": "2021-11-30T21:26:39.919Z"
   },
   {
    "duration": 2,
    "start_time": "2021-11-30T21:26:39.926Z"
   },
   {
    "duration": 9,
    "start_time": "2021-11-30T21:26:39.930Z"
   },
   {
    "duration": 502,
    "start_time": "2021-11-30T21:26:39.941Z"
   },
   {
    "duration": 573,
    "start_time": "2021-11-30T21:26:40.445Z"
   },
   {
    "duration": 34,
    "start_time": "2021-11-30T21:26:41.020Z"
   },
   {
    "duration": 52,
    "start_time": "2021-11-30T21:26:41.056Z"
   },
   {
    "duration": 91,
    "start_time": "2021-11-30T21:26:41.109Z"
   },
   {
    "duration": 3,
    "start_time": "2021-12-01T13:02:19.478Z"
   },
   {
    "duration": 84,
    "start_time": "2021-12-01T13:03:58.772Z"
   },
   {
    "duration": 1225,
    "start_time": "2021-12-01T13:04:08.588Z"
   },
   {
    "duration": 164,
    "start_time": "2021-12-01T13:04:09.816Z"
   },
   {
    "duration": 14,
    "start_time": "2021-12-01T13:04:09.983Z"
   },
   {
    "duration": 70,
    "start_time": "2021-12-01T13:04:09.999Z"
   },
   {
    "duration": 223,
    "start_time": "2021-12-01T13:04:10.071Z"
   },
   {
    "duration": 12,
    "start_time": "2021-12-01T13:04:10.296Z"
   },
   {
    "duration": 38,
    "start_time": "2021-12-01T13:04:10.311Z"
   },
   {
    "duration": 139,
    "start_time": "2021-12-01T13:04:10.353Z"
   },
   {
    "duration": 10,
    "start_time": "2021-12-01T13:04:10.495Z"
   },
   {
    "duration": 33,
    "start_time": "2021-12-01T13:04:10.507Z"
   },
   {
    "duration": 21,
    "start_time": "2021-12-01T13:04:10.542Z"
   },
   {
    "duration": 14,
    "start_time": "2021-12-01T13:04:10.565Z"
   },
   {
    "duration": 23,
    "start_time": "2021-12-01T13:04:10.581Z"
   },
   {
    "duration": 34,
    "start_time": "2021-12-01T13:04:10.606Z"
   },
   {
    "duration": 14,
    "start_time": "2021-12-01T13:04:10.642Z"
   },
   {
    "duration": 10,
    "start_time": "2021-12-01T13:04:10.658Z"
   },
   {
    "duration": 11,
    "start_time": "2021-12-01T13:04:10.671Z"
   },
   {
    "duration": 37,
    "start_time": "2021-12-01T13:04:10.684Z"
   },
   {
    "duration": 71,
    "start_time": "2021-12-01T13:04:10.724Z"
   },
   {
    "duration": 94,
    "start_time": "2021-12-01T13:04:10.797Z"
   },
   {
    "duration": 111,
    "start_time": "2021-12-01T13:04:10.893Z"
   },
   {
    "duration": 25,
    "start_time": "2021-12-01T13:04:11.006Z"
   },
   {
    "duration": 27,
    "start_time": "2021-12-01T13:04:11.036Z"
   },
   {
    "duration": 14,
    "start_time": "2021-12-01T13:04:11.067Z"
   },
   {
    "duration": 18,
    "start_time": "2021-12-01T13:04:11.083Z"
   },
   {
    "duration": 9,
    "start_time": "2021-12-01T13:04:11.103Z"
   },
   {
    "duration": 51,
    "start_time": "2021-12-01T13:04:11.114Z"
   },
   {
    "duration": 46,
    "start_time": "2021-12-01T13:04:11.167Z"
   },
   {
    "duration": 18,
    "start_time": "2021-12-01T13:04:11.215Z"
   },
   {
    "duration": 34,
    "start_time": "2021-12-01T13:04:11.235Z"
   },
   {
    "duration": 7,
    "start_time": "2021-12-01T13:04:11.271Z"
   },
   {
    "duration": 15,
    "start_time": "2021-12-01T13:04:11.280Z"
   },
   {
    "duration": 23,
    "start_time": "2021-12-01T13:04:11.297Z"
   },
   {
    "duration": 102,
    "start_time": "2021-12-01T13:04:11.322Z"
   },
   {
    "duration": 19,
    "start_time": "2021-12-01T13:04:11.426Z"
   },
   {
    "duration": 12,
    "start_time": "2021-12-01T13:04:11.448Z"
   },
   {
    "duration": 16,
    "start_time": "2021-12-01T13:04:11.462Z"
   },
   {
    "duration": 9,
    "start_time": "2021-12-01T13:04:11.481Z"
   },
   {
    "duration": 6,
    "start_time": "2021-12-01T13:04:11.492Z"
   },
   {
    "duration": 9,
    "start_time": "2021-12-01T13:04:11.500Z"
   },
   {
    "duration": 12,
    "start_time": "2021-12-01T13:04:11.510Z"
   },
   {
    "duration": 12,
    "start_time": "2021-12-01T13:04:11.524Z"
   },
   {
    "duration": 31,
    "start_time": "2021-12-01T13:04:11.537Z"
   },
   {
    "duration": 28,
    "start_time": "2021-12-01T13:04:11.569Z"
   },
   {
    "duration": 3,
    "start_time": "2021-12-01T13:04:11.599Z"
   },
   {
    "duration": 28,
    "start_time": "2021-12-01T13:04:11.604Z"
   },
   {
    "duration": 28,
    "start_time": "2021-12-01T13:04:11.635Z"
   },
   {
    "duration": 26,
    "start_time": "2021-12-01T13:04:11.666Z"
   },
   {
    "duration": 3,
    "start_time": "2021-12-01T13:04:11.695Z"
   },
   {
    "duration": 34,
    "start_time": "2021-12-01T13:04:11.700Z"
   },
   {
    "duration": 26,
    "start_time": "2021-12-01T13:04:11.737Z"
   },
   {
    "duration": 12,
    "start_time": "2021-12-01T13:04:11.766Z"
   },
   {
    "duration": 7,
    "start_time": "2021-12-01T13:04:11.780Z"
   },
   {
    "duration": 11,
    "start_time": "2021-12-01T13:04:11.789Z"
   },
   {
    "duration": 6,
    "start_time": "2021-12-01T13:04:11.802Z"
   },
   {
    "duration": 451,
    "start_time": "2021-12-01T13:04:11.810Z"
   },
   {
    "duration": 30,
    "start_time": "2021-12-01T13:04:12.263Z"
   },
   {
    "duration": 9,
    "start_time": "2021-12-01T13:04:12.294Z"
   },
   {
    "duration": 4,
    "start_time": "2021-12-01T13:04:12.305Z"
   },
   {
    "duration": 12,
    "start_time": "2021-12-01T13:04:12.311Z"
   },
   {
    "duration": 4,
    "start_time": "2021-12-01T13:04:12.325Z"
   },
   {
    "duration": 7,
    "start_time": "2021-12-01T13:04:12.363Z"
   },
   {
    "duration": 829,
    "start_time": "2021-12-01T13:04:12.372Z"
   },
   {
    "duration": 702,
    "start_time": "2021-12-01T13:04:13.203Z"
   },
   {
    "duration": 63,
    "start_time": "2021-12-01T13:04:13.907Z"
   },
   {
    "duration": 59,
    "start_time": "2021-12-01T13:04:13.972Z"
   },
   {
    "duration": 8,
    "start_time": "2021-12-01T13:04:14.032Z"
   },
   {
    "duration": 4,
    "start_time": "2021-12-01T13:04:14.063Z"
   },
   {
    "duration": 7,
    "start_time": "2021-12-01T13:04:14.069Z"
   },
   {
    "duration": 803,
    "start_time": "2021-12-01T13:04:14.079Z"
   },
   {
    "duration": 1144,
    "start_time": "2021-12-01T13:04:14.884Z"
   },
   {
    "duration": 72,
    "start_time": "2021-12-01T13:04:16.030Z"
   },
   {
    "duration": 67,
    "start_time": "2021-12-01T13:04:16.104Z"
   },
   {
    "duration": 11,
    "start_time": "2021-12-01T13:04:16.173Z"
   },
   {
    "duration": 3,
    "start_time": "2021-12-01T13:04:16.186Z"
   },
   {
    "duration": 8,
    "start_time": "2021-12-01T13:04:16.192Z"
   },
   {
    "duration": 669,
    "start_time": "2021-12-01T13:04:16.202Z"
   },
   {
    "duration": 1080,
    "start_time": "2021-12-01T13:04:16.873Z"
   },
   {
    "duration": 53,
    "start_time": "2021-12-01T13:04:17.956Z"
   },
   {
    "duration": 53,
    "start_time": "2021-12-01T13:04:18.011Z"
   },
   {
    "duration": 4,
    "start_time": "2021-12-01T13:30:37.472Z"
   },
   {
    "duration": 238,
    "start_time": "2021-12-01T13:30:37.478Z"
   },
   {
    "duration": 10,
    "start_time": "2021-12-01T13:30:37.718Z"
   },
   {
    "duration": 52,
    "start_time": "2021-12-01T13:30:37.730Z"
   },
   {
    "duration": 168,
    "start_time": "2021-12-01T13:30:37.784Z"
   },
   {
    "duration": 8,
    "start_time": "2021-12-01T13:30:37.953Z"
   },
   {
    "duration": 28,
    "start_time": "2021-12-01T13:30:37.964Z"
   },
   {
    "duration": 104,
    "start_time": "2021-12-01T13:30:37.994Z"
   },
   {
    "duration": 7,
    "start_time": "2021-12-01T13:30:38.100Z"
   },
   {
    "duration": 33,
    "start_time": "2021-12-01T13:30:38.109Z"
   },
   {
    "duration": 41,
    "start_time": "2021-12-01T13:30:38.144Z"
   },
   {
    "duration": 31,
    "start_time": "2021-12-01T13:30:38.187Z"
   },
   {
    "duration": 13,
    "start_time": "2021-12-01T13:30:38.219Z"
   },
   {
    "duration": 50,
    "start_time": "2021-12-01T13:30:38.234Z"
   },
   {
    "duration": 21,
    "start_time": "2021-12-01T13:30:38.286Z"
   },
   {
    "duration": 11,
    "start_time": "2021-12-01T13:30:38.308Z"
   },
   {
    "duration": 22,
    "start_time": "2021-12-01T13:30:38.321Z"
   },
   {
    "duration": 30,
    "start_time": "2021-12-01T13:30:38.344Z"
   },
   {
    "duration": 59,
    "start_time": "2021-12-01T13:30:38.378Z"
   },
   {
    "duration": 103,
    "start_time": "2021-12-01T13:30:38.441Z"
   },
   {
    "duration": 108,
    "start_time": "2021-12-01T13:30:38.546Z"
   },
   {
    "duration": 25,
    "start_time": "2021-12-01T13:30:38.671Z"
   },
   {
    "duration": 11,
    "start_time": "2021-12-01T13:30:38.698Z"
   },
   {
    "duration": 21,
    "start_time": "2021-12-01T13:30:38.711Z"
   },
   {
    "duration": 38,
    "start_time": "2021-12-01T13:30:38.735Z"
   },
   {
    "duration": 9,
    "start_time": "2021-12-01T13:30:38.775Z"
   },
   {
    "duration": 29,
    "start_time": "2021-12-01T13:30:38.786Z"
   },
   {
    "duration": 69,
    "start_time": "2021-12-01T13:30:38.817Z"
   },
   {
    "duration": 19,
    "start_time": "2021-12-01T13:30:38.888Z"
   },
   {
    "duration": 19,
    "start_time": "2021-12-01T13:30:38.909Z"
   },
   {
    "duration": 33,
    "start_time": "2021-12-01T13:30:38.930Z"
   },
   {
    "duration": 48,
    "start_time": "2021-12-01T13:30:38.965Z"
   },
   {
    "duration": 44,
    "start_time": "2021-12-01T13:30:39.016Z"
   },
   {
    "duration": 67,
    "start_time": "2021-12-01T13:30:39.062Z"
   },
   {
    "duration": 19,
    "start_time": "2021-12-01T13:30:39.131Z"
   },
   {
    "duration": 12,
    "start_time": "2021-12-01T13:30:39.164Z"
   },
   {
    "duration": 18,
    "start_time": "2021-12-01T13:30:39.177Z"
   },
   {
    "duration": 9,
    "start_time": "2021-12-01T13:30:39.197Z"
   },
   {
    "duration": 15,
    "start_time": "2021-12-01T13:30:39.208Z"
   },
   {
    "duration": 14,
    "start_time": "2021-12-01T13:30:39.225Z"
   },
   {
    "duration": 28,
    "start_time": "2021-12-01T13:30:39.241Z"
   },
   {
    "duration": 9,
    "start_time": "2021-12-01T13:30:39.271Z"
   },
   {
    "duration": 21,
    "start_time": "2021-12-01T13:30:39.282Z"
   },
   {
    "duration": 50,
    "start_time": "2021-12-01T13:30:39.305Z"
   },
   {
    "duration": 4,
    "start_time": "2021-12-01T13:30:39.358Z"
   },
   {
    "duration": 44,
    "start_time": "2021-12-01T13:30:39.364Z"
   },
   {
    "duration": 3,
    "start_time": "2021-12-01T13:30:39.410Z"
   },
   {
    "duration": 45,
    "start_time": "2021-12-01T13:30:39.415Z"
   },
   {
    "duration": 3,
    "start_time": "2021-12-01T13:30:39.462Z"
   },
   {
    "duration": 36,
    "start_time": "2021-12-01T13:30:39.467Z"
   },
   {
    "duration": 6,
    "start_time": "2021-12-01T13:30:39.505Z"
   },
   {
    "duration": 15,
    "start_time": "2021-12-01T13:30:39.513Z"
   },
   {
    "duration": 19,
    "start_time": "2021-12-01T13:30:39.530Z"
   },
   {
    "duration": 19,
    "start_time": "2021-12-01T13:30:39.551Z"
   },
   {
    "duration": 14,
    "start_time": "2021-12-01T13:30:39.578Z"
   },
   {
    "duration": 276,
    "start_time": "2021-12-01T13:30:39.594Z"
   },
   {
    "duration": 23,
    "start_time": "2021-12-01T13:30:39.873Z"
   },
   {
    "duration": 7,
    "start_time": "2021-12-01T13:30:39.898Z"
   },
   {
    "duration": 18,
    "start_time": "2021-12-01T13:30:39.906Z"
   },
   {
    "duration": 17,
    "start_time": "2021-12-01T13:30:39.926Z"
   },
   {
    "duration": 11,
    "start_time": "2021-12-01T13:30:39.945Z"
   },
   {
    "duration": 25,
    "start_time": "2021-12-01T13:30:39.958Z"
   },
   {
    "duration": 585,
    "start_time": "2021-12-01T13:30:39.985Z"
   },
   {
    "duration": 1249,
    "start_time": "2021-12-01T13:30:40.573Z"
   },
   {
    "duration": 66,
    "start_time": "2021-12-01T13:30:41.824Z"
   },
   {
    "duration": 56,
    "start_time": "2021-12-01T13:30:41.892Z"
   },
   {
    "duration": 11,
    "start_time": "2021-12-01T13:30:41.963Z"
   },
   {
    "duration": 11,
    "start_time": "2021-12-01T13:30:41.976Z"
   },
   {
    "duration": 20,
    "start_time": "2021-12-01T13:30:41.989Z"
   },
   {
    "duration": 582,
    "start_time": "2021-12-01T13:30:42.011Z"
   },
   {
    "duration": 742,
    "start_time": "2021-12-01T13:30:42.595Z"
   },
   {
    "duration": 60,
    "start_time": "2021-12-01T13:30:43.338Z"
   },
   {
    "duration": 45,
    "start_time": "2021-12-01T13:30:43.400Z"
   },
   {
    "duration": 23,
    "start_time": "2021-12-01T13:30:43.447Z"
   },
   {
    "duration": 3,
    "start_time": "2021-12-01T13:30:43.472Z"
   },
   {
    "duration": 8,
    "start_time": "2021-12-01T13:30:43.476Z"
   },
   {
    "duration": 640,
    "start_time": "2021-12-01T13:30:43.486Z"
   },
   {
    "duration": 842,
    "start_time": "2021-12-01T13:30:44.128Z"
   },
   {
    "duration": 44,
    "start_time": "2021-12-01T13:30:44.971Z"
   },
   {
    "duration": 65,
    "start_time": "2021-12-01T13:30:45.017Z"
   },
   {
    "duration": 19,
    "start_time": "2021-12-01T13:32:47.028Z"
   },
   {
    "duration": 6,
    "start_time": "2021-12-01T13:33:16.894Z"
   },
   {
    "duration": 9,
    "start_time": "2021-12-01T13:34:43.194Z"
   },
   {
    "duration": 10,
    "start_time": "2021-12-01T13:35:09.823Z"
   },
   {
    "duration": 20,
    "start_time": "2021-12-01T13:46:32.502Z"
   },
   {
    "duration": 11,
    "start_time": "2021-12-01T13:47:02.434Z"
   },
   {
    "duration": 1066,
    "start_time": "2021-12-01T22:07:50.641Z"
   },
   {
    "duration": 148,
    "start_time": "2021-12-01T22:07:51.709Z"
   },
   {
    "duration": 11,
    "start_time": "2021-12-01T22:07:51.859Z"
   },
   {
    "duration": 36,
    "start_time": "2021-12-01T22:07:51.872Z"
   },
   {
    "duration": 126,
    "start_time": "2021-12-01T22:07:51.909Z"
   },
   {
    "duration": 9,
    "start_time": "2021-12-01T22:07:52.036Z"
   },
   {
    "duration": 18,
    "start_time": "2021-12-01T22:07:52.046Z"
   },
   {
    "duration": 90,
    "start_time": "2021-12-01T22:07:52.067Z"
   },
   {
    "duration": 7,
    "start_time": "2021-12-01T22:07:52.159Z"
   },
   {
    "duration": 24,
    "start_time": "2021-12-01T22:07:52.167Z"
   },
   {
    "duration": 16,
    "start_time": "2021-12-01T22:07:52.193Z"
   },
   {
    "duration": 9,
    "start_time": "2021-12-01T22:07:52.211Z"
   },
   {
    "duration": 7,
    "start_time": "2021-12-01T22:07:52.222Z"
   },
   {
    "duration": 30,
    "start_time": "2021-12-01T22:07:52.230Z"
   },
   {
    "duration": 10,
    "start_time": "2021-12-01T22:07:52.262Z"
   },
   {
    "duration": 7,
    "start_time": "2021-12-01T22:07:52.274Z"
   },
   {
    "duration": 10,
    "start_time": "2021-12-01T22:07:52.283Z"
   },
   {
    "duration": 23,
    "start_time": "2021-12-01T22:07:52.295Z"
   },
   {
    "duration": 32,
    "start_time": "2021-12-01T22:07:52.320Z"
   },
   {
    "duration": 91,
    "start_time": "2021-12-01T22:07:52.353Z"
   },
   {
    "duration": 97,
    "start_time": "2021-12-01T22:07:52.445Z"
   },
   {
    "duration": 22,
    "start_time": "2021-12-01T22:07:52.544Z"
   },
   {
    "duration": 22,
    "start_time": "2021-12-01T22:07:52.569Z"
   },
   {
    "duration": 13,
    "start_time": "2021-12-01T22:07:52.593Z"
   },
   {
    "duration": 17,
    "start_time": "2021-12-01T22:07:52.607Z"
   },
   {
    "duration": 7,
    "start_time": "2021-12-01T22:07:52.626Z"
   },
   {
    "duration": 26,
    "start_time": "2021-12-01T22:07:52.635Z"
   },
   {
    "duration": 63,
    "start_time": "2021-12-01T22:07:52.663Z"
   },
   {
    "duration": 17,
    "start_time": "2021-12-01T22:07:52.728Z"
   },
   {
    "duration": 9,
    "start_time": "2021-12-01T22:07:52.747Z"
   },
   {
    "duration": 34,
    "start_time": "2021-12-01T22:07:52.757Z"
   },
   {
    "duration": 14,
    "start_time": "2021-12-01T22:07:52.793Z"
   },
   {
    "duration": 16,
    "start_time": "2021-12-01T22:07:52.809Z"
   },
   {
    "duration": 38,
    "start_time": "2021-12-01T22:07:52.826Z"
   },
   {
    "duration": 38,
    "start_time": "2021-12-01T22:07:52.865Z"
   },
   {
    "duration": 7,
    "start_time": "2021-12-01T22:07:52.905Z"
   },
   {
    "duration": 10,
    "start_time": "2021-12-01T22:07:52.914Z"
   },
   {
    "duration": 10,
    "start_time": "2021-12-01T22:07:52.925Z"
   },
   {
    "duration": 6,
    "start_time": "2021-12-01T22:07:52.937Z"
   },
   {
    "duration": 9,
    "start_time": "2021-12-01T22:07:52.945Z"
   },
   {
    "duration": 10,
    "start_time": "2021-12-01T22:07:52.955Z"
   },
   {
    "duration": 27,
    "start_time": "2021-12-01T22:07:52.966Z"
   },
   {
    "duration": 8,
    "start_time": "2021-12-01T22:07:52.995Z"
   },
   {
    "duration": 25,
    "start_time": "2021-12-01T22:07:53.004Z"
   },
   {
    "duration": 2,
    "start_time": "2021-12-01T22:07:53.031Z"
   },
   {
    "duration": 15,
    "start_time": "2021-12-01T22:07:53.034Z"
   },
   {
    "duration": 2,
    "start_time": "2021-12-01T22:07:53.051Z"
   },
   {
    "duration": 45,
    "start_time": "2021-12-01T22:07:53.055Z"
   },
   {
    "duration": 3,
    "start_time": "2021-12-01T22:07:53.101Z"
   },
   {
    "duration": 18,
    "start_time": "2021-12-01T22:07:53.106Z"
   },
   {
    "duration": 4,
    "start_time": "2021-12-01T22:07:53.125Z"
   },
   {
    "duration": 8,
    "start_time": "2021-12-01T22:07:53.131Z"
   },
   {
    "duration": 5,
    "start_time": "2021-12-01T22:07:53.141Z"
   },
   {
    "duration": 11,
    "start_time": "2021-12-01T22:07:53.147Z"
   },
   {
    "duration": 33,
    "start_time": "2021-12-01T22:07:53.160Z"
   },
   {
    "duration": 235,
    "start_time": "2021-12-01T22:07:53.194Z"
   },
   {
    "duration": 19,
    "start_time": "2021-12-01T22:07:53.430Z"
   },
   {
    "duration": 5,
    "start_time": "2021-12-01T22:07:53.451Z"
   },
   {
    "duration": 4,
    "start_time": "2021-12-01T22:07:53.458Z"
   },
   {
    "duration": 27,
    "start_time": "2021-12-01T22:07:53.464Z"
   },
   {
    "duration": 3,
    "start_time": "2021-12-01T22:07:53.492Z"
   },
   {
    "duration": 9,
    "start_time": "2021-12-01T22:07:53.496Z"
   },
   {
    "duration": 509,
    "start_time": "2021-12-01T22:07:53.507Z"
   },
   {
    "duration": 677,
    "start_time": "2021-12-01T22:07:54.017Z"
   },
   {
    "duration": 39,
    "start_time": "2021-12-01T22:07:54.696Z"
   },
   {
    "duration": 55,
    "start_time": "2021-12-01T22:07:54.737Z"
   },
   {
    "duration": 7,
    "start_time": "2021-12-01T22:07:54.794Z"
   },
   {
    "duration": 2,
    "start_time": "2021-12-01T22:07:54.806Z"
   },
   {
    "duration": 8,
    "start_time": "2021-12-01T22:07:54.810Z"
   },
   {
    "duration": 567,
    "start_time": "2021-12-01T22:07:54.819Z"
   },
   {
    "duration": 752,
    "start_time": "2021-12-01T22:07:55.387Z"
   },
   {
    "duration": 51,
    "start_time": "2021-12-01T22:07:56.141Z"
   },
   {
    "duration": 42,
    "start_time": "2021-12-01T22:07:56.194Z"
   },
   {
    "duration": 7,
    "start_time": "2021-12-01T22:07:56.238Z"
   },
   {
    "duration": 3,
    "start_time": "2021-12-01T22:07:56.246Z"
   },
   {
    "duration": 7,
    "start_time": "2021-12-01T22:07:56.251Z"
   },
   {
    "duration": 564,
    "start_time": "2021-12-01T22:07:56.259Z"
   },
   {
    "duration": 702,
    "start_time": "2021-12-01T22:07:56.824Z"
   },
   {
    "duration": 38,
    "start_time": "2021-12-01T22:07:57.528Z"
   },
   {
    "duration": 53,
    "start_time": "2021-12-01T22:07:57.568Z"
   },
   {
    "duration": 9,
    "start_time": "2021-12-01T22:07:57.622Z"
   },
   {
    "duration": 10,
    "start_time": "2021-12-01T22:07:57.632Z"
   },
   {
    "duration": 21,
    "start_time": "2021-12-01T22:23:16.873Z"
   },
   {
    "duration": 1168,
    "start_time": "2021-12-02T15:45:41.913Z"
   },
   {
    "duration": 152,
    "start_time": "2021-12-02T15:45:43.083Z"
   },
   {
    "duration": 17,
    "start_time": "2021-12-02T15:45:43.237Z"
   },
   {
    "duration": 20,
    "start_time": "2021-12-02T15:45:43.257Z"
   },
   {
    "duration": 149,
    "start_time": "2021-12-02T15:45:43.279Z"
   },
   {
    "duration": 9,
    "start_time": "2021-12-02T15:45:43.429Z"
   },
   {
    "duration": 24,
    "start_time": "2021-12-02T15:45:43.445Z"
   },
   {
    "duration": 90,
    "start_time": "2021-12-02T15:45:43.471Z"
   },
   {
    "duration": 7,
    "start_time": "2021-12-02T15:45:43.563Z"
   },
   {
    "duration": 17,
    "start_time": "2021-12-02T15:45:43.572Z"
   },
   {
    "duration": 24,
    "start_time": "2021-12-02T15:45:43.591Z"
   },
   {
    "duration": 15,
    "start_time": "2021-12-02T15:45:43.617Z"
   },
   {
    "duration": 12,
    "start_time": "2021-12-02T15:45:43.634Z"
   },
   {
    "duration": 32,
    "start_time": "2021-12-02T15:45:43.649Z"
   },
   {
    "duration": 9,
    "start_time": "2021-12-02T15:45:43.682Z"
   },
   {
    "duration": 8,
    "start_time": "2021-12-02T15:45:43.692Z"
   },
   {
    "duration": 10,
    "start_time": "2021-12-02T15:45:43.702Z"
   },
   {
    "duration": 21,
    "start_time": "2021-12-02T15:45:43.714Z"
   },
   {
    "duration": 35,
    "start_time": "2021-12-02T15:45:43.744Z"
   },
   {
    "duration": 78,
    "start_time": "2021-12-02T15:45:43.780Z"
   },
   {
    "duration": 104,
    "start_time": "2021-12-02T15:45:43.859Z"
   },
   {
    "duration": 22,
    "start_time": "2021-12-02T15:45:43.964Z"
   },
   {
    "duration": 9,
    "start_time": "2021-12-02T15:45:43.990Z"
   },
   {
    "duration": 16,
    "start_time": "2021-12-02T15:45:44.002Z"
   },
   {
    "duration": 39,
    "start_time": "2021-12-02T15:45:44.020Z"
   },
   {
    "duration": 367,
    "start_time": "2021-12-02T15:45:44.062Z"
   },
   {
    "duration": 146558,
    "start_time": "2021-12-02T15:43:17.873Z"
   },
   {
    "duration": 146554,
    "start_time": "2021-12-02T15:43:17.878Z"
   },
   {
    "duration": 146546,
    "start_time": "2021-12-02T15:43:17.887Z"
   },
   {
    "duration": 146542,
    "start_time": "2021-12-02T15:43:17.892Z"
   },
   {
    "duration": 146538,
    "start_time": "2021-12-02T15:43:17.897Z"
   },
   {
    "duration": 146531,
    "start_time": "2021-12-02T15:43:17.905Z"
   },
   {
    "duration": 146526,
    "start_time": "2021-12-02T15:43:17.910Z"
   },
   {
    "duration": 146523,
    "start_time": "2021-12-02T15:43:17.914Z"
   },
   {
    "duration": 146515,
    "start_time": "2021-12-02T15:43:17.923Z"
   },
   {
    "duration": 146511,
    "start_time": "2021-12-02T15:43:17.928Z"
   },
   {
    "duration": 146504,
    "start_time": "2021-12-02T15:43:17.936Z"
   },
   {
    "duration": 146500,
    "start_time": "2021-12-02T15:43:17.941Z"
   },
   {
    "duration": 146466,
    "start_time": "2021-12-02T15:43:17.976Z"
   },
   {
    "duration": 146460,
    "start_time": "2021-12-02T15:43:17.983Z"
   },
   {
    "duration": 146455,
    "start_time": "2021-12-02T15:43:17.990Z"
   },
   {
    "duration": 146451,
    "start_time": "2021-12-02T15:43:17.995Z"
   },
   {
    "duration": 146444,
    "start_time": "2021-12-02T15:43:18.004Z"
   },
   {
    "duration": 146441,
    "start_time": "2021-12-02T15:43:18.009Z"
   },
   {
    "duration": 146437,
    "start_time": "2021-12-02T15:43:18.014Z"
   },
   {
    "duration": 146431,
    "start_time": "2021-12-02T15:43:18.022Z"
   },
   {
    "duration": 146429,
    "start_time": "2021-12-02T15:43:18.026Z"
   },
   {
    "duration": 146425,
    "start_time": "2021-12-02T15:43:18.032Z"
   },
   {
    "duration": 146418,
    "start_time": "2021-12-02T15:43:18.040Z"
   },
   {
    "duration": 146415,
    "start_time": "2021-12-02T15:43:18.045Z"
   },
   {
    "duration": 146409,
    "start_time": "2021-12-02T15:43:18.052Z"
   },
   {
    "duration": 146405,
    "start_time": "2021-12-02T15:43:18.057Z"
   },
   {
    "duration": 146400,
    "start_time": "2021-12-02T15:43:18.063Z"
   },
   {
    "duration": 146395,
    "start_time": "2021-12-02T15:43:18.070Z"
   },
   {
    "duration": 146390,
    "start_time": "2021-12-02T15:43:18.075Z"
   },
   {
    "duration": 146385,
    "start_time": "2021-12-02T15:43:18.081Z"
   },
   {
    "duration": 146378,
    "start_time": "2021-12-02T15:43:18.089Z"
   },
   {
    "duration": 146374,
    "start_time": "2021-12-02T15:43:18.094Z"
   },
   {
    "duration": 146370,
    "start_time": "2021-12-02T15:43:18.099Z"
   },
   {
    "duration": 146361,
    "start_time": "2021-12-02T15:43:18.109Z"
   },
   {
    "duration": 146355,
    "start_time": "2021-12-02T15:43:18.115Z"
   },
   {
    "duration": 146349,
    "start_time": "2021-12-02T15:43:18.122Z"
   },
   {
    "duration": 146345,
    "start_time": "2021-12-02T15:43:18.127Z"
   },
   {
    "duration": 146341,
    "start_time": "2021-12-02T15:43:18.132Z"
   },
   {
    "duration": 146334,
    "start_time": "2021-12-02T15:43:18.140Z"
   },
   {
    "duration": 146329,
    "start_time": "2021-12-02T15:43:18.145Z"
   },
   {
    "duration": 146322,
    "start_time": "2021-12-02T15:43:18.153Z"
   },
   {
    "duration": 146304,
    "start_time": "2021-12-02T15:43:18.172Z"
   },
   {
    "duration": 146300,
    "start_time": "2021-12-02T15:43:18.177Z"
   },
   {
    "duration": 146296,
    "start_time": "2021-12-02T15:43:18.182Z"
   },
   {
    "duration": 146287,
    "start_time": "2021-12-02T15:43:18.191Z"
   },
   {
    "duration": 146283,
    "start_time": "2021-12-02T15:43:18.196Z"
   },
   {
    "duration": 146275,
    "start_time": "2021-12-02T15:43:18.205Z"
   },
   {
    "duration": 146272,
    "start_time": "2021-12-02T15:43:18.209Z"
   },
   {
    "duration": 146266,
    "start_time": "2021-12-02T15:43:18.215Z"
   },
   {
    "duration": 146259,
    "start_time": "2021-12-02T15:43:18.223Z"
   },
   {
    "duration": 146255,
    "start_time": "2021-12-02T15:43:18.228Z"
   },
   {
    "duration": 146252,
    "start_time": "2021-12-02T15:43:18.233Z"
   },
   {
    "duration": 146245,
    "start_time": "2021-12-02T15:43:18.241Z"
   },
   {
    "duration": 146241,
    "start_time": "2021-12-02T15:43:18.245Z"
   },
   {
    "duration": 146233,
    "start_time": "2021-12-02T15:43:18.254Z"
   },
   {
    "duration": 146230,
    "start_time": "2021-12-02T15:43:18.258Z"
   },
   {
    "duration": 3,
    "start_time": "2021-12-02T15:48:21.868Z"
   },
   {
    "duration": 191,
    "start_time": "2021-12-02T15:48:21.873Z"
   },
   {
    "duration": 9,
    "start_time": "2021-12-02T15:48:22.067Z"
   },
   {
    "duration": 32,
    "start_time": "2021-12-02T15:48:22.078Z"
   },
   {
    "duration": 160,
    "start_time": "2021-12-02T15:48:22.144Z"
   },
   {
    "duration": 8,
    "start_time": "2021-12-02T15:48:22.306Z"
   },
   {
    "duration": 27,
    "start_time": "2021-12-02T15:48:22.317Z"
   },
   {
    "duration": 87,
    "start_time": "2021-12-02T15:48:22.347Z"
   },
   {
    "duration": 8,
    "start_time": "2021-12-02T15:48:22.436Z"
   },
   {
    "duration": 21,
    "start_time": "2021-12-02T15:48:22.446Z"
   },
   {
    "duration": 22,
    "start_time": "2021-12-02T15:48:22.468Z"
   },
   {
    "duration": 12,
    "start_time": "2021-12-02T15:48:22.492Z"
   },
   {
    "duration": 11,
    "start_time": "2021-12-02T15:48:22.506Z"
   },
   {
    "duration": 32,
    "start_time": "2021-12-02T15:48:22.518Z"
   },
   {
    "duration": 11,
    "start_time": "2021-12-02T15:48:22.553Z"
   },
   {
    "duration": 9,
    "start_time": "2021-12-02T15:48:22.566Z"
   },
   {
    "duration": 10,
    "start_time": "2021-12-02T15:48:22.577Z"
   },
   {
    "duration": 22,
    "start_time": "2021-12-02T15:48:22.589Z"
   },
   {
    "duration": 63,
    "start_time": "2021-12-02T15:48:22.615Z"
   },
   {
    "duration": 5,
    "start_time": "2021-12-02T15:48:22.682Z"
   },
   {
    "duration": 145,
    "start_time": "2021-12-02T15:48:22.690Z"
   },
   {
    "duration": 7175,
    "start_time": "2021-12-02T15:48:22.837Z"
   },
   {
    "duration": 146564,
    "start_time": "2021-12-02T15:46:03.451Z"
   },
   {
    "duration": 146556,
    "start_time": "2021-12-02T15:46:03.460Z"
   },
   {
    "duration": 146552,
    "start_time": "2021-12-02T15:46:03.465Z"
   },
   {
    "duration": 146544,
    "start_time": "2021-12-02T15:46:03.474Z"
   },
   {
    "duration": 146540,
    "start_time": "2021-12-02T15:46:03.479Z"
   },
   {
    "duration": 146536,
    "start_time": "2021-12-02T15:46:03.484Z"
   },
   {
    "duration": 146530,
    "start_time": "2021-12-02T15:46:03.492Z"
   },
   {
    "duration": 146525,
    "start_time": "2021-12-02T15:46:03.497Z"
   },
   {
    "duration": 146517,
    "start_time": "2021-12-02T15:46:03.506Z"
   },
   {
    "duration": 146514,
    "start_time": "2021-12-02T15:46:03.511Z"
   },
   {
    "duration": 146510,
    "start_time": "2021-12-02T15:46:03.516Z"
   },
   {
    "duration": 146503,
    "start_time": "2021-12-02T15:46:03.524Z"
   },
   {
    "duration": 146499,
    "start_time": "2021-12-02T15:46:03.529Z"
   },
   {
    "duration": 146463,
    "start_time": "2021-12-02T15:46:03.566Z"
   },
   {
    "duration": 146455,
    "start_time": "2021-12-02T15:46:03.575Z"
   },
   {
    "duration": 146452,
    "start_time": "2021-12-02T15:46:03.579Z"
   },
   {
    "duration": 146448,
    "start_time": "2021-12-02T15:46:03.584Z"
   },
   {
    "duration": 146440,
    "start_time": "2021-12-02T15:46:03.593Z"
   },
   {
    "duration": 146437,
    "start_time": "2021-12-02T15:46:03.597Z"
   },
   {
    "duration": 146429,
    "start_time": "2021-12-02T15:46:03.606Z"
   },
   {
    "duration": 146425,
    "start_time": "2021-12-02T15:46:03.611Z"
   },
   {
    "duration": 146420,
    "start_time": "2021-12-02T15:46:03.617Z"
   },
   {
    "duration": 146413,
    "start_time": "2021-12-02T15:46:03.625Z"
   },
   {
    "duration": 146410,
    "start_time": "2021-12-02T15:46:03.629Z"
   },
   {
    "duration": 146401,
    "start_time": "2021-12-02T15:46:03.639Z"
   },
   {
    "duration": 146398,
    "start_time": "2021-12-02T15:46:03.643Z"
   },
   {
    "duration": 146393,
    "start_time": "2021-12-02T15:46:03.649Z"
   },
   {
    "duration": 146386,
    "start_time": "2021-12-02T15:46:03.657Z"
   },
   {
    "duration": 146361,
    "start_time": "2021-12-02T15:46:03.684Z"
   },
   {
    "duration": 146354,
    "start_time": "2021-12-02T15:46:03.692Z"
   },
   {
    "duration": 146351,
    "start_time": "2021-12-02T15:46:03.697Z"
   },
   {
    "duration": 146343,
    "start_time": "2021-12-02T15:46:03.706Z"
   },
   {
    "duration": 146340,
    "start_time": "2021-12-02T15:46:03.711Z"
   },
   {
    "duration": 146335,
    "start_time": "2021-12-02T15:46:03.717Z"
   },
   {
    "duration": 146328,
    "start_time": "2021-12-02T15:46:03.725Z"
   },
   {
    "duration": 146325,
    "start_time": "2021-12-02T15:46:03.729Z"
   },
   {
    "duration": 146321,
    "start_time": "2021-12-02T15:46:03.735Z"
   },
   {
    "duration": 146314,
    "start_time": "2021-12-02T15:46:03.743Z"
   },
   {
    "duration": 146310,
    "start_time": "2021-12-02T15:46:03.748Z"
   },
   {
    "duration": 146304,
    "start_time": "2021-12-02T15:46:03.756Z"
   },
   {
    "duration": 146300,
    "start_time": "2021-12-02T15:46:03.761Z"
   },
   {
    "duration": 146295,
    "start_time": "2021-12-02T15:46:03.767Z"
   },
   {
    "duration": 146288,
    "start_time": "2021-12-02T15:46:03.775Z"
   },
   {
    "duration": 146285,
    "start_time": "2021-12-02T15:46:03.779Z"
   },
   {
    "duration": 146280,
    "start_time": "2021-12-02T15:46:03.785Z"
   },
   {
    "duration": 146273,
    "start_time": "2021-12-02T15:46:03.793Z"
   },
   {
    "duration": 146268,
    "start_time": "2021-12-02T15:46:03.799Z"
   },
   {
    "duration": 146260,
    "start_time": "2021-12-02T15:46:03.808Z"
   },
   {
    "duration": 146257,
    "start_time": "2021-12-02T15:46:03.812Z"
   },
   {
    "duration": 146253,
    "start_time": "2021-12-02T15:46:03.817Z"
   },
   {
    "duration": 146245,
    "start_time": "2021-12-02T15:46:03.826Z"
   },
   {
    "duration": 146240,
    "start_time": "2021-12-02T15:46:03.832Z"
   },
   {
    "duration": 146232,
    "start_time": "2021-12-02T15:46:03.840Z"
   },
   {
    "duration": 146229,
    "start_time": "2021-12-02T15:46:03.844Z"
   },
   {
    "duration": 146225,
    "start_time": "2021-12-02T15:46:03.849Z"
   },
   {
    "duration": 146218,
    "start_time": "2021-12-02T15:46:03.857Z"
   },
   {
    "duration": 146214,
    "start_time": "2021-12-02T15:46:03.862Z"
   },
   {
    "duration": 146209,
    "start_time": "2021-12-02T15:46:03.868Z"
   },
   {
    "duration": 146201,
    "start_time": "2021-12-02T15:46:03.877Z"
   },
   {
    "duration": 146197,
    "start_time": "2021-12-02T15:46:03.881Z"
   },
   {
    "duration": 26,
    "start_time": "2021-12-02T15:48:51.324Z"
   },
   {
    "duration": 3,
    "start_time": "2021-12-02T15:49:40.982Z"
   },
   {
    "duration": 185,
    "start_time": "2021-12-02T15:49:40.987Z"
   },
   {
    "duration": 8,
    "start_time": "2021-12-02T15:49:41.174Z"
   },
   {
    "duration": 35,
    "start_time": "2021-12-02T15:49:41.183Z"
   },
   {
    "duration": 175,
    "start_time": "2021-12-02T15:49:41.220Z"
   },
   {
    "duration": 9,
    "start_time": "2021-12-02T15:49:41.396Z"
   },
   {
    "duration": 26,
    "start_time": "2021-12-02T15:49:41.408Z"
   },
   {
    "duration": 95,
    "start_time": "2021-12-02T15:49:41.436Z"
   },
   {
    "duration": 7,
    "start_time": "2021-12-02T15:49:41.532Z"
   },
   {
    "duration": 30,
    "start_time": "2021-12-02T15:49:41.541Z"
   },
   {
    "duration": 47,
    "start_time": "2021-12-02T15:49:41.573Z"
   },
   {
    "duration": 43,
    "start_time": "2021-12-02T15:49:41.622Z"
   },
   {
    "duration": 37,
    "start_time": "2021-12-02T15:49:41.667Z"
   },
   {
    "duration": 42,
    "start_time": "2021-12-02T15:49:41.706Z"
   },
   {
    "duration": 19,
    "start_time": "2021-12-02T15:49:41.752Z"
   },
   {
    "duration": 27,
    "start_time": "2021-12-02T15:49:41.773Z"
   },
   {
    "duration": 20,
    "start_time": "2021-12-02T15:49:41.802Z"
   },
   {
    "duration": 45,
    "start_time": "2021-12-02T15:49:41.824Z"
   },
   {
    "duration": 26,
    "start_time": "2021-12-02T15:49:41.873Z"
   },
   {
    "duration": 4,
    "start_time": "2021-12-02T15:49:41.901Z"
   },
   {
    "duration": 113,
    "start_time": "2021-12-02T15:49:41.906Z"
   },
   {
    "duration": 25,
    "start_time": "2021-12-02T15:49:42.021Z"
   },
   {
    "duration": 26,
    "start_time": "2021-12-02T15:49:42.048Z"
   },
   {
    "duration": 9,
    "start_time": "2021-12-02T15:49:42.076Z"
   },
   {
    "duration": 23,
    "start_time": "2021-12-02T15:49:42.086Z"
   },
   {
    "duration": 38,
    "start_time": "2021-12-02T15:49:42.111Z"
   },
   {
    "duration": 32,
    "start_time": "2021-12-02T15:49:42.151Z"
   },
   {
    "duration": 38,
    "start_time": "2021-12-02T15:49:42.185Z"
   },
   {
    "duration": 27,
    "start_time": "2021-12-02T15:49:42.225Z"
   },
   {
    "duration": 12,
    "start_time": "2021-12-02T15:49:42.254Z"
   },
   {
    "duration": 15,
    "start_time": "2021-12-02T15:49:42.268Z"
   },
   {
    "duration": 35,
    "start_time": "2021-12-02T15:49:42.285Z"
   },
   {
    "duration": 42,
    "start_time": "2021-12-02T15:49:42.322Z"
   },
   {
    "duration": 39,
    "start_time": "2021-12-02T15:49:42.366Z"
   },
   {
    "duration": 15,
    "start_time": "2021-12-02T15:49:42.406Z"
   },
   {
    "duration": 25,
    "start_time": "2021-12-02T15:49:42.422Z"
   },
   {
    "duration": 18,
    "start_time": "2021-12-02T15:49:42.449Z"
   },
   {
    "duration": 14,
    "start_time": "2021-12-02T15:49:42.469Z"
   },
   {
    "duration": 9,
    "start_time": "2021-12-02T15:49:42.485Z"
   },
   {
    "duration": 34,
    "start_time": "2021-12-02T15:49:42.496Z"
   },
   {
    "duration": 27,
    "start_time": "2021-12-02T15:49:42.532Z"
   },
   {
    "duration": 15,
    "start_time": "2021-12-02T15:49:42.561Z"
   },
   {
    "duration": 19,
    "start_time": "2021-12-02T15:49:42.577Z"
   },
   {
    "duration": 31,
    "start_time": "2021-12-02T15:49:42.597Z"
   },
   {
    "duration": 3,
    "start_time": "2021-12-02T15:49:42.629Z"
   },
   {
    "duration": 34,
    "start_time": "2021-12-02T15:49:42.634Z"
   },
   {
    "duration": 3,
    "start_time": "2021-12-02T15:49:42.669Z"
   },
   {
    "duration": 27,
    "start_time": "2021-12-02T15:49:42.674Z"
   },
   {
    "duration": 3,
    "start_time": "2021-12-02T15:49:42.702Z"
   },
   {
    "duration": 295,
    "start_time": "2021-12-02T15:49:42.706Z"
   },
   {
    "duration": 146525,
    "start_time": "2021-12-02T15:47:16.479Z"
   },
   {
    "duration": 146521,
    "start_time": "2021-12-02T15:47:16.484Z"
   },
   {
    "duration": 146517,
    "start_time": "2021-12-02T15:47:16.490Z"
   },
   {
    "duration": 146508,
    "start_time": "2021-12-02T15:47:16.500Z"
   },
   {
    "duration": 146503,
    "start_time": "2021-12-02T15:47:16.505Z"
   },
   {
    "duration": 146496,
    "start_time": "2021-12-02T15:47:16.513Z"
   },
   {
    "duration": 146492,
    "start_time": "2021-12-02T15:47:16.518Z"
   },
   {
    "duration": 146487,
    "start_time": "2021-12-02T15:47:16.524Z"
   },
   {
    "duration": 146479,
    "start_time": "2021-12-02T15:47:16.533Z"
   },
   {
    "duration": 146475,
    "start_time": "2021-12-02T15:47:16.538Z"
   },
   {
    "duration": 146470,
    "start_time": "2021-12-02T15:47:16.544Z"
   },
   {
    "duration": 146463,
    "start_time": "2021-12-02T15:47:16.552Z"
   },
   {
    "duration": 146459,
    "start_time": "2021-12-02T15:47:16.557Z"
   },
   {
    "duration": 146451,
    "start_time": "2021-12-02T15:47:16.566Z"
   },
   {
    "duration": 146447,
    "start_time": "2021-12-02T15:47:16.571Z"
   },
   {
    "duration": 146443,
    "start_time": "2021-12-02T15:47:16.576Z"
   },
   {
    "duration": 146435,
    "start_time": "2021-12-02T15:47:16.585Z"
   },
   {
    "duration": 146430,
    "start_time": "2021-12-02T15:47:16.591Z"
   },
   {
    "duration": 146423,
    "start_time": "2021-12-02T15:47:16.599Z"
   },
   {
    "duration": 146419,
    "start_time": "2021-12-02T15:47:16.604Z"
   },
   {
    "duration": 146415,
    "start_time": "2021-12-02T15:47:16.609Z"
   },
   {
    "duration": 146407,
    "start_time": "2021-12-02T15:47:16.618Z"
   },
   {
    "duration": 146402,
    "start_time": "2021-12-02T15:47:16.624Z"
   },
   {
    "duration": 146395,
    "start_time": "2021-12-02T15:47:16.632Z"
   },
   {
    "duration": 146391,
    "start_time": "2021-12-02T15:47:16.637Z"
   },
   {
    "duration": 146386,
    "start_time": "2021-12-02T15:47:16.643Z"
   },
   {
    "duration": 146380,
    "start_time": "2021-12-02T15:47:16.651Z"
   },
   {
    "duration": 146374,
    "start_time": "2021-12-02T15:47:16.657Z"
   },
   {
    "duration": 146367,
    "start_time": "2021-12-02T15:47:16.665Z"
   },
   {
    "duration": 146363,
    "start_time": "2021-12-02T15:47:16.670Z"
   },
   {
    "duration": 146358,
    "start_time": "2021-12-02T15:47:16.676Z"
   },
   {
    "duration": 146352,
    "start_time": "2021-12-02T15:47:16.684Z"
   },
   {
    "duration": 3,
    "start_time": "2021-12-02T15:51:26.072Z"
   },
   {
    "duration": 210,
    "start_time": "2021-12-02T15:51:26.077Z"
   },
   {
    "duration": 10,
    "start_time": "2021-12-02T15:51:26.293Z"
   },
   {
    "duration": 41,
    "start_time": "2021-12-02T15:51:26.305Z"
   },
   {
    "duration": 174,
    "start_time": "2021-12-02T15:51:26.349Z"
   },
   {
    "duration": 8,
    "start_time": "2021-12-02T15:51:26.525Z"
   },
   {
    "duration": 34,
    "start_time": "2021-12-02T15:51:26.535Z"
   },
   {
    "duration": 96,
    "start_time": "2021-12-02T15:51:26.571Z"
   },
   {
    "duration": 7,
    "start_time": "2021-12-02T15:51:26.669Z"
   },
   {
    "duration": 16,
    "start_time": "2021-12-02T15:51:26.678Z"
   },
   {
    "duration": 18,
    "start_time": "2021-12-02T15:51:26.696Z"
   },
   {
    "duration": 9,
    "start_time": "2021-12-02T15:51:26.716Z"
   },
   {
    "duration": 20,
    "start_time": "2021-12-02T15:51:26.727Z"
   },
   {
    "duration": 30,
    "start_time": "2021-12-02T15:51:26.751Z"
   },
   {
    "duration": 18,
    "start_time": "2021-12-02T15:51:26.783Z"
   },
   {
    "duration": 23,
    "start_time": "2021-12-02T15:51:26.803Z"
   },
   {
    "duration": 11,
    "start_time": "2021-12-02T15:51:26.828Z"
   },
   {
    "duration": 24,
    "start_time": "2021-12-02T15:51:26.841Z"
   },
   {
    "duration": 28,
    "start_time": "2021-12-02T15:51:26.869Z"
   },
   {
    "duration": 5,
    "start_time": "2021-12-02T15:51:26.900Z"
   },
   {
    "duration": 130,
    "start_time": "2021-12-02T15:51:26.907Z"
   },
   {
    "duration": 68,
    "start_time": "2021-12-02T15:51:27.039Z"
   },
   {
    "duration": 63,
    "start_time": "2021-12-02T15:51:27.115Z"
   },
   {
    "duration": 19,
    "start_time": "2021-12-02T15:51:27.185Z"
   },
   {
    "duration": 20,
    "start_time": "2021-12-02T15:51:27.206Z"
   },
   {
    "duration": 28,
    "start_time": "2021-12-02T15:51:27.229Z"
   },
   {
    "duration": 44,
    "start_time": "2021-12-02T15:51:27.259Z"
   },
   {
    "duration": 100,
    "start_time": "2021-12-02T15:51:27.306Z"
   },
   {
    "duration": 27,
    "start_time": "2021-12-02T15:51:27.408Z"
   },
   {
    "duration": 32,
    "start_time": "2021-12-02T15:51:27.443Z"
   },
   {
    "duration": 52,
    "start_time": "2021-12-02T15:51:27.478Z"
   },
   {
    "duration": 25,
    "start_time": "2021-12-02T15:51:27.540Z"
   },
   {
    "duration": 35,
    "start_time": "2021-12-02T15:51:27.568Z"
   },
   {
    "duration": 129,
    "start_time": "2021-12-02T15:51:27.605Z"
   },
   {
    "duration": 33,
    "start_time": "2021-12-02T15:51:27.736Z"
   },
   {
    "duration": 22,
    "start_time": "2021-12-02T15:51:27.771Z"
   },
   {
    "duration": 16,
    "start_time": "2021-12-02T15:51:27.795Z"
   },
   {
    "duration": 33,
    "start_time": "2021-12-02T15:51:27.813Z"
   },
   {
    "duration": 11,
    "start_time": "2021-12-02T15:51:27.849Z"
   },
   {
    "duration": 17,
    "start_time": "2021-12-02T15:51:27.862Z"
   },
   {
    "duration": 40,
    "start_time": "2021-12-02T15:51:27.881Z"
   },
   {
    "duration": 6,
    "start_time": "2021-12-02T15:51:27.929Z"
   },
   {
    "duration": 18,
    "start_time": "2021-12-02T15:51:27.937Z"
   },
   {
    "duration": 42,
    "start_time": "2021-12-02T15:51:27.960Z"
   },
   {
    "duration": 3,
    "start_time": "2021-12-02T15:51:28.004Z"
   },
   {
    "duration": 40,
    "start_time": "2021-12-02T15:51:28.009Z"
   },
   {
    "duration": 7,
    "start_time": "2021-12-02T15:51:28.051Z"
   },
   {
    "duration": 24,
    "start_time": "2021-12-02T15:51:28.060Z"
   },
   {
    "duration": 2,
    "start_time": "2021-12-02T15:51:28.086Z"
   },
   {
    "duration": 24,
    "start_time": "2021-12-02T15:51:28.090Z"
   },
   {
    "duration": 4,
    "start_time": "2021-12-02T15:51:28.116Z"
   },
   {
    "duration": 36,
    "start_time": "2021-12-02T15:51:28.122Z"
   },
   {
    "duration": 9,
    "start_time": "2021-12-02T15:51:28.160Z"
   },
   {
    "duration": 8,
    "start_time": "2021-12-02T15:51:28.170Z"
   },
   {
    "duration": 4,
    "start_time": "2021-12-02T15:51:28.183Z"
   },
   {
    "duration": 293,
    "start_time": "2021-12-02T15:51:28.189Z"
   },
   {
    "duration": 20,
    "start_time": "2021-12-02T15:51:28.483Z"
   },
   {
    "duration": 6,
    "start_time": "2021-12-02T15:51:28.505Z"
   },
   {
    "duration": 9,
    "start_time": "2021-12-02T15:51:28.513Z"
   },
   {
    "duration": 28,
    "start_time": "2021-12-02T15:51:28.524Z"
   },
   {
    "duration": 4,
    "start_time": "2021-12-02T15:51:28.554Z"
   },
   {
    "duration": 11,
    "start_time": "2021-12-02T15:51:28.561Z"
   },
   {
    "duration": 627,
    "start_time": "2021-12-02T15:51:28.574Z"
   },
   {
    "duration": 711,
    "start_time": "2021-12-02T15:51:29.202Z"
   },
   {
    "duration": 53,
    "start_time": "2021-12-02T15:51:29.914Z"
   },
   {
    "duration": 131,
    "start_time": "2021-12-02T15:51:29.969Z"
   },
   {
    "duration": 7,
    "start_time": "2021-12-02T15:51:30.102Z"
   },
   {
    "duration": 15,
    "start_time": "2021-12-02T15:51:30.111Z"
   },
   {
    "duration": 14,
    "start_time": "2021-12-02T15:51:30.127Z"
   },
   {
    "duration": 604,
    "start_time": "2021-12-02T15:51:30.143Z"
   },
   {
    "duration": 692,
    "start_time": "2021-12-02T15:51:30.749Z"
   },
   {
    "duration": 44,
    "start_time": "2021-12-02T15:51:31.444Z"
   },
   {
    "duration": 34,
    "start_time": "2021-12-02T15:51:31.490Z"
   },
   {
    "duration": 31,
    "start_time": "2021-12-02T15:51:31.525Z"
   },
   {
    "duration": 68,
    "start_time": "2021-12-02T15:51:31.559Z"
   },
   {
    "duration": 31,
    "start_time": "2021-12-02T15:51:31.629Z"
   },
   {
    "duration": 698,
    "start_time": "2021-12-02T15:51:31.662Z"
   },
   {
    "duration": 646,
    "start_time": "2021-12-02T15:51:32.363Z"
   },
   {
    "duration": 52,
    "start_time": "2021-12-02T15:51:33.012Z"
   },
   {
    "duration": 37,
    "start_time": "2021-12-02T15:51:33.066Z"
   },
   {
    "duration": 10,
    "start_time": "2021-12-02T15:51:33.105Z"
   },
   {
    "duration": 35,
    "start_time": "2021-12-02T15:51:33.117Z"
   },
   {
    "duration": 4,
    "start_time": "2021-12-02T15:52:13.105Z"
   },
   {
    "duration": 187,
    "start_time": "2021-12-02T15:52:13.111Z"
   },
   {
    "duration": 8,
    "start_time": "2021-12-02T15:52:13.300Z"
   },
   {
    "duration": 54,
    "start_time": "2021-12-02T15:52:13.310Z"
   },
   {
    "duration": 155,
    "start_time": "2021-12-02T15:52:13.366Z"
   },
   {
    "duration": 8,
    "start_time": "2021-12-02T15:52:13.522Z"
   },
   {
    "duration": 30,
    "start_time": "2021-12-02T15:52:13.532Z"
   },
   {
    "duration": 98,
    "start_time": "2021-12-02T15:52:13.564Z"
   },
   {
    "duration": 6,
    "start_time": "2021-12-02T15:52:13.664Z"
   },
   {
    "duration": 17,
    "start_time": "2021-12-02T15:52:13.672Z"
   },
   {
    "duration": 21,
    "start_time": "2021-12-02T15:52:13.690Z"
   },
   {
    "duration": 11,
    "start_time": "2021-12-02T15:52:13.712Z"
   },
   {
    "duration": 19,
    "start_time": "2021-12-02T15:52:13.725Z"
   },
   {
    "duration": 40,
    "start_time": "2021-12-02T15:52:13.747Z"
   },
   {
    "duration": 10,
    "start_time": "2021-12-02T15:52:13.789Z"
   },
   {
    "duration": 11,
    "start_time": "2021-12-02T15:52:13.801Z"
   },
   {
    "duration": 10,
    "start_time": "2021-12-02T15:52:13.814Z"
   },
   {
    "duration": 26,
    "start_time": "2021-12-02T15:52:13.826Z"
   },
   {
    "duration": 27,
    "start_time": "2021-12-02T15:52:13.859Z"
   },
   {
    "duration": 4,
    "start_time": "2021-12-02T15:52:13.889Z"
   },
   {
    "duration": 108,
    "start_time": "2021-12-02T15:52:13.895Z"
   },
   {
    "duration": 22,
    "start_time": "2021-12-02T15:52:14.005Z"
   },
   {
    "duration": 37,
    "start_time": "2021-12-02T15:52:14.029Z"
   },
   {
    "duration": 9,
    "start_time": "2021-12-02T15:52:14.068Z"
   },
   {
    "duration": 31,
    "start_time": "2021-12-02T15:52:14.078Z"
   },
   {
    "duration": 26,
    "start_time": "2021-12-02T15:52:14.111Z"
   },
   {
    "duration": 34,
    "start_time": "2021-12-02T15:52:14.139Z"
   },
   {
    "duration": 40,
    "start_time": "2021-12-02T15:52:14.175Z"
   },
   {
    "duration": 19,
    "start_time": "2021-12-02T15:52:14.217Z"
   },
   {
    "duration": 45,
    "start_time": "2021-12-02T15:52:14.238Z"
   },
   {
    "duration": 13,
    "start_time": "2021-12-02T15:52:14.285Z"
   },
   {
    "duration": 37,
    "start_time": "2021-12-02T15:52:14.300Z"
   },
   {
    "duration": 64,
    "start_time": "2021-12-02T15:52:14.339Z"
   },
   {
    "duration": 50,
    "start_time": "2021-12-02T15:52:14.405Z"
   },
   {
    "duration": 14,
    "start_time": "2021-12-02T15:52:14.459Z"
   },
   {
    "duration": 12,
    "start_time": "2021-12-02T15:52:14.475Z"
   },
   {
    "duration": 36,
    "start_time": "2021-12-02T15:52:14.489Z"
   },
   {
    "duration": 25,
    "start_time": "2021-12-02T15:52:14.527Z"
   },
   {
    "duration": 14,
    "start_time": "2021-12-02T15:52:14.555Z"
   },
   {
    "duration": 18,
    "start_time": "2021-12-02T15:52:14.571Z"
   },
   {
    "duration": 13,
    "start_time": "2021-12-02T15:52:14.591Z"
   },
   {
    "duration": 15,
    "start_time": "2021-12-02T15:52:14.606Z"
   },
   {
    "duration": 14,
    "start_time": "2021-12-02T15:52:14.623Z"
   },
   {
    "duration": 40,
    "start_time": "2021-12-02T15:52:14.638Z"
   },
   {
    "duration": 3,
    "start_time": "2021-12-02T15:52:14.679Z"
   },
   {
    "duration": 46,
    "start_time": "2021-12-02T15:52:14.683Z"
   },
   {
    "duration": 3,
    "start_time": "2021-12-02T15:52:14.731Z"
   },
   {
    "duration": 39,
    "start_time": "2021-12-02T15:52:14.736Z"
   },
   {
    "duration": 3,
    "start_time": "2021-12-02T15:52:14.777Z"
   },
   {
    "duration": 22,
    "start_time": "2021-12-02T15:52:14.781Z"
   },
   {
    "duration": 4,
    "start_time": "2021-12-02T15:52:14.805Z"
   },
   {
    "duration": 14,
    "start_time": "2021-12-02T15:52:14.810Z"
   },
   {
    "duration": 5,
    "start_time": "2021-12-02T15:52:14.826Z"
   },
   {
    "duration": 32,
    "start_time": "2021-12-02T15:52:14.832Z"
   },
   {
    "duration": 9,
    "start_time": "2021-12-02T15:52:14.870Z"
   },
   {
    "duration": 353,
    "start_time": "2021-12-02T15:52:14.881Z"
   },
   {
    "duration": 29,
    "start_time": "2021-12-02T15:52:15.235Z"
   },
   {
    "duration": 8,
    "start_time": "2021-12-02T15:52:15.267Z"
   },
   {
    "duration": 15,
    "start_time": "2021-12-02T15:52:15.277Z"
   },
   {
    "duration": 13,
    "start_time": "2021-12-02T15:52:15.294Z"
   },
   {
    "duration": 13,
    "start_time": "2021-12-02T15:52:15.310Z"
   },
   {
    "duration": 28,
    "start_time": "2021-12-02T15:52:15.325Z"
   },
   {
    "duration": 583,
    "start_time": "2021-12-02T15:52:15.355Z"
   },
   {
    "duration": 761,
    "start_time": "2021-12-02T15:52:15.944Z"
   },
   {
    "duration": 52,
    "start_time": "2021-12-02T15:52:16.707Z"
   },
   {
    "duration": 34,
    "start_time": "2021-12-02T15:52:16.761Z"
   },
   {
    "duration": 7,
    "start_time": "2021-12-02T15:52:16.797Z"
   },
   {
    "duration": 13,
    "start_time": "2021-12-02T15:52:16.805Z"
   },
   {
    "duration": 14,
    "start_time": "2021-12-02T15:52:16.820Z"
   },
   {
    "duration": 554,
    "start_time": "2021-12-02T15:52:16.836Z"
   },
   {
    "duration": 653,
    "start_time": "2021-12-02T15:52:17.391Z"
   },
   {
    "duration": 41,
    "start_time": "2021-12-02T15:52:18.047Z"
   },
   {
    "duration": 61,
    "start_time": "2021-12-02T15:52:18.089Z"
   },
   {
    "duration": 10,
    "start_time": "2021-12-02T15:52:18.153Z"
   },
   {
    "duration": 21,
    "start_time": "2021-12-02T15:52:18.165Z"
   },
   {
    "duration": 30,
    "start_time": "2021-12-02T15:52:18.188Z"
   },
   {
    "duration": 686,
    "start_time": "2021-12-02T15:52:18.220Z"
   },
   {
    "duration": 691,
    "start_time": "2021-12-02T15:52:18.907Z"
   },
   {
    "duration": 53,
    "start_time": "2021-12-02T15:52:19.600Z"
   },
   {
    "duration": 37,
    "start_time": "2021-12-02T15:52:19.656Z"
   },
   {
    "duration": 7,
    "start_time": "2021-12-02T15:52:19.695Z"
   },
   {
    "duration": 16,
    "start_time": "2021-12-02T15:52:19.704Z"
   },
   {
    "duration": 662,
    "start_time": "2021-12-02T15:54:30.497Z"
   },
   {
    "duration": 618,
    "start_time": "2021-12-02T15:54:42.889Z"
   },
   {
    "duration": 7,
    "start_time": "2021-12-02T15:55:24.971Z"
   },
   {
    "duration": 11,
    "start_time": "2021-12-02T15:55:46.234Z"
   },
   {
    "duration": 256,
    "start_time": "2021-12-02T15:55:58.531Z"
   },
   {
    "duration": 265,
    "start_time": "2021-12-02T15:56:04.967Z"
   },
   {
    "duration": 3,
    "start_time": "2021-12-02T15:56:44.905Z"
   },
   {
    "duration": 290,
    "start_time": "2021-12-02T15:56:44.910Z"
   },
   {
    "duration": 8,
    "start_time": "2021-12-02T15:56:45.202Z"
   },
   {
    "duration": 52,
    "start_time": "2021-12-02T15:56:45.212Z"
   },
   {
    "duration": 191,
    "start_time": "2021-12-02T15:56:45.265Z"
   },
   {
    "duration": 9,
    "start_time": "2021-12-02T15:56:45.459Z"
   },
   {
    "duration": 19,
    "start_time": "2021-12-02T15:56:45.472Z"
   },
   {
    "duration": 121,
    "start_time": "2021-12-02T15:56:45.494Z"
   },
   {
    "duration": 7,
    "start_time": "2021-12-02T15:56:45.617Z"
   },
   {
    "duration": 34,
    "start_time": "2021-12-02T15:56:45.626Z"
   },
   {
    "duration": 39,
    "start_time": "2021-12-02T15:56:45.662Z"
   },
   {
    "duration": 11,
    "start_time": "2021-12-02T15:56:45.703Z"
   },
   {
    "duration": 10,
    "start_time": "2021-12-02T15:56:45.716Z"
   },
   {
    "duration": 36,
    "start_time": "2021-12-02T15:56:45.728Z"
   },
   {
    "duration": 10,
    "start_time": "2021-12-02T15:56:45.767Z"
   },
   {
    "duration": 7,
    "start_time": "2021-12-02T15:56:45.778Z"
   },
   {
    "duration": 22,
    "start_time": "2021-12-02T15:56:45.787Z"
   },
   {
    "duration": 27,
    "start_time": "2021-12-02T15:56:45.811Z"
   },
   {
    "duration": 38,
    "start_time": "2021-12-02T15:56:45.842Z"
   },
   {
    "duration": 5,
    "start_time": "2021-12-02T15:56:45.883Z"
   },
   {
    "duration": 121,
    "start_time": "2021-12-02T15:56:45.890Z"
   },
   {
    "duration": 36,
    "start_time": "2021-12-02T15:56:46.014Z"
   },
   {
    "duration": 26,
    "start_time": "2021-12-02T15:56:46.053Z"
   },
   {
    "duration": 10,
    "start_time": "2021-12-02T15:56:46.081Z"
   },
   {
    "duration": 16,
    "start_time": "2021-12-02T15:56:46.093Z"
   },
   {
    "duration": 42,
    "start_time": "2021-12-02T15:56:46.111Z"
   },
   {
    "duration": 30,
    "start_time": "2021-12-02T15:56:46.156Z"
   },
   {
    "duration": 63,
    "start_time": "2021-12-02T15:56:46.188Z"
   },
   {
    "duration": 24,
    "start_time": "2021-12-02T15:56:46.253Z"
   },
   {
    "duration": 10,
    "start_time": "2021-12-02T15:56:46.280Z"
   },
   {
    "duration": 9,
    "start_time": "2021-12-02T15:56:46.291Z"
   },
   {
    "duration": 16,
    "start_time": "2021-12-02T15:56:46.302Z"
   },
   {
    "duration": 49,
    "start_time": "2021-12-02T15:56:46.320Z"
   },
   {
    "duration": 53,
    "start_time": "2021-12-02T15:56:46.372Z"
   },
   {
    "duration": 37,
    "start_time": "2021-12-02T15:56:46.427Z"
   },
   {
    "duration": 10,
    "start_time": "2021-12-02T15:56:46.466Z"
   },
   {
    "duration": 17,
    "start_time": "2021-12-02T15:56:46.478Z"
   },
   {
    "duration": 9,
    "start_time": "2021-12-02T15:56:46.497Z"
   },
   {
    "duration": 48,
    "start_time": "2021-12-02T15:56:46.508Z"
   },
   {
    "duration": 14,
    "start_time": "2021-12-02T15:56:46.559Z"
   },
   {
    "duration": 11,
    "start_time": "2021-12-02T15:56:46.575Z"
   },
   {
    "duration": 7,
    "start_time": "2021-12-02T15:56:46.588Z"
   },
   {
    "duration": 8,
    "start_time": "2021-12-02T15:56:46.596Z"
   },
   {
    "duration": 27,
    "start_time": "2021-12-02T15:56:46.606Z"
   },
   {
    "duration": 3,
    "start_time": "2021-12-02T15:56:46.634Z"
   },
   {
    "duration": 43,
    "start_time": "2021-12-02T15:56:46.638Z"
   },
   {
    "duration": 3,
    "start_time": "2021-12-02T15:56:46.683Z"
   },
   {
    "duration": 20,
    "start_time": "2021-12-02T15:56:46.687Z"
   },
   {
    "duration": 2,
    "start_time": "2021-12-02T15:56:46.709Z"
   },
   {
    "duration": 35,
    "start_time": "2021-12-02T15:56:46.713Z"
   },
   {
    "duration": 7,
    "start_time": "2021-12-02T15:56:46.749Z"
   },
   {
    "duration": 10,
    "start_time": "2021-12-02T15:56:46.758Z"
   },
   {
    "duration": 24,
    "start_time": "2021-12-02T15:56:46.770Z"
   },
   {
    "duration": 9,
    "start_time": "2021-12-02T15:56:46.797Z"
   },
   {
    "duration": 4,
    "start_time": "2021-12-02T15:56:46.811Z"
   },
   {
    "duration": 286,
    "start_time": "2021-12-02T15:56:46.817Z"
   },
   {
    "duration": 16,
    "start_time": "2021-12-02T15:56:47.105Z"
   },
   {
    "duration": 25,
    "start_time": "2021-12-02T15:56:47.123Z"
   },
   {
    "duration": 3,
    "start_time": "2021-12-02T15:56:47.151Z"
   },
   {
    "duration": 21,
    "start_time": "2021-12-02T15:56:47.156Z"
   },
   {
    "duration": 2,
    "start_time": "2021-12-02T15:56:47.179Z"
   },
   {
    "duration": 8,
    "start_time": "2021-12-02T15:56:47.183Z"
   },
   {
    "duration": 688,
    "start_time": "2021-12-02T15:56:47.192Z"
   },
   {
    "duration": 858,
    "start_time": "2021-12-02T15:56:47.882Z"
   },
   {
    "duration": 45,
    "start_time": "2021-12-02T15:56:48.742Z"
   },
   {
    "duration": 37,
    "start_time": "2021-12-02T15:56:48.789Z"
   },
   {
    "duration": 36,
    "start_time": "2021-12-02T15:56:48.828Z"
   },
   {
    "duration": 4,
    "start_time": "2021-12-02T15:56:48.868Z"
   },
   {
    "duration": 8,
    "start_time": "2021-12-02T15:56:48.874Z"
   },
   {
    "duration": 617,
    "start_time": "2021-12-02T15:56:48.884Z"
   },
   {
    "duration": 718,
    "start_time": "2021-12-02T15:56:49.503Z"
   },
   {
    "duration": 46,
    "start_time": "2021-12-02T15:56:50.223Z"
   },
   {
    "duration": 37,
    "start_time": "2021-12-02T15:56:50.270Z"
   },
   {
    "duration": 12,
    "start_time": "2021-12-02T15:56:50.309Z"
   },
   {
    "duration": 6,
    "start_time": "2021-12-02T15:56:50.323Z"
   },
   {
    "duration": 10,
    "start_time": "2021-12-02T15:56:50.344Z"
   },
   {
    "duration": 624,
    "start_time": "2021-12-02T15:56:50.357Z"
   },
   {
    "duration": 701,
    "start_time": "2021-12-02T15:56:50.983Z"
   },
   {
    "duration": 35,
    "start_time": "2021-12-02T15:56:51.686Z"
   },
   {
    "duration": 65,
    "start_time": "2021-12-02T15:56:51.723Z"
   },
   {
    "duration": 7,
    "start_time": "2021-12-02T15:56:51.790Z"
   },
   {
    "duration": 8,
    "start_time": "2021-12-02T15:56:51.798Z"
   },
   {
    "duration": 593,
    "start_time": "2021-12-02T15:59:39.318Z"
   },
   {
    "duration": 905,
    "start_time": "2021-12-02T16:02:26.747Z"
   },
   {
    "duration": 984,
    "start_time": "2021-12-02T16:02:36.887Z"
   },
   {
    "duration": 595,
    "start_time": "2021-12-02T16:02:43.632Z"
   },
   {
    "duration": 593,
    "start_time": "2021-12-02T16:04:11.999Z"
   },
   {
    "duration": 593,
    "start_time": "2021-12-02T16:04:39.299Z"
   },
   {
    "duration": 579,
    "start_time": "2021-12-02T16:04:59.899Z"
   },
   {
    "duration": 3,
    "start_time": "2021-12-02T16:12:53.492Z"
   },
   {
    "duration": 181,
    "start_time": "2021-12-02T16:12:53.496Z"
   },
   {
    "duration": 8,
    "start_time": "2021-12-02T16:12:53.679Z"
   },
   {
    "duration": 21,
    "start_time": "2021-12-02T16:12:53.688Z"
   },
   {
    "duration": 188,
    "start_time": "2021-12-02T16:12:53.711Z"
   },
   {
    "duration": 8,
    "start_time": "2021-12-02T16:12:53.901Z"
   },
   {
    "duration": 18,
    "start_time": "2021-12-02T16:12:53.912Z"
   },
   {
    "duration": 95,
    "start_time": "2021-12-02T16:12:53.932Z"
   },
   {
    "duration": 7,
    "start_time": "2021-12-02T16:12:54.028Z"
   },
   {
    "duration": 22,
    "start_time": "2021-12-02T16:12:54.046Z"
   },
   {
    "duration": 18,
    "start_time": "2021-12-02T16:12:54.070Z"
   },
   {
    "duration": 10,
    "start_time": "2021-12-02T16:12:54.090Z"
   },
   {
    "duration": 7,
    "start_time": "2021-12-02T16:12:54.102Z"
   },
   {
    "duration": 31,
    "start_time": "2021-12-02T16:12:54.111Z"
   },
   {
    "duration": 15,
    "start_time": "2021-12-02T16:12:54.144Z"
   },
   {
    "duration": 7,
    "start_time": "2021-12-02T16:12:54.161Z"
   },
   {
    "duration": 12,
    "start_time": "2021-12-02T16:12:54.169Z"
   },
   {
    "duration": 23,
    "start_time": "2021-12-02T16:12:54.183Z"
   },
   {
    "duration": 46,
    "start_time": "2021-12-02T16:12:54.210Z"
   },
   {
    "duration": 4,
    "start_time": "2021-12-02T16:12:54.258Z"
   },
   {
    "duration": 102,
    "start_time": "2021-12-02T16:12:54.264Z"
   },
   {
    "duration": 21,
    "start_time": "2021-12-02T16:12:54.368Z"
   },
   {
    "duration": 8,
    "start_time": "2021-12-02T16:12:54.391Z"
   },
   {
    "duration": 12,
    "start_time": "2021-12-02T16:12:54.401Z"
   },
   {
    "duration": 49,
    "start_time": "2021-12-02T16:12:54.414Z"
   },
   {
    "duration": 22,
    "start_time": "2021-12-02T16:12:54.465Z"
   },
   {
    "duration": 66,
    "start_time": "2021-12-02T16:12:54.489Z"
   },
   {
    "duration": 19,
    "start_time": "2021-12-02T16:12:54.557Z"
   },
   {
    "duration": 9,
    "start_time": "2021-12-02T16:12:54.577Z"
   },
   {
    "duration": 10,
    "start_time": "2021-12-02T16:12:54.587Z"
   },
   {
    "duration": 16,
    "start_time": "2021-12-02T16:12:54.598Z"
   },
   {
    "duration": 45,
    "start_time": "2021-12-02T16:12:54.615Z"
   },
   {
    "duration": 42,
    "start_time": "2021-12-02T16:12:54.662Z"
   },
   {
    "duration": 15,
    "start_time": "2021-12-02T16:12:54.705Z"
   },
   {
    "duration": 32,
    "start_time": "2021-12-02T16:12:54.722Z"
   },
   {
    "duration": 12,
    "start_time": "2021-12-02T16:12:54.757Z"
   },
   {
    "duration": 21,
    "start_time": "2021-12-02T16:12:54.771Z"
   },
   {
    "duration": 15,
    "start_time": "2021-12-02T16:12:54.794Z"
   },
   {
    "duration": 17,
    "start_time": "2021-12-02T16:12:54.812Z"
   },
   {
    "duration": 19,
    "start_time": "2021-12-02T16:12:54.831Z"
   },
   {
    "duration": 33,
    "start_time": "2021-12-02T16:12:54.853Z"
   },
   {
    "duration": 22,
    "start_time": "2021-12-02T16:12:54.888Z"
   },
   {
    "duration": 29,
    "start_time": "2021-12-02T16:12:54.911Z"
   },
   {
    "duration": 4,
    "start_time": "2021-12-02T16:12:54.942Z"
   },
   {
    "duration": 32,
    "start_time": "2021-12-02T16:12:54.949Z"
   },
   {
    "duration": 3,
    "start_time": "2021-12-02T16:12:54.982Z"
   },
   {
    "duration": 34,
    "start_time": "2021-12-02T16:12:54.986Z"
   },
   {
    "duration": 2,
    "start_time": "2021-12-02T16:12:55.022Z"
   },
   {
    "duration": 39,
    "start_time": "2021-12-02T16:12:55.026Z"
   },
   {
    "duration": 5,
    "start_time": "2021-12-02T16:12:55.068Z"
   },
   {
    "duration": 11,
    "start_time": "2021-12-02T16:12:55.075Z"
   },
   {
    "duration": 6,
    "start_time": "2021-12-02T16:12:55.088Z"
   },
   {
    "duration": 11,
    "start_time": "2021-12-02T16:12:55.096Z"
   },
   {
    "duration": 5,
    "start_time": "2021-12-02T16:12:55.108Z"
   },
   {
    "duration": 298,
    "start_time": "2021-12-02T16:12:55.117Z"
   },
   {
    "duration": 26,
    "start_time": "2021-12-02T16:12:55.418Z"
   },
   {
    "duration": 10,
    "start_time": "2021-12-02T16:12:55.447Z"
   },
   {
    "duration": 16,
    "start_time": "2021-12-02T16:12:55.460Z"
   },
   {
    "duration": 2,
    "start_time": "2021-12-02T16:12:55.478Z"
   },
   {
    "duration": 5,
    "start_time": "2021-12-02T16:12:55.482Z"
   },
   {
    "duration": 633,
    "start_time": "2021-12-02T16:12:55.489Z"
   },
   {
    "duration": 670,
    "start_time": "2021-12-02T16:12:56.124Z"
   },
   {
    "duration": 34,
    "start_time": "2021-12-02T16:12:56.795Z"
   },
   {
    "duration": 52,
    "start_time": "2021-12-02T16:12:56.831Z"
   },
   {
    "duration": 8,
    "start_time": "2021-12-02T16:12:56.885Z"
   },
   {
    "duration": 16,
    "start_time": "2021-12-02T16:12:56.895Z"
   },
   {
    "duration": 25,
    "start_time": "2021-12-02T16:12:56.913Z"
   },
   {
    "duration": 704,
    "start_time": "2021-12-02T16:12:56.940Z"
   },
   {
    "duration": 865,
    "start_time": "2021-12-02T16:12:57.647Z"
   },
   {
    "duration": 54,
    "start_time": "2021-12-02T16:12:58.514Z"
   },
   {
    "duration": 33,
    "start_time": "2021-12-02T16:12:58.570Z"
   },
   {
    "duration": 8,
    "start_time": "2021-12-02T16:12:58.605Z"
   },
   {
    "duration": 2,
    "start_time": "2021-12-02T16:12:58.615Z"
   },
   {
    "duration": 30,
    "start_time": "2021-12-02T16:12:58.619Z"
   },
   {
    "duration": 555,
    "start_time": "2021-12-02T16:12:58.651Z"
   },
   {
    "duration": 665,
    "start_time": "2021-12-02T16:12:59.207Z"
   },
   {
    "duration": 33,
    "start_time": "2021-12-02T16:12:59.874Z"
   },
   {
    "duration": 60,
    "start_time": "2021-12-02T16:12:59.909Z"
   },
   {
    "duration": 8,
    "start_time": "2021-12-02T16:12:59.971Z"
   },
   {
    "duration": 7,
    "start_time": "2021-12-02T16:12:59.981Z"
   },
   {
    "duration": 6,
    "start_time": "2021-12-02T16:13:43.789Z"
   },
   {
    "duration": 6,
    "start_time": "2021-12-02T16:14:22.330Z"
   },
   {
    "duration": 594,
    "start_time": "2021-12-02T16:14:56.484Z"
   },
   {
    "duration": 540,
    "start_time": "2021-12-02T16:15:11.066Z"
   },
   {
    "duration": 586,
    "start_time": "2021-12-02T16:15:25.604Z"
   },
   {
    "duration": 666,
    "start_time": "2021-12-02T16:15:33.241Z"
   },
   {
    "duration": 252,
    "start_time": "2021-12-02T16:16:41.059Z"
   },
   {
    "duration": 3,
    "start_time": "2021-12-02T16:16:49.934Z"
   },
   {
    "duration": 168,
    "start_time": "2021-12-02T16:16:49.939Z"
   },
   {
    "duration": 8,
    "start_time": "2021-12-02T16:16:50.109Z"
   },
   {
    "duration": 49,
    "start_time": "2021-12-02T16:16:50.119Z"
   },
   {
    "duration": 155,
    "start_time": "2021-12-02T16:16:50.169Z"
   },
   {
    "duration": 8,
    "start_time": "2021-12-02T16:16:50.326Z"
   },
   {
    "duration": 28,
    "start_time": "2021-12-02T16:16:50.345Z"
   },
   {
    "duration": 98,
    "start_time": "2021-12-02T16:16:50.376Z"
   },
   {
    "duration": 7,
    "start_time": "2021-12-02T16:16:50.477Z"
   },
   {
    "duration": 20,
    "start_time": "2021-12-02T16:16:50.486Z"
   },
   {
    "duration": 29,
    "start_time": "2021-12-02T16:16:50.508Z"
   },
   {
    "duration": 17,
    "start_time": "2021-12-02T16:16:50.539Z"
   },
   {
    "duration": 9,
    "start_time": "2021-12-02T16:16:50.559Z"
   },
   {
    "duration": 36,
    "start_time": "2021-12-02T16:16:50.569Z"
   },
   {
    "duration": 10,
    "start_time": "2021-12-02T16:16:50.607Z"
   },
   {
    "duration": 9,
    "start_time": "2021-12-02T16:16:50.619Z"
   },
   {
    "duration": 9,
    "start_time": "2021-12-02T16:16:50.630Z"
   },
   {
    "duration": 28,
    "start_time": "2021-12-02T16:16:50.641Z"
   },
   {
    "duration": 24,
    "start_time": "2021-12-02T16:16:50.673Z"
   },
   {
    "duration": 4,
    "start_time": "2021-12-02T16:16:50.699Z"
   },
   {
    "duration": 93,
    "start_time": "2021-12-02T16:16:50.704Z"
   },
   {
    "duration": 22,
    "start_time": "2021-12-02T16:16:50.798Z"
   },
   {
    "duration": 26,
    "start_time": "2021-12-02T16:16:50.821Z"
   },
   {
    "duration": 16,
    "start_time": "2021-12-02T16:16:50.849Z"
   },
   {
    "duration": 19,
    "start_time": "2021-12-02T16:16:50.867Z"
   },
   {
    "duration": 18,
    "start_time": "2021-12-02T16:16:50.888Z"
   },
   {
    "duration": 56,
    "start_time": "2021-12-02T16:16:50.908Z"
   },
   {
    "duration": 16,
    "start_time": "2021-12-02T16:16:50.965Z"
   },
   {
    "duration": 9,
    "start_time": "2021-12-02T16:16:50.982Z"
   },
   {
    "duration": 9,
    "start_time": "2021-12-02T16:16:50.992Z"
   },
   {
    "duration": 22,
    "start_time": "2021-12-02T16:16:51.002Z"
   },
   {
    "duration": 40,
    "start_time": "2021-12-02T16:16:51.025Z"
   },
   {
    "duration": 38,
    "start_time": "2021-12-02T16:16:51.067Z"
   },
   {
    "duration": 38,
    "start_time": "2021-12-02T16:16:51.107Z"
   },
   {
    "duration": 12,
    "start_time": "2021-12-02T16:16:51.149Z"
   },
   {
    "duration": 20,
    "start_time": "2021-12-02T16:16:51.163Z"
   },
   {
    "duration": 8,
    "start_time": "2021-12-02T16:16:51.185Z"
   },
   {
    "duration": 22,
    "start_time": "2021-12-02T16:16:51.195Z"
   },
   {
    "duration": 20,
    "start_time": "2021-12-02T16:16:51.218Z"
   },
   {
    "duration": 28,
    "start_time": "2021-12-02T16:16:51.240Z"
   },
   {
    "duration": 13,
    "start_time": "2021-12-02T16:16:51.270Z"
   },
   {
    "duration": 23,
    "start_time": "2021-12-02T16:16:51.286Z"
   },
   {
    "duration": 27,
    "start_time": "2021-12-02T16:16:51.312Z"
   },
   {
    "duration": 3,
    "start_time": "2021-12-02T16:16:51.341Z"
   },
   {
    "duration": 41,
    "start_time": "2021-12-02T16:16:51.346Z"
   },
   {
    "duration": 2,
    "start_time": "2021-12-02T16:16:51.389Z"
   },
   {
    "duration": 41,
    "start_time": "2021-12-02T16:16:51.393Z"
   },
   {
    "duration": 4,
    "start_time": "2021-12-02T16:16:51.436Z"
   },
   {
    "duration": 42,
    "start_time": "2021-12-02T16:16:51.441Z"
   },
   {
    "duration": 6,
    "start_time": "2021-12-02T16:16:51.485Z"
   },
   {
    "duration": 20,
    "start_time": "2021-12-02T16:16:51.493Z"
   },
   {
    "duration": 7,
    "start_time": "2021-12-02T16:16:51.514Z"
   },
   {
    "duration": 19,
    "start_time": "2021-12-02T16:16:51.522Z"
   },
   {
    "duration": 12,
    "start_time": "2021-12-02T16:16:51.543Z"
   },
   {
    "duration": 313,
    "start_time": "2021-12-02T16:16:51.561Z"
   },
   {
    "duration": 17,
    "start_time": "2021-12-02T16:16:51.876Z"
   },
   {
    "duration": 31,
    "start_time": "2021-12-02T16:16:51.895Z"
   },
   {
    "duration": 27,
    "start_time": "2021-12-02T16:16:51.927Z"
   },
   {
    "duration": 16,
    "start_time": "2021-12-02T16:16:51.956Z"
   },
   {
    "duration": 22,
    "start_time": "2021-12-02T16:16:51.974Z"
   },
   {
    "duration": 651,
    "start_time": "2021-12-02T16:16:51.998Z"
   },
   {
    "duration": 885,
    "start_time": "2021-12-02T16:16:52.652Z"
   },
   {
    "duration": 40,
    "start_time": "2021-12-02T16:16:53.544Z"
   },
   {
    "duration": 33,
    "start_time": "2021-12-02T16:16:53.586Z"
   },
   {
    "duration": 34,
    "start_time": "2021-12-02T16:16:53.620Z"
   },
   {
    "duration": 24,
    "start_time": "2021-12-02T16:16:53.656Z"
   },
   {
    "duration": 27,
    "start_time": "2021-12-02T16:16:53.682Z"
   },
   {
    "duration": 605,
    "start_time": "2021-12-02T16:16:53.711Z"
   },
   {
    "duration": 826,
    "start_time": "2021-12-02T16:16:54.318Z"
   },
   {
    "duration": 38,
    "start_time": "2021-12-02T16:16:55.150Z"
   },
   {
    "duration": 35,
    "start_time": "2021-12-02T16:16:55.190Z"
   },
   {
    "duration": 26,
    "start_time": "2021-12-02T16:16:55.227Z"
   },
   {
    "duration": 10,
    "start_time": "2021-12-02T16:16:55.259Z"
   },
   {
    "duration": 30,
    "start_time": "2021-12-02T16:16:55.271Z"
   },
   {
    "duration": 604,
    "start_time": "2021-12-02T16:16:55.303Z"
   },
   {
    "duration": 647,
    "start_time": "2021-12-02T16:16:55.908Z"
   },
   {
    "duration": 33,
    "start_time": "2021-12-02T16:16:56.557Z"
   },
   {
    "duration": 31,
    "start_time": "2021-12-02T16:16:56.592Z"
   },
   {
    "duration": 32,
    "start_time": "2021-12-02T16:16:56.625Z"
   },
   {
    "duration": 22,
    "start_time": "2021-12-02T16:16:56.659Z"
   },
   {
    "duration": 601,
    "start_time": "2021-12-02T16:17:57.198Z"
   },
   {
    "duration": 3,
    "start_time": "2021-12-02T16:18:18.871Z"
   },
   {
    "duration": 3,
    "start_time": "2021-12-02T16:18:26.535Z"
   },
   {
    "duration": 185,
    "start_time": "2021-12-02T16:18:26.540Z"
   },
   {
    "duration": 26,
    "start_time": "2021-12-02T16:18:26.726Z"
   },
   {
    "duration": 40,
    "start_time": "2021-12-02T16:18:26.755Z"
   },
   {
    "duration": 170,
    "start_time": "2021-12-02T16:18:26.797Z"
   },
   {
    "duration": 8,
    "start_time": "2021-12-02T16:18:26.969Z"
   },
   {
    "duration": 52,
    "start_time": "2021-12-02T16:18:26.980Z"
   },
   {
    "duration": 103,
    "start_time": "2021-12-02T16:18:27.034Z"
   },
   {
    "duration": 8,
    "start_time": "2021-12-02T16:18:27.138Z"
   },
   {
    "duration": 48,
    "start_time": "2021-12-02T16:18:27.149Z"
   },
   {
    "duration": 37,
    "start_time": "2021-12-02T16:18:27.199Z"
   },
   {
    "duration": 45,
    "start_time": "2021-12-02T16:18:27.237Z"
   },
   {
    "duration": 44,
    "start_time": "2021-12-02T16:18:27.283Z"
   },
   {
    "duration": 64,
    "start_time": "2021-12-02T16:18:27.329Z"
   },
   {
    "duration": 32,
    "start_time": "2021-12-02T16:18:27.395Z"
   },
   {
    "duration": 43,
    "start_time": "2021-12-02T16:18:27.428Z"
   },
   {
    "duration": 41,
    "start_time": "2021-12-02T16:18:27.473Z"
   },
   {
    "duration": 52,
    "start_time": "2021-12-02T16:18:27.516Z"
   },
   {
    "duration": 44,
    "start_time": "2021-12-02T16:18:27.572Z"
   },
   {
    "duration": 12,
    "start_time": "2021-12-02T16:18:27.618Z"
   },
   {
    "duration": 121,
    "start_time": "2021-12-02T16:18:27.631Z"
   },
   {
    "duration": 28,
    "start_time": "2021-12-02T16:18:27.754Z"
   },
   {
    "duration": 10,
    "start_time": "2021-12-02T16:18:27.783Z"
   },
   {
    "duration": 45,
    "start_time": "2021-12-02T16:18:27.795Z"
   },
   {
    "duration": 60,
    "start_time": "2021-12-02T16:18:27.841Z"
   },
   {
    "duration": 39,
    "start_time": "2021-12-02T16:18:27.903Z"
   },
   {
    "duration": 62,
    "start_time": "2021-12-02T16:18:27.944Z"
   },
   {
    "duration": 17,
    "start_time": "2021-12-02T16:18:28.008Z"
   },
   {
    "duration": 32,
    "start_time": "2021-12-02T16:18:28.027Z"
   },
   {
    "duration": 23,
    "start_time": "2021-12-02T16:18:28.062Z"
   },
   {
    "duration": 29,
    "start_time": "2021-12-02T16:18:28.086Z"
   },
   {
    "duration": 48,
    "start_time": "2021-12-02T16:18:28.117Z"
   },
   {
    "duration": 64,
    "start_time": "2021-12-02T16:18:28.167Z"
   },
   {
    "duration": 33,
    "start_time": "2021-12-02T16:18:28.233Z"
   },
   {
    "duration": 22,
    "start_time": "2021-12-02T16:18:28.268Z"
   },
   {
    "duration": 39,
    "start_time": "2021-12-02T16:18:28.292Z"
   },
   {
    "duration": 38,
    "start_time": "2021-12-02T16:18:28.332Z"
   },
   {
    "duration": 35,
    "start_time": "2021-12-02T16:18:28.372Z"
   },
   {
    "duration": 37,
    "start_time": "2021-12-02T16:18:28.408Z"
   },
   {
    "duration": 39,
    "start_time": "2021-12-02T16:18:28.447Z"
   },
   {
    "duration": 34,
    "start_time": "2021-12-02T16:18:28.487Z"
   },
   {
    "duration": 37,
    "start_time": "2021-12-02T16:18:28.523Z"
   },
   {
    "duration": 44,
    "start_time": "2021-12-02T16:18:28.561Z"
   },
   {
    "duration": 14,
    "start_time": "2021-12-02T16:18:28.607Z"
   },
   {
    "duration": 49,
    "start_time": "2021-12-02T16:18:28.622Z"
   },
   {
    "duration": 14,
    "start_time": "2021-12-02T16:18:28.672Z"
   },
   {
    "duration": 46,
    "start_time": "2021-12-02T16:18:28.687Z"
   },
   {
    "duration": 14,
    "start_time": "2021-12-02T16:18:28.735Z"
   },
   {
    "duration": 40,
    "start_time": "2021-12-02T16:18:28.751Z"
   },
   {
    "duration": 17,
    "start_time": "2021-12-02T16:18:28.792Z"
   },
   {
    "duration": 29,
    "start_time": "2021-12-02T16:18:28.811Z"
   },
   {
    "duration": 25,
    "start_time": "2021-12-02T16:18:28.842Z"
   },
   {
    "duration": 22,
    "start_time": "2021-12-02T16:18:28.869Z"
   },
   {
    "duration": 23,
    "start_time": "2021-12-02T16:18:28.892Z"
   },
   {
    "duration": 286,
    "start_time": "2021-12-02T16:18:28.919Z"
   },
   {
    "duration": 17,
    "start_time": "2021-12-02T16:18:29.208Z"
   },
   {
    "duration": 26,
    "start_time": "2021-12-02T16:18:29.227Z"
   },
   {
    "duration": 37,
    "start_time": "2021-12-02T16:18:29.254Z"
   },
   {
    "duration": 20,
    "start_time": "2021-12-02T16:18:29.292Z"
   },
   {
    "duration": 36,
    "start_time": "2021-12-02T16:18:29.314Z"
   },
   {
    "duration": 583,
    "start_time": "2021-12-02T16:18:29.352Z"
   },
   {
    "duration": 687,
    "start_time": "2021-12-02T16:18:29.937Z"
   },
   {
    "duration": 51,
    "start_time": "2021-12-02T16:18:30.626Z"
   },
   {
    "duration": 32,
    "start_time": "2021-12-02T16:18:30.679Z"
   },
   {
    "duration": 8,
    "start_time": "2021-12-02T16:18:30.713Z"
   },
   {
    "duration": 33,
    "start_time": "2021-12-02T16:18:30.722Z"
   },
   {
    "duration": 26,
    "start_time": "2021-12-02T16:18:30.757Z"
   },
   {
    "duration": 610,
    "start_time": "2021-12-02T16:18:30.785Z"
   },
   {
    "duration": 926,
    "start_time": "2021-12-02T16:18:31.396Z"
   },
   {
    "duration": 55,
    "start_time": "2021-12-02T16:18:32.324Z"
   },
   {
    "duration": 36,
    "start_time": "2021-12-02T16:18:32.381Z"
   },
   {
    "duration": 27,
    "start_time": "2021-12-02T16:18:32.419Z"
   },
   {
    "duration": 5,
    "start_time": "2021-12-02T16:18:32.449Z"
   },
   {
    "duration": 22,
    "start_time": "2021-12-02T16:18:32.457Z"
   },
   {
    "duration": 613,
    "start_time": "2021-12-02T16:18:32.481Z"
   },
   {
    "duration": 606,
    "start_time": "2021-12-02T16:18:33.095Z"
   },
   {
    "duration": 42,
    "start_time": "2021-12-02T16:18:33.703Z"
   },
   {
    "duration": 37,
    "start_time": "2021-12-02T16:18:33.748Z"
   },
   {
    "duration": 8,
    "start_time": "2021-12-02T16:18:33.786Z"
   },
   {
    "duration": 22,
    "start_time": "2021-12-02T16:18:33.795Z"
   },
   {
    "duration": 1122,
    "start_time": "2021-12-03T14:14:10.111Z"
   },
   {
    "duration": 159,
    "start_time": "2021-12-03T14:14:11.235Z"
   },
   {
    "duration": 12,
    "start_time": "2021-12-03T14:14:11.396Z"
   },
   {
    "duration": 26,
    "start_time": "2021-12-03T14:14:11.410Z"
   },
   {
    "duration": 181,
    "start_time": "2021-12-03T14:14:11.438Z"
   },
   {
    "duration": 43,
    "start_time": "2021-12-03T14:14:11.624Z"
   },
   {
    "duration": 43,
    "start_time": "2021-12-03T14:14:11.680Z"
   },
   {
    "duration": 138,
    "start_time": "2021-12-03T14:14:11.739Z"
   },
   {
    "duration": 7,
    "start_time": "2021-12-03T14:14:11.879Z"
   },
   {
    "duration": 24,
    "start_time": "2021-12-03T14:14:11.888Z"
   },
   {
    "duration": 17,
    "start_time": "2021-12-03T14:14:11.914Z"
   },
   {
    "duration": 12,
    "start_time": "2021-12-03T14:14:11.933Z"
   },
   {
    "duration": 11,
    "start_time": "2021-12-03T14:14:11.947Z"
   },
   {
    "duration": 30,
    "start_time": "2021-12-03T14:14:11.960Z"
   },
   {
    "duration": 13,
    "start_time": "2021-12-03T14:14:11.992Z"
   },
   {
    "duration": 8,
    "start_time": "2021-12-03T14:14:12.008Z"
   },
   {
    "duration": 10,
    "start_time": "2021-12-03T14:14:12.018Z"
   },
   {
    "duration": 21,
    "start_time": "2021-12-03T14:14:12.030Z"
   },
   {
    "duration": 60,
    "start_time": "2021-12-03T14:14:12.053Z"
   },
   {
    "duration": 6,
    "start_time": "2021-12-03T14:14:12.115Z"
   },
   {
    "duration": 118,
    "start_time": "2021-12-03T14:14:12.123Z"
   },
   {
    "duration": 22,
    "start_time": "2021-12-03T14:14:12.243Z"
   },
   {
    "duration": 26,
    "start_time": "2021-12-03T14:14:12.269Z"
   },
   {
    "duration": 12,
    "start_time": "2021-12-03T14:14:12.297Z"
   },
   {
    "duration": 16,
    "start_time": "2021-12-03T14:14:12.311Z"
   },
   {
    "duration": 19,
    "start_time": "2021-12-03T14:14:12.329Z"
   },
   {
    "duration": 68,
    "start_time": "2021-12-03T14:14:12.350Z"
   },
   {
    "duration": 16,
    "start_time": "2021-12-03T14:14:12.420Z"
   },
   {
    "duration": 9,
    "start_time": "2021-12-03T14:14:12.437Z"
   },
   {
    "duration": 45,
    "start_time": "2021-12-03T14:14:12.447Z"
   },
   {
    "duration": 13,
    "start_time": "2021-12-03T14:14:12.494Z"
   },
   {
    "duration": 17,
    "start_time": "2021-12-03T14:14:12.509Z"
   },
   {
    "duration": 41,
    "start_time": "2021-12-03T14:14:12.528Z"
   },
   {
    "duration": 20,
    "start_time": "2021-12-03T14:14:12.571Z"
   },
   {
    "duration": 9,
    "start_time": "2021-12-03T14:14:12.593Z"
   },
   {
    "duration": 10,
    "start_time": "2021-12-03T14:14:12.603Z"
   },
   {
    "duration": 9,
    "start_time": "2021-12-03T14:14:12.615Z"
   },
   {
    "duration": 5,
    "start_time": "2021-12-03T14:14:12.626Z"
   },
   {
    "duration": 7,
    "start_time": "2021-12-03T14:14:12.632Z"
   },
   {
    "duration": 10,
    "start_time": "2021-12-03T14:14:12.640Z"
   },
   {
    "duration": 5,
    "start_time": "2021-12-03T14:14:12.652Z"
   },
   {
    "duration": 9,
    "start_time": "2021-12-03T14:14:12.659Z"
   },
   {
    "duration": 38,
    "start_time": "2021-12-03T14:14:12.670Z"
   },
   {
    "duration": 3,
    "start_time": "2021-12-03T14:14:12.711Z"
   },
   {
    "duration": 30,
    "start_time": "2021-12-03T14:14:12.717Z"
   },
   {
    "duration": 2,
    "start_time": "2021-12-03T14:14:12.749Z"
   },
   {
    "duration": 32,
    "start_time": "2021-12-03T14:14:12.753Z"
   },
   {
    "duration": 3,
    "start_time": "2021-12-03T14:14:12.786Z"
   },
   {
    "duration": 18,
    "start_time": "2021-12-03T14:14:12.791Z"
   },
   {
    "duration": 5,
    "start_time": "2021-12-03T14:14:12.811Z"
   },
   {
    "duration": 20,
    "start_time": "2021-12-03T14:14:12.818Z"
   },
   {
    "duration": 5,
    "start_time": "2021-12-03T14:14:12.839Z"
   },
   {
    "duration": 7,
    "start_time": "2021-12-03T14:14:12.846Z"
   },
   {
    "duration": 4,
    "start_time": "2021-12-03T14:14:12.855Z"
   },
   {
    "duration": 259,
    "start_time": "2021-12-03T14:14:12.860Z"
   },
   {
    "duration": 71,
    "start_time": "2021-12-03T14:14:13.121Z"
   },
   {
    "duration": 7,
    "start_time": "2021-12-03T14:14:13.194Z"
   },
   {
    "duration": 9,
    "start_time": "2021-12-03T14:14:13.202Z"
   },
   {
    "duration": 3,
    "start_time": "2021-12-03T14:14:13.213Z"
   },
   {
    "duration": 7,
    "start_time": "2021-12-03T14:14:13.217Z"
   },
   {
    "duration": 795,
    "start_time": "2021-12-03T14:14:13.226Z"
   },
   {
    "duration": 737,
    "start_time": "2021-12-03T14:14:14.023Z"
   },
   {
    "duration": 46,
    "start_time": "2021-12-03T14:14:14.762Z"
   },
   {
    "duration": 37,
    "start_time": "2021-12-03T14:14:14.809Z"
   },
   {
    "duration": 8,
    "start_time": "2021-12-03T14:14:14.848Z"
   },
   {
    "duration": 3,
    "start_time": "2021-12-03T14:14:14.857Z"
   },
   {
    "duration": 6,
    "start_time": "2021-12-03T14:14:14.861Z"
   },
   {
    "duration": 654,
    "start_time": "2021-12-03T14:14:14.893Z"
   },
   {
    "duration": 696,
    "start_time": "2021-12-03T14:14:15.549Z"
   },
   {
    "duration": 46,
    "start_time": "2021-12-03T14:14:16.247Z"
   },
   {
    "duration": 37,
    "start_time": "2021-12-03T14:14:16.295Z"
   },
   {
    "duration": 10,
    "start_time": "2021-12-03T14:14:16.334Z"
   },
   {
    "duration": 3,
    "start_time": "2021-12-03T14:14:16.345Z"
   },
   {
    "duration": 6,
    "start_time": "2021-12-03T14:14:16.350Z"
   },
   {
    "duration": 633,
    "start_time": "2021-12-03T14:14:16.358Z"
   },
   {
    "duration": 703,
    "start_time": "2021-12-03T14:14:16.993Z"
   },
   {
    "duration": 38,
    "start_time": "2021-12-03T14:14:17.698Z"
   },
   {
    "duration": 59,
    "start_time": "2021-12-03T14:14:17.738Z"
   },
   {
    "duration": 8,
    "start_time": "2021-12-03T14:14:17.799Z"
   },
   {
    "duration": 9,
    "start_time": "2021-12-03T14:14:17.809Z"
   },
   {
    "duration": 4,
    "start_time": "2021-12-03T14:15:17.030Z"
   },
   {
    "duration": 191,
    "start_time": "2021-12-03T14:15:17.036Z"
   },
   {
    "duration": 8,
    "start_time": "2021-12-03T14:15:17.229Z"
   },
   {
    "duration": 22,
    "start_time": "2021-12-03T14:15:17.238Z"
   },
   {
    "duration": 144,
    "start_time": "2021-12-03T14:15:17.262Z"
   },
   {
    "duration": 8,
    "start_time": "2021-12-03T14:15:17.408Z"
   },
   {
    "duration": 19,
    "start_time": "2021-12-03T14:15:17.418Z"
   },
   {
    "duration": 90,
    "start_time": "2021-12-03T14:15:17.440Z"
   },
   {
    "duration": 8,
    "start_time": "2021-12-03T14:15:17.532Z"
   },
   {
    "duration": 17,
    "start_time": "2021-12-03T14:15:17.542Z"
   },
   {
    "duration": 16,
    "start_time": "2021-12-03T14:15:17.561Z"
   },
   {
    "duration": 14,
    "start_time": "2021-12-03T14:15:17.579Z"
   },
   {
    "duration": 9,
    "start_time": "2021-12-03T14:15:17.595Z"
   },
   {
    "duration": 30,
    "start_time": "2021-12-03T14:15:17.605Z"
   },
   {
    "duration": 10,
    "start_time": "2021-12-03T14:15:17.637Z"
   },
   {
    "duration": 8,
    "start_time": "2021-12-03T14:15:17.648Z"
   },
   {
    "duration": 9,
    "start_time": "2021-12-03T14:15:17.658Z"
   },
   {
    "duration": 43,
    "start_time": "2021-12-03T14:15:17.669Z"
   },
   {
    "duration": 27,
    "start_time": "2021-12-03T14:15:17.714Z"
   },
   {
    "duration": 5,
    "start_time": "2021-12-03T14:15:17.743Z"
   },
   {
    "duration": 115,
    "start_time": "2021-12-03T14:15:17.750Z"
   },
   {
    "duration": 30,
    "start_time": "2021-12-03T14:15:17.868Z"
   },
   {
    "duration": 10,
    "start_time": "2021-12-03T14:15:17.904Z"
   },
   {
    "duration": 12,
    "start_time": "2021-12-03T14:15:17.916Z"
   },
   {
    "duration": 17,
    "start_time": "2021-12-03T14:15:17.929Z"
   },
   {
    "duration": 44,
    "start_time": "2021-12-03T14:15:17.947Z"
   },
   {
    "duration": 36,
    "start_time": "2021-12-03T14:15:17.993Z"
   },
   {
    "duration": 16,
    "start_time": "2021-12-03T14:15:18.031Z"
   },
   {
    "duration": 11,
    "start_time": "2021-12-03T14:15:18.049Z"
   },
   {
    "duration": 35,
    "start_time": "2021-12-03T14:15:18.062Z"
   },
   {
    "duration": 16,
    "start_time": "2021-12-03T14:15:18.099Z"
   },
   {
    "duration": 25,
    "start_time": "2021-12-03T14:15:18.117Z"
   },
   {
    "duration": 72,
    "start_time": "2021-12-03T14:15:18.144Z"
   },
   {
    "duration": 14,
    "start_time": "2021-12-03T14:15:18.218Z"
   },
   {
    "duration": 8,
    "start_time": "2021-12-03T14:15:18.234Z"
   },
   {
    "duration": 11,
    "start_time": "2021-12-03T14:15:18.244Z"
   },
   {
    "duration": 7,
    "start_time": "2021-12-03T14:15:18.256Z"
   },
   {
    "duration": 4,
    "start_time": "2021-12-03T14:15:18.292Z"
   },
   {
    "duration": 8,
    "start_time": "2021-12-03T14:15:18.298Z"
   },
   {
    "duration": 10,
    "start_time": "2021-12-03T14:15:18.307Z"
   },
   {
    "duration": 6,
    "start_time": "2021-12-03T14:15:18.319Z"
   },
   {
    "duration": 7,
    "start_time": "2021-12-03T14:15:18.327Z"
   },
   {
    "duration": 60,
    "start_time": "2021-12-03T14:15:18.336Z"
   },
   {
    "duration": 4,
    "start_time": "2021-12-03T14:15:18.398Z"
   },
   {
    "duration": 23,
    "start_time": "2021-12-03T14:15:18.403Z"
   },
   {
    "duration": 3,
    "start_time": "2021-12-03T14:15:18.428Z"
   },
   {
    "duration": 21,
    "start_time": "2021-12-03T14:15:18.432Z"
   },
   {
    "duration": 3,
    "start_time": "2021-12-03T14:15:18.455Z"
   },
   {
    "duration": 40,
    "start_time": "2021-12-03T14:15:18.460Z"
   },
   {
    "duration": 5,
    "start_time": "2021-12-03T14:15:18.502Z"
   },
   {
    "duration": 10,
    "start_time": "2021-12-03T14:15:18.508Z"
   },
   {
    "duration": 4,
    "start_time": "2021-12-03T14:15:18.520Z"
   },
   {
    "duration": 9,
    "start_time": "2021-12-03T14:15:18.526Z"
   },
   {
    "duration": 5,
    "start_time": "2021-12-03T14:15:18.537Z"
   },
   {
    "duration": 279,
    "start_time": "2021-12-03T14:15:18.544Z"
   },
   {
    "duration": 19,
    "start_time": "2021-12-03T14:15:18.824Z"
   },
   {
    "duration": 13,
    "start_time": "2021-12-03T14:15:18.844Z"
   },
   {
    "duration": 13,
    "start_time": "2021-12-03T14:15:18.858Z"
   },
   {
    "duration": 3,
    "start_time": "2021-12-03T14:15:18.873Z"
   },
   {
    "duration": 16,
    "start_time": "2021-12-03T14:15:18.877Z"
   },
   {
    "duration": 692,
    "start_time": "2021-12-03T14:15:18.895Z"
   },
   {
    "duration": 694,
    "start_time": "2021-12-03T14:15:19.589Z"
   },
   {
    "duration": 44,
    "start_time": "2021-12-03T14:15:20.285Z"
   },
   {
    "duration": 38,
    "start_time": "2021-12-03T14:15:20.330Z"
   },
   {
    "duration": 29,
    "start_time": "2021-12-03T14:15:20.369Z"
   },
   {
    "duration": 11,
    "start_time": "2021-12-03T14:15:20.400Z"
   },
   {
    "duration": 15,
    "start_time": "2021-12-03T14:15:20.413Z"
   },
   {
    "duration": 604,
    "start_time": "2021-12-03T14:15:20.433Z"
   },
   {
    "duration": 689,
    "start_time": "2021-12-03T14:15:21.039Z"
   },
   {
    "duration": 38,
    "start_time": "2021-12-03T14:15:21.730Z"
   },
   {
    "duration": 52,
    "start_time": "2021-12-03T14:15:21.769Z"
   },
   {
    "duration": 8,
    "start_time": "2021-12-03T14:15:21.822Z"
   },
   {
    "duration": 9,
    "start_time": "2021-12-03T14:15:21.832Z"
   },
   {
    "duration": 19,
    "start_time": "2021-12-03T14:15:21.842Z"
   },
   {
    "duration": 608,
    "start_time": "2021-12-03T14:15:21.863Z"
   },
   {
    "duration": 800,
    "start_time": "2021-12-03T14:15:22.472Z"
   },
   {
    "duration": 48,
    "start_time": "2021-12-03T14:15:23.274Z"
   },
   {
    "duration": 40,
    "start_time": "2021-12-03T14:15:23.323Z"
   },
   {
    "duration": 28,
    "start_time": "2021-12-03T14:15:23.365Z"
   },
   {
    "duration": 9,
    "start_time": "2021-12-03T14:15:23.395Z"
   },
   {
    "duration": 1510,
    "start_time": "2021-12-03T15:43:58.209Z"
   },
   {
    "duration": 213,
    "start_time": "2021-12-03T15:43:59.722Z"
   },
   {
    "duration": 17,
    "start_time": "2021-12-03T15:43:59.938Z"
   },
   {
    "duration": 30,
    "start_time": "2021-12-03T15:43:59.957Z"
   },
   {
    "duration": 213,
    "start_time": "2021-12-03T15:43:59.989Z"
   },
   {
    "duration": 11,
    "start_time": "2021-12-03T15:44:00.204Z"
   },
   {
    "duration": 29,
    "start_time": "2021-12-03T15:44:00.217Z"
   },
   {
    "duration": 139,
    "start_time": "2021-12-03T15:44:00.249Z"
   },
   {
    "duration": 10,
    "start_time": "2021-12-03T15:44:00.391Z"
   },
   {
    "duration": 35,
    "start_time": "2021-12-03T15:44:00.403Z"
   },
   {
    "duration": 25,
    "start_time": "2021-12-03T15:44:00.441Z"
   },
   {
    "duration": 24,
    "start_time": "2021-12-03T15:44:00.469Z"
   },
   {
    "duration": 11,
    "start_time": "2021-12-03T15:44:00.496Z"
   },
   {
    "duration": 34,
    "start_time": "2021-12-03T15:44:00.510Z"
   },
   {
    "duration": 21,
    "start_time": "2021-12-03T15:44:00.546Z"
   },
   {
    "duration": 39,
    "start_time": "2021-12-03T15:44:00.569Z"
   },
   {
    "duration": 32,
    "start_time": "2021-12-03T15:44:00.610Z"
   },
   {
    "duration": 39,
    "start_time": "2021-12-03T15:44:00.644Z"
   },
   {
    "duration": 50,
    "start_time": "2021-12-03T15:44:00.685Z"
   },
   {
    "duration": 6,
    "start_time": "2021-12-03T15:44:00.738Z"
   },
   {
    "duration": 154,
    "start_time": "2021-12-03T15:44:00.746Z"
   },
   {
    "duration": 39,
    "start_time": "2021-12-03T15:44:00.902Z"
   },
   {
    "duration": 14,
    "start_time": "2021-12-03T15:44:00.947Z"
   },
   {
    "duration": 26,
    "start_time": "2021-12-03T15:44:00.966Z"
   },
   {
    "duration": 40,
    "start_time": "2021-12-03T15:44:00.995Z"
   },
   {
    "duration": 31,
    "start_time": "2021-12-03T15:44:01.037Z"
   },
   {
    "duration": 87,
    "start_time": "2021-12-03T15:44:01.070Z"
   },
   {
    "duration": 24,
    "start_time": "2021-12-03T15:44:01.159Z"
   },
   {
    "duration": 14,
    "start_time": "2021-12-03T15:44:01.186Z"
   },
   {
    "duration": 30,
    "start_time": "2021-12-03T15:44:01.202Z"
   },
   {
    "duration": 49,
    "start_time": "2021-12-03T15:44:01.235Z"
   },
   {
    "duration": 27,
    "start_time": "2021-12-03T15:44:01.286Z"
   },
   {
    "duration": 70,
    "start_time": "2021-12-03T15:44:01.316Z"
   },
   {
    "duration": 19,
    "start_time": "2021-12-03T15:44:01.389Z"
   },
   {
    "duration": 30,
    "start_time": "2021-12-03T15:44:01.410Z"
   },
   {
    "duration": 20,
    "start_time": "2021-12-03T15:44:01.442Z"
   },
   {
    "duration": 24,
    "start_time": "2021-12-03T15:44:01.464Z"
   },
   {
    "duration": 11,
    "start_time": "2021-12-03T15:44:01.491Z"
   },
   {
    "duration": 29,
    "start_time": "2021-12-03T15:44:01.504Z"
   },
   {
    "duration": 27,
    "start_time": "2021-12-03T15:44:01.536Z"
   },
   {
    "duration": 14,
    "start_time": "2021-12-03T15:44:01.566Z"
   },
   {
    "duration": 18,
    "start_time": "2021-12-03T15:44:01.582Z"
   },
   {
    "duration": 53,
    "start_time": "2021-12-03T15:44:01.602Z"
   },
   {
    "duration": 4,
    "start_time": "2021-12-03T15:44:01.657Z"
   },
   {
    "duration": 45,
    "start_time": "2021-12-03T15:44:01.663Z"
   },
   {
    "duration": 3,
    "start_time": "2021-12-03T15:44:01.711Z"
   },
   {
    "duration": 46,
    "start_time": "2021-12-03T15:44:01.716Z"
   },
   {
    "duration": 3,
    "start_time": "2021-12-03T15:44:01.765Z"
   },
   {
    "duration": 35,
    "start_time": "2021-12-03T15:44:01.770Z"
   },
   {
    "duration": 20,
    "start_time": "2021-12-03T15:44:01.808Z"
   },
   {
    "duration": 19,
    "start_time": "2021-12-03T15:44:01.831Z"
   },
   {
    "duration": 17,
    "start_time": "2021-12-03T15:44:01.852Z"
   },
   {
    "duration": 21,
    "start_time": "2021-12-03T15:44:01.871Z"
   },
   {
    "duration": 8,
    "start_time": "2021-12-03T15:44:01.895Z"
   },
   {
    "duration": 437,
    "start_time": "2021-12-03T15:44:01.905Z"
   },
   {
    "duration": 27,
    "start_time": "2021-12-03T15:44:02.344Z"
   },
   {
    "duration": 20,
    "start_time": "2021-12-03T15:44:02.373Z"
   },
   {
    "duration": 32,
    "start_time": "2021-12-03T15:44:02.395Z"
   },
   {
    "duration": 19,
    "start_time": "2021-12-03T15:44:02.430Z"
   },
   {
    "duration": 13,
    "start_time": "2021-12-03T15:44:02.451Z"
   },
   {
    "duration": 883,
    "start_time": "2021-12-03T15:44:02.466Z"
   },
   {
    "duration": 1119,
    "start_time": "2021-12-03T15:44:03.352Z"
   },
   {
    "duration": 81,
    "start_time": "2021-12-03T15:44:04.474Z"
   },
   {
    "duration": 75,
    "start_time": "2021-12-03T15:44:04.558Z"
   },
   {
    "duration": 15,
    "start_time": "2021-12-03T15:44:04.636Z"
   },
   {
    "duration": 4,
    "start_time": "2021-12-03T15:44:04.654Z"
   },
   {
    "duration": 12,
    "start_time": "2021-12-03T15:44:04.661Z"
   },
   {
    "duration": 950,
    "start_time": "2021-12-03T15:44:04.681Z"
   },
   {
    "duration": 1083,
    "start_time": "2021-12-03T15:44:05.634Z"
   },
   {
    "duration": 62,
    "start_time": "2021-12-03T15:44:06.720Z"
   },
   {
    "duration": 82,
    "start_time": "2021-12-03T15:44:06.784Z"
   },
   {
    "duration": 13,
    "start_time": "2021-12-03T15:44:06.868Z"
   },
   {
    "duration": 4,
    "start_time": "2021-12-03T15:44:06.883Z"
   },
   {
    "duration": 8,
    "start_time": "2021-12-03T15:44:06.889Z"
   },
   {
    "duration": 871,
    "start_time": "2021-12-03T15:44:06.899Z"
   },
   {
    "duration": 1095,
    "start_time": "2021-12-03T15:44:07.774Z"
   },
   {
    "duration": 75,
    "start_time": "2021-12-03T15:44:08.872Z"
   },
   {
    "duration": 58,
    "start_time": "2021-12-03T15:44:08.950Z"
   },
   {
    "duration": 28,
    "start_time": "2021-12-03T15:44:09.010Z"
   },
   {
    "duration": 18,
    "start_time": "2021-12-03T15:44:09.040Z"
   },
   {
    "duration": 211,
    "start_time": "2021-12-10T16:58:36.041Z"
   },
   {
    "duration": 189,
    "start_time": "2021-12-10T16:58:41.527Z"
   },
   {
    "duration": 1103,
    "start_time": "2021-12-10T16:58:52.500Z"
   },
   {
    "duration": 140,
    "start_time": "2021-12-10T16:58:53.605Z"
   },
   {
    "duration": 11,
    "start_time": "2021-12-10T16:58:53.747Z"
   },
   {
    "duration": 21,
    "start_time": "2021-12-10T16:58:53.760Z"
   },
   {
    "duration": 126,
    "start_time": "2021-12-10T16:58:53.791Z"
   },
   {
    "duration": 8,
    "start_time": "2021-12-10T16:58:53.919Z"
   },
   {
    "duration": 25,
    "start_time": "2021-12-10T16:58:53.928Z"
   },
   {
    "duration": 84,
    "start_time": "2021-12-10T16:58:53.956Z"
   },
   {
    "duration": 8,
    "start_time": "2021-12-10T16:58:54.042Z"
   },
   {
    "duration": 16,
    "start_time": "2021-12-10T16:58:54.052Z"
   },
   {
    "duration": 27,
    "start_time": "2021-12-10T16:58:54.070Z"
   },
   {
    "duration": 9,
    "start_time": "2021-12-10T16:58:54.100Z"
   },
   {
    "duration": 7,
    "start_time": "2021-12-10T16:58:54.111Z"
   },
   {
    "duration": 42,
    "start_time": "2021-12-10T16:58:54.120Z"
   },
   {
    "duration": 10,
    "start_time": "2021-12-10T16:58:54.164Z"
   },
   {
    "duration": 9,
    "start_time": "2021-12-10T16:58:54.175Z"
   },
   {
    "duration": 11,
    "start_time": "2021-12-10T16:58:54.186Z"
   },
   {
    "duration": 20,
    "start_time": "2021-12-10T16:58:54.199Z"
   },
   {
    "duration": 29,
    "start_time": "2021-12-10T16:58:54.221Z"
   },
   {
    "duration": 5,
    "start_time": "2021-12-10T16:58:54.252Z"
   },
   {
    "duration": 104,
    "start_time": "2021-12-10T16:58:54.259Z"
   },
   {
    "duration": 30,
    "start_time": "2021-12-10T16:58:54.364Z"
   },
   {
    "duration": 9,
    "start_time": "2021-12-10T16:58:54.398Z"
   },
   {
    "duration": 10,
    "start_time": "2021-12-10T16:58:54.410Z"
   },
   {
    "duration": 16,
    "start_time": "2021-12-10T16:58:54.422Z"
   },
   {
    "duration": 19,
    "start_time": "2021-12-10T16:58:54.440Z"
   },
   {
    "duration": 60,
    "start_time": "2021-12-10T16:58:54.461Z"
   },
   {
    "duration": 15,
    "start_time": "2021-12-10T16:58:54.522Z"
   },
   {
    "duration": 9,
    "start_time": "2021-12-10T16:58:54.539Z"
   },
   {
    "duration": 8,
    "start_time": "2021-12-10T16:58:54.549Z"
   },
   {
    "duration": 41,
    "start_time": "2021-12-10T16:58:54.559Z"
   },
   {
    "duration": 19,
    "start_time": "2021-12-10T16:58:54.602Z"
   },
   {
    "duration": 42,
    "start_time": "2021-12-10T16:58:54.623Z"
   },
   {
    "duration": 31,
    "start_time": "2021-12-10T16:58:54.666Z"
   },
   {
    "duration": 8,
    "start_time": "2021-12-10T16:58:54.699Z"
   },
   {
    "duration": 11,
    "start_time": "2021-12-10T16:58:54.709Z"
   },
   {
    "duration": 9,
    "start_time": "2021-12-10T16:58:54.722Z"
   },
   {
    "duration": 6,
    "start_time": "2021-12-10T16:58:54.733Z"
   },
   {
    "duration": 8,
    "start_time": "2021-12-10T16:58:54.741Z"
   },
   {
    "duration": 15,
    "start_time": "2021-12-10T16:58:54.750Z"
   },
   {
    "duration": 6,
    "start_time": "2021-12-10T16:58:54.792Z"
   },
   {
    "duration": 9,
    "start_time": "2021-12-10T16:58:54.799Z"
   },
   {
    "duration": 27,
    "start_time": "2021-12-10T16:58:54.809Z"
   },
   {
    "duration": 3,
    "start_time": "2021-12-10T16:58:54.838Z"
   },
   {
    "duration": 25,
    "start_time": "2021-12-10T16:58:54.842Z"
   },
   {
    "duration": 3,
    "start_time": "2021-12-10T16:58:54.892Z"
   },
   {
    "duration": 26,
    "start_time": "2021-12-10T16:58:54.896Z"
   },
   {
    "duration": 3,
    "start_time": "2021-12-10T16:58:54.923Z"
   },
   {
    "duration": 19,
    "start_time": "2021-12-10T16:58:54.927Z"
   },
   {
    "duration": 4,
    "start_time": "2021-12-10T16:58:54.948Z"
   },
   {
    "duration": 8,
    "start_time": "2021-12-10T16:58:54.954Z"
   },
   {
    "duration": 30,
    "start_time": "2021-12-10T16:58:54.964Z"
   },
   {
    "duration": 8,
    "start_time": "2021-12-10T16:58:54.996Z"
   },
   {
    "duration": 5,
    "start_time": "2021-12-10T16:58:55.006Z"
   },
   {
    "duration": 265,
    "start_time": "2021-12-10T16:58:55.012Z"
   },
   {
    "duration": 21,
    "start_time": "2021-12-10T16:58:55.279Z"
   },
   {
    "duration": 10,
    "start_time": "2021-12-10T16:58:55.301Z"
   },
   {
    "duration": 8,
    "start_time": "2021-12-10T16:58:55.313Z"
   },
   {
    "duration": 3,
    "start_time": "2021-12-10T16:58:55.322Z"
   },
   {
    "duration": 8,
    "start_time": "2021-12-10T16:58:55.327Z"
   },
   {
    "duration": 644,
    "start_time": "2021-12-10T16:58:55.337Z"
   },
   {
    "duration": 703,
    "start_time": "2021-12-10T16:58:55.983Z"
   },
   {
    "duration": 39,
    "start_time": "2021-12-10T16:58:56.688Z"
   },
   {
    "duration": 37,
    "start_time": "2021-12-10T16:58:56.729Z"
   },
   {
    "duration": 29,
    "start_time": "2021-12-10T16:58:56.768Z"
   },
   {
    "duration": 5,
    "start_time": "2021-12-10T16:58:56.799Z"
   },
   {
    "duration": 9,
    "start_time": "2021-12-10T16:58:56.805Z"
   },
   {
    "duration": 657,
    "start_time": "2021-12-10T16:58:56.819Z"
   },
   {
    "duration": 692,
    "start_time": "2021-12-10T16:58:57.478Z"
   },
   {
    "duration": 45,
    "start_time": "2021-12-10T16:58:58.171Z"
   },
   {
    "duration": 37,
    "start_time": "2021-12-10T16:58:58.217Z"
   },
   {
    "duration": 8,
    "start_time": "2021-12-10T16:58:58.255Z"
   },
   {
    "duration": 11,
    "start_time": "2021-12-10T16:58:58.264Z"
   },
   {
    "duration": 16,
    "start_time": "2021-12-10T16:58:58.277Z"
   },
   {
    "duration": 576,
    "start_time": "2021-12-10T16:58:58.295Z"
   },
   {
    "duration": 675,
    "start_time": "2021-12-10T16:58:58.873Z"
   },
   {
    "duration": 45,
    "start_time": "2021-12-10T16:58:59.549Z"
   },
   {
    "duration": 37,
    "start_time": "2021-12-10T16:58:59.596Z"
   },
   {
    "duration": 9,
    "start_time": "2021-12-10T16:58:59.635Z"
   },
   {
    "duration": 9,
    "start_time": "2021-12-10T16:58:59.645Z"
   }
  ],
  "kernelspec": {
   "display_name": "Python 3 (ipykernel)",
   "language": "python",
   "name": "python3"
  },
  "language_info": {
   "codemirror_mode": {
    "name": "ipython",
    "version": 3
   },
   "file_extension": ".py",
   "mimetype": "text/x-python",
   "name": "python",
   "nbconvert_exporter": "python",
   "pygments_lexer": "ipython3",
   "version": "3.8.8"
  },
  "toc": {
   "base_numbering": 1,
   "nav_menu": {},
   "number_sections": true,
   "sideBar": true,
   "skip_h1_title": true,
   "title_cell": "Table of Contents",
   "title_sidebar": "Contents",
   "toc_cell": false,
   "toc_position": {},
   "toc_section_display": true,
   "toc_window_display": true
  }
 },
 "nbformat": 4,
 "nbformat_minor": 2
}
