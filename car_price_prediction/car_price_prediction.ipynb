{
 "cells": [
  {
   "cell_type": "markdown",
   "metadata": {},
   "source": [
    "# Определение стоимости автомобилей"
   ]
  },
  {
   "cell_type": "markdown",
   "metadata": {},
   "source": [
    "Требуется построить модель для определения стоимости автомобиля с помощью исторических данных.\n",
    "\n",
    "Основные критерии модели:\n",
    "\n",
    "- качество предсказания;\n",
    "- скорость предсказания;\n",
    "- время обучения."
   ]
  },
  {
   "cell_type": "markdown",
   "metadata": {},
   "source": [
    "Признаки\n",
    "\n",
    "- *DateCrawled* — дата скачивания анкеты из базы\n",
    "\n",
    "- *VehicleType* — тип автомобильного кузова\n",
    "\n",
    "- *RegistrationYear* — год регистрации автомобиля\n",
    "\n",
    "- *Gearbox* — тип коробки передач\n",
    "\n",
    "- *Power* — мощность (л. с.)\n",
    "\n",
    "- *Model* — модель автомобиля\n",
    "\n",
    "- *Kilometer* — пробег (км)\n",
    "\n",
    "- *RegistrationMonth* — месяц регистрации автомобиля\n",
    "\n",
    "- *FuelType* — тип топлива\n",
    "\n",
    "- *Brand* — марка автомобиля\n",
    "\n",
    "- *NotRepaired* — была машина в ремонте или нет\n",
    "\n",
    "- *DateCreated* — дата создания анкеты\n",
    "\n",
    "- *NumberOfPictures* — количество фотографий автомобиля\n",
    "\n",
    "- *PostalCode* — почтовый индекс владельца анкеты (пользователя)\n",
    "\n",
    "- *LastSeen* — дата последней активности пользователя\n",
    "\n",
    "Целевой признак\n",
    "\n",
    "- *Price* — цена (евро)"
   ]
  },
  {
   "cell_type": "markdown",
   "metadata": {},
   "source": [
    "## Подготовка данных"
   ]
  },
  {
   "cell_type": "markdown",
   "metadata": {},
   "source": [
    "Импортируем библиотеки"
   ]
  },
  {
   "cell_type": "code",
   "execution_count": 3,
   "metadata": {},
   "outputs": [],
   "source": [
    "import pandas as pd\n",
    "import numpy as np\n",
    "from sklearn.preprocessing import StandardScaler\n",
    "from sklearn.model_selection import train_test_split\n",
    "from catboost import CatBoostRegressor\n",
    "from sklearn.model_selection import GridSearchCV\n",
    "from sklearn.ensemble import RandomForestRegressor\n",
    "from sklearn.metrics import mean_squared_error\n",
    "from lightgbm import LGBMRegressor\n",
    "import matplotlib.pyplot as plt\n",
    "import warnings\n",
    "from pandas.core.common import SettingWithCopyWarning\n",
    "warnings.simplefilter(action=\"ignore\", category=SettingWithCopyWarning)"
   ]
  },
  {
   "cell_type": "code",
   "execution_count": 4,
   "metadata": {},
   "outputs": [],
   "source": [
    "df = pd.read_csv('/datasets/autos.csv')"
   ]
  },
  {
   "cell_type": "code",
   "execution_count": 5,
   "metadata": {
    "scrolled": false
   },
   "outputs": [
    {
     "data": {
      "text/html": [
       "<div>\n",
       "<style scoped>\n",
       "    .dataframe tbody tr th:only-of-type {\n",
       "        vertical-align: middle;\n",
       "    }\n",
       "\n",
       "    .dataframe tbody tr th {\n",
       "        vertical-align: top;\n",
       "    }\n",
       "\n",
       "    .dataframe thead th {\n",
       "        text-align: right;\n",
       "    }\n",
       "</style>\n",
       "<table border=\"1\" class=\"dataframe\">\n",
       "  <thead>\n",
       "    <tr style=\"text-align: right;\">\n",
       "      <th></th>\n",
       "      <th>DateCrawled</th>\n",
       "      <th>Price</th>\n",
       "      <th>VehicleType</th>\n",
       "      <th>RegistrationYear</th>\n",
       "      <th>Gearbox</th>\n",
       "      <th>Power</th>\n",
       "      <th>Model</th>\n",
       "      <th>Kilometer</th>\n",
       "      <th>RegistrationMonth</th>\n",
       "      <th>FuelType</th>\n",
       "      <th>Brand</th>\n",
       "      <th>NotRepaired</th>\n",
       "      <th>DateCreated</th>\n",
       "      <th>NumberOfPictures</th>\n",
       "      <th>PostalCode</th>\n",
       "      <th>LastSeen</th>\n",
       "    </tr>\n",
       "  </thead>\n",
       "  <tbody>\n",
       "    <tr>\n",
       "      <th>0</th>\n",
       "      <td>2016-03-24 11:52:17</td>\n",
       "      <td>480</td>\n",
       "      <td>NaN</td>\n",
       "      <td>1993</td>\n",
       "      <td>manual</td>\n",
       "      <td>0</td>\n",
       "      <td>golf</td>\n",
       "      <td>150000</td>\n",
       "      <td>0</td>\n",
       "      <td>petrol</td>\n",
       "      <td>volkswagen</td>\n",
       "      <td>NaN</td>\n",
       "      <td>2016-03-24 00:00:00</td>\n",
       "      <td>0</td>\n",
       "      <td>70435</td>\n",
       "      <td>2016-04-07 03:16:57</td>\n",
       "    </tr>\n",
       "    <tr>\n",
       "      <th>1</th>\n",
       "      <td>2016-03-24 10:58:45</td>\n",
       "      <td>18300</td>\n",
       "      <td>coupe</td>\n",
       "      <td>2011</td>\n",
       "      <td>manual</td>\n",
       "      <td>190</td>\n",
       "      <td>NaN</td>\n",
       "      <td>125000</td>\n",
       "      <td>5</td>\n",
       "      <td>gasoline</td>\n",
       "      <td>audi</td>\n",
       "      <td>yes</td>\n",
       "      <td>2016-03-24 00:00:00</td>\n",
       "      <td>0</td>\n",
       "      <td>66954</td>\n",
       "      <td>2016-04-07 01:46:50</td>\n",
       "    </tr>\n",
       "    <tr>\n",
       "      <th>2</th>\n",
       "      <td>2016-03-14 12:52:21</td>\n",
       "      <td>9800</td>\n",
       "      <td>suv</td>\n",
       "      <td>2004</td>\n",
       "      <td>auto</td>\n",
       "      <td>163</td>\n",
       "      <td>grand</td>\n",
       "      <td>125000</td>\n",
       "      <td>8</td>\n",
       "      <td>gasoline</td>\n",
       "      <td>jeep</td>\n",
       "      <td>NaN</td>\n",
       "      <td>2016-03-14 00:00:00</td>\n",
       "      <td>0</td>\n",
       "      <td>90480</td>\n",
       "      <td>2016-04-05 12:47:46</td>\n",
       "    </tr>\n",
       "    <tr>\n",
       "      <th>3</th>\n",
       "      <td>2016-03-17 16:54:04</td>\n",
       "      <td>1500</td>\n",
       "      <td>small</td>\n",
       "      <td>2001</td>\n",
       "      <td>manual</td>\n",
       "      <td>75</td>\n",
       "      <td>golf</td>\n",
       "      <td>150000</td>\n",
       "      <td>6</td>\n",
       "      <td>petrol</td>\n",
       "      <td>volkswagen</td>\n",
       "      <td>no</td>\n",
       "      <td>2016-03-17 00:00:00</td>\n",
       "      <td>0</td>\n",
       "      <td>91074</td>\n",
       "      <td>2016-03-17 17:40:17</td>\n",
       "    </tr>\n",
       "    <tr>\n",
       "      <th>4</th>\n",
       "      <td>2016-03-31 17:25:20</td>\n",
       "      <td>3600</td>\n",
       "      <td>small</td>\n",
       "      <td>2008</td>\n",
       "      <td>manual</td>\n",
       "      <td>69</td>\n",
       "      <td>fabia</td>\n",
       "      <td>90000</td>\n",
       "      <td>7</td>\n",
       "      <td>gasoline</td>\n",
       "      <td>skoda</td>\n",
       "      <td>no</td>\n",
       "      <td>2016-03-31 00:00:00</td>\n",
       "      <td>0</td>\n",
       "      <td>60437</td>\n",
       "      <td>2016-04-06 10:17:21</td>\n",
       "    </tr>\n",
       "    <tr>\n",
       "      <th>5</th>\n",
       "      <td>2016-04-04 17:36:23</td>\n",
       "      <td>650</td>\n",
       "      <td>sedan</td>\n",
       "      <td>1995</td>\n",
       "      <td>manual</td>\n",
       "      <td>102</td>\n",
       "      <td>3er</td>\n",
       "      <td>150000</td>\n",
       "      <td>10</td>\n",
       "      <td>petrol</td>\n",
       "      <td>bmw</td>\n",
       "      <td>yes</td>\n",
       "      <td>2016-04-04 00:00:00</td>\n",
       "      <td>0</td>\n",
       "      <td>33775</td>\n",
       "      <td>2016-04-06 19:17:07</td>\n",
       "    </tr>\n",
       "    <tr>\n",
       "      <th>6</th>\n",
       "      <td>2016-04-01 20:48:51</td>\n",
       "      <td>2200</td>\n",
       "      <td>convertible</td>\n",
       "      <td>2004</td>\n",
       "      <td>manual</td>\n",
       "      <td>109</td>\n",
       "      <td>2_reihe</td>\n",
       "      <td>150000</td>\n",
       "      <td>8</td>\n",
       "      <td>petrol</td>\n",
       "      <td>peugeot</td>\n",
       "      <td>no</td>\n",
       "      <td>2016-04-01 00:00:00</td>\n",
       "      <td>0</td>\n",
       "      <td>67112</td>\n",
       "      <td>2016-04-05 18:18:39</td>\n",
       "    </tr>\n",
       "    <tr>\n",
       "      <th>7</th>\n",
       "      <td>2016-03-21 18:54:38</td>\n",
       "      <td>0</td>\n",
       "      <td>sedan</td>\n",
       "      <td>1980</td>\n",
       "      <td>manual</td>\n",
       "      <td>50</td>\n",
       "      <td>other</td>\n",
       "      <td>40000</td>\n",
       "      <td>7</td>\n",
       "      <td>petrol</td>\n",
       "      <td>volkswagen</td>\n",
       "      <td>no</td>\n",
       "      <td>2016-03-21 00:00:00</td>\n",
       "      <td>0</td>\n",
       "      <td>19348</td>\n",
       "      <td>2016-03-25 16:47:58</td>\n",
       "    </tr>\n",
       "    <tr>\n",
       "      <th>8</th>\n",
       "      <td>2016-04-04 23:42:13</td>\n",
       "      <td>14500</td>\n",
       "      <td>bus</td>\n",
       "      <td>2014</td>\n",
       "      <td>manual</td>\n",
       "      <td>125</td>\n",
       "      <td>c_max</td>\n",
       "      <td>30000</td>\n",
       "      <td>8</td>\n",
       "      <td>petrol</td>\n",
       "      <td>ford</td>\n",
       "      <td>NaN</td>\n",
       "      <td>2016-04-04 00:00:00</td>\n",
       "      <td>0</td>\n",
       "      <td>94505</td>\n",
       "      <td>2016-04-04 23:42:13</td>\n",
       "    </tr>\n",
       "    <tr>\n",
       "      <th>9</th>\n",
       "      <td>2016-03-17 10:53:50</td>\n",
       "      <td>999</td>\n",
       "      <td>small</td>\n",
       "      <td>1998</td>\n",
       "      <td>manual</td>\n",
       "      <td>101</td>\n",
       "      <td>golf</td>\n",
       "      <td>150000</td>\n",
       "      <td>0</td>\n",
       "      <td>NaN</td>\n",
       "      <td>volkswagen</td>\n",
       "      <td>NaN</td>\n",
       "      <td>2016-03-17 00:00:00</td>\n",
       "      <td>0</td>\n",
       "      <td>27472</td>\n",
       "      <td>2016-03-31 17:17:06</td>\n",
       "    </tr>\n",
       "  </tbody>\n",
       "</table>\n",
       "</div>"
      ],
      "text/plain": [
       "           DateCrawled  Price  VehicleType  RegistrationYear Gearbox  Power  \\\n",
       "0  2016-03-24 11:52:17    480          NaN              1993  manual      0   \n",
       "1  2016-03-24 10:58:45  18300        coupe              2011  manual    190   \n",
       "2  2016-03-14 12:52:21   9800          suv              2004    auto    163   \n",
       "3  2016-03-17 16:54:04   1500        small              2001  manual     75   \n",
       "4  2016-03-31 17:25:20   3600        small              2008  manual     69   \n",
       "5  2016-04-04 17:36:23    650        sedan              1995  manual    102   \n",
       "6  2016-04-01 20:48:51   2200  convertible              2004  manual    109   \n",
       "7  2016-03-21 18:54:38      0        sedan              1980  manual     50   \n",
       "8  2016-04-04 23:42:13  14500          bus              2014  manual    125   \n",
       "9  2016-03-17 10:53:50    999        small              1998  manual    101   \n",
       "\n",
       "     Model  Kilometer  RegistrationMonth  FuelType       Brand NotRepaired  \\\n",
       "0     golf     150000                  0    petrol  volkswagen         NaN   \n",
       "1      NaN     125000                  5  gasoline        audi         yes   \n",
       "2    grand     125000                  8  gasoline        jeep         NaN   \n",
       "3     golf     150000                  6    petrol  volkswagen          no   \n",
       "4    fabia      90000                  7  gasoline       skoda          no   \n",
       "5      3er     150000                 10    petrol         bmw         yes   \n",
       "6  2_reihe     150000                  8    petrol     peugeot          no   \n",
       "7    other      40000                  7    petrol  volkswagen          no   \n",
       "8    c_max      30000                  8    petrol        ford         NaN   \n",
       "9     golf     150000                  0       NaN  volkswagen         NaN   \n",
       "\n",
       "           DateCreated  NumberOfPictures  PostalCode             LastSeen  \n",
       "0  2016-03-24 00:00:00                 0       70435  2016-04-07 03:16:57  \n",
       "1  2016-03-24 00:00:00                 0       66954  2016-04-07 01:46:50  \n",
       "2  2016-03-14 00:00:00                 0       90480  2016-04-05 12:47:46  \n",
       "3  2016-03-17 00:00:00                 0       91074  2016-03-17 17:40:17  \n",
       "4  2016-03-31 00:00:00                 0       60437  2016-04-06 10:17:21  \n",
       "5  2016-04-04 00:00:00                 0       33775  2016-04-06 19:17:07  \n",
       "6  2016-04-01 00:00:00                 0       67112  2016-04-05 18:18:39  \n",
       "7  2016-03-21 00:00:00                 0       19348  2016-03-25 16:47:58  \n",
       "8  2016-04-04 00:00:00                 0       94505  2016-04-04 23:42:13  \n",
       "9  2016-03-17 00:00:00                 0       27472  2016-03-31 17:17:06  "
      ]
     },
     "execution_count": 5,
     "metadata": {},
     "output_type": "execute_result"
    }
   ],
   "source": [
    "df.head(10)"
   ]
  },
  {
   "cell_type": "code",
   "execution_count": 107,
   "metadata": {
    "scrolled": true
   },
   "outputs": [
    {
     "name": "stdout",
     "output_type": "stream",
     "text": [
      "<class 'pandas.core.frame.DataFrame'>\n",
      "RangeIndex: 354369 entries, 0 to 354368\n",
      "Data columns (total 16 columns):\n",
      " #   Column             Non-Null Count   Dtype \n",
      "---  ------             --------------   ----- \n",
      " 0   DateCrawled        354369 non-null  object\n",
      " 1   Price              354369 non-null  int64 \n",
      " 2   VehicleType        316879 non-null  object\n",
      " 3   RegistrationYear   354369 non-null  int64 \n",
      " 4   Gearbox            334536 non-null  object\n",
      " 5   Power              354369 non-null  int64 \n",
      " 6   Model              334664 non-null  object\n",
      " 7   Kilometer          354369 non-null  int64 \n",
      " 8   RegistrationMonth  354369 non-null  int64 \n",
      " 9   FuelType           321474 non-null  object\n",
      " 10  Brand              354369 non-null  object\n",
      " 11  NotRepaired        283215 non-null  object\n",
      " 12  DateCreated        354369 non-null  object\n",
      " 13  NumberOfPictures   354369 non-null  int64 \n",
      " 14  PostalCode         354369 non-null  int64 \n",
      " 15  LastSeen           354369 non-null  object\n",
      "dtypes: int64(7), object(9)\n",
      "memory usage: 43.3+ MB\n"
     ]
    }
   ],
   "source": [
    "df.info()"
   ]
  },
  {
   "cell_type": "markdown",
   "metadata": {},
   "source": [
    "Посмотрим на долю пропусков данных."
   ]
  },
  {
   "cell_type": "code",
   "execution_count": 108,
   "metadata": {
    "scrolled": true
   },
   "outputs": [
    {
     "data": {
      "text/plain": [
       "DateCrawled          0.000000\n",
       "Price                0.000000\n",
       "VehicleType          0.105794\n",
       "RegistrationYear     0.000000\n",
       "Gearbox              0.055967\n",
       "Power                0.000000\n",
       "Model                0.055606\n",
       "Kilometer            0.000000\n",
       "RegistrationMonth    0.000000\n",
       "FuelType             0.092827\n",
       "Brand                0.000000\n",
       "NotRepaired          0.200791\n",
       "DateCreated          0.000000\n",
       "NumberOfPictures     0.000000\n",
       "PostalCode           0.000000\n",
       "LastSeen             0.000000\n",
       "dtype: float64"
      ]
     },
     "execution_count": 108,
     "metadata": {},
     "output_type": "execute_result"
    }
   ],
   "source": [
    "df.isna().mean()"
   ]
  },
  {
   "cell_type": "markdown",
   "metadata": {},
   "source": [
    "В данных есть пропуски в категориальных параметрах. Для начала удалим все строки с пропусками в каждом из параметров и нулевым значением мощности."
   ]
  },
  {
   "cell_type": "code",
   "execution_count": 109,
   "metadata": {
    "scrolled": true
   },
   "outputs": [],
   "source": [
    "df = df[~(df['Gearbox'].isna() & df['Model'].isna() & df['FuelType'].isna() & df['VehicleType'].isna() & df['NotRepaired'].isna() & (df['Power'] == 0))]"
   ]
  },
  {
   "cell_type": "markdown",
   "metadata": {},
   "source": [
    "Теперь оценим распределения количественных признаков."
   ]
  },
  {
   "cell_type": "code",
   "execution_count": 110,
   "metadata": {
    "scrolled": false
   },
   "outputs": [
    {
     "data": {
      "text/plain": [
       "<AxesSubplot:>"
      ]
     },
     "execution_count": 110,
     "metadata": {},
     "output_type": "execute_result"
    },
    {
     "data": {
      "image/png": "[encoded data removed]",
      "text/plain": [
       "<Figure size 1080x576 with 1 Axes>"
      ]
     },
     "metadata": {
      "needs_background": "light"
     },
     "output_type": "display_data"
    }
   ],
   "source": [
    "df['Price'].hist(bins=200,figsize=(15,8))"
   ]
  },
  {
   "cell_type": "markdown",
   "metadata": {},
   "source": [
    "В цене около 13000 нулевых значений. Удалю их т.к. это будет влиять на конечный результат предсказания."
   ]
  },
  {
   "cell_type": "code",
   "execution_count": 111,
   "metadata": {},
   "outputs": [],
   "source": [
    "df = df[df['Price'] > 10]"
   ]
  },
  {
   "cell_type": "markdown",
   "metadata": {},
   "source": [
    "В столбце \"год регистрации\" сразу отфильтруем и оставим правдоподобные значения выше 1980 и ниже 2022г."
   ]
  },
  {
   "cell_type": "code",
   "execution_count": 112,
   "metadata": {},
   "outputs": [],
   "source": [
    "df = df[(df['RegistrationYear'] < 2022) & (df['RegistrationYear'] > 1980)]"
   ]
  },
  {
   "cell_type": "markdown",
   "metadata": {},
   "source": [
    "Взгляним на распределение параметра."
   ]
  },
  {
   "cell_type": "code",
   "execution_count": 113,
   "metadata": {
    "scrolled": false
   },
   "outputs": [
    {
     "data": {
      "text/plain": [
       "<AxesSubplot:xlabel='RegistrationYear'>"
      ]
     },
     "execution_count": 113,
     "metadata": {},
     "output_type": "execute_result"
    },
    {
     "data": {
      "image/png": "[encoded data removed]",
      "text/plain": [
       "<Figure size 1080x576 with 1 Axes>"
      ]
     },
     "metadata": {
      "needs_background": "light"
     },
     "output_type": "display_data"
    }
   ],
   "source": [
    "df.groupby('RegistrationYear')['Model'].count().plot.bar(figsize=(15,8))"
   ]
  },
  {
   "cell_type": "markdown",
   "metadata": {},
   "source": [
    "Выделяются 2016-2018 гг. Чтобы решить данную проблему отфильтруем явно неверные значения, в которых год регистрации автомобиля больше года регистрации анкеты, а если года равны, то также сравним месяцы. Для этого сделаем отдельные колонки года и месяца создания анкеты."
   ]
  },
  {
   "cell_type": "code",
   "execution_count": 114,
   "metadata": {
    "scrolled": true
   },
   "outputs": [],
   "source": [
    "df['year_created'] = pd.to_datetime(df['DateCreated'], format='%Y-%m-%d %H:%M:%S').dt.year\n",
    "df['month_created'] = pd.to_datetime(df['DateCreated'], format='%Y-%m-%d %H:%M:%S').dt.month"
   ]
  },
  {
   "cell_type": "code",
   "execution_count": 115,
   "metadata": {},
   "outputs": [],
   "source": [
    "df = df[~(df['year_created'] < df['RegistrationYear'])]\n",
    "df = df[~((df['year_created'] == df['RegistrationYear']) & (df['month_created'] < df['RegistrationMonth']))]"
   ]
  },
  {
   "cell_type": "markdown",
   "metadata": {},
   "source": [
    "Посмотрим на результат выполнения фильтра."
   ]
  },
  {
   "cell_type": "code",
   "execution_count": 116,
   "metadata": {
    "scrolled": false
   },
   "outputs": [
    {
     "data": {
      "text/plain": [
       "<AxesSubplot:xlabel='RegistrationYear'>"
      ]
     },
     "execution_count": 116,
     "metadata": {},
     "output_type": "execute_result"
    },
    {
     "data": {
      "image/png": "[encoded data removed]",
      "text/plain": [
       "<Figure size 1080x576 with 1 Axes>"
      ]
     },
     "metadata": {
      "needs_background": "light"
     },
     "output_type": "display_data"
    }
   ],
   "source": [
    "df.groupby('RegistrationYear')['Model'].count().plot.bar(figsize=(15,8))"
   ]
  },
  {
   "cell_type": "markdown",
   "metadata": {},
   "source": [
    "Посмотрим на распределение мощности."
   ]
  },
  {
   "cell_type": "code",
   "execution_count": 117,
   "metadata": {
    "scrolled": false
   },
   "outputs": [
    {
     "data": {
      "text/plain": [
       "<AxesSubplot:>"
      ]
     },
     "execution_count": 117,
     "metadata": {},
     "output_type": "execute_result"
    },
    {
     "data": {
      "image/png": "[encoded data removed]",
      "text/plain": [
       "<Figure size 1080x576 with 1 Axes>"
      ]
     },
     "metadata": {
      "needs_background": "light"
     },
     "output_type": "display_data"
    }
   ],
   "source": [
    "df['Power'].hist(bins=100, figsize=(15,8))"
   ]
  },
  {
   "cell_type": "markdown",
   "metadata": {},
   "source": [
    "В столбце есть аномалии отсечем их."
   ]
  },
  {
   "cell_type": "code",
   "execution_count": 118,
   "metadata": {},
   "outputs": [],
   "source": [
    "df = df[~((df['Power'] > 400) | (df['Power'] < 40))]"
   ]
  },
  {
   "cell_type": "code",
   "execution_count": 119,
   "metadata": {
    "scrolled": false
   },
   "outputs": [
    {
     "data": {
      "text/plain": [
       "<AxesSubplot:>"
      ]
     },
     "execution_count": 119,
     "metadata": {},
     "output_type": "execute_result"
    },
    {
     "data": {
      "image/png": "[encoded data removed]",
      "text/plain": [
       "<Figure size 1080x576 with 1 Axes>"
      ]
     },
     "metadata": {
      "needs_background": "light"
     },
     "output_type": "display_data"
    }
   ],
   "source": [
    "df['Power'].hist(bins=15, figsize=(15,8))"
   ]
  },
  {
   "cell_type": "markdown",
   "metadata": {},
   "source": [
    "Проанализируем пробег."
   ]
  },
  {
   "cell_type": "code",
   "execution_count": 120,
   "metadata": {
    "scrolled": true
   },
   "outputs": [
    {
     "data": {
      "text/plain": [
       "count    288456.000000\n",
       "mean     128627.728319\n",
       "std       36388.257991\n",
       "min        5000.000000\n",
       "25%      125000.000000\n",
       "50%      150000.000000\n",
       "75%      150000.000000\n",
       "max      150000.000000\n",
       "Name: Kilometer, dtype: float64"
      ]
     },
     "execution_count": 120,
     "metadata": {},
     "output_type": "execute_result"
    }
   ],
   "source": [
    "df['Kilometer'].describe()"
   ]
  },
  {
   "cell_type": "markdown",
   "metadata": {},
   "source": [
    "Тут явных аномалий нет, вроде все хорошо."
   ]
  },
  {
   "cell_type": "markdown",
   "metadata": {},
   "source": [
    "Посмотрим на столбец с информацией о кол-ве фото."
   ]
  },
  {
   "cell_type": "code",
   "execution_count": 121,
   "metadata": {
    "scrolled": false
   },
   "outputs": [
    {
     "data": {
      "text/plain": [
       "count    288456.0\n",
       "mean          0.0\n",
       "std           0.0\n",
       "min           0.0\n",
       "25%           0.0\n",
       "50%           0.0\n",
       "75%           0.0\n",
       "max           0.0\n",
       "Name: NumberOfPictures, dtype: float64"
      ]
     },
     "execution_count": 121,
     "metadata": {},
     "output_type": "execute_result"
    }
   ],
   "source": [
    "df['NumberOfPictures'].describe()"
   ]
  },
  {
   "cell_type": "markdown",
   "metadata": {},
   "source": [
    "Нулевой столбец - удалим его."
   ]
  },
  {
   "cell_type": "markdown",
   "metadata": {},
   "source": [
    "Теперь проанализируем категориальные переменные. Начнем с VehicleType."
   ]
  },
  {
   "cell_type": "code",
   "execution_count": 122,
   "metadata": {
    "scrolled": false
   },
   "outputs": [
    {
     "data": {
      "text/plain": [
       "sedan          0.283475\n",
       "small          0.240092\n",
       "wagon          0.204302\n",
       "bus            0.090353\n",
       "convertible    0.063573\n",
       "coupe          0.048690\n",
       "suv            0.037208\n",
       "NaN            0.024333\n",
       "other          0.007973\n",
       "Name: VehicleType, dtype: float64"
      ]
     },
     "execution_count": 122,
     "metadata": {},
     "output_type": "execute_result"
    }
   ],
   "source": [
    "df['VehicleType'].value_counts(normalize=True, dropna=False)"
   ]
  },
  {
   "cell_type": "markdown",
   "metadata": {},
   "source": [
    "Чуть больше чем 2.5 % пропусков. Но есть категория other объеденим other и nan."
   ]
  },
  {
   "cell_type": "code",
   "execution_count": 123,
   "metadata": {},
   "outputs": [],
   "source": [
    "df['VehicleType'] = df['VehicleType'].fillna('other')"
   ]
  },
  {
   "cell_type": "markdown",
   "metadata": {},
   "source": [
    "Рассмотрим Gearbox."
   ]
  },
  {
   "cell_type": "code",
   "execution_count": 124,
   "metadata": {
    "scrolled": true
   },
   "outputs": [
    {
     "data": {
      "text/plain": [
       "manual    0.784116\n",
       "auto      0.198765\n",
       "NaN       0.017119\n",
       "Name: Gearbox, dtype: float64"
      ]
     },
     "execution_count": 124,
     "metadata": {},
     "output_type": "execute_result"
    }
   ],
   "source": [
    "df['Gearbox'].value_counts(normalize=True, dropna=False)"
   ]
  },
  {
   "cell_type": "markdown",
   "metadata": {},
   "source": [
    "Тут пропуски переведем в отдельную категорию 'no_data'."
   ]
  },
  {
   "cell_type": "code",
   "execution_count": 125,
   "metadata": {},
   "outputs": [],
   "source": [
    "df['Gearbox'] = df['Gearbox'].fillna('no_data')"
   ]
  },
  {
   "cell_type": "markdown",
   "metadata": {},
   "source": [
    "Посмотрим куда определить пропуски в Model."
   ]
  },
  {
   "cell_type": "code",
   "execution_count": 126,
   "metadata": {
    "scrolled": false
   },
   "outputs": [
    {
     "data": {
      "text/plain": [
       "array([nan, 'grand', 'golf', 'fabia', '3er', '2_reihe', 'c_max',\n",
       "       '3_reihe', 'passat', 'navara', 'polo', 'twingo', 'a_klasse',\n",
       "       'scirocco', '5er', 'arosa', 'other', 'civic', 'transporter',\n",
       "       'punto', 'e_klasse', 'kadett', 'one', 'fortwo', 'clio', '1er',\n",
       "       'b_klasse', 'a8', 'jetta', 'fiesta', 'c_klasse', 'micra', 'vito',\n",
       "       'sprinter', 'astra', '156', 'escort', 'forester', 'xc_reihe',\n",
       "       'scenic', 'ka', 'a1', 'focus', 'a4', 'tt', 'a6', 'jazz', 'omega',\n",
       "       'slk', '7er', 'combo', 'corsa', '80', '147', 'z_reihe', 'sorento',\n",
       "       'ibiza', 'mustang', 'eos', 'touran', 'getz', 'insignia', 'megane',\n",
       "       'a3', 'lupo', 'r19', 'caddy', 'mondeo', 'cordoba', 'colt',\n",
       "       'impreza', 'vectra', 'berlingo', 'tiguan', '6_reihe', 'c4',\n",
       "       'panda', 'up', 'i_reihe', 'ceed', 'kangoo', '5_reihe', 'yeti',\n",
       "       'octavia', 'zafira', 'mii', 'rx_reihe', '6er', 'modus', 'fox',\n",
       "       'matiz', 'beetle', 'rio', 'touareg', 'logan', 'spider', 'cuore',\n",
       "       's_max', 'a2', 'galaxy', 'c3', 'viano', 's_klasse', '1_reihe',\n",
       "       'sharan', 'avensis', 'roomster', 'sl', 'santa', 'leon', 'cooper',\n",
       "       '4_reihe', 'a5', 'sportage', 'laguna', 'ptcruiser', 'clk',\n",
       "       'primera', 'espace', 'exeo', '159', 'transit', 'juke', 'x_reihe',\n",
       "       'v40', 'carisma', 'accord', 'corolla', 'lanos', 'phaeton', 'verso',\n",
       "       'swift', 'rav', 'qashqai', 'picanto', 'boxster', 'superb', 'stilo',\n",
       "       'alhambra', 'roadster', 'ypsilon', 'galant', 'justy', '90',\n",
       "       'sirion', 'signum', 'crossfire', 'agila', 'duster', 'v50',\n",
       "       'mx_reihe', 'meriva', 'c_reihe', 'v_klasse', 'm_klasse', 'yaris',\n",
       "       'c5', 'aygo', 'almera', 'seicento', 'cc', 'fusion', '911', 'bora',\n",
       "       'forfour', 'cl', 'tigra', '300c', '500', '100', 'cr_reihe',\n",
       "       'spark', 'kuga', 'x_type', 'ducato', 's_type', 'x_trail', 'toledo',\n",
       "       'altea', 'voyager', 'calibra', 'carnival', 'v70', 'bravo',\n",
       "       'tucson', 'c1', 'citigo', 'jimny', 'cayenne', 'wrangler', 'lybra',\n",
       "       'lancer', 'captiva', 'discovery', 'freelander', 'sandero', 'q7',\n",
       "       'note', 'antara', '900', 'cherokee', 'clubman', 'defender',\n",
       "       'cx_reihe', 'legacy', 'pajero', 'auris', 'c2', 'niva', 's60',\n",
       "       'm_reihe', 'nubira', 'vivaro', 'g_klasse', 'lodgy', 'range_rover',\n",
       "       '850', 'q3', 'serie_2', 'glk', 'charade', 'croma', 'outlander',\n",
       "       'kaefer', 'doblo', 'musa', '9000', 'kalos', 'v60', '200', '145',\n",
       "       'b_max', 'range_rover_sport', 'aveo', 'move', 'rangerover', 'q5',\n",
       "       'range_rover_evoque', 'materia', 'delta', 'terios', 'gl', 'kalina',\n",
       "       'elefantino', 'i3', 'samara', 'amarok', '601', 'kappa'],\n",
       "      dtype=object)"
      ]
     },
     "execution_count": 126,
     "metadata": {},
     "output_type": "execute_result"
    }
   ],
   "source": [
    "df['Model'].unique()"
   ]
  },
  {
   "cell_type": "markdown",
   "metadata": {},
   "source": [
    "Переведем в other."
   ]
  },
  {
   "cell_type": "code",
   "execution_count": 127,
   "metadata": {},
   "outputs": [],
   "source": [
    "df['Model'] = df['Model'].fillna('other')"
   ]
  },
  {
   "cell_type": "markdown",
   "metadata": {},
   "source": [
    "Проанализируем параметр описывающий тип топлива."
   ]
  },
  {
   "cell_type": "code",
   "execution_count": 128,
   "metadata": {
    "scrolled": true
   },
   "outputs": [
    {
     "data": {
      "text/plain": [
       "petrol      0.632939\n",
       "gasoline    0.301634\n",
       "NaN         0.046804\n",
       "lpg         0.015989\n",
       "cng         0.001640\n",
       "hybrid      0.000686\n",
       "other       0.000184\n",
       "electric    0.000125\n",
       "Name: FuelType, dtype: float64"
      ]
     },
     "execution_count": 128,
     "metadata": {},
     "output_type": "execute_result"
    }
   ],
   "source": [
    "df['FuelType'].value_counts(normalize=True, dropna=False)"
   ]
  },
  {
   "cell_type": "markdown",
   "metadata": {},
   "source": [
    "Переведем пропуски в other"
   ]
  },
  {
   "cell_type": "code",
   "execution_count": 129,
   "metadata": {},
   "outputs": [],
   "source": [
    "df['FuelType'] = df['FuelType'].fillna('other')"
   ]
  },
  {
   "cell_type": "markdown",
   "metadata": {},
   "source": [
    "Взглянем на бренды. Тут пропусков нет, но возможны повторы или ошибки заполнения."
   ]
  },
  {
   "cell_type": "code",
   "execution_count": 130,
   "metadata": {
    "scrolled": false
   },
   "outputs": [
    {
     "data": {
      "text/plain": [
       "volkswagen        0.216355\n",
       "bmw               0.110201\n",
       "opel              0.109476\n",
       "mercedes_benz     0.092184\n",
       "audi              0.087164\n",
       "ford              0.069969\n",
       "renault           0.047182\n",
       "peugeot           0.032119\n",
       "fiat              0.025234\n",
       "seat              0.019837\n",
       "skoda             0.016945\n",
       "mazda             0.016113\n",
       "smart             0.015302\n",
       "citroen           0.014200\n",
       "nissan            0.013836\n",
       "toyota            0.013742\n",
       "hyundai           0.010684\n",
       "mini              0.010185\n",
       "volvo             0.009537\n",
       "mitsubishi        0.008514\n",
       "honda             0.008057\n",
       "kia               0.007148\n",
       "suzuki            0.006625\n",
       "alfa_romeo        0.006583\n",
       "chevrolet         0.004729\n",
       "sonstige_autos    0.004333\n",
       "chrysler          0.003935\n",
       "dacia             0.002742\n",
       "subaru            0.002201\n",
       "daihatsu          0.002084\n",
       "jeep              0.001893\n",
       "porsche           0.001872\n",
       "saab              0.001619\n",
       "land_rover        0.001539\n",
       "jaguar            0.001449\n",
       "daewoo            0.001387\n",
       "lancia            0.001245\n",
       "rover             0.001231\n",
       "lada              0.000485\n",
       "trabant           0.000062\n",
       "Name: Brand, dtype: float64"
      ]
     },
     "execution_count": 130,
     "metadata": {},
     "output_type": "execute_result"
    }
   ],
   "source": [
    "df['Brand'].value_counts(normalize=True, dropna=False)"
   ]
  },
  {
   "cell_type": "markdown",
   "metadata": {},
   "source": [
    "В столбце NotRepaired есть пропуски. Посмотрим куда их можно классифицировать."
   ]
  },
  {
   "cell_type": "code",
   "execution_count": 131,
   "metadata": {
    "scrolled": true
   },
   "outputs": [
    {
     "data": {
      "text/plain": [
       "no     0.762754\n",
       "NaN    0.140382\n",
       "yes    0.096864\n",
       "Name: NotRepaired, dtype: float64"
      ]
     },
     "execution_count": 131,
     "metadata": {},
     "output_type": "execute_result"
    }
   ],
   "source": [
    "df['NotRepaired'].value_counts(normalize=True, dropna=False)"
   ]
  },
  {
   "cell_type": "markdown",
   "metadata": {},
   "source": [
    "Заведем отдельный тип no_data"
   ]
  },
  {
   "cell_type": "code",
   "execution_count": 132,
   "metadata": {},
   "outputs": [],
   "source": [
    "df['NotRepaired'] = df['NotRepaired'].fillna('no_data')"
   ]
  },
  {
   "cell_type": "markdown",
   "metadata": {},
   "source": [
    "Удалим параметры не влияющие на целевой признак."
   ]
  },
  {
   "cell_type": "code",
   "execution_count": 133,
   "metadata": {},
   "outputs": [],
   "source": [
    "df = df.drop(['DateCrawled', 'RegistrationMonth', 'DateCreated', 'NumberOfPictures', 'PostalCode', 'LastSeen',\n",
    "             'LastSeen', 'year_created', 'month_created'], axis=1)"
   ]
  },
  {
   "cell_type": "code",
   "execution_count": 134,
   "metadata": {
    "scrolled": false
   },
   "outputs": [
    {
     "data": {
      "text/html": [
       "<div>\n",
       "<style scoped>\n",
       "    .dataframe tbody tr th:only-of-type {\n",
       "        vertical-align: middle;\n",
       "    }\n",
       "\n",
       "    .dataframe tbody tr th {\n",
       "        vertical-align: top;\n",
       "    }\n",
       "\n",
       "    .dataframe thead th {\n",
       "        text-align: right;\n",
       "    }\n",
       "</style>\n",
       "<table border=\"1\" class=\"dataframe\">\n",
       "  <thead>\n",
       "    <tr style=\"text-align: right;\">\n",
       "      <th></th>\n",
       "      <th>Price</th>\n",
       "      <th>VehicleType</th>\n",
       "      <th>RegistrationYear</th>\n",
       "      <th>Gearbox</th>\n",
       "      <th>Power</th>\n",
       "      <th>Model</th>\n",
       "      <th>Kilometer</th>\n",
       "      <th>FuelType</th>\n",
       "      <th>Brand</th>\n",
       "      <th>NotRepaired</th>\n",
       "    </tr>\n",
       "  </thead>\n",
       "  <tbody>\n",
       "    <tr>\n",
       "      <th>1</th>\n",
       "      <td>18300</td>\n",
       "      <td>coupe</td>\n",
       "      <td>2011</td>\n",
       "      <td>manual</td>\n",
       "      <td>190</td>\n",
       "      <td>other</td>\n",
       "      <td>125000</td>\n",
       "      <td>gasoline</td>\n",
       "      <td>audi</td>\n",
       "      <td>yes</td>\n",
       "    </tr>\n",
       "    <tr>\n",
       "      <th>2</th>\n",
       "      <td>9800</td>\n",
       "      <td>suv</td>\n",
       "      <td>2004</td>\n",
       "      <td>auto</td>\n",
       "      <td>163</td>\n",
       "      <td>grand</td>\n",
       "      <td>125000</td>\n",
       "      <td>gasoline</td>\n",
       "      <td>jeep</td>\n",
       "      <td>no_data</td>\n",
       "    </tr>\n",
       "    <tr>\n",
       "      <th>3</th>\n",
       "      <td>1500</td>\n",
       "      <td>small</td>\n",
       "      <td>2001</td>\n",
       "      <td>manual</td>\n",
       "      <td>75</td>\n",
       "      <td>golf</td>\n",
       "      <td>150000</td>\n",
       "      <td>petrol</td>\n",
       "      <td>volkswagen</td>\n",
       "      <td>no</td>\n",
       "    </tr>\n",
       "    <tr>\n",
       "      <th>4</th>\n",
       "      <td>3600</td>\n",
       "      <td>small</td>\n",
       "      <td>2008</td>\n",
       "      <td>manual</td>\n",
       "      <td>69</td>\n",
       "      <td>fabia</td>\n",
       "      <td>90000</td>\n",
       "      <td>gasoline</td>\n",
       "      <td>skoda</td>\n",
       "      <td>no</td>\n",
       "    </tr>\n",
       "    <tr>\n",
       "      <th>5</th>\n",
       "      <td>650</td>\n",
       "      <td>sedan</td>\n",
       "      <td>1995</td>\n",
       "      <td>manual</td>\n",
       "      <td>102</td>\n",
       "      <td>3er</td>\n",
       "      <td>150000</td>\n",
       "      <td>petrol</td>\n",
       "      <td>bmw</td>\n",
       "      <td>yes</td>\n",
       "    </tr>\n",
       "  </tbody>\n",
       "</table>\n",
       "</div>"
      ],
      "text/plain": [
       "   Price VehicleType  RegistrationYear Gearbox  Power  Model  Kilometer  \\\n",
       "1  18300       coupe              2011  manual    190  other     125000   \n",
       "2   9800         suv              2004    auto    163  grand     125000   \n",
       "3   1500       small              2001  manual     75   golf     150000   \n",
       "4   3600       small              2008  manual     69  fabia      90000   \n",
       "5    650       sedan              1995  manual    102    3er     150000   \n",
       "\n",
       "   FuelType       Brand NotRepaired  \n",
       "1  gasoline        audi         yes  \n",
       "2  gasoline        jeep     no_data  \n",
       "3    petrol  volkswagen          no  \n",
       "4  gasoline       skoda          no  \n",
       "5    petrol         bmw         yes  "
      ]
     },
     "execution_count": 134,
     "metadata": {},
     "output_type": "execute_result"
    }
   ],
   "source": [
    "df.head()"
   ]
  },
  {
   "cell_type": "code",
   "execution_count": 135,
   "metadata": {},
   "outputs": [],
   "source": [
    "df['Price'] = df['Price'].astype('float')"
   ]
  },
  {
   "cell_type": "markdown",
   "metadata": {},
   "source": [
    "Все категориальные переменные преобразуем для алгоритмов ML с помощью get_dummies."
   ]
  },
  {
   "cell_type": "code",
   "execution_count": 136,
   "metadata": {},
   "outputs": [],
   "source": [
    "df = pd.get_dummies(df, ['VehicleType', 'Gearbox', 'Model', 'FuelType', 'Brand', 'NotRepaired'], drop_first=True)"
   ]
  },
  {
   "cell_type": "markdown",
   "metadata": {},
   "source": [
    "Произведем разделение данных на тренировочную и валидационную."
   ]
  },
  {
   "cell_type": "code",
   "execution_count": 137,
   "metadata": {},
   "outputs": [],
   "source": [
    "features = df.drop('Price', axis=1)\n",
    "target = df['Price']\n",
    "features_train, features_valid, target_train, target_valid = train_test_split(features, target, test_size=0.25, random_state=1337)"
   ]
  },
  {
   "cell_type": "code",
   "execution_count": 138,
   "metadata": {
    "scrolled": false
   },
   "outputs": [
    {
     "name": "stdout",
     "output_type": "stream",
     "text": [
      "(216342, 306) (72114, 306) (216342,) (72114,)\n"
     ]
    }
   ],
   "source": [
    "print(features_train.shape, features_valid.shape, target_train.shape, target_valid.shape)"
   ]
  },
  {
   "cell_type": "markdown",
   "metadata": {},
   "source": [
    "Произведем стандартизацию количественных признаков всех кроме целевого."
   ]
  },
  {
   "cell_type": "code",
   "execution_count": 139,
   "metadata": {
    "scrolled": true
   },
   "outputs": [],
   "source": [
    "scaler = StandardScaler().fit(features_train[['RegistrationYear', 'Power', 'Kilometer']])\n",
    "features_train[['RegistrationYear', 'Power', 'Kilometer']] = scaler.transform(features_train[['RegistrationYear', \n",
    "                                                                                              'Power', 'Kilometer']])\n",
    "features_valid[['RegistrationYear', 'Power', 'Kilometer']] = scaler.transform(features_valid[['RegistrationYear', \n",
    "                                                                                              'Power', 'Kilometer']])"
   ]
  },
  {
   "cell_type": "markdown",
   "metadata": {},
   "source": [
    "**Вывод**"
   ]
  },
  {
   "cell_type": "markdown",
   "metadata": {},
   "source": [
    "В ходе анализа таблицы были выявлены пропуски в категориальных данных. Также были замечены аномальные значения в количественных признаках. Все не восстанавливаемые пропуски и аномалии были отфильтрованы. На данном шаге были произведена стандартизация количественных данных и преобразованы категориальные."
   ]
  },
  {
   "cell_type": "markdown",
   "metadata": {},
   "source": [
    "## Обучение моделей"
   ]
  },
  {
   "cell_type": "markdown",
   "metadata": {},
   "source": [
    "### CatBoost"
   ]
  },
  {
   "cell_type": "markdown",
   "metadata": {},
   "source": [
    "Обучим catboost, найдем подходящие параметры."
   ]
  },
  {
   "cell_type": "code",
   "execution_count": 140,
   "metadata": {},
   "outputs": [],
   "source": [
    "parametrs = {\n",
    "    'iterations': range(12,18,2),\n",
    "    'depth': range(12,18,2)\n",
    "}"
   ]
  },
  {
   "cell_type": "code",
   "execution_count": 141,
   "metadata": {},
   "outputs": [
    {
     "name": "stdout",
     "output_type": "stream",
     "text": [
      "CPU times: user 2min 54s, sys: 1min 3s, total: 3min 57s\n",
      "Wall time: 4min 15s\n"
     ]
    },
    {
     "data": {
      "text/plain": [
       "{'depth': 16, 'iterations': 16}"
      ]
     },
     "execution_count": 141,
     "metadata": {},
     "output_type": "execute_result"
    }
   ],
   "source": [
    "%%time\n",
    "model = CatBoostRegressor(loss_function='RMSE', random_state=1337)\n",
    "grid = GridSearchCV(model, parametrs, cv=2)\n",
    "grid.fit(features_train, target_train, verbose=False)\n",
    "grid.best_params_"
   ]
  },
  {
   "cell_type": "markdown",
   "metadata": {},
   "source": [
    "Параметры для catboost: depth=16, iterations=16"
   ]
  },
  {
   "cell_type": "markdown",
   "metadata": {},
   "source": [
    "### RandomForest"
   ]
  },
  {
   "cell_type": "code",
   "execution_count": 142,
   "metadata": {},
   "outputs": [],
   "source": [
    "parametrs = {\n",
    "    'max_depth': range(12,18,2)\n",
    "}"
   ]
  },
  {
   "cell_type": "code",
   "execution_count": 143,
   "metadata": {},
   "outputs": [
    {
     "name": "stdout",
     "output_type": "stream",
     "text": [
      "CPU times: user 23min 25s, sys: 2.86 s, total: 23min 28s\n",
      "Wall time: 23min 31s\n"
     ]
    },
    {
     "data": {
      "text/plain": [
       "{'max_depth': 16}"
      ]
     },
     "execution_count": 143,
     "metadata": {},
     "output_type": "execute_result"
    }
   ],
   "source": [
    "%%time\n",
    "model_forest = RandomForestRegressor(n_estimators=100, random_state=1337)\n",
    "grid = GridSearchCV(model_forest, parametrs, cv=2)\n",
    "grid.fit(features_train, target_train)\n",
    "grid.best_params_"
   ]
  },
  {
   "cell_type": "markdown",
   "metadata": {},
   "source": [
    "Параметры для randomforest n_estimators=100, max_depth=16"
   ]
  },
  {
   "cell_type": "markdown",
   "metadata": {},
   "source": [
    "### LGBMRegressor"
   ]
  },
  {
   "cell_type": "markdown",
   "metadata": {},
   "source": [
    "Найдем подходящие параметры."
   ]
  },
  {
   "cell_type": "code",
   "execution_count": 144,
   "metadata": {},
   "outputs": [],
   "source": [
    "parametrs = {\n",
    "    'n_estimators': range(14,18,2),\n",
    "    'max_depth': range(14,18,2)\n",
    "}"
   ]
  },
  {
   "cell_type": "code",
   "execution_count": 145,
   "metadata": {},
   "outputs": [
    {
     "name": "stdout",
     "output_type": "stream",
     "text": [
      "CPU times: user 1min 47s, sys: 3.28 s, total: 1min 50s\n",
      "Wall time: 1min 51s\n"
     ]
    },
    {
     "data": {
      "text/plain": [
       "{'max_depth': 16, 'n_estimators': 16}"
      ]
     },
     "execution_count": 145,
     "metadata": {},
     "output_type": "execute_result"
    }
   ],
   "source": [
    "%%time\n",
    "model_lgbm = LGBMRegressor(random_state=1337, learning_rate=0.5)\n",
    "grid = GridSearchCV(model_lgbm, parametrs, cv=2)\n",
    "grid.fit(features_train, target_train)\n",
    "grid.best_params_"
   ]
  },
  {
   "cell_type": "markdown",
   "metadata": {},
   "source": [
    "Параметры для randomforest n_estimators=16, max_depth=16"
   ]
  },
  {
   "cell_type": "markdown",
   "metadata": {},
   "source": [
    "## Анализ моделей"
   ]
  },
  {
   "cell_type": "markdown",
   "metadata": {},
   "source": [
    "Теперь посмотрим сколько времени catboost будет обучаться, предсказывать целевой параметр и замерим rmse."
   ]
  },
  {
   "cell_type": "code",
   "execution_count": 146,
   "metadata": {},
   "outputs": [
    {
     "name": "stdout",
     "output_type": "stream",
     "text": [
      "CPU times: user 20.3 s, sys: 8.26 s, total: 28.5 s\n",
      "Wall time: 29.6 s\n"
     ]
    },
    {
     "data": {
      "text/plain": [
       "<catboost.core.CatBoostRegressor at 0x7f93fb6a89a0>"
      ]
     },
     "execution_count": 146,
     "metadata": {},
     "output_type": "execute_result"
    }
   ],
   "source": [
    "%%time\n",
    "model_cat = CatBoostRegressor(loss_function='RMSE', iterations=16, depth=16, random_state=1337)\n",
    "model_cat.fit(features_train, target_train, verbose=False)"
   ]
  },
  {
   "cell_type": "code",
   "execution_count": 147,
   "metadata": {
    "scrolled": false
   },
   "outputs": [
    {
     "name": "stdout",
     "output_type": "stream",
     "text": [
      "1584.1084534273577\n",
      "CPU times: user 59.1 ms, sys: 4.16 ms, total: 63.2 ms\n",
      "Wall time: 60.9 ms\n"
     ]
    }
   ],
   "source": [
    "%%time\n",
    "pred = model_cat.predict(features_valid)\n",
    "rmse = mean_squared_error(pred, target_valid)**0.5\n",
    "print(rmse)"
   ]
  },
  {
   "cell_type": "markdown",
   "metadata": {},
   "source": [
    "catboost обучается примерно 20-30 s, предсказывает за 30-50 ms, rmse=1584.11"
   ]
  },
  {
   "cell_type": "code",
   "execution_count": 148,
   "metadata": {},
   "outputs": [
    {
     "data": {
      "text/plain": [
       "Text(0.5, 1.0, 'Feature Importance CatBoost')"
      ]
     },
     "execution_count": 148,
     "metadata": {},
     "output_type": "execute_result"
    },
    {
     "data": {
      "image/png": "[encoded data removed]",
      "text/plain": [
       "<Figure size 864x432 with 1 Axes>"
      ]
     },
     "metadata": {
      "needs_background": "light"
     },
     "output_type": "display_data"
    }
   ],
   "source": [
    "feature_importance = model_cat.feature_importances_[:20]\n",
    "sorted_idx = np.argsort(feature_importance)\n",
    "fig = plt.figure(figsize=(12, 6))\n",
    "plt.barh(range(len(sorted_idx)), feature_importance[sorted_idx], align='center')\n",
    "plt.yticks(range(len(sorted_idx)), np.array(features_train.columns)[sorted_idx])\n",
    "plt.title('Feature Importance CatBoost')"
   ]
  },
  {
   "cell_type": "markdown",
   "metadata": {},
   "source": [
    "Оценим работу randomforest."
   ]
  },
  {
   "cell_type": "code",
   "execution_count": 149,
   "metadata": {},
   "outputs": [
    {
     "name": "stdout",
     "output_type": "stream",
     "text": [
      "CPU times: user 59.7 s, sys: 255 ms, total: 1min\n",
      "Wall time: 1min\n"
     ]
    },
    {
     "data": {
      "text/plain": [
       "RandomForestRegressor(max_depth=16, n_estimators=14, random_state=1337)"
      ]
     },
     "execution_count": 149,
     "metadata": {},
     "output_type": "execute_result"
    }
   ],
   "source": [
    "%%time\n",
    "model_forest = RandomForestRegressor(n_estimators=14, max_depth=16, random_state=1337)\n",
    "model_forest.fit(features_train, target_train)"
   ]
  },
  {
   "cell_type": "code",
   "execution_count": 150,
   "metadata": {},
   "outputs": [
    {
     "name": "stdout",
     "output_type": "stream",
     "text": [
      "1593.8187421924154\n",
      "CPU times: user 331 ms, sys: 75.6 ms, total: 407 ms\n",
      "Wall time: 425 ms\n"
     ]
    }
   ],
   "source": [
    "%%time\n",
    "pred = model_forest.predict(features_valid)\n",
    "rmse = mean_squared_error(pred, target_valid)**0.5\n",
    "print(rmse)"
   ]
  },
  {
   "cell_type": "markdown",
   "metadata": {},
   "source": [
    "randomforest обучается примерно 50-60 s, предсказывает за ~360 ms, rmse=1593.82"
   ]
  },
  {
   "cell_type": "code",
   "execution_count": 151,
   "metadata": {},
   "outputs": [
    {
     "data": {
      "text/plain": [
       "Text(0.5, 1.0, 'Feature Importance RandomForest')"
      ]
     },
     "execution_count": 151,
     "metadata": {},
     "output_type": "execute_result"
    },
    {
     "data": {
      "image/png": "[encoded data removed]",
      "text/plain": [
       "<Figure size 864x432 with 1 Axes>"
      ]
     },
     "metadata": {
      "needs_background": "light"
     },
     "output_type": "display_data"
    }
   ],
   "source": [
    "feature_importance = model_forest.feature_importances_[:20]\n",
    "sorted_idx = np.argsort(feature_importance)\n",
    "fig = plt.figure(figsize=(12, 6))\n",
    "plt.barh(range(len(sorted_idx)), feature_importance[sorted_idx], align='center')\n",
    "plt.yticks(range(len(sorted_idx)), np.array(features_train.columns)[sorted_idx])\n",
    "plt.title('Feature Importance RandomForest')"
   ]
  },
  {
   "cell_type": "markdown",
   "metadata": {},
   "source": [
    "Посмотрим на метрики LGBMRegressor."
   ]
  },
  {
   "cell_type": "code",
   "execution_count": 152,
   "metadata": {},
   "outputs": [
    {
     "name": "stdout",
     "output_type": "stream",
     "text": [
      "CPU times: user 14.9 s, sys: 366 ms, total: 15.3 s\n",
      "Wall time: 15.4 s\n"
     ]
    },
    {
     "data": {
      "text/plain": [
       "LGBMRegressor(learning_rate=0.5, max_depth=16, n_estimators=16,\n",
       "              random_state=1337)"
      ]
     },
     "execution_count": 152,
     "metadata": {},
     "output_type": "execute_result"
    }
   ],
   "source": [
    "%%time\n",
    "model_lgbm = LGBMRegressor(n_estimators=16, max_depth=16, random_state=1337, learning_rate=0.5)\n",
    "model_lgbm.fit(features_train, target_train)"
   ]
  },
  {
   "cell_type": "code",
   "execution_count": 153,
   "metadata": {},
   "outputs": [
    {
     "name": "stdout",
     "output_type": "stream",
     "text": [
      "1675.5992408412844\n",
      "CPU times: user 387 ms, sys: 95.1 ms, total: 483 ms\n",
      "Wall time: 500 ms\n"
     ]
    }
   ],
   "source": [
    "%%time\n",
    "pred = model_lgbm.predict(features_valid)\n",
    "rmse = mean_squared_error(pred, target_valid)**0.5\n",
    "print(rmse)"
   ]
  },
  {
   "cell_type": "markdown",
   "metadata": {},
   "source": [
    "LGBMRegressor обучается примерно 8-15 s, предсказывает за ~330 ms, rmse=1675.60"
   ]
  },
  {
   "cell_type": "code",
   "execution_count": 154,
   "metadata": {
    "scrolled": false
   },
   "outputs": [
    {
     "data": {
      "text/plain": [
       "Text(0.5, 1.0, 'Feature Importance LGBMRegressor')"
      ]
     },
     "execution_count": 154,
     "metadata": {},
     "output_type": "execute_result"
    },
    {
     "data": {
      "image/png": "[encoded data removed]",
      "text/plain": [
       "<Figure size 864x432 with 1 Axes>"
      ]
     },
     "metadata": {
      "needs_background": "light"
     },
     "output_type": "display_data"
    }
   ],
   "source": [
    "feature_importance = model_lgbm.feature_importances_[:20]\n",
    "sorted_idx = np.argsort(feature_importance)\n",
    "fig = plt.figure(figsize=(12, 6))\n",
    "plt.barh(range(len(sorted_idx)), feature_importance[sorted_idx], align='center')\n",
    "plt.yticks(range(len(sorted_idx)), np.array(features_train.columns)[sorted_idx])\n",
    "plt.title('Feature Importance LGBMRegressor')"
   ]
  },
  {
   "cell_type": "markdown",
   "metadata": {},
   "source": [
    "Сведем все данные в таблицу."
   ]
  },
  {
   "cell_type": "code",
   "execution_count": 155,
   "metadata": {},
   "outputs": [],
   "source": [
    "result = pd.DataFrame({'Модель': ['CatBoost', 'RandomForest', 'LGBMRegressor'], 'Время обучения (с)':['20-30', '50-60', '8-15'],\n",
    "                      'Время предсказания (мс)': ['~40', '~360', '~330'], 'rmse': [1584.11, 1593.82, 1675.60]})"
   ]
  },
  {
   "cell_type": "code",
   "execution_count": 156,
   "metadata": {},
   "outputs": [
    {
     "data": {
      "text/html": [
       "<div>\n",
       "<style scoped>\n",
       "    .dataframe tbody tr th:only-of-type {\n",
       "        vertical-align: middle;\n",
       "    }\n",
       "\n",
       "    .dataframe tbody tr th {\n",
       "        vertical-align: top;\n",
       "    }\n",
       "\n",
       "    .dataframe thead th {\n",
       "        text-align: right;\n",
       "    }\n",
       "</style>\n",
       "<table border=\"1\" class=\"dataframe\">\n",
       "  <thead>\n",
       "    <tr style=\"text-align: right;\">\n",
       "      <th></th>\n",
       "      <th>Модель</th>\n",
       "      <th>Время обучения (с)</th>\n",
       "      <th>Время предсказания (мс)</th>\n",
       "      <th>rmse</th>\n",
       "    </tr>\n",
       "  </thead>\n",
       "  <tbody>\n",
       "    <tr>\n",
       "      <th>0</th>\n",
       "      <td>CatBoost</td>\n",
       "      <td>20-30</td>\n",
       "      <td>~40</td>\n",
       "      <td>1584.11</td>\n",
       "    </tr>\n",
       "    <tr>\n",
       "      <th>1</th>\n",
       "      <td>RandomForest</td>\n",
       "      <td>50-60</td>\n",
       "      <td>~360</td>\n",
       "      <td>1593.82</td>\n",
       "    </tr>\n",
       "    <tr>\n",
       "      <th>2</th>\n",
       "      <td>LGBMRegressor</td>\n",
       "      <td>8-15</td>\n",
       "      <td>~330</td>\n",
       "      <td>1675.60</td>\n",
       "    </tr>\n",
       "  </tbody>\n",
       "</table>\n",
       "</div>"
      ],
      "text/plain": [
       "          Модель Время обучения (с) Время предсказания (мс)     rmse\n",
       "0       CatBoost              20-30                     ~40  1584.11\n",
       "1   RandomForest              50-60                    ~360  1593.82\n",
       "2  LGBMRegressor               8-15                    ~330  1675.60"
      ]
     },
     "execution_count": 156,
     "metadata": {},
     "output_type": "execute_result"
    }
   ],
   "source": [
    "result"
   ]
  },
  {
   "cell_type": "markdown",
   "metadata": {},
   "source": [
    "**Вывод**"
   ]
  },
  {
   "cell_type": "markdown",
   "metadata": {},
   "source": [
    "Для проекта предсказания цены автомобиля были предоставлены данные, которые имели пропуски и аномалии. Каждый параметр был проанализирован и после чего очищен от явных несоответствий. Категориальные данные были переведены в специальную форму для ML, а количественные были стандартизированы.\n",
    "\n",
    "Обучение производилось на трех моделях: Catboost, RandomForest и LGBMRegressor. Моделью имеющую самую быструю скорость обучения оказалась LGBMRegressor 8-15 s, потом идет Catboost 20-30 s и RandomForest 50-60 s. Catboost имеет самую высокую скорость предсказания и высокое качество метрики rmse (предсказывает за ~40 ms, rmse=1584.11), LGBMRegressor предсказывает за ~330 ms, rmse=1675.60, а RandomForest предсказывает за ~360 ms, rmse=1593.82. Важными факторами оказались: год выпуска, мощность, пробег и тип кузова.\n",
    "\n",
    "Исходя из желаний заказчика для работы с этими данными я выбираю CatBoost."
   ]
  }
 ],
 "metadata": {
  "ExecuteTimeLog": [
   {
    "duration": 607,
    "start_time": "2022-03-10T12:20:46.982Z"
   },
   {
    "duration": 759,
    "start_time": "2022-03-10T12:21:05.305Z"
   },
   {
    "duration": 24,
    "start_time": "2022-03-10T12:21:11.900Z"
   },
   {
    "duration": 122,
    "start_time": "2022-03-10T12:21:39.930Z"
   },
   {
    "duration": 179,
    "start_time": "2022-03-10T12:22:51.668Z"
   },
   {
    "duration": 306,
    "start_time": "2022-03-10T16:55:21.381Z"
   },
   {
    "duration": 39,
    "start_time": "2022-03-10T16:55:26.681Z"
   },
   {
    "duration": 55,
    "start_time": "2022-03-10T17:41:31.304Z"
   },
   {
    "duration": 25297,
    "start_time": "2022-03-10T17:44:05.112Z"
   },
   {
    "duration": 181,
    "start_time": "2022-03-10T17:44:35.610Z"
   },
   {
    "duration": 813,
    "start_time": "2022-03-10T17:44:47.357Z"
   },
   {
    "duration": 249,
    "start_time": "2022-03-10T17:45:02.124Z"
   },
   {
    "duration": 320,
    "start_time": "2022-03-10T17:45:06.860Z"
   },
   {
    "duration": 323,
    "start_time": "2022-03-10T17:45:19.221Z"
   },
   {
    "duration": 477,
    "start_time": "2022-03-10T17:45:28.550Z"
   },
   {
    "duration": 277,
    "start_time": "2022-03-10T17:48:21.781Z"
   },
   {
    "duration": 317,
    "start_time": "2022-03-10T17:48:30.595Z"
   },
   {
    "duration": 192,
    "start_time": "2022-03-10T17:48:43.766Z"
   },
   {
    "duration": 194,
    "start_time": "2022-03-10T17:48:55.577Z"
   },
   {
    "duration": 318,
    "start_time": "2022-03-10T17:49:27.024Z"
   },
   {
    "duration": 288,
    "start_time": "2022-03-10T17:49:29.657Z"
   },
   {
    "duration": 10,
    "start_time": "2022-03-10T17:49:43.521Z"
   },
   {
    "duration": 278,
    "start_time": "2022-03-10T17:51:44.650Z"
   },
   {
    "duration": 769,
    "start_time": "2022-03-10T17:52:17.339Z"
   },
   {
    "duration": 22,
    "start_time": "2022-03-10T17:52:36.155Z"
   },
   {
    "duration": 23,
    "start_time": "2022-03-10T17:52:53.069Z"
   },
   {
    "duration": 14,
    "start_time": "2022-03-10T17:53:17.720Z"
   },
   {
    "duration": 14,
    "start_time": "2022-03-10T17:53:26.131Z"
   },
   {
    "duration": 13,
    "start_time": "2022-03-10T17:54:21.312Z"
   },
   {
    "duration": 253,
    "start_time": "2022-03-11T12:11:43.518Z"
   },
   {
    "duration": 620,
    "start_time": "2022-03-11T12:11:47.856Z"
   },
   {
    "duration": 806,
    "start_time": "2022-03-11T12:11:48.477Z"
   },
   {
    "duration": 19,
    "start_time": "2022-03-11T12:11:49.285Z"
   },
   {
    "duration": 134,
    "start_time": "2022-03-11T12:11:49.305Z"
   },
   {
    "duration": 124,
    "start_time": "2022-03-11T12:11:49.440Z"
   },
   {
    "duration": 33,
    "start_time": "2022-03-11T12:11:49.566Z"
   },
   {
    "duration": 53,
    "start_time": "2022-03-11T12:14:19.239Z"
   },
   {
    "duration": 60,
    "start_time": "2022-03-11T12:14:52.617Z"
   },
   {
    "duration": 53,
    "start_time": "2022-03-11T12:15:00.750Z"
   },
   {
    "duration": 97,
    "start_time": "2022-03-11T12:15:35.372Z"
   },
   {
    "duration": 96,
    "start_time": "2022-03-11T12:15:49.931Z"
   },
   {
    "duration": 52,
    "start_time": "2022-03-11T12:16:28.442Z"
   },
   {
    "duration": 95,
    "start_time": "2022-03-11T12:16:51.078Z"
   },
   {
    "duration": 96,
    "start_time": "2022-03-11T12:17:11.758Z"
   },
   {
    "duration": 34,
    "start_time": "2022-03-11T12:17:18.929Z"
   },
   {
    "duration": 98,
    "start_time": "2022-03-11T12:18:02.044Z"
   },
   {
    "duration": 50,
    "start_time": "2022-03-11T12:18:49.447Z"
   },
   {
    "duration": 94,
    "start_time": "2022-03-11T12:19:12.021Z"
   },
   {
    "duration": 96,
    "start_time": "2022-03-11T12:19:19.615Z"
   },
   {
    "duration": 62,
    "start_time": "2022-03-11T12:19:33.506Z"
   },
   {
    "duration": 69,
    "start_time": "2022-03-11T12:20:05.929Z"
   },
   {
    "duration": 52,
    "start_time": "2022-03-11T12:20:11.393Z"
   },
   {
    "duration": 62,
    "start_time": "2022-03-11T12:20:33.569Z"
   },
   {
    "duration": 75,
    "start_time": "2022-03-11T12:22:30.735Z"
   },
   {
    "duration": 299,
    "start_time": "2022-03-11T12:23:26.830Z"
   },
   {
    "duration": 91,
    "start_time": "2022-03-11T12:23:44.348Z"
   },
   {
    "duration": 154,
    "start_time": "2022-03-11T12:25:21.221Z"
   },
   {
    "duration": 87,
    "start_time": "2022-03-11T12:25:34.881Z"
   },
   {
    "duration": 89,
    "start_time": "2022-03-11T12:26:01.062Z"
   },
   {
    "duration": 325,
    "start_time": "2022-03-11T12:27:56.315Z"
   },
   {
    "duration": 297,
    "start_time": "2022-03-11T12:28:21.203Z"
   },
   {
    "duration": 73,
    "start_time": "2022-03-11T12:29:18.105Z"
   },
   {
    "duration": 70,
    "start_time": "2022-03-11T12:29:32.650Z"
   },
   {
    "duration": 13,
    "start_time": "2022-03-11T12:29:48.648Z"
   },
   {
    "duration": 5,
    "start_time": "2022-03-11T12:30:41.018Z"
   },
   {
    "duration": 8,
    "start_time": "2022-03-11T12:30:48.660Z"
   },
   {
    "duration": 3,
    "start_time": "2022-03-11T12:31:16.251Z"
   },
   {
    "duration": 854,
    "start_time": "2022-03-11T12:31:16.256Z"
   },
   {
    "duration": 13,
    "start_time": "2022-03-11T12:31:17.112Z"
   },
   {
    "duration": 136,
    "start_time": "2022-03-11T12:31:17.127Z"
   },
   {
    "duration": 135,
    "start_time": "2022-03-11T12:31:17.265Z"
   },
   {
    "duration": 2,
    "start_time": "2022-03-11T12:31:17.402Z"
   },
   {
    "duration": 32,
    "start_time": "2022-03-11T12:31:17.406Z"
   },
   {
    "duration": 287,
    "start_time": "2022-03-11T12:31:43.119Z"
   },
   {
    "duration": 115,
    "start_time": "2022-03-11T12:32:24.229Z"
   },
   {
    "duration": 72,
    "start_time": "2022-03-11T12:32:39.564Z"
   },
   {
    "duration": 136,
    "start_time": "2022-03-11T12:32:44.340Z"
   },
   {
    "duration": 54,
    "start_time": "2022-03-11T12:35:06.085Z"
   },
   {
    "duration": 297,
    "start_time": "2022-03-11T13:21:06.491Z"
   },
   {
    "duration": 238,
    "start_time": "2022-03-11T13:21:13.765Z"
   },
   {
    "duration": 248,
    "start_time": "2022-03-11T13:21:24.625Z"
   },
   {
    "duration": 3,
    "start_time": "2022-03-11T13:21:29.634Z"
   },
   {
    "duration": 4,
    "start_time": "2022-03-11T13:23:00.837Z"
   },
   {
    "duration": 4,
    "start_time": "2022-03-11T13:23:11.403Z"
   },
   {
    "duration": 2,
    "start_time": "2022-03-11T13:39:24.575Z"
   },
   {
    "duration": 15,
    "start_time": "2022-03-11T13:40:04.556Z"
   },
   {
    "duration": 32,
    "start_time": "2022-03-11T13:40:07.578Z"
   },
   {
    "duration": 99,
    "start_time": "2022-03-11T13:40:25.444Z"
   },
   {
    "duration": 86,
    "start_time": "2022-03-11T13:40:39.174Z"
   },
   {
    "duration": 3,
    "start_time": "2022-03-11T13:40:42.986Z"
   },
   {
    "duration": 11,
    "start_time": "2022-03-11T13:40:47.126Z"
   },
   {
    "duration": 3,
    "start_time": "2022-03-11T13:40:51.334Z"
   },
   {
    "duration": 9,
    "start_time": "2022-03-11T13:40:52.576Z"
   },
   {
    "duration": 3,
    "start_time": "2022-03-11T13:41:03.181Z"
   },
   {
    "duration": 12,
    "start_time": "2022-03-11T13:41:05.319Z"
   },
   {
    "duration": 3,
    "start_time": "2022-03-11T13:41:20.684Z"
   },
   {
    "duration": 12,
    "start_time": "2022-03-11T13:41:21.613Z"
   },
   {
    "duration": 3,
    "start_time": "2022-03-11T13:42:15.340Z"
   },
   {
    "duration": 8,
    "start_time": "2022-03-11T13:42:19.223Z"
   },
   {
    "duration": 233,
    "start_time": "2022-03-11T13:42:53.668Z"
   },
   {
    "duration": 225,
    "start_time": "2022-03-11T13:44:35.615Z"
   },
   {
    "duration": 4,
    "start_time": "2022-03-11T13:44:58.786Z"
   },
   {
    "duration": 238,
    "start_time": "2022-03-11T13:44:59.763Z"
   },
   {
    "duration": 12,
    "start_time": "2022-03-11T13:45:38.399Z"
   },
   {
    "duration": 216,
    "start_time": "2022-03-11T13:58:56.643Z"
   },
   {
    "duration": 221,
    "start_time": "2022-03-11T13:59:07.452Z"
   },
   {
    "duration": 179,
    "start_time": "2022-03-11T13:59:34.216Z"
   },
   {
    "duration": 4,
    "start_time": "2022-03-11T14:01:21.499Z"
   },
   {
    "duration": 263,
    "start_time": "2022-03-11T14:01:52.400Z"
   },
   {
    "duration": 12,
    "start_time": "2022-03-11T14:03:14.833Z"
   },
   {
    "duration": 4,
    "start_time": "2022-03-11T14:03:21.574Z"
   },
   {
    "duration": 3,
    "start_time": "2022-03-11T14:03:30.451Z"
   },
   {
    "duration": 4,
    "start_time": "2022-03-11T14:03:32.276Z"
   },
   {
    "duration": 16,
    "start_time": "2022-03-11T14:03:35.917Z"
   },
   {
    "duration": 84,
    "start_time": "2022-03-11T14:03:42.411Z"
   },
   {
    "duration": 4,
    "start_time": "2022-03-11T14:03:46.376Z"
   },
   {
    "duration": 16,
    "start_time": "2022-03-11T14:03:47.516Z"
   },
   {
    "duration": 4,
    "start_time": "2022-03-11T14:04:22.775Z"
   },
   {
    "duration": 224,
    "start_time": "2022-03-11T14:04:34.362Z"
   },
   {
    "duration": 5,
    "start_time": "2022-03-11T14:04:48.084Z"
   },
   {
    "duration": 3,
    "start_time": "2022-03-11T14:05:02.049Z"
   },
   {
    "duration": 4,
    "start_time": "2022-03-11T14:05:03.153Z"
   },
   {
    "duration": 12,
    "start_time": "2022-03-11T14:05:11.648Z"
   },
   {
    "duration": 3,
    "start_time": "2022-03-11T14:08:35.115Z"
   },
   {
    "duration": 8,
    "start_time": "2022-03-11T14:09:26.252Z"
   },
   {
    "duration": 3,
    "start_time": "2022-03-11T14:11:52.033Z"
   },
   {
    "duration": 44,
    "start_time": "2022-03-11T14:11:55.081Z"
   },
   {
    "duration": 12,
    "start_time": "2022-03-11T14:12:06.092Z"
   },
   {
    "duration": 2,
    "start_time": "2022-03-11T14:12:16.147Z"
   },
   {
    "duration": 43,
    "start_time": "2022-03-11T14:12:17.204Z"
   },
   {
    "duration": 11,
    "start_time": "2022-03-11T14:12:19.221Z"
   },
   {
    "duration": 57,
    "start_time": "2022-03-11T14:12:35.662Z"
   },
   {
    "duration": 5,
    "start_time": "2022-03-11T14:12:36.779Z"
   },
   {
    "duration": 916,
    "start_time": "2022-03-11T14:13:57.672Z"
   },
   {
    "duration": 5,
    "start_time": "2022-03-11T14:14:19.715Z"
   },
   {
    "duration": 859,
    "start_time": "2022-03-11T14:14:20.728Z"
   },
   {
    "duration": 3,
    "start_time": "2022-03-11T14:14:26.739Z"
   },
   {
    "duration": 1290,
    "start_time": "2022-03-11T14:14:27.870Z"
   },
   {
    "duration": 3,
    "start_time": "2022-03-11T14:14:52.261Z"
   },
   {
    "duration": 1110,
    "start_time": "2022-03-11T14:14:53.095Z"
   },
   {
    "duration": 3,
    "start_time": "2022-03-11T14:16:36.214Z"
   },
   {
    "duration": 1133,
    "start_time": "2022-03-11T14:16:37.315Z"
   },
   {
    "duration": 878,
    "start_time": "2022-03-11T14:16:45.305Z"
   },
   {
    "duration": 2,
    "start_time": "2022-03-11T14:16:57.876Z"
   },
   {
    "duration": 933,
    "start_time": "2022-03-11T14:16:59.497Z"
   },
   {
    "duration": 222,
    "start_time": "2022-03-11T15:16:22.678Z"
   },
   {
    "duration": 250,
    "start_time": "2022-03-11T15:16:30.992Z"
   },
   {
    "duration": 3,
    "start_time": "2022-03-11T15:16:47.299Z"
   },
   {
    "duration": 4,
    "start_time": "2022-03-11T15:16:51.588Z"
   },
   {
    "duration": 3,
    "start_time": "2022-03-11T15:20:56.939Z"
   },
   {
    "duration": 794,
    "start_time": "2022-03-11T15:20:56.944Z"
   },
   {
    "duration": 14,
    "start_time": "2022-03-11T15:20:57.740Z"
   },
   {
    "duration": 130,
    "start_time": "2022-03-11T15:20:57.760Z"
   },
   {
    "duration": 122,
    "start_time": "2022-03-11T15:20:57.893Z"
   },
   {
    "duration": 109,
    "start_time": "2022-03-11T15:20:58.017Z"
   },
   {
    "duration": 55,
    "start_time": "2022-03-11T15:20:58.128Z"
   },
   {
    "duration": 3,
    "start_time": "2022-03-11T15:20:58.185Z"
   },
   {
    "duration": 3,
    "start_time": "2022-03-11T15:20:58.190Z"
   },
   {
    "duration": 121,
    "start_time": "2022-03-11T15:21:29.504Z"
   },
   {
    "duration": 114,
    "start_time": "2022-03-11T15:24:18.917Z"
   },
   {
    "duration": 193,
    "start_time": "2022-03-11T15:24:33.326Z"
   },
   {
    "duration": 293,
    "start_time": "2022-03-11T16:07:01.603Z"
   },
   {
    "duration": 271,
    "start_time": "2022-03-11T16:07:14.934Z"
   },
   {
    "duration": 256,
    "start_time": "2022-03-11T16:07:30.274Z"
   },
   {
    "duration": 40,
    "start_time": "2022-03-11T16:07:40.674Z"
   },
   {
    "duration": 644,
    "start_time": "2022-03-11T16:08:14.259Z"
   },
   {
    "duration": 3,
    "start_time": "2022-03-11T16:08:33.461Z"
   },
   {
    "duration": 602,
    "start_time": "2022-03-11T16:08:35.354Z"
   },
   {
    "duration": 259,
    "start_time": "2022-03-11T16:08:51.835Z"
   },
   {
    "duration": 3,
    "start_time": "2022-03-11T16:08:59.856Z"
   },
   {
    "duration": 234,
    "start_time": "2022-03-11T16:09:00.845Z"
   },
   {
    "duration": 42,
    "start_time": "2022-03-11T16:09:10.383Z"
   },
   {
    "duration": 3,
    "start_time": "2022-03-11T16:09:14.086Z"
   },
   {
    "duration": 42,
    "start_time": "2022-03-11T16:09:14.767Z"
   },
   {
    "duration": 3,
    "start_time": "2022-03-11T16:09:49.423Z"
   },
   {
    "duration": 235,
    "start_time": "2022-03-11T16:10:29.127Z"
   },
   {
    "duration": 40,
    "start_time": "2022-03-11T16:10:35.591Z"
   },
   {
    "duration": 556,
    "start_time": "2022-03-12T08:23:50.507Z"
   },
   {
    "duration": 774,
    "start_time": "2022-03-12T08:23:51.065Z"
   },
   {
    "duration": 20,
    "start_time": "2022-03-12T08:23:51.841Z"
   },
   {
    "duration": 130,
    "start_time": "2022-03-12T08:23:51.863Z"
   },
   {
    "duration": 122,
    "start_time": "2022-03-12T08:23:51.995Z"
   },
   {
    "duration": 2,
    "start_time": "2022-03-12T08:23:52.119Z"
   },
   {
    "duration": 71,
    "start_time": "2022-03-12T08:23:52.122Z"
   },
   {
    "duration": 5350,
    "start_time": "2022-03-12T08:23:46.845Z"
   },
   {
    "duration": 5348,
    "start_time": "2022-03-12T08:23:46.848Z"
   },
   {
    "duration": 5347,
    "start_time": "2022-03-12T08:23:46.850Z"
   },
   {
    "duration": 3,
    "start_time": "2022-03-12T08:24:06.269Z"
   },
   {
    "duration": 761,
    "start_time": "2022-03-12T08:24:06.273Z"
   },
   {
    "duration": 13,
    "start_time": "2022-03-12T08:24:07.036Z"
   },
   {
    "duration": 129,
    "start_time": "2022-03-12T08:24:07.060Z"
   },
   {
    "duration": 123,
    "start_time": "2022-03-12T08:24:07.191Z"
   },
   {
    "duration": 2,
    "start_time": "2022-03-12T08:24:07.316Z"
   },
   {
    "duration": 20,
    "start_time": "2022-03-12T08:24:07.319Z"
   },
   {
    "duration": 13,
    "start_time": "2022-03-12T08:24:07.341Z"
   },
   {
    "duration": 18,
    "start_time": "2022-03-12T08:24:07.356Z"
   },
   {
    "duration": 21,
    "start_time": "2022-03-12T08:24:07.375Z"
   },
   {
    "duration": 313,
    "start_time": "2022-03-12T08:25:53.382Z"
   },
   {
    "duration": 30,
    "start_time": "2022-03-12T08:26:05.483Z"
   },
   {
    "duration": 40,
    "start_time": "2022-03-12T08:26:15.434Z"
   },
   {
    "duration": 149,
    "start_time": "2022-03-12T08:26:32.839Z"
   },
   {
    "duration": 175,
    "start_time": "2022-03-12T08:26:40.763Z"
   },
   {
    "duration": 269,
    "start_time": "2022-03-12T08:26:55.559Z"
   },
   {
    "duration": 45,
    "start_time": "2022-03-12T08:27:10.216Z"
   },
   {
    "duration": 48,
    "start_time": "2022-03-12T08:28:29.676Z"
   },
   {
    "duration": 46,
    "start_time": "2022-03-12T08:28:52.944Z"
   },
   {
    "duration": 58,
    "start_time": "2022-03-12T08:29:07.630Z"
   },
   {
    "duration": 50,
    "start_time": "2022-03-12T08:31:56.167Z"
   },
   {
    "duration": 45,
    "start_time": "2022-03-12T08:43:28.507Z"
   },
   {
    "duration": 48,
    "start_time": "2022-03-12T08:44:14.490Z"
   },
   {
    "duration": 18,
    "start_time": "2022-03-12T08:44:40.849Z"
   },
   {
    "duration": 46,
    "start_time": "2022-03-12T08:46:44.953Z"
   },
   {
    "duration": 50,
    "start_time": "2022-03-12T08:46:51.132Z"
   },
   {
    "duration": 48,
    "start_time": "2022-03-12T08:47:51.226Z"
   },
   {
    "duration": 51,
    "start_time": "2022-03-12T08:48:06.305Z"
   },
   {
    "duration": 61,
    "start_time": "2022-03-12T08:49:35.470Z"
   },
   {
    "duration": 75,
    "start_time": "2022-03-12T08:50:26.942Z"
   },
   {
    "duration": 73,
    "start_time": "2022-03-12T08:50:30.991Z"
   },
   {
    "duration": 72,
    "start_time": "2022-03-12T08:50:35.881Z"
   },
   {
    "duration": 70,
    "start_time": "2022-03-12T08:50:53.221Z"
   },
   {
    "duration": 70,
    "start_time": "2022-03-12T08:51:33.624Z"
   },
   {
    "duration": 747,
    "start_time": "2022-03-15T15:54:00.832Z"
   },
   {
    "duration": 6401,
    "start_time": "2022-03-15T15:54:01.581Z"
   },
   {
    "duration": 37,
    "start_time": "2022-03-15T15:54:07.986Z"
   },
   {
    "duration": 169,
    "start_time": "2022-03-15T15:54:08.026Z"
   },
   {
    "duration": 155,
    "start_time": "2022-03-15T15:54:08.197Z"
   },
   {
    "duration": 105,
    "start_time": "2022-03-15T15:54:08.355Z"
   },
   {
    "duration": 3,
    "start_time": "2022-03-15T15:54:08.463Z"
   },
   {
    "duration": 4,
    "start_time": "2022-03-15T15:54:08.469Z"
   },
   {
    "duration": 5,
    "start_time": "2022-03-15T15:54:08.476Z"
   },
   {
    "duration": 7,
    "start_time": "2022-03-15T15:54:08.484Z"
   },
   {
    "duration": 14,
    "start_time": "2022-03-15T15:54:08.493Z"
   },
   {
    "duration": 5,
    "start_time": "2022-03-15T15:56:12.802Z"
   },
   {
    "duration": 9,
    "start_time": "2022-03-15T15:56:20.457Z"
   },
   {
    "duration": 4,
    "start_time": "2022-03-15T15:56:54.962Z"
   },
   {
    "duration": 7,
    "start_time": "2022-03-15T15:57:01.249Z"
   },
   {
    "duration": 8,
    "start_time": "2022-03-15T15:57:04.962Z"
   },
   {
    "duration": 10,
    "start_time": "2022-03-15T15:57:08.103Z"
   },
   {
    "duration": 10,
    "start_time": "2022-03-15T15:57:11.991Z"
   },
   {
    "duration": 15,
    "start_time": "2022-03-15T15:57:54.308Z"
   },
   {
    "duration": 8,
    "start_time": "2022-03-15T15:58:41.254Z"
   },
   {
    "duration": 15,
    "start_time": "2022-03-15T15:58:42.506Z"
   },
   {
    "duration": 16,
    "start_time": "2022-03-15T15:59:26.678Z"
   },
   {
    "duration": 17,
    "start_time": "2022-03-15T16:03:13.897Z"
   },
   {
    "duration": 14,
    "start_time": "2022-03-15T16:03:23.866Z"
   },
   {
    "duration": 19,
    "start_time": "2022-03-15T16:04:43.702Z"
   },
   {
    "duration": 10,
    "start_time": "2022-03-15T16:04:53.464Z"
   },
   {
    "duration": 18,
    "start_time": "2022-03-15T16:05:57.367Z"
   },
   {
    "duration": 11,
    "start_time": "2022-03-15T16:05:59.957Z"
   },
   {
    "duration": 12,
    "start_time": "2022-03-15T16:06:23.569Z"
   },
   {
    "duration": 9,
    "start_time": "2022-03-15T16:06:26.638Z"
   },
   {
    "duration": 330,
    "start_time": "2022-03-15T16:07:41.936Z"
   },
   {
    "duration": 235,
    "start_time": "2022-03-15T16:08:07.652Z"
   },
   {
    "duration": 200,
    "start_time": "2022-03-15T16:08:33.950Z"
   },
   {
    "duration": 19,
    "start_time": "2022-03-15T16:09:01.411Z"
   },
   {
    "duration": 8,
    "start_time": "2022-03-15T16:09:05.333Z"
   },
   {
    "duration": 14,
    "start_time": "2022-03-15T16:09:13.964Z"
   },
   {
    "duration": 10,
    "start_time": "2022-03-15T16:09:17.104Z"
   },
   {
    "duration": 13,
    "start_time": "2022-03-15T16:09:33.748Z"
   },
   {
    "duration": 9,
    "start_time": "2022-03-15T16:09:34.848Z"
   },
   {
    "duration": 14,
    "start_time": "2022-03-15T16:10:21.908Z"
   },
   {
    "duration": 8,
    "start_time": "2022-03-15T16:10:24.502Z"
   },
   {
    "duration": 14,
    "start_time": "2022-03-15T16:10:41.883Z"
   },
   {
    "duration": 8,
    "start_time": "2022-03-15T16:10:43.088Z"
   },
   {
    "duration": 4,
    "start_time": "2022-03-15T16:10:51.508Z"
   },
   {
    "duration": 1238,
    "start_time": "2022-03-15T16:10:51.514Z"
   },
   {
    "duration": 27,
    "start_time": "2022-03-15T16:10:52.755Z"
   },
   {
    "duration": 179,
    "start_time": "2022-03-15T16:10:52.785Z"
   },
   {
    "duration": 194,
    "start_time": "2022-03-15T16:10:52.966Z"
   },
   {
    "duration": 109,
    "start_time": "2022-03-15T16:10:53.163Z"
   },
   {
    "duration": 3,
    "start_time": "2022-03-15T16:10:53.275Z"
   },
   {
    "duration": 6,
    "start_time": "2022-03-15T16:10:53.281Z"
   },
   {
    "duration": 12,
    "start_time": "2022-03-15T16:10:53.289Z"
   },
   {
    "duration": 9,
    "start_time": "2022-03-15T16:10:53.303Z"
   },
   {
    "duration": 12,
    "start_time": "2022-03-15T16:10:53.314Z"
   },
   {
    "duration": 34,
    "start_time": "2022-03-15T16:10:53.330Z"
   },
   {
    "duration": 11,
    "start_time": "2022-03-15T16:10:53.367Z"
   },
   {
    "duration": 15,
    "start_time": "2022-03-15T16:11:25.029Z"
   },
   {
    "duration": 9,
    "start_time": "2022-03-15T16:11:26.405Z"
   },
   {
    "duration": 13,
    "start_time": "2022-03-15T16:11:31.935Z"
   },
   {
    "duration": 9,
    "start_time": "2022-03-15T16:11:36.031Z"
   },
   {
    "duration": 12,
    "start_time": "2022-03-15T16:11:46.951Z"
   },
   {
    "duration": 11,
    "start_time": "2022-03-15T16:11:56.137Z"
   },
   {
    "duration": 15,
    "start_time": "2022-03-15T16:12:08.298Z"
   },
   {
    "duration": 8,
    "start_time": "2022-03-15T16:12:09.128Z"
   },
   {
    "duration": 10,
    "start_time": "2022-03-15T16:12:12.218Z"
   },
   {
    "duration": 17,
    "start_time": "2022-03-15T16:12:32.865Z"
   },
   {
    "duration": 10,
    "start_time": "2022-03-15T16:12:35.926Z"
   },
   {
    "duration": 17,
    "start_time": "2022-03-15T16:12:44.580Z"
   },
   {
    "duration": 11,
    "start_time": "2022-03-15T16:12:45.539Z"
   },
   {
    "duration": 8,
    "start_time": "2022-03-15T16:13:01.240Z"
   },
   {
    "duration": 11,
    "start_time": "2022-03-15T16:13:09.184Z"
   },
   {
    "duration": 11,
    "start_time": "2022-03-15T16:13:21.325Z"
   },
   {
    "duration": 8,
    "start_time": "2022-03-15T16:13:26.097Z"
   },
   {
    "duration": 7,
    "start_time": "2022-03-15T16:13:56.479Z"
   },
   {
    "duration": 11,
    "start_time": "2022-03-15T16:13:58.209Z"
   },
   {
    "duration": 8,
    "start_time": "2022-03-15T16:13:59.297Z"
   },
   {
    "duration": 8,
    "start_time": "2022-03-15T16:14:16.863Z"
   },
   {
    "duration": 9,
    "start_time": "2022-03-15T16:15:08.769Z"
   },
   {
    "duration": 10,
    "start_time": "2022-03-15T16:15:14.242Z"
   },
   {
    "duration": 9,
    "start_time": "2022-03-15T16:15:41.076Z"
   },
   {
    "duration": 10,
    "start_time": "2022-03-15T16:15:43.035Z"
   },
   {
    "duration": 7,
    "start_time": "2022-03-15T16:15:46.058Z"
   },
   {
    "duration": 13,
    "start_time": "2022-03-15T16:15:47.017Z"
   },
   {
    "duration": 9,
    "start_time": "2022-03-15T16:15:48.080Z"
   },
   {
    "duration": 13,
    "start_time": "2022-03-15T16:15:48.951Z"
   },
   {
    "duration": 704,
    "start_time": "2022-03-16T19:13:14.624Z"
   },
   {
    "duration": 1138,
    "start_time": "2022-03-16T19:13:15.331Z"
   },
   {
    "duration": 44,
    "start_time": "2022-03-16T19:13:16.472Z"
   },
   {
    "duration": 178,
    "start_time": "2022-03-16T19:13:16.519Z"
   },
   {
    "duration": 174,
    "start_time": "2022-03-16T19:13:16.699Z"
   },
   {
    "duration": 125,
    "start_time": "2022-03-16T19:13:16.876Z"
   },
   {
    "duration": 3,
    "start_time": "2022-03-16T19:13:17.003Z"
   },
   {
    "duration": 438,
    "start_time": "2022-03-16T19:13:17.008Z"
   },
   {
    "duration": 90,
    "start_time": "2022-03-16T19:13:34.506Z"
   },
   {
    "duration": 574,
    "start_time": "2022-03-16T19:14:03.639Z"
   },
   {
    "duration": 321,
    "start_time": "2022-03-16T19:14:52.490Z"
   },
   {
    "duration": 347,
    "start_time": "2022-03-16T19:15:09.964Z"
   },
   {
    "duration": 313,
    "start_time": "2022-03-16T19:15:21.679Z"
   },
   {
    "duration": 399,
    "start_time": "2022-03-16T19:15:27.975Z"
   },
   {
    "duration": 127,
    "start_time": "2022-03-16T19:15:42.681Z"
   },
   {
    "duration": 360,
    "start_time": "2022-03-16T19:15:59.448Z"
   },
   {
    "duration": 273,
    "start_time": "2022-03-16T19:17:40.338Z"
   },
   {
    "duration": 152,
    "start_time": "2022-03-16T19:17:48.024Z"
   },
   {
    "duration": 85,
    "start_time": "2022-03-16T19:17:52.538Z"
   },
   {
    "duration": 584,
    "start_time": "2022-03-16T19:19:36.815Z"
   },
   {
    "duration": 633,
    "start_time": "2022-03-16T19:20:11.740Z"
   },
   {
    "duration": 3532,
    "start_time": "2022-03-16T19:20:21.134Z"
   },
   {
    "duration": 15,
    "start_time": "2022-03-16T19:21:01.181Z"
   },
   {
    "duration": 307,
    "start_time": "2022-03-16T19:21:18.433Z"
   },
   {
    "duration": 14,
    "start_time": "2022-03-16T19:21:28.528Z"
   },
   {
    "duration": 358,
    "start_time": "2022-03-16T19:21:32.885Z"
   },
   {
    "duration": 16,
    "start_time": "2022-03-16T19:21:39.280Z"
   },
   {
    "duration": 62720,
    "start_time": "2022-03-16T19:22:18.152Z"
   },
   {
    "duration": 63473,
    "start_time": "2022-03-16T19:23:36.112Z"
   },
   {
    "duration": 326,
    "start_time": "2022-03-16T19:24:49.602Z"
   },
   {
    "duration": 650,
    "start_time": "2022-03-16T19:24:57.447Z"
   },
   {
    "duration": 1685,
    "start_time": "2022-03-16T19:25:08.768Z"
   },
   {
    "duration": 870,
    "start_time": "2022-03-16T19:25:24.383Z"
   },
   {
    "duration": 15,
    "start_time": "2022-03-16T19:26:15.265Z"
   },
   {
    "duration": 15,
    "start_time": "2022-03-16T19:26:55.461Z"
   },
   {
    "duration": 16,
    "start_time": "2022-03-16T19:27:06.981Z"
   },
   {
    "duration": 36,
    "start_time": "2022-03-16T19:27:53.620Z"
   },
   {
    "duration": 40,
    "start_time": "2022-03-16T19:28:40.427Z"
   },
   {
    "duration": 38,
    "start_time": "2022-03-16T19:29:01.518Z"
   },
   {
    "duration": 40,
    "start_time": "2022-03-16T19:30:40.972Z"
   },
   {
    "duration": 319,
    "start_time": "2022-03-16T19:31:27.284Z"
   },
   {
    "duration": 38,
    "start_time": "2022-03-16T19:32:02.461Z"
   },
   {
    "duration": 6,
    "start_time": "2022-03-16T19:32:08.532Z"
   },
   {
    "duration": 1369,
    "start_time": "2022-03-16T19:32:18.941Z"
   },
   {
    "duration": 311,
    "start_time": "2022-03-16T19:32:27.006Z"
   },
   {
    "duration": 6,
    "start_time": "2022-03-16T19:32:54.272Z"
   },
   {
    "duration": 3,
    "start_time": "2022-03-16T19:32:57.305Z"
   },
   {
    "duration": 1079,
    "start_time": "2022-03-16T19:32:57.311Z"
   },
   {
    "duration": 28,
    "start_time": "2022-03-16T19:32:58.393Z"
   },
   {
    "duration": 175,
    "start_time": "2022-03-16T19:32:58.424Z"
   },
   {
    "duration": 167,
    "start_time": "2022-03-16T19:32:58.602Z"
   },
   {
    "duration": 107,
    "start_time": "2022-03-16T19:32:58.771Z"
   },
   {
    "duration": 158,
    "start_time": "2022-03-16T19:32:58.888Z"
   },
   {
    "duration": 980,
    "start_time": "2022-03-16T19:32:59.049Z"
   },
   {
    "duration": 99,
    "start_time": "2022-03-16T19:33:00.031Z"
   },
   {
    "duration": 327,
    "start_time": "2022-03-16T19:33:00.133Z"
   },
   {
    "duration": 93,
    "start_time": "2022-03-16T19:33:43.797Z"
   },
   {
    "duration": 4,
    "start_time": "2022-03-16T19:33:48.578Z"
   },
   {
    "duration": 1242,
    "start_time": "2022-03-16T19:33:48.585Z"
   },
   {
    "duration": 28,
    "start_time": "2022-03-16T19:33:49.830Z"
   },
   {
    "duration": 178,
    "start_time": "2022-03-16T19:33:49.861Z"
   },
   {
    "duration": 165,
    "start_time": "2022-03-16T19:33:50.041Z"
   },
   {
    "duration": 110,
    "start_time": "2022-03-16T19:33:50.208Z"
   },
   {
    "duration": 154,
    "start_time": "2022-03-16T19:33:50.320Z"
   },
   {
    "duration": 1000,
    "start_time": "2022-03-16T19:33:50.477Z"
   },
   {
    "duration": 99,
    "start_time": "2022-03-16T19:33:51.488Z"
   },
   {
    "duration": 295,
    "start_time": "2022-03-16T19:33:51.590Z"
   },
   {
    "duration": 577,
    "start_time": "2022-03-16T19:34:01.587Z"
   },
   {
    "duration": 86,
    "start_time": "2022-03-16T19:35:07.311Z"
   },
   {
    "duration": 549,
    "start_time": "2022-03-16T19:35:08.576Z"
   },
   {
    "duration": 349,
    "start_time": "2022-03-16T19:35:28.569Z"
   },
   {
    "duration": 341,
    "start_time": "2022-03-16T19:35:39.320Z"
   },
   {
    "duration": 51109,
    "start_time": "2022-03-16T19:35:57.454Z"
   },
   {
    "duration": 322,
    "start_time": "2022-03-16T19:37:10.169Z"
   },
   {
    "duration": 202,
    "start_time": "2022-03-16T19:37:20.185Z"
   },
   {
    "duration": 29290,
    "start_time": "2022-03-16T19:38:02.668Z"
   },
   {
    "duration": 435,
    "start_time": "2022-03-16T19:38:51.425Z"
   },
   {
    "duration": 190,
    "start_time": "2022-03-16T19:39:48.013Z"
   },
   {
    "duration": 346,
    "start_time": "2022-03-16T19:40:05.198Z"
   },
   {
    "duration": 1221,
    "start_time": "2022-03-16T19:40:26.476Z"
   },
   {
    "duration": 2421,
    "start_time": "2022-03-16T19:40:40.575Z"
   },
   {
    "duration": 479,
    "start_time": "2022-03-16T19:41:15.954Z"
   },
   {
    "duration": 4,
    "start_time": "2022-03-16T19:41:58.186Z"
   },
   {
    "duration": 1195,
    "start_time": "2022-03-16T19:41:58.192Z"
   },
   {
    "duration": 27,
    "start_time": "2022-03-16T19:41:59.389Z"
   },
   {
    "duration": 175,
    "start_time": "2022-03-16T19:41:59.419Z"
   },
   {
    "duration": 170,
    "start_time": "2022-03-16T19:41:59.596Z"
   },
   {
    "duration": 107,
    "start_time": "2022-03-16T19:41:59.768Z"
   },
   {
    "duration": 149,
    "start_time": "2022-03-16T19:41:59.886Z"
   },
   {
    "duration": 872,
    "start_time": "2022-03-16T19:42:00.039Z"
   },
   {
    "duration": 104,
    "start_time": "2022-03-16T19:42:00.913Z"
   },
   {
    "duration": 544,
    "start_time": "2022-03-16T19:42:01.020Z"
   },
   {
    "duration": 603,
    "start_time": "2022-03-16T19:42:38.576Z"
   },
   {
    "duration": 865,
    "start_time": "2022-03-16T19:42:44.829Z"
   },
   {
    "duration": 718,
    "start_time": "2022-03-16T19:42:52.941Z"
   },
   {
    "duration": 1008,
    "start_time": "2022-03-16T19:43:06.340Z"
   },
   {
    "duration": 33,
    "start_time": "2022-03-16T19:47:05.926Z"
   },
   {
    "duration": 1340,
    "start_time": "2022-03-16T19:48:55.893Z"
   },
   {
    "duration": 1675,
    "start_time": "2022-03-16T19:49:08.570Z"
   },
   {
    "duration": 1366,
    "start_time": "2022-03-16T19:49:20.207Z"
   },
   {
    "duration": 1464,
    "start_time": "2022-03-16T19:50:24.692Z"
   },
   {
    "duration": 1547,
    "start_time": "2022-03-16T19:52:18.778Z"
   },
   {
    "duration": 1515,
    "start_time": "2022-03-16T19:52:28.308Z"
   },
   {
    "duration": 1284,
    "start_time": "2022-03-16T19:55:04.356Z"
   },
   {
    "duration": 3453,
    "start_time": "2022-03-16T19:55:27.726Z"
   },
   {
    "duration": 5768,
    "start_time": "2022-03-16T19:56:28.153Z"
   },
   {
    "duration": 289,
    "start_time": "2022-03-16T19:57:03.447Z"
   },
   {
    "duration": 196,
    "start_time": "2022-03-16T19:57:54.242Z"
   },
   {
    "duration": 1701,
    "start_time": "2022-03-16T19:58:22.449Z"
   },
   {
    "duration": 1440,
    "start_time": "2022-03-16T19:58:33.925Z"
   },
   {
    "duration": 277,
    "start_time": "2022-03-16T19:59:11.826Z"
   },
   {
    "duration": 61,
    "start_time": "2022-03-16T19:59:37.902Z"
   },
   {
    "duration": 3,
    "start_time": "2022-03-16T19:59:40.709Z"
   },
   {
    "duration": 1087,
    "start_time": "2022-03-16T19:59:40.716Z"
   },
   {
    "duration": 29,
    "start_time": "2022-03-16T19:59:41.807Z"
   },
   {
    "duration": 188,
    "start_time": "2022-03-16T19:59:41.840Z"
   },
   {
    "duration": 172,
    "start_time": "2022-03-16T19:59:42.031Z"
   },
   {
    "duration": 107,
    "start_time": "2022-03-16T19:59:42.205Z"
   },
   {
    "duration": 166,
    "start_time": "2022-03-16T19:59:42.315Z"
   },
   {
    "duration": 1072,
    "start_time": "2022-03-16T19:59:42.484Z"
   },
   {
    "duration": 105,
    "start_time": "2022-03-16T19:59:43.558Z"
   },
   {
    "duration": 715,
    "start_time": "2022-03-16T19:59:43.666Z"
   },
   {
    "duration": 64,
    "start_time": "2022-03-16T19:59:44.388Z"
   },
   {
    "duration": 4,
    "start_time": "2022-03-16T19:59:44.455Z"
   },
   {
    "duration": 246,
    "start_time": "2022-03-16T19:59:55.612Z"
   },
   {
    "duration": 299,
    "start_time": "2022-03-16T20:00:43.637Z"
   },
   {
    "duration": 98,
    "start_time": "2022-03-16T20:00:55.607Z"
   },
   {
    "duration": 22,
    "start_time": "2022-03-16T20:01:01.707Z"
   },
   {
    "duration": 362,
    "start_time": "2022-03-16T20:02:21.953Z"
   },
   {
    "duration": 196,
    "start_time": "2022-03-16T20:03:12.223Z"
   },
   {
    "duration": 23,
    "start_time": "2022-03-16T20:03:15.206Z"
   },
   {
    "duration": 63,
    "start_time": "2022-03-16T20:04:38.119Z"
   },
   {
    "duration": 8,
    "start_time": "2022-03-16T20:04:42.434Z"
   },
   {
    "duration": 7,
    "start_time": "2022-03-16T20:04:52.032Z"
   },
   {
    "duration": 7,
    "start_time": "2022-03-16T20:05:43.760Z"
   },
   {
    "duration": 8,
    "start_time": "2022-03-16T20:05:47.586Z"
   },
   {
    "duration": 69,
    "start_time": "2022-03-16T20:07:39.019Z"
   },
   {
    "duration": 33,
    "start_time": "2022-03-16T20:09:38.456Z"
   },
   {
    "duration": 74,
    "start_time": "2022-03-16T20:25:35.047Z"
   },
   {
    "duration": 772,
    "start_time": "2022-03-16T20:25:48.109Z"
   },
   {
    "duration": 303,
    "start_time": "2022-03-16T20:27:38.110Z"
   },
   {
    "duration": 316,
    "start_time": "2022-03-16T20:27:55.423Z"
   },
   {
    "duration": 65,
    "start_time": "2022-03-16T20:31:12.116Z"
   },
   {
    "duration": 100,
    "start_time": "2022-03-16T20:31:24.004Z"
   },
   {
    "duration": 721,
    "start_time": "2022-03-16T20:31:28.042Z"
   },
   {
    "duration": 77,
    "start_time": "2022-03-16T20:31:55.380Z"
   },
   {
    "duration": 672,
    "start_time": "2022-03-16T20:31:57.128Z"
   },
   {
    "duration": 48,
    "start_time": "2022-03-16T20:32:32.535Z"
   },
   {
    "duration": 34,
    "start_time": "2022-03-16T20:39:53.598Z"
   },
   {
    "duration": 363,
    "start_time": "2022-03-16T20:46:22.526Z"
   },
   {
    "duration": 4,
    "start_time": "2022-03-16T20:46:41.833Z"
   },
   {
    "duration": 1214,
    "start_time": "2022-03-16T20:46:41.840Z"
   },
   {
    "duration": 53,
    "start_time": "2022-03-16T20:46:43.058Z"
   },
   {
    "duration": 272,
    "start_time": "2022-03-16T20:46:43.115Z"
   },
   {
    "duration": 183,
    "start_time": "2022-03-16T20:46:43.390Z"
   },
   {
    "duration": 124,
    "start_time": "2022-03-16T20:46:43.575Z"
   },
   {
    "duration": 231,
    "start_time": "2022-03-16T20:46:43.704Z"
   },
   {
    "duration": 1225,
    "start_time": "2022-03-16T20:46:43.939Z"
   },
   {
    "duration": 105,
    "start_time": "2022-03-16T20:46:45.166Z"
   },
   {
    "duration": 733,
    "start_time": "2022-03-16T20:46:45.276Z"
   },
   {
    "duration": 217,
    "start_time": "2022-03-16T20:46:46.011Z"
   },
   {
    "duration": 96,
    "start_time": "2022-03-16T20:46:46.231Z"
   },
   {
    "duration": 698,
    "start_time": "2022-03-16T20:46:46.329Z"
   },
   {
    "duration": 110,
    "start_time": "2022-03-16T20:46:47.030Z"
   },
   {
    "duration": 339,
    "start_time": "2022-03-16T20:46:47.143Z"
   },
   {
    "duration": 688,
    "start_time": "2022-03-16T20:46:47.488Z"
   },
   {
    "duration": 154,
    "start_time": "2022-03-16T20:48:05.589Z"
   },
   {
    "duration": 688,
    "start_time": "2022-03-16T20:48:19.009Z"
   },
   {
    "duration": 4,
    "start_time": "2022-03-16T20:48:23.308Z"
   },
   {
    "duration": 1120,
    "start_time": "2022-03-16T20:48:23.315Z"
   },
   {
    "duration": 49,
    "start_time": "2022-03-16T20:48:24.439Z"
   },
   {
    "duration": 169,
    "start_time": "2022-03-16T20:48:24.491Z"
   },
   {
    "duration": 164,
    "start_time": "2022-03-16T20:48:24.662Z"
   },
   {
    "duration": 106,
    "start_time": "2022-03-16T20:48:24.829Z"
   },
   {
    "duration": 158,
    "start_time": "2022-03-16T20:48:24.938Z"
   },
   {
    "duration": 1031,
    "start_time": "2022-03-16T20:48:25.099Z"
   },
   {
    "duration": 90,
    "start_time": "2022-03-16T20:48:26.133Z"
   },
   {
    "duration": 703,
    "start_time": "2022-03-16T20:48:26.226Z"
   },
   {
    "duration": 226,
    "start_time": "2022-03-16T20:48:26.932Z"
   },
   {
    "duration": 192,
    "start_time": "2022-03-16T20:48:27.161Z"
   },
   {
    "duration": 747,
    "start_time": "2022-03-16T20:48:27.356Z"
   },
   {
    "duration": 671,
    "start_time": "2022-03-16T20:48:33.578Z"
   },
   {
    "duration": 140,
    "start_time": "2022-03-16T20:49:10.789Z"
   },
   {
    "duration": 8,
    "start_time": "2022-03-16T20:49:59.078Z"
   },
   {
    "duration": 325,
    "start_time": "2022-03-16T20:50:07.853Z"
   },
   {
    "duration": 1565,
    "start_time": "2022-03-16T20:50:21.465Z"
   },
   {
    "duration": 11156,
    "start_time": "2022-03-16T20:51:06.607Z"
   },
   {
    "duration": 2720,
    "start_time": "2022-03-16T20:51:25.331Z"
   },
   {
    "duration": 433,
    "start_time": "2022-03-16T20:51:40.225Z"
   },
   {
    "duration": 489,
    "start_time": "2022-03-16T20:52:14.143Z"
   },
   {
    "duration": 486,
    "start_time": "2022-03-16T20:54:09.944Z"
   },
   {
    "duration": 8,
    "start_time": "2022-03-16T20:54:41.377Z"
   },
   {
    "duration": 10,
    "start_time": "2022-03-16T20:59:14.810Z"
   },
   {
    "duration": 26,
    "start_time": "2022-03-16T20:59:20.002Z"
   },
   {
    "duration": 23,
    "start_time": "2022-03-16T20:59:26.794Z"
   },
   {
    "duration": 25,
    "start_time": "2022-03-16T20:59:29.816Z"
   },
   {
    "duration": 78,
    "start_time": "2022-03-16T21:01:12.997Z"
   },
   {
    "duration": 90,
    "start_time": "2022-03-16T21:03:24.298Z"
   },
   {
    "duration": 51,
    "start_time": "2022-03-16T21:03:34.076Z"
   },
   {
    "duration": 45,
    "start_time": "2022-03-16T21:04:05.204Z"
   },
   {
    "duration": 35,
    "start_time": "2022-03-16T21:07:49.237Z"
   },
   {
    "duration": 18,
    "start_time": "2022-03-16T21:08:14.004Z"
   },
   {
    "duration": 309,
    "start_time": "2022-03-16T21:08:39.237Z"
   },
   {
    "duration": 326,
    "start_time": "2022-03-16T21:08:59.769Z"
   },
   {
    "duration": 3,
    "start_time": "2022-03-16T21:09:02.766Z"
   },
   {
    "duration": 1063,
    "start_time": "2022-03-16T21:09:02.772Z"
   },
   {
    "duration": 28,
    "start_time": "2022-03-16T21:09:03.838Z"
   },
   {
    "duration": 177,
    "start_time": "2022-03-16T21:09:03.869Z"
   },
   {
    "duration": 166,
    "start_time": "2022-03-16T21:09:04.049Z"
   },
   {
    "duration": 117,
    "start_time": "2022-03-16T21:09:04.217Z"
   },
   {
    "duration": 152,
    "start_time": "2022-03-16T21:09:04.336Z"
   },
   {
    "duration": 1035,
    "start_time": "2022-03-16T21:09:04.491Z"
   },
   {
    "duration": 99,
    "start_time": "2022-03-16T21:09:05.529Z"
   },
   {
    "duration": 796,
    "start_time": "2022-03-16T21:09:05.631Z"
   },
   {
    "duration": 294,
    "start_time": "2022-03-16T21:09:06.430Z"
   },
   {
    "duration": 202,
    "start_time": "2022-03-16T21:09:06.727Z"
   },
   {
    "duration": 941,
    "start_time": "2022-03-16T21:09:06.932Z"
   },
   {
    "duration": 30,
    "start_time": "2022-03-16T21:09:07.876Z"
   },
   {
    "duration": 82,
    "start_time": "2022-03-16T21:09:07.909Z"
   },
   {
    "duration": 39,
    "start_time": "2022-03-16T21:09:07.994Z"
   },
   {
    "duration": 347,
    "start_time": "2022-03-16T21:09:08.036Z"
   },
   {
    "duration": 5,
    "start_time": "2022-03-16T21:09:44.246Z"
   },
   {
    "duration": 1361,
    "start_time": "2022-03-16T21:09:44.254Z"
   },
   {
    "duration": 28,
    "start_time": "2022-03-16T21:09:45.618Z"
   },
   {
    "duration": 178,
    "start_time": "2022-03-16T21:09:45.649Z"
   },
   {
    "duration": 167,
    "start_time": "2022-03-16T21:09:45.830Z"
   },
   {
    "duration": 110,
    "start_time": "2022-03-16T21:09:46.000Z"
   },
   {
    "duration": 162,
    "start_time": "2022-03-16T21:09:46.113Z"
   },
   {
    "duration": 1039,
    "start_time": "2022-03-16T21:09:46.279Z"
   },
   {
    "duration": 109,
    "start_time": "2022-03-16T21:09:47.320Z"
   },
   {
    "duration": 813,
    "start_time": "2022-03-16T21:09:47.431Z"
   },
   {
    "duration": 208,
    "start_time": "2022-03-16T21:09:48.247Z"
   },
   {
    "duration": 191,
    "start_time": "2022-03-16T21:09:48.458Z"
   },
   {
    "duration": 692,
    "start_time": "2022-03-16T21:09:48.651Z"
   },
   {
    "duration": 27,
    "start_time": "2022-03-16T21:09:49.345Z"
   },
   {
    "duration": 50,
    "start_time": "2022-03-16T21:09:49.386Z"
   },
   {
    "duration": 104,
    "start_time": "2022-03-16T21:09:49.438Z"
   },
   {
    "duration": 311,
    "start_time": "2022-03-16T21:09:49.544Z"
   },
   {
    "duration": 809,
    "start_time": "2022-03-16T21:10:09.859Z"
   },
   {
    "duration": 572,
    "start_time": "2022-03-16T21:10:15.426Z"
   },
   {
    "duration": 81,
    "start_time": "2022-03-16T21:10:30.942Z"
   },
   {
    "duration": 573,
    "start_time": "2022-03-16T21:10:31.993Z"
   },
   {
    "duration": 79,
    "start_time": "2022-03-16T21:10:38.190Z"
   },
   {
    "duration": 573,
    "start_time": "2022-03-16T21:10:39.845Z"
   },
   {
    "duration": 76,
    "start_time": "2022-03-16T21:10:50.042Z"
   },
   {
    "duration": 559,
    "start_time": "2022-03-16T21:10:51.243Z"
   },
   {
    "duration": 3,
    "start_time": "2022-03-16T21:10:58.461Z"
   },
   {
    "duration": 1058,
    "start_time": "2022-03-16T21:10:58.467Z"
   },
   {
    "duration": 35,
    "start_time": "2022-03-16T21:10:59.529Z"
   },
   {
    "duration": 179,
    "start_time": "2022-03-16T21:10:59.567Z"
   },
   {
    "duration": 164,
    "start_time": "2022-03-16T21:10:59.748Z"
   },
   {
    "duration": 108,
    "start_time": "2022-03-16T21:10:59.914Z"
   },
   {
    "duration": 162,
    "start_time": "2022-03-16T21:11:00.025Z"
   },
   {
    "duration": 2077,
    "start_time": "2022-03-16T21:11:00.190Z"
   },
   {
    "duration": 98,
    "start_time": "2022-03-16T21:11:02.270Z"
   },
   {
    "duration": 720,
    "start_time": "2022-03-16T21:11:02.370Z"
   },
   {
    "duration": 206,
    "start_time": "2022-03-16T21:11:03.093Z"
   },
   {
    "duration": 191,
    "start_time": "2022-03-16T21:11:03.302Z"
   },
   {
    "duration": 685,
    "start_time": "2022-03-16T21:11:03.496Z"
   },
   {
    "duration": 26,
    "start_time": "2022-03-16T21:11:04.186Z"
   },
   {
    "duration": 74,
    "start_time": "2022-03-16T21:11:04.214Z"
   },
   {
    "duration": 74,
    "start_time": "2022-03-16T21:11:04.290Z"
   },
   {
    "duration": 578,
    "start_time": "2022-03-16T21:11:04.366Z"
   },
   {
    "duration": 75,
    "start_time": "2022-03-16T21:11:30.114Z"
   },
   {
    "duration": 575,
    "start_time": "2022-03-16T21:11:31.285Z"
   },
   {
    "duration": 427,
    "start_time": "2022-03-16T21:11:45.966Z"
   },
   {
    "duration": 379,
    "start_time": "2022-03-16T21:12:01.531Z"
   },
   {
    "duration": 347,
    "start_time": "2022-03-16T21:12:05.345Z"
   },
   {
    "duration": 329,
    "start_time": "2022-03-16T21:12:11.662Z"
   },
   {
    "duration": 137,
    "start_time": "2022-03-16T21:12:49.140Z"
   },
   {
    "duration": 129,
    "start_time": "2022-03-16T21:13:10.912Z"
   },
   {
    "duration": 22,
    "start_time": "2022-03-16T21:14:14.084Z"
   },
   {
    "duration": 330,
    "start_time": "2022-03-16T21:15:27.176Z"
   },
   {
    "duration": 582,
    "start_time": "2022-03-16T21:16:27.475Z"
   },
   {
    "duration": 17,
    "start_time": "2022-03-16T21:16:41.937Z"
   },
   {
    "duration": 400,
    "start_time": "2022-03-17T17:20:46.194Z"
   },
   {
    "duration": 9639,
    "start_time": "2022-03-17T17:20:46.596Z"
   },
   {
    "duration": 21,
    "start_time": "2022-03-17T17:20:56.237Z"
   },
   {
    "duration": 158,
    "start_time": "2022-03-17T17:20:56.259Z"
   },
   {
    "duration": 148,
    "start_time": "2022-03-17T17:20:56.419Z"
   },
   {
    "duration": 94,
    "start_time": "2022-03-17T17:20:56.569Z"
   },
   {
    "duration": 156,
    "start_time": "2022-03-17T17:20:56.665Z"
   },
   {
    "duration": 1014,
    "start_time": "2022-03-17T17:20:56.823Z"
   },
   {
    "duration": 94,
    "start_time": "2022-03-17T17:20:57.839Z"
   },
   {
    "duration": 473,
    "start_time": "2022-03-17T17:20:57.937Z"
   },
   {
    "duration": 166,
    "start_time": "2022-03-17T17:20:58.414Z"
   },
   {
    "duration": 128,
    "start_time": "2022-03-17T17:20:58.581Z"
   },
   {
    "duration": 310,
    "start_time": "2022-03-17T17:20:58.711Z"
   },
   {
    "duration": 17,
    "start_time": "2022-03-17T17:20:59.024Z"
   },
   {
    "duration": 30,
    "start_time": "2022-03-17T17:20:59.043Z"
   },
   {
    "duration": 64,
    "start_time": "2022-03-17T17:20:59.074Z"
   },
   {
    "duration": 149,
    "start_time": "2022-03-17T17:20:59.140Z"
   },
   {
    "duration": 133,
    "start_time": "2022-03-17T17:20:59.291Z"
   },
   {
    "duration": 12,
    "start_time": "2022-03-17T17:20:59.426Z"
   },
   {
    "duration": 18,
    "start_time": "2022-03-17T17:40:25.066Z"
   },
   {
    "duration": 156,
    "start_time": "2022-03-17T17:41:35.250Z"
   },
   {
    "duration": 10,
    "start_time": "2022-03-17T17:42:15.731Z"
   },
   {
    "duration": 3,
    "start_time": "2022-03-17T17:43:15.899Z"
   },
   {
    "duration": 824,
    "start_time": "2022-03-17T17:43:15.904Z"
   },
   {
    "duration": 13,
    "start_time": "2022-03-17T17:43:16.730Z"
   },
   {
    "duration": 15,
    "start_time": "2022-03-17T17:43:16.744Z"
   },
   {
    "duration": 161,
    "start_time": "2022-03-17T17:43:16.761Z"
   },
   {
    "duration": 137,
    "start_time": "2022-03-17T17:43:16.926Z"
   },
   {
    "duration": 123,
    "start_time": "2022-03-17T17:43:17.065Z"
   },
   {
    "duration": 375,
    "start_time": "2022-03-17T17:43:17.189Z"
   },
   {
    "duration": 64,
    "start_time": "2022-03-17T17:43:17.566Z"
   },
   {
    "duration": 316,
    "start_time": "2022-03-17T17:43:17.632Z"
   },
   {
    "duration": 152,
    "start_time": "2022-03-17T17:43:17.949Z"
   },
   {
    "duration": 119,
    "start_time": "2022-03-17T17:43:18.103Z"
   },
   {
    "duration": 373,
    "start_time": "2022-03-17T17:43:18.224Z"
   },
   {
    "duration": 19,
    "start_time": "2022-03-17T17:43:18.602Z"
   },
   {
    "duration": 34,
    "start_time": "2022-03-17T17:43:18.622Z"
   },
   {
    "duration": 71,
    "start_time": "2022-03-17T17:43:18.658Z"
   },
   {
    "duration": 232,
    "start_time": "2022-03-17T17:43:18.732Z"
   },
   {
    "duration": 186,
    "start_time": "2022-03-17T17:43:18.966Z"
   },
   {
    "duration": 15,
    "start_time": "2022-03-17T17:43:19.154Z"
   },
   {
    "duration": 38,
    "start_time": "2022-03-17T17:43:19.171Z"
   },
   {
    "duration": 14,
    "start_time": "2022-03-17T17:43:19.212Z"
   },
   {
    "duration": 143,
    "start_time": "2022-03-17T17:44:57.218Z"
   },
   {
    "duration": 130,
    "start_time": "2022-03-17T17:45:04.013Z"
   },
   {
    "duration": 117,
    "start_time": "2022-03-17T17:45:21.642Z"
   },
   {
    "duration": 172,
    "start_time": "2022-03-17T17:46:23.274Z"
   },
   {
    "duration": 2,
    "start_time": "2022-03-17T17:47:59.198Z"
   },
   {
    "duration": 790,
    "start_time": "2022-03-17T17:47:59.203Z"
   },
   {
    "duration": 21,
    "start_time": "2022-03-17T17:47:59.995Z"
   },
   {
    "duration": 151,
    "start_time": "2022-03-17T17:48:00.019Z"
   },
   {
    "duration": 134,
    "start_time": "2022-03-17T17:48:00.173Z"
   },
   {
    "duration": 119,
    "start_time": "2022-03-17T17:48:00.309Z"
   },
   {
    "duration": 377,
    "start_time": "2022-03-17T17:48:00.430Z"
   },
   {
    "duration": 48,
    "start_time": "2022-03-17T17:48:00.809Z"
   },
   {
    "duration": 368,
    "start_time": "2022-03-17T17:48:00.859Z"
   },
   {
    "duration": 195,
    "start_time": "2022-03-17T17:48:01.229Z"
   },
   {
    "duration": 163,
    "start_time": "2022-03-17T17:48:01.426Z"
   },
   {
    "duration": 322,
    "start_time": "2022-03-17T17:48:01.591Z"
   },
   {
    "duration": 11,
    "start_time": "2022-03-17T17:48:01.915Z"
   },
   {
    "duration": 7,
    "start_time": "2022-03-17T17:48:01.929Z"
   },
   {
    "duration": 59,
    "start_time": "2022-03-17T17:48:01.938Z"
   },
   {
    "duration": 138,
    "start_time": "2022-03-17T17:48:01.998Z"
   },
   {
    "duration": 124,
    "start_time": "2022-03-17T17:48:02.138Z"
   },
   {
    "duration": 11,
    "start_time": "2022-03-17T17:48:02.264Z"
   },
   {
    "duration": 26,
    "start_time": "2022-03-17T17:48:02.277Z"
   },
   {
    "duration": 13,
    "start_time": "2022-03-17T17:48:02.305Z"
   },
   {
    "duration": 130,
    "start_time": "2022-03-17T17:48:02.319Z"
   },
   {
    "duration": 3,
    "start_time": "2022-03-17T17:49:14.618Z"
   },
   {
    "duration": 761,
    "start_time": "2022-03-17T17:49:14.623Z"
   },
   {
    "duration": 21,
    "start_time": "2022-03-17T17:49:15.386Z"
   },
   {
    "duration": 146,
    "start_time": "2022-03-17T17:49:15.409Z"
   },
   {
    "duration": 134,
    "start_time": "2022-03-17T17:49:15.556Z"
   },
   {
    "duration": 124,
    "start_time": "2022-03-17T17:49:15.692Z"
   },
   {
    "duration": 532,
    "start_time": "2022-03-17T17:49:15.818Z"
   },
   {
    "duration": 68,
    "start_time": "2022-03-17T17:49:16.351Z"
   },
   {
    "duration": 313,
    "start_time": "2022-03-17T17:49:16.422Z"
   },
   {
    "duration": 147,
    "start_time": "2022-03-17T17:49:16.737Z"
   },
   {
    "duration": 115,
    "start_time": "2022-03-17T17:49:16.886Z"
   },
   {
    "duration": 296,
    "start_time": "2022-03-17T17:49:17.003Z"
   },
   {
    "duration": 79,
    "start_time": "2022-03-17T17:49:17.300Z"
   },
   {
    "duration": 55,
    "start_time": "2022-03-17T17:49:17.381Z"
   },
   {
    "duration": 41,
    "start_time": "2022-03-17T17:49:17.437Z"
   },
   {
    "duration": 146,
    "start_time": "2022-03-17T17:49:17.479Z"
   },
   {
    "duration": 119,
    "start_time": "2022-03-17T17:49:17.627Z"
   },
   {
    "duration": 11,
    "start_time": "2022-03-17T17:49:17.748Z"
   },
   {
    "duration": 12,
    "start_time": "2022-03-17T17:49:17.761Z"
   },
   {
    "duration": 33,
    "start_time": "2022-03-17T17:49:17.775Z"
   },
   {
    "duration": 156,
    "start_time": "2022-03-17T17:49:17.810Z"
   },
   {
    "duration": 140,
    "start_time": "2022-03-17T17:50:12.597Z"
   },
   {
    "duration": 231,
    "start_time": "2022-03-17T17:50:18.544Z"
   },
   {
    "duration": 3,
    "start_time": "2022-03-17T17:50:46.065Z"
   },
   {
    "duration": 837,
    "start_time": "2022-03-17T17:50:46.071Z"
   },
   {
    "duration": 19,
    "start_time": "2022-03-17T17:50:46.910Z"
   },
   {
    "duration": 140,
    "start_time": "2022-03-17T17:50:46.930Z"
   },
   {
    "duration": 134,
    "start_time": "2022-03-17T17:50:47.072Z"
   },
   {
    "duration": 116,
    "start_time": "2022-03-17T17:50:47.208Z"
   },
   {
    "duration": 461,
    "start_time": "2022-03-17T17:50:47.326Z"
   },
   {
    "duration": 60,
    "start_time": "2022-03-17T17:50:47.788Z"
   },
   {
    "duration": 302,
    "start_time": "2022-03-17T17:50:47.850Z"
   },
   {
    "duration": 159,
    "start_time": "2022-03-17T17:50:48.154Z"
   },
   {
    "duration": 110,
    "start_time": "2022-03-17T17:50:48.315Z"
   },
   {
    "duration": 284,
    "start_time": "2022-03-17T17:50:48.427Z"
   },
   {
    "duration": 234,
    "start_time": "2022-03-17T17:50:48.713Z"
   },
   {
    "duration": 89,
    "start_time": "2022-03-17T17:50:48.948Z"
   },
   {
    "duration": 40,
    "start_time": "2022-03-17T17:50:49.039Z"
   },
   {
    "duration": 154,
    "start_time": "2022-03-17T17:50:49.080Z"
   },
   {
    "duration": 114,
    "start_time": "2022-03-17T17:50:49.235Z"
   },
   {
    "duration": 12,
    "start_time": "2022-03-17T17:50:49.350Z"
   },
   {
    "duration": 13,
    "start_time": "2022-03-17T17:50:49.363Z"
   },
   {
    "duration": 27,
    "start_time": "2022-03-17T17:50:49.377Z"
   },
   {
    "duration": 131,
    "start_time": "2022-03-17T17:50:49.408Z"
   },
   {
    "duration": 4,
    "start_time": "2022-03-17T17:54:35.305Z"
   },
   {
    "duration": 1145,
    "start_time": "2022-03-17T17:54:35.311Z"
   },
   {
    "duration": 23,
    "start_time": "2022-03-17T17:54:36.458Z"
   },
   {
    "duration": 246,
    "start_time": "2022-03-17T17:54:36.483Z"
   },
   {
    "duration": 229,
    "start_time": "2022-03-17T17:54:36.731Z"
   },
   {
    "duration": 171,
    "start_time": "2022-03-17T17:54:36.962Z"
   },
   {
    "duration": 374,
    "start_time": "2022-03-17T17:54:37.135Z"
   },
   {
    "duration": 45,
    "start_time": "2022-03-17T17:54:37.510Z"
   },
   {
    "duration": 414,
    "start_time": "2022-03-17T17:54:37.557Z"
   },
   {
    "duration": 149,
    "start_time": "2022-03-17T17:54:37.973Z"
   },
   {
    "duration": 116,
    "start_time": "2022-03-17T17:54:38.124Z"
   },
   {
    "duration": 305,
    "start_time": "2022-03-17T17:54:38.242Z"
   },
   {
    "duration": 237,
    "start_time": "2022-03-17T17:54:38.549Z"
   },
   {
    "duration": 75,
    "start_time": "2022-03-17T17:54:38.788Z"
   },
   {
    "duration": 56,
    "start_time": "2022-03-17T17:54:38.865Z"
   },
   {
    "duration": 148,
    "start_time": "2022-03-17T17:54:38.923Z"
   },
   {
    "duration": 119,
    "start_time": "2022-03-17T17:54:39.073Z"
   },
   {
    "duration": 19,
    "start_time": "2022-03-17T17:54:39.195Z"
   },
   {
    "duration": 15,
    "start_time": "2022-03-17T17:54:39.216Z"
   },
   {
    "duration": 11,
    "start_time": "2022-03-17T17:54:39.232Z"
   },
   {
    "duration": 31,
    "start_time": "2022-03-17T17:55:13.079Z"
   },
   {
    "duration": 59,
    "start_time": "2022-03-17T17:55:48.097Z"
   },
   {
    "duration": 33,
    "start_time": "2022-03-17T17:55:51.822Z"
   },
   {
    "duration": 42,
    "start_time": "2022-03-17T17:56:52.703Z"
   },
   {
    "duration": 48,
    "start_time": "2022-03-17T17:59:56.654Z"
   },
   {
    "duration": 33,
    "start_time": "2022-03-17T18:02:38.635Z"
   },
   {
    "duration": 17,
    "start_time": "2022-03-17T18:03:16.734Z"
   },
   {
    "duration": 29,
    "start_time": "2022-03-17T18:03:24.374Z"
   },
   {
    "duration": 30,
    "start_time": "2022-03-17T18:04:00.454Z"
   },
   {
    "duration": 19,
    "start_time": "2022-03-17T18:04:25.085Z"
   },
   {
    "duration": 36,
    "start_time": "2022-03-17T18:04:35.614Z"
   },
   {
    "duration": 29,
    "start_time": "2022-03-17T18:05:39.512Z"
   },
   {
    "duration": 22,
    "start_time": "2022-03-17T18:06:11.885Z"
   },
   {
    "duration": 27,
    "start_time": "2022-03-17T18:07:13.789Z"
   },
   {
    "duration": 29,
    "start_time": "2022-03-17T18:09:18.677Z"
   },
   {
    "duration": 19,
    "start_time": "2022-03-17T18:09:51.772Z"
   },
   {
    "duration": 29,
    "start_time": "2022-03-17T18:10:03.348Z"
   },
   {
    "duration": 27,
    "start_time": "2022-03-17T18:10:58.924Z"
   },
   {
    "duration": 58,
    "start_time": "2022-03-17T18:11:29.901Z"
   },
   {
    "duration": 54,
    "start_time": "2022-03-17T18:15:05.020Z"
   },
   {
    "duration": 17,
    "start_time": "2022-03-17T18:15:24.124Z"
   },
   {
    "duration": 41,
    "start_time": "2022-03-17T18:16:12.539Z"
   },
   {
    "duration": 51,
    "start_time": "2022-03-17T18:17:04.468Z"
   },
   {
    "duration": 20,
    "start_time": "2022-03-17T18:17:35.596Z"
   },
   {
    "duration": 15,
    "start_time": "2022-03-17T18:21:35.907Z"
   },
   {
    "duration": 101,
    "start_time": "2022-03-17T18:23:11.090Z"
   },
   {
    "duration": 15,
    "start_time": "2022-03-17T18:23:27.859Z"
   },
   {
    "duration": 10,
    "start_time": "2022-03-17T18:23:35.722Z"
   },
   {
    "duration": 78,
    "start_time": "2022-03-17T18:23:52.503Z"
   },
   {
    "duration": 11,
    "start_time": "2022-03-17T18:24:00.962Z"
   },
   {
    "duration": 15,
    "start_time": "2022-03-17T18:29:13.705Z"
   },
   {
    "duration": 766,
    "start_time": "2022-03-17T18:33:27.912Z"
   },
   {
    "duration": 382,
    "start_time": "2022-03-17T18:35:30.994Z"
   },
   {
    "duration": 11,
    "start_time": "2022-03-17T18:35:35.560Z"
   },
   {
    "duration": 2,
    "start_time": "2022-03-17T18:36:23.088Z"
   },
   {
    "duration": 27,
    "start_time": "2022-03-17T18:36:28.191Z"
   },
   {
    "duration": 3529,
    "start_time": "2022-03-17T18:37:19.224Z"
   },
   {
    "duration": 129,
    "start_time": "2022-03-17T18:37:41.616Z"
   },
   {
    "duration": 21,
    "start_time": "2022-03-17T18:37:47.944Z"
   },
   {
    "duration": 10,
    "start_time": "2022-03-17T20:21:02.674Z"
   },
   {
    "duration": 79,
    "start_time": "2022-03-17T20:21:08.996Z"
   },
   {
    "duration": 85,
    "start_time": "2022-03-17T20:23:30.270Z"
   },
   {
    "duration": 12,
    "start_time": "2022-03-17T20:23:34.451Z"
   },
   {
    "duration": 521,
    "start_time": "2022-03-17T20:24:40.284Z"
   },
   {
    "duration": 32,
    "start_time": "2022-03-17T20:24:47.059Z"
   },
   {
    "duration": 15,
    "start_time": "2022-03-17T20:25:48.530Z"
   },
   {
    "duration": 16,
    "start_time": "2022-03-17T20:28:53.418Z"
   },
   {
    "duration": 35,
    "start_time": "2022-03-17T20:41:51.386Z"
   },
   {
    "duration": 153,
    "start_time": "2022-03-17T20:41:58.755Z"
   },
   {
    "duration": 592,
    "start_time": "2022-03-17T20:43:43.769Z"
   },
   {
    "duration": 5,
    "start_time": "2022-03-17T20:44:15.219Z"
   },
   {
    "duration": 884,
    "start_time": "2022-03-17T20:45:08.317Z"
   },
   {
    "duration": 4,
    "start_time": "2022-03-17T20:45:23.450Z"
   },
   {
    "duration": 361,
    "start_time": "2022-03-17T20:55:57.714Z"
   },
   {
    "duration": 3,
    "start_time": "2022-03-17T20:56:08.522Z"
   },
   {
    "duration": 741,
    "start_time": "2022-03-17T20:56:08.526Z"
   },
   {
    "duration": 16,
    "start_time": "2022-03-17T20:56:09.269Z"
   },
   {
    "duration": 149,
    "start_time": "2022-03-17T20:56:09.287Z"
   },
   {
    "duration": 130,
    "start_time": "2022-03-17T20:56:09.438Z"
   },
   {
    "duration": 114,
    "start_time": "2022-03-17T20:56:09.570Z"
   },
   {
    "duration": 517,
    "start_time": "2022-03-17T20:56:09.686Z"
   },
   {
    "duration": 55,
    "start_time": "2022-03-17T20:56:10.207Z"
   },
   {
    "duration": 307,
    "start_time": "2022-03-17T20:56:10.263Z"
   },
   {
    "duration": 150,
    "start_time": "2022-03-17T20:56:10.574Z"
   },
   {
    "duration": 114,
    "start_time": "2022-03-17T20:56:10.726Z"
   },
   {
    "duration": 302,
    "start_time": "2022-03-17T20:56:10.842Z"
   },
   {
    "duration": 238,
    "start_time": "2022-03-17T20:56:11.146Z"
   },
   {
    "duration": 78,
    "start_time": "2022-03-17T20:56:11.386Z"
   },
   {
    "duration": 52,
    "start_time": "2022-03-17T20:56:11.466Z"
   },
   {
    "duration": 141,
    "start_time": "2022-03-17T20:56:11.520Z"
   },
   {
    "duration": 112,
    "start_time": "2022-03-17T20:56:11.663Z"
   },
   {
    "duration": 11,
    "start_time": "2022-03-17T20:56:11.777Z"
   },
   {
    "duration": 26,
    "start_time": "2022-03-17T20:56:11.789Z"
   },
   {
    "duration": 11,
    "start_time": "2022-03-17T20:56:11.817Z"
   },
   {
    "duration": 28,
    "start_time": "2022-03-17T20:56:11.830Z"
   },
   {
    "duration": 56,
    "start_time": "2022-03-17T20:56:11.859Z"
   },
   {
    "duration": 15,
    "start_time": "2022-03-17T20:56:11.916Z"
   },
   {
    "duration": 27,
    "start_time": "2022-03-17T20:56:11.933Z"
   },
   {
    "duration": 44,
    "start_time": "2022-03-17T20:56:11.962Z"
   },
   {
    "duration": 22,
    "start_time": "2022-03-17T20:56:12.008Z"
   },
   {
    "duration": 16,
    "start_time": "2022-03-17T20:56:12.032Z"
   },
   {
    "duration": 15,
    "start_time": "2022-03-17T20:56:12.052Z"
   },
   {
    "duration": 54,
    "start_time": "2022-03-17T20:56:12.069Z"
   },
   {
    "duration": 16,
    "start_time": "2022-03-17T20:56:12.124Z"
   },
   {
    "duration": 29,
    "start_time": "2022-03-17T20:56:12.142Z"
   },
   {
    "duration": 58,
    "start_time": "2022-03-17T20:56:12.172Z"
   },
   {
    "duration": 17,
    "start_time": "2022-03-17T20:56:12.231Z"
   },
   {
    "duration": 14,
    "start_time": "2022-03-17T20:56:12.249Z"
   },
   {
    "duration": 10,
    "start_time": "2022-03-17T20:56:12.265Z"
   },
   {
    "duration": 24,
    "start_time": "2022-03-17T20:56:12.277Z"
   },
   {
    "duration": 129,
    "start_time": "2022-03-17T20:56:12.306Z"
   },
   {
    "duration": 616,
    "start_time": "2022-03-17T20:56:12.436Z"
   },
   {
    "duration": 660,
    "start_time": "2022-03-17T20:56:13.054Z"
   },
   {
    "duration": 4,
    "start_time": "2022-03-17T20:56:13.715Z"
   },
   {
    "duration": 171,
    "start_time": "2022-03-17T21:03:49.352Z"
   },
   {
    "duration": 240,
    "start_time": "2022-03-17T21:04:41.463Z"
   },
   {
    "duration": 148,
    "start_time": "2022-03-17T21:04:48.518Z"
   },
   {
    "duration": 160,
    "start_time": "2022-03-17T21:15:59.141Z"
   },
   {
    "duration": 1222,
    "start_time": "2022-03-19T18:39:45.634Z"
   },
   {
    "duration": 943,
    "start_time": "2022-03-19T18:39:46.858Z"
   },
   {
    "duration": 27,
    "start_time": "2022-03-19T18:39:47.803Z"
   },
   {
    "duration": 168,
    "start_time": "2022-03-19T18:39:47.833Z"
   },
   {
    "duration": 158,
    "start_time": "2022-03-19T18:39:48.003Z"
   },
   {
    "duration": 145,
    "start_time": "2022-03-19T18:39:48.163Z"
   },
   {
    "duration": 920,
    "start_time": "2022-03-19T18:39:48.310Z"
   },
   {
    "duration": 90,
    "start_time": "2022-03-19T18:39:49.232Z"
   },
   {
    "duration": 356,
    "start_time": "2022-03-19T18:39:49.324Z"
   },
   {
    "duration": 172,
    "start_time": "2022-03-19T18:39:49.684Z"
   },
   {
    "duration": 139,
    "start_time": "2022-03-19T18:39:49.858Z"
   },
   {
    "duration": 320,
    "start_time": "2022-03-19T18:39:49.999Z"
   },
   {
    "duration": 383,
    "start_time": "2022-03-19T18:39:50.321Z"
   },
   {
    "duration": 47,
    "start_time": "2022-03-19T18:39:50.705Z"
   },
   {
    "duration": 201,
    "start_time": "2022-03-19T18:39:50.754Z"
   },
   {
    "duration": 15,
    "start_time": "2022-03-19T18:39:50.957Z"
   },
   {
    "duration": 28,
    "start_time": "2022-03-19T18:39:50.974Z"
   },
   {
    "duration": 35,
    "start_time": "2022-03-19T18:39:51.004Z"
   },
   {
    "duration": 21,
    "start_time": "2022-03-19T18:39:51.041Z"
   },
   {
    "duration": 54,
    "start_time": "2022-03-19T18:39:51.065Z"
   },
   {
    "duration": 24,
    "start_time": "2022-03-19T18:39:51.121Z"
   },
   {
    "duration": 21,
    "start_time": "2022-03-19T18:39:51.147Z"
   },
   {
    "duration": 31,
    "start_time": "2022-03-19T18:39:51.170Z"
   },
   {
    "duration": 36,
    "start_time": "2022-03-19T18:39:51.203Z"
   },
   {
    "duration": 21,
    "start_time": "2022-03-19T18:39:51.240Z"
   },
   {
    "duration": 57,
    "start_time": "2022-03-19T18:39:51.263Z"
   },
   {
    "duration": 43,
    "start_time": "2022-03-19T18:39:51.322Z"
   },
   {
    "duration": 32,
    "start_time": "2022-03-19T18:39:51.369Z"
   },
   {
    "duration": 25,
    "start_time": "2022-03-19T18:39:51.403Z"
   },
   {
    "duration": 12,
    "start_time": "2022-03-19T18:39:51.430Z"
   },
   {
    "duration": 5,
    "start_time": "2022-03-19T18:39:51.444Z"
   },
   {
    "duration": 162,
    "start_time": "2022-03-19T18:39:51.450Z"
   },
   {
    "duration": 810,
    "start_time": "2022-03-19T18:39:51.614Z"
   },
   {
    "duration": 796,
    "start_time": "2022-03-19T18:39:52.427Z"
   },
   {
    "duration": 4,
    "start_time": "2022-03-19T18:39:53.225Z"
   },
   {
    "duration": 58,
    "start_time": "2022-03-19T18:41:51.639Z"
   },
   {
    "duration": 88,
    "start_time": "2022-03-19T19:03:42.995Z"
   },
   {
    "duration": 1226,
    "start_time": "2022-03-19T19:03:55.240Z"
   },
   {
    "duration": 167,
    "start_time": "2022-03-19T19:04:47.036Z"
   },
   {
    "duration": 146,
    "start_time": "2022-03-19T19:07:05.862Z"
   },
   {
    "duration": 211,
    "start_time": "2022-03-19T19:09:58.287Z"
   },
   {
    "duration": 4,
    "start_time": "2022-03-19T19:12:05.014Z"
   },
   {
    "duration": 14,
    "start_time": "2022-03-19T19:12:13.095Z"
   },
   {
    "duration": 84,
    "start_time": "2022-03-19T19:12:22.665Z"
   },
   {
    "duration": 3,
    "start_time": "2022-03-19T19:12:38.402Z"
   },
   {
    "duration": 857,
    "start_time": "2022-03-19T19:12:38.407Z"
   },
   {
    "duration": 18,
    "start_time": "2022-03-19T19:12:39.266Z"
   },
   {
    "duration": 158,
    "start_time": "2022-03-19T19:12:39.286Z"
   },
   {
    "duration": 144,
    "start_time": "2022-03-19T19:12:39.446Z"
   },
   {
    "duration": 125,
    "start_time": "2022-03-19T19:12:39.591Z"
   },
   {
    "duration": 414,
    "start_time": "2022-03-19T19:12:39.719Z"
   },
   {
    "duration": 71,
    "start_time": "2022-03-19T19:12:40.135Z"
   },
   {
    "duration": 345,
    "start_time": "2022-03-19T19:12:40.208Z"
   },
   {
    "duration": 166,
    "start_time": "2022-03-19T19:12:40.555Z"
   },
   {
    "duration": 127,
    "start_time": "2022-03-19T19:12:40.725Z"
   },
   {
    "duration": 340,
    "start_time": "2022-03-19T19:12:40.854Z"
   },
   {
    "duration": 393,
    "start_time": "2022-03-19T19:12:41.201Z"
   },
   {
    "duration": 47,
    "start_time": "2022-03-19T19:12:41.600Z"
   },
   {
    "duration": 200,
    "start_time": "2022-03-19T19:12:41.648Z"
   },
   {
    "duration": 14,
    "start_time": "2022-03-19T19:12:41.850Z"
   },
   {
    "duration": 13,
    "start_time": "2022-03-19T19:12:41.865Z"
   },
   {
    "duration": 34,
    "start_time": "2022-03-19T19:12:41.901Z"
   },
   {
    "duration": 18,
    "start_time": "2022-03-19T19:12:41.937Z"
   },
   {
    "duration": 54,
    "start_time": "2022-03-19T19:12:41.957Z"
   },
   {
    "duration": 22,
    "start_time": "2022-03-19T19:12:42.013Z"
   },
   {
    "duration": 21,
    "start_time": "2022-03-19T19:12:42.036Z"
   },
   {
    "duration": 24,
    "start_time": "2022-03-19T19:12:42.058Z"
   },
   {
    "duration": 50,
    "start_time": "2022-03-19T19:12:42.084Z"
   },
   {
    "duration": 52,
    "start_time": "2022-03-19T19:12:42.136Z"
   },
   {
    "duration": 51,
    "start_time": "2022-03-19T19:12:42.189Z"
   },
   {
    "duration": 71,
    "start_time": "2022-03-19T19:12:42.242Z"
   },
   {
    "duration": 68,
    "start_time": "2022-03-19T19:12:42.315Z"
   },
   {
    "duration": 41,
    "start_time": "2022-03-19T19:12:42.386Z"
   },
   {
    "duration": 27,
    "start_time": "2022-03-19T19:12:42.430Z"
   },
   {
    "duration": 15,
    "start_time": "2022-03-19T19:12:42.459Z"
   },
   {
    "duration": 85,
    "start_time": "2022-03-19T19:12:42.476Z"
   },
   {
    "duration": 3,
    "start_time": "2022-03-19T19:12:42.563Z"
   },
   {
    "duration": 150,
    "start_time": "2022-03-19T19:12:42.568Z"
   },
   {
    "duration": 814,
    "start_time": "2022-03-19T19:12:42.720Z"
   },
   {
    "duration": 678,
    "start_time": "2022-03-19T19:12:43.536Z"
   },
   {
    "duration": 5,
    "start_time": "2022-03-19T19:12:44.216Z"
   },
   {
    "duration": 99,
    "start_time": "2022-03-19T19:12:44.222Z"
   },
   {
    "duration": 0,
    "start_time": "2022-03-19T19:12:44.323Z"
   },
   {
    "duration": 4,
    "start_time": "2022-03-19T19:13:29.265Z"
   },
   {
    "duration": 82,
    "start_time": "2022-03-19T19:13:31.434Z"
   },
   {
    "duration": 15,
    "start_time": "2022-03-19T19:13:45.290Z"
   },
   {
    "duration": 3,
    "start_time": "2022-03-19T19:13:54.523Z"
   },
   {
    "duration": 814,
    "start_time": "2022-03-19T19:13:54.528Z"
   },
   {
    "duration": 20,
    "start_time": "2022-03-19T19:13:55.344Z"
   },
   {
    "duration": 152,
    "start_time": "2022-03-19T19:13:55.366Z"
   },
   {
    "duration": 142,
    "start_time": "2022-03-19T19:13:55.520Z"
   },
   {
    "duration": 129,
    "start_time": "2022-03-19T19:13:55.663Z"
   },
   {
    "duration": 403,
    "start_time": "2022-03-19T19:13:55.794Z"
   },
   {
    "duration": 62,
    "start_time": "2022-03-19T19:13:56.201Z"
   },
   {
    "duration": 343,
    "start_time": "2022-03-19T19:13:56.266Z"
   },
   {
    "duration": 165,
    "start_time": "2022-03-19T19:13:56.611Z"
   },
   {
    "duration": 125,
    "start_time": "2022-03-19T19:13:56.778Z"
   },
   {
    "duration": 312,
    "start_time": "2022-03-19T19:13:56.905Z"
   },
   {
    "duration": 417,
    "start_time": "2022-03-19T19:13:57.219Z"
   },
   {
    "duration": 49,
    "start_time": "2022-03-19T19:13:57.638Z"
   },
   {
    "duration": 190,
    "start_time": "2022-03-19T19:13:57.700Z"
   },
   {
    "duration": 20,
    "start_time": "2022-03-19T19:13:57.893Z"
   },
   {
    "duration": 13,
    "start_time": "2022-03-19T19:13:57.915Z"
   },
   {
    "duration": 36,
    "start_time": "2022-03-19T19:13:57.930Z"
   },
   {
    "duration": 48,
    "start_time": "2022-03-19T19:13:57.968Z"
   },
   {
    "duration": 34,
    "start_time": "2022-03-19T19:13:58.018Z"
   },
   {
    "duration": 25,
    "start_time": "2022-03-19T19:13:58.054Z"
   },
   {
    "duration": 36,
    "start_time": "2022-03-19T19:13:58.081Z"
   },
   {
    "duration": 23,
    "start_time": "2022-03-19T19:13:58.119Z"
   },
   {
    "duration": 35,
    "start_time": "2022-03-19T19:13:58.146Z"
   },
   {
    "duration": 34,
    "start_time": "2022-03-19T19:13:58.183Z"
   },
   {
    "duration": 42,
    "start_time": "2022-03-19T19:13:58.220Z"
   },
   {
    "duration": 46,
    "start_time": "2022-03-19T19:13:58.264Z"
   },
   {
    "duration": 20,
    "start_time": "2022-03-19T19:13:58.312Z"
   },
   {
    "duration": 25,
    "start_time": "2022-03-19T19:13:58.334Z"
   },
   {
    "duration": 12,
    "start_time": "2022-03-19T19:13:58.361Z"
   },
   {
    "duration": 33,
    "start_time": "2022-03-19T19:13:58.375Z"
   },
   {
    "duration": 4,
    "start_time": "2022-03-19T19:13:58.410Z"
   },
   {
    "duration": 155,
    "start_time": "2022-03-19T19:13:58.416Z"
   },
   {
    "duration": 802,
    "start_time": "2022-03-19T19:13:58.573Z"
   },
   {
    "duration": 683,
    "start_time": "2022-03-19T19:13:59.378Z"
   },
   {
    "duration": 4,
    "start_time": "2022-03-19T19:14:00.063Z"
   },
   {
    "duration": 117,
    "start_time": "2022-03-19T19:14:00.069Z"
   },
   {
    "duration": 0,
    "start_time": "2022-03-19T19:14:00.188Z"
   },
   {
    "duration": 130,
    "start_time": "2022-03-19T19:14:05.790Z"
   },
   {
    "duration": 119,
    "start_time": "2022-03-19T19:16:09.169Z"
   },
   {
    "duration": 4,
    "start_time": "2022-03-19T19:16:14.731Z"
   },
   {
    "duration": 3916,
    "start_time": "2022-03-19T19:16:17.473Z"
   },
   {
    "duration": 106,
    "start_time": "2022-03-19T19:17:28.729Z"
   },
   {
    "duration": 3,
    "start_time": "2022-03-19T19:17:33.458Z"
   },
   {
    "duration": 122,
    "start_time": "2022-03-19T19:20:17.002Z"
   },
   {
    "duration": 333137,
    "start_time": "2022-03-19T19:20:27.982Z"
   },
   {
    "duration": 3,
    "start_time": "2022-03-19T19:27:28.121Z"
   },
   {
    "duration": 635333,
    "start_time": "2022-03-19T19:27:32.780Z"
   },
   {
    "duration": 4,
    "start_time": "2022-03-19T19:51:24.140Z"
   },
   {
    "duration": 4935,
    "start_time": "2022-03-19T19:51:25.865Z"
   },
   {
    "duration": 3,
    "start_time": "2022-03-19T19:51:42.877Z"
   },
   {
    "duration": 1313082,
    "start_time": "2022-03-19T19:51:43.031Z"
   },
   {
    "duration": 4038,
    "start_time": "2022-03-19T20:14:58.173Z"
   },
   {
    "duration": 49,
    "start_time": "2022-03-19T20:15:08.039Z"
   },
   {
    "duration": 3774,
    "start_time": "2022-03-19T20:15:12.797Z"
   },
   {
    "duration": 4037,
    "start_time": "2022-03-19T20:15:30.249Z"
   },
   {
    "duration": 44606,
    "start_time": "2022-03-19T20:15:53.219Z"
   },
   {
    "duration": 22559,
    "start_time": "2022-03-19T20:17:32.795Z"
   },
   {
    "duration": 21866,
    "start_time": "2022-03-19T20:18:52.737Z"
   },
   {
    "duration": 21770,
    "start_time": "2022-03-19T20:19:52.884Z"
   },
   {
    "duration": 3,
    "start_time": "2022-03-19T20:20:43.597Z"
   },
   {
    "duration": 466003,
    "start_time": "2022-03-19T20:20:45.268Z"
   },
   {
    "duration": 24054,
    "start_time": "2022-03-19T20:31:27.149Z"
   },
   {
    "duration": 4,
    "start_time": "2022-03-19T20:32:01.144Z"
   },
   {
    "duration": 171,
    "start_time": "2022-03-19T20:32:02.571Z"
   },
   {
    "duration": 151,
    "start_time": "2022-03-19T20:32:33.670Z"
   },
   {
    "duration": 3,
    "start_time": "2022-03-19T20:33:10.779Z"
   },
   {
    "duration": 132,
    "start_time": "2022-03-19T20:33:12.214Z"
   },
   {
    "duration": 4,
    "start_time": "2022-03-19T20:33:47.419Z"
   },
   {
    "duration": 1726578,
    "start_time": "2022-03-19T20:33:48.433Z"
   },
   {
    "duration": 3,
    "start_time": "2022-03-19T21:02:35.175Z"
   },
   {
    "duration": 123,
    "start_time": "2022-03-19T21:02:35.180Z"
   },
   {
    "duration": 124,
    "start_time": "2022-03-19T21:02:35.422Z"
   },
   {
    "duration": 124,
    "start_time": "2022-03-19T21:02:35.548Z"
   },
   {
    "duration": 132,
    "start_time": "2022-03-19T21:03:55.237Z"
   },
   {
    "duration": 51678,
    "start_time": "2022-03-19T21:04:40.073Z"
   },
   {
    "duration": 3,
    "start_time": "2022-03-19T21:16:04.121Z"
   },
   {
    "duration": 159,
    "start_time": "2022-03-19T21:16:05.235Z"
   },
   {
    "duration": 180556,
    "start_time": "2022-03-19T21:16:23.707Z"
   },
   {
    "duration": 28,
    "start_time": "2022-03-19T21:22:36.902Z"
   },
   {
    "duration": 94855,
    "start_time": "2022-03-19T21:22:43.258Z"
   },
   {
    "duration": 3800,
    "start_time": "2022-03-19T21:24:18.202Z"
   },
   {
    "duration": 3,
    "start_time": "2022-03-19T21:24:38.355Z"
   },
   {
    "duration": 70911,
    "start_time": "2022-03-19T21:24:54.595Z"
   },
   {
    "duration": 3981,
    "start_time": "2022-03-19T21:26:42.530Z"
   },
   {
    "duration": 3855,
    "start_time": "2022-03-19T21:26:55.557Z"
   },
   {
    "duration": 3707,
    "start_time": "2022-03-19T21:27:06.702Z"
   },
   {
    "duration": 116,
    "start_time": "2022-03-19T21:36:33.462Z"
   },
   {
    "duration": 33217,
    "start_time": "2022-03-19T21:37:39.261Z"
   },
   {
    "duration": 54,
    "start_time": "2022-03-19T21:38:12.480Z"
   },
   {
    "duration": 23820,
    "start_time": "2022-03-19T21:38:24.469Z"
   },
   {
    "duration": 38,
    "start_time": "2022-03-19T21:38:54.785Z"
   },
   {
    "duration": 252339,
    "start_time": "2022-03-19T21:41:45.654Z"
   },
   {
    "duration": 108,
    "start_time": "2022-03-19T21:45:58.000Z"
   },
   {
    "duration": 0,
    "start_time": "2022-03-19T21:45:58.110Z"
   },
   {
    "duration": 0,
    "start_time": "2022-03-19T21:45:58.111Z"
   },
   {
    "duration": 116,
    "start_time": "2022-03-19T21:48:48.450Z"
   },
   {
    "duration": 3,
    "start_time": "2022-03-19T21:49:28.138Z"
   },
   {
    "duration": 126,
    "start_time": "2022-03-19T22:00:09.110Z"
   },
   {
    "duration": 1751,
    "start_time": "2022-03-19T22:01:58.944Z"
   },
   {
    "duration": 1103,
    "start_time": "2022-03-19T22:02:00.698Z"
   },
   {
    "duration": 40,
    "start_time": "2022-03-19T22:02:01.804Z"
   },
   {
    "duration": 242,
    "start_time": "2022-03-19T22:02:01.846Z"
   },
   {
    "duration": 164,
    "start_time": "2022-03-19T22:02:02.090Z"
   },
   {
    "duration": 178,
    "start_time": "2022-03-19T22:02:02.255Z"
   },
   {
    "duration": 630,
    "start_time": "2022-03-19T22:02:02.435Z"
   },
   {
    "duration": 86,
    "start_time": "2022-03-19T22:02:03.067Z"
   },
   {
    "duration": 404,
    "start_time": "2022-03-19T22:02:03.156Z"
   },
   {
    "duration": 197,
    "start_time": "2022-03-19T22:02:03.564Z"
   },
   {
    "duration": 159,
    "start_time": "2022-03-19T22:02:03.764Z"
   },
   {
    "duration": 469,
    "start_time": "2022-03-19T22:02:03.925Z"
   },
   {
    "duration": 336,
    "start_time": "2022-03-19T22:02:04.400Z"
   },
   {
    "duration": 71,
    "start_time": "2022-03-19T22:02:04.738Z"
   },
   {
    "duration": 215,
    "start_time": "2022-03-19T22:02:04.813Z"
   },
   {
    "duration": 15,
    "start_time": "2022-03-19T22:02:05.030Z"
   },
   {
    "duration": 20,
    "start_time": "2022-03-19T22:02:05.047Z"
   },
   {
    "duration": 62,
    "start_time": "2022-03-19T22:02:05.069Z"
   },
   {
    "duration": 34,
    "start_time": "2022-03-19T22:02:05.133Z"
   },
   {
    "duration": 48,
    "start_time": "2022-03-19T22:02:05.170Z"
   },
   {
    "duration": 21,
    "start_time": "2022-03-19T22:02:05.225Z"
   },
   {
    "duration": 22,
    "start_time": "2022-03-19T22:02:05.248Z"
   },
   {
    "duration": 41,
    "start_time": "2022-03-19T22:02:05.272Z"
   },
   {
    "duration": 43,
    "start_time": "2022-03-19T22:02:05.317Z"
   },
   {
    "duration": 22,
    "start_time": "2022-03-19T22:02:05.362Z"
   },
   {
    "duration": 46,
    "start_time": "2022-03-19T22:02:05.402Z"
   },
   {
    "duration": 58,
    "start_time": "2022-03-19T22:02:05.450Z"
   },
   {
    "duration": 23,
    "start_time": "2022-03-19T22:02:05.516Z"
   },
   {
    "duration": 36,
    "start_time": "2022-03-19T22:02:05.541Z"
   },
   {
    "duration": 12,
    "start_time": "2022-03-19T22:02:05.579Z"
   },
   {
    "duration": 7,
    "start_time": "2022-03-19T22:02:05.601Z"
   },
   {
    "duration": 11,
    "start_time": "2022-03-19T22:02:05.611Z"
   },
   {
    "duration": 161,
    "start_time": "2022-03-19T22:02:05.628Z"
   },
   {
    "duration": 882,
    "start_time": "2022-03-19T22:02:05.791Z"
   },
   {
    "duration": 749,
    "start_time": "2022-03-19T22:02:06.675Z"
   },
   {
    "duration": 4,
    "start_time": "2022-03-19T22:02:07.426Z"
   },
   {
    "duration": 11,
    "start_time": "2022-03-19T22:02:07.432Z"
   },
   {
    "duration": 212589,
    "start_time": "2022-03-19T22:02:07.445Z"
   },
   {
    "duration": 3,
    "start_time": "2022-03-19T22:05:40.036Z"
   },
   {
    "duration": 1349300,
    "start_time": "2022-03-19T22:05:40.040Z"
   },
   {
    "duration": 3,
    "start_time": "2022-03-19T22:28:09.342Z"
   },
   {
    "duration": 124280,
    "start_time": "2022-03-19T22:28:09.347Z"
   },
   {
    "duration": 23334,
    "start_time": "2022-03-19T22:30:13.628Z"
   },
   {
    "duration": 51,
    "start_time": "2022-03-19T22:30:36.964Z"
   },
   {
    "duration": 53905,
    "start_time": "2022-03-19T22:30:37.018Z"
   },
   {
    "duration": 365,
    "start_time": "2022-03-19T22:31:30.924Z"
   },
   {
    "duration": 6112,
    "start_time": "2022-03-19T22:31:31.291Z"
   },
   {
    "duration": 417,
    "start_time": "2022-03-19T22:31:37.405Z"
   },
   {
    "duration": 23083,
    "start_time": "2022-03-19T22:32:14.942Z"
   },
   {
    "duration": 695,
    "start_time": "2022-03-19T22:32:44.531Z"
   },
   {
    "duration": 120236,
    "start_time": "2022-03-19T22:32:57.547Z"
   },
   {
    "duration": 155,
    "start_time": "2022-03-19T22:34:57.785Z"
   },
   {
    "duration": 25071,
    "start_time": "2022-03-19T22:35:30.747Z"
   },
   {
    "duration": 35,
    "start_time": "2022-03-19T22:35:55.821Z"
   },
   {
    "duration": 8973,
    "start_time": "2022-03-19T22:35:55.858Z"
   },
   {
    "duration": 402,
    "start_time": "2022-03-19T22:36:04.911Z"
   },
   {
    "duration": 336,
    "start_time": "2022-03-19T22:36:35.286Z"
   },
   {
    "duration": 2201,
    "start_time": "2022-03-20T19:32:26.990Z"
   },
   {
    "duration": 1544,
    "start_time": "2022-03-20T19:32:30.928Z"
   },
   {
    "duration": 38,
    "start_time": "2022-03-20T19:32:33.551Z"
   },
   {
    "duration": 165,
    "start_time": "2022-03-20T19:32:36.019Z"
   },
   {
    "duration": 210,
    "start_time": "2022-03-20T19:32:38.088Z"
   },
   {
    "duration": 192,
    "start_time": "2022-03-20T19:32:40.975Z"
   },
   {
    "duration": 1353,
    "start_time": "2022-03-20T19:32:44.285Z"
   },
   {
    "duration": 63,
    "start_time": "2022-03-20T19:33:22.939Z"
   },
   {
    "duration": 22,
    "start_time": "2022-03-20T19:33:58.860Z"
   },
   {
    "duration": 21,
    "start_time": "2022-03-20T19:36:23.987Z"
   },
   {
    "duration": 102,
    "start_time": "2022-03-20T19:38:22.072Z"
   },
   {
    "duration": 5,
    "start_time": "2022-03-20T19:43:36.466Z"
   },
   {
    "duration": 1062,
    "start_time": "2022-03-20T19:43:43.854Z"
   },
   {
    "duration": 27,
    "start_time": "2022-03-20T19:43:44.919Z"
   },
   {
    "duration": 159,
    "start_time": "2022-03-20T19:43:45.508Z"
   },
   {
    "duration": 164,
    "start_time": "2022-03-20T19:43:46.176Z"
   },
   {
    "duration": 187,
    "start_time": "2022-03-20T19:43:48.569Z"
   },
   {
    "duration": 889,
    "start_time": "2022-03-20T19:43:49.634Z"
   },
   {
    "duration": 89,
    "start_time": "2022-03-20T19:43:51.262Z"
   },
   {
    "duration": 81,
    "start_time": "2022-03-20T19:43:56.102Z"
   },
   {
    "duration": 632,
    "start_time": "2022-03-20T19:43:58.613Z"
   },
   {
    "duration": 200,
    "start_time": "2022-03-20T19:44:04.125Z"
   },
   {
    "duration": 187,
    "start_time": "2022-03-20T19:44:04.803Z"
   },
   {
    "duration": 512,
    "start_time": "2022-03-20T19:44:06.106Z"
   },
   {
    "duration": 467,
    "start_time": "2022-03-20T19:44:08.611Z"
   },
   {
    "duration": 82,
    "start_time": "2022-03-20T19:44:10.679Z"
   },
   {
    "duration": 301,
    "start_time": "2022-03-20T19:44:14.488Z"
   },
   {
    "duration": 17,
    "start_time": "2022-03-20T19:44:16.337Z"
   },
   {
    "duration": 15,
    "start_time": "2022-03-20T19:44:19.123Z"
   },
   {
    "duration": 38,
    "start_time": "2022-03-20T19:44:20.637Z"
   },
   {
    "duration": 21,
    "start_time": "2022-03-20T19:44:21.643Z"
   },
   {
    "duration": 37,
    "start_time": "2022-03-20T19:44:22.691Z"
   },
   {
    "duration": 22,
    "start_time": "2022-03-20T19:44:23.616Z"
   },
   {
    "duration": 22,
    "start_time": "2022-03-20T19:44:24.732Z"
   },
   {
    "duration": 22,
    "start_time": "2022-03-20T19:44:25.887Z"
   },
   {
    "duration": 38,
    "start_time": "2022-03-20T19:44:26.939Z"
   },
   {
    "duration": 22,
    "start_time": "2022-03-20T19:44:29.724Z"
   },
   {
    "duration": 40,
    "start_time": "2022-03-20T19:44:30.686Z"
   },
   {
    "duration": 37,
    "start_time": "2022-03-20T19:44:32.690Z"
   },
   {
    "duration": 24,
    "start_time": "2022-03-20T19:44:33.684Z"
   },
   {
    "duration": 41,
    "start_time": "2022-03-20T19:44:34.825Z"
   },
   {
    "duration": 17,
    "start_time": "2022-03-20T19:44:36.367Z"
   },
   {
    "duration": 8,
    "start_time": "2022-03-20T19:44:37.627Z"
   },
   {
    "duration": 159,
    "start_time": "2022-03-20T19:44:41.158Z"
   },
   {
    "duration": 740,
    "start_time": "2022-03-20T19:45:20.980Z"
   },
   {
    "duration": 1061,
    "start_time": "2022-03-20T19:45:28.494Z"
   },
   {
    "duration": 5,
    "start_time": "2022-03-20T19:45:32.689Z"
   },
   {
    "duration": 283,
    "start_time": "2022-03-20T19:45:35.900Z"
   },
   {
    "duration": 1585,
    "start_time": "2022-03-20T19:46:24.139Z"
   },
   {
    "duration": 7,
    "start_time": "2022-03-20T19:46:27.034Z"
   },
   {
    "duration": 191,
    "start_time": "2022-03-20T19:46:28.978Z"
   },
   {
    "duration": 211,
    "start_time": "2022-03-20T19:47:47.284Z"
   },
   {
    "duration": 37,
    "start_time": "2022-03-20T19:47:58.745Z"
   },
   {
    "duration": 13,
    "start_time": "2022-03-20T19:49:28.847Z"
   },
   {
    "duration": 4,
    "start_time": "2022-03-20T19:49:55.256Z"
   },
   {
    "duration": 198,
    "start_time": "2022-03-20T19:50:02.120Z"
   },
   {
    "duration": 40,
    "start_time": "2022-03-20T19:50:21.055Z"
   },
   {
    "duration": 31,
    "start_time": "2022-03-20T19:50:48.201Z"
   },
   {
    "duration": 7,
    "start_time": "2022-03-20T19:51:15.150Z"
   },
   {
    "duration": 4,
    "start_time": "2022-03-20T20:04:19.993Z"
   },
   {
    "duration": 29064,
    "start_time": "2022-03-20T20:04:27.001Z"
   },
   {
    "duration": 67,
    "start_time": "2022-03-20T20:05:03.632Z"
   },
   {
    "duration": 15,
    "start_time": "2022-03-20T20:05:07.124Z"
   },
   {
    "duration": 6,
    "start_time": "2022-03-20T20:05:50.005Z"
   },
   {
    "duration": 1053,
    "start_time": "2022-03-20T20:05:55.140Z"
   },
   {
    "duration": 6606,
    "start_time": "2022-03-20T20:07:00.066Z"
   },
   {
    "duration": 3,
    "start_time": "2022-03-20T20:07:48.183Z"
   },
   {
    "duration": 11,
    "start_time": "2022-03-20T20:07:54.408Z"
   },
   {
    "duration": 15,
    "start_time": "2022-03-20T20:11:40.630Z"
   },
   {
    "duration": 6536,
    "start_time": "2022-03-20T20:11:47.473Z"
   },
   {
    "duration": 476,
    "start_time": "2022-03-20T20:12:41.979Z"
   },
   {
    "duration": 608,
    "start_time": "2022-03-20T20:13:39.332Z"
   },
   {
    "duration": 8607,
    "start_time": "2022-03-20T20:14:11.835Z"
   },
   {
    "duration": 6848,
    "start_time": "2022-03-20T20:15:19.909Z"
   },
   {
    "duration": 866,
    "start_time": "2022-03-20T20:16:07.252Z"
   },
   {
    "duration": 339,
    "start_time": "2022-03-20T20:16:17.304Z"
   },
   {
    "duration": 224,
    "start_time": "2022-03-20T20:16:24.441Z"
   },
   {
    "duration": 224,
    "start_time": "2022-03-20T20:16:31.663Z"
   },
   {
    "duration": 388,
    "start_time": "2022-03-20T20:16:56.271Z"
   },
   {
    "duration": 396,
    "start_time": "2022-03-20T20:17:01.768Z"
   },
   {
    "duration": 1043,
    "start_time": "2022-03-20T20:17:07.004Z"
   },
   {
    "duration": 231,
    "start_time": "2022-03-20T20:18:09.645Z"
   },
   {
    "duration": 265,
    "start_time": "2022-03-20T20:18:18.138Z"
   },
   {
    "duration": 2236,
    "start_time": "2022-03-20T20:18:30.030Z"
   },
   {
    "duration": 449,
    "start_time": "2022-03-20T20:18:45.642Z"
   },
   {
    "duration": 447,
    "start_time": "2022-03-20T20:19:10.835Z"
   },
   {
    "duration": 348,
    "start_time": "2022-03-20T20:19:36.741Z"
   },
   {
    "duration": 13,
    "start_time": "2022-03-20T20:20:11.806Z"
   },
   {
    "duration": 55608,
    "start_time": "2022-03-20T20:20:18.958Z"
   },
   {
    "duration": 391,
    "start_time": "2022-03-20T20:21:14.569Z"
   },
   {
    "duration": 386,
    "start_time": "2022-03-20T20:21:14.962Z"
   },
   {
    "duration": 4038,
    "start_time": "2022-03-20T20:21:15.352Z"
   },
   {
    "duration": 500,
    "start_time": "2022-03-20T20:21:19.392Z"
   },
   {
    "duration": 411,
    "start_time": "2022-03-20T20:21:19.894Z"
   },
   {
    "duration": 391,
    "start_time": "2022-03-20T20:22:34.774Z"
   },
   {
    "duration": 366,
    "start_time": "2022-03-20T20:22:48.228Z"
   },
   {
    "duration": 350,
    "start_time": "2022-03-20T20:22:57.442Z"
   },
   {
    "duration": 5,
    "start_time": "2022-03-20T20:32:36.059Z"
   },
   {
    "duration": 11,
    "start_time": "2022-03-20T20:32:41.704Z"
   },
   {
    "duration": 6,
    "start_time": "2022-03-20T20:34:15.183Z"
   },
   {
    "duration": 12,
    "start_time": "2022-03-20T20:34:18.055Z"
   },
   {
    "duration": 6,
    "start_time": "2022-03-20T20:35:27.204Z"
   },
   {
    "duration": 13,
    "start_time": "2022-03-20T20:35:29.522Z"
   },
   {
    "duration": 7,
    "start_time": "2022-03-20T20:46:34.403Z"
   },
   {
    "duration": 1079,
    "start_time": "2022-03-20T20:46:34.412Z"
   },
   {
    "duration": 30,
    "start_time": "2022-03-20T20:46:35.494Z"
   },
   {
    "duration": 217,
    "start_time": "2022-03-20T20:46:35.527Z"
   },
   {
    "duration": 154,
    "start_time": "2022-03-20T20:46:35.746Z"
   },
   {
    "duration": 169,
    "start_time": "2022-03-20T20:46:35.902Z"
   },
   {
    "duration": 966,
    "start_time": "2022-03-20T20:46:36.074Z"
   },
   {
    "duration": 108,
    "start_time": "2022-03-20T20:46:37.043Z"
   },
   {
    "duration": 93,
    "start_time": "2022-03-20T20:46:37.154Z"
   },
   {
    "duration": 709,
    "start_time": "2022-03-20T20:46:37.249Z"
   },
   {
    "duration": 235,
    "start_time": "2022-03-20T20:46:37.960Z"
   },
   {
    "duration": 186,
    "start_time": "2022-03-20T20:46:38.198Z"
   },
   {
    "duration": 573,
    "start_time": "2022-03-20T20:46:38.386Z"
   },
   {
    "duration": 506,
    "start_time": "2022-03-20T20:46:38.962Z"
   },
   {
    "duration": 87,
    "start_time": "2022-03-20T20:46:39.471Z"
   },
   {
    "duration": 380,
    "start_time": "2022-03-20T20:46:39.561Z"
   },
   {
    "duration": 19,
    "start_time": "2022-03-20T20:46:39.943Z"
   },
   {
    "duration": 31,
    "start_time": "2022-03-20T20:46:39.964Z"
   },
   {
    "duration": 38,
    "start_time": "2022-03-20T20:46:39.998Z"
   },
   {
    "duration": 46,
    "start_time": "2022-03-20T20:46:40.039Z"
   },
   {
    "duration": 36,
    "start_time": "2022-03-20T20:46:40.088Z"
   },
   {
    "duration": 30,
    "start_time": "2022-03-20T20:46:40.127Z"
   },
   {
    "duration": 40,
    "start_time": "2022-03-20T20:46:40.160Z"
   },
   {
    "duration": 28,
    "start_time": "2022-03-20T20:46:40.205Z"
   },
   {
    "duration": 59,
    "start_time": "2022-03-20T20:46:40.236Z"
   },
   {
    "duration": 24,
    "start_time": "2022-03-20T20:46:40.298Z"
   },
   {
    "duration": 84,
    "start_time": "2022-03-20T20:46:40.325Z"
   },
   {
    "duration": 47,
    "start_time": "2022-03-20T20:46:40.411Z"
   },
   {
    "duration": 26,
    "start_time": "2022-03-20T20:46:40.483Z"
   },
   {
    "duration": 44,
    "start_time": "2022-03-20T20:46:40.511Z"
   },
   {
    "duration": 17,
    "start_time": "2022-03-20T20:46:40.581Z"
   },
   {
    "duration": 11,
    "start_time": "2022-03-20T20:46:40.600Z"
   },
   {
    "duration": 794,
    "start_time": "2022-03-20T20:46:40.614Z"
   },
   {
    "duration": 1217,
    "start_time": "2022-03-20T20:46:41.411Z"
   },
   {
    "duration": 6,
    "start_time": "2022-03-20T20:46:42.631Z"
   },
   {
    "duration": 203,
    "start_time": "2022-03-20T20:46:42.640Z"
   },
   {
    "duration": 4,
    "start_time": "2022-03-20T20:46:42.845Z"
   },
   {
    "duration": 255405,
    "start_time": "2022-03-20T20:46:42.851Z"
   },
   {
    "duration": 3,
    "start_time": "2022-03-20T20:50:58.258Z"
   },
   {
    "duration": 1411803,
    "start_time": "2022-03-20T20:50:58.263Z"
   },
   {
    "duration": 13,
    "start_time": "2022-03-20T21:14:30.069Z"
   },
   {
    "duration": 111301,
    "start_time": "2022-03-20T21:14:30.084Z"
   },
   {
    "duration": 29585,
    "start_time": "2022-03-20T21:16:21.388Z"
   },
   {
    "duration": 65,
    "start_time": "2022-03-20T21:16:50.976Z"
   },
   {
    "duration": 410,
    "start_time": "2022-03-20T21:16:51.043Z"
   },
   {
    "duration": 60305,
    "start_time": "2022-03-20T21:16:51.455Z"
   },
   {
    "duration": 430,
    "start_time": "2022-03-20T21:17:51.762Z"
   },
   {
    "duration": 420,
    "start_time": "2022-03-20T21:17:52.196Z"
   },
   {
    "duration": 15378,
    "start_time": "2022-03-20T21:17:52.618Z"
   },
   {
    "duration": 507,
    "start_time": "2022-03-20T21:18:08.000Z"
   },
   {
    "duration": 448,
    "start_time": "2022-03-20T21:18:08.510Z"
   },
   {
    "duration": 6,
    "start_time": "2022-03-20T21:18:08.960Z"
   },
   {
    "duration": 21,
    "start_time": "2022-03-20T21:18:08.981Z"
   },
   {
    "duration": 50,
    "start_time": "2022-04-06T17:53:14.454Z"
   },
   {
    "duration": 7,
    "start_time": "2022-04-06T17:53:21.397Z"
   },
   {
    "duration": 1625,
    "start_time": "2022-04-06T17:53:26.876Z"
   },
   {
    "duration": 808,
    "start_time": "2022-04-06T17:53:31.643Z"
   },
   {
    "duration": 20,
    "start_time": "2022-04-06T17:53:33.670Z"
   }
  ],
  "kernelspec": {
   "display_name": "Python 3 (ipykernel)",
   "language": "python",
   "name": "python3"
  },
  "language_info": {
   "codemirror_mode": {
    "name": "ipython",
    "version": 3
   },
   "file_extension": ".py",
   "mimetype": "text/x-python",
   "name": "python",
   "nbconvert_exporter": "python",
   "pygments_lexer": "ipython3",
   "version": "3.8.8"
  },
  "toc": {
   "base_numbering": 1,
   "nav_menu": {},
   "number_sections": true,
   "sideBar": true,
   "skip_h1_title": true,
   "title_cell": "Table of Contents",
   "title_sidebar": "Contents",
   "toc_cell": false,
   "toc_position": {},
   "toc_section_display": true,
   "toc_window_display": false
  }
 },
 "nbformat": 4,
 "nbformat_minor": 2
}
