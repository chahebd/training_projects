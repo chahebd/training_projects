{
 "cells": [
  {
   "cell_type": "markdown",
   "metadata": {},
   "source": [
    "# Определение типа потенциально популярной игры"
   ]
  },
  {
   "cell_type": "markdown",
   "metadata": {},
   "source": [
    "# Описание проекта\n",
    "\n",
    "Требуется проанализировать исторические данные о прадажах игр для выявления потенциально популярного продукта.\n",
    "\n",
    "<h2>Описание данных<span class=\"tocSkip\"></span></h2>\n",
    "\n",
    "* Name — название игры\n",
    "* Platform — платформа\n",
    "* Year_of_Release — год выпуска\n",
    "* Genre — жанр игры\n",
    "* NA_sales — продажи в Северной Америке (миллионы проданных копий)\n",
    "* EU_sales — продажи в Европе (миллионы проданных копий)\n",
    "* JP_sales — продажи в Японии (миллионы проданных копий)\n",
    "* Other_sales — продажи в других странах (миллионы проданных копий)\n",
    "* Critic_Score — оценка критиков (максимум 100)\n",
    "* User_Score — оценка пользователей (максимум 10)\n",
    "* Rating — рейтинг от организации ESRB (англ. Entertainment Software Rating Board). Эта ассоциация определяет рейтинг компьютерных игр и присваивает им подходящую возрастную категорию."
   ]
  },
  {
   "cell_type": "markdown",
   "metadata": {},
   "source": [
    "## Изучение данных"
   ]
  },
  {
   "cell_type": "markdown",
   "metadata": {},
   "source": [
    "Импортируем нужные библиотеки"
   ]
  },
  {
   "cell_type": "code",
   "execution_count": 68,
   "metadata": {},
   "outputs": [],
   "source": [
    "import pandas as pd\n",
    "import seaborn as sns\n",
    "import matplotlib.pyplot as plt\n",
    "import numpy as np\n",
    "from scipy import stats as st"
   ]
  },
  {
   "cell_type": "markdown",
   "metadata": {},
   "source": [
    "Посмотрим на данные."
   ]
  },
  {
   "cell_type": "code",
   "execution_count": 69,
   "metadata": {},
   "outputs": [],
   "source": [
    "df = pd.read_csv('/datasets/games.csv')"
   ]
  },
  {
   "cell_type": "code",
   "execution_count": 70,
   "metadata": {
    "scrolled": true
   },
   "outputs": [
    {
     "data": {
      "text/html": [
       "<div>\n",
       "<style scoped>\n",
       "    .dataframe tbody tr th:only-of-type {\n",
       "        vertical-align: middle;\n",
       "    }\n",
       "\n",
       "    .dataframe tbody tr th {\n",
       "        vertical-align: top;\n",
       "    }\n",
       "\n",
       "    .dataframe thead th {\n",
       "        text-align: right;\n",
       "    }\n",
       "</style>\n",
       "<table border=\"1\" class=\"dataframe\">\n",
       "  <thead>\n",
       "    <tr style=\"text-align: right;\">\n",
       "      <th></th>\n",
       "      <th>Name</th>\n",
       "      <th>Platform</th>\n",
       "      <th>Year_of_Release</th>\n",
       "      <th>Genre</th>\n",
       "      <th>NA_sales</th>\n",
       "      <th>EU_sales</th>\n",
       "      <th>JP_sales</th>\n",
       "      <th>Other_sales</th>\n",
       "      <th>Critic_Score</th>\n",
       "      <th>User_Score</th>\n",
       "      <th>Rating</th>\n",
       "    </tr>\n",
       "  </thead>\n",
       "  <tbody>\n",
       "    <tr>\n",
       "      <td>0</td>\n",
       "      <td>Wii Sports</td>\n",
       "      <td>Wii</td>\n",
       "      <td>2006.0</td>\n",
       "      <td>Sports</td>\n",
       "      <td>41.36</td>\n",
       "      <td>28.96</td>\n",
       "      <td>3.77</td>\n",
       "      <td>8.45</td>\n",
       "      <td>76.0</td>\n",
       "      <td>8</td>\n",
       "      <td>E</td>\n",
       "    </tr>\n",
       "    <tr>\n",
       "      <td>1</td>\n",
       "      <td>Super Mario Bros.</td>\n",
       "      <td>NES</td>\n",
       "      <td>1985.0</td>\n",
       "      <td>Platform</td>\n",
       "      <td>29.08</td>\n",
       "      <td>3.58</td>\n",
       "      <td>6.81</td>\n",
       "      <td>0.77</td>\n",
       "      <td>NaN</td>\n",
       "      <td>NaN</td>\n",
       "      <td>NaN</td>\n",
       "    </tr>\n",
       "    <tr>\n",
       "      <td>2</td>\n",
       "      <td>Mario Kart Wii</td>\n",
       "      <td>Wii</td>\n",
       "      <td>2008.0</td>\n",
       "      <td>Racing</td>\n",
       "      <td>15.68</td>\n",
       "      <td>12.76</td>\n",
       "      <td>3.79</td>\n",
       "      <td>3.29</td>\n",
       "      <td>82.0</td>\n",
       "      <td>8.3</td>\n",
       "      <td>E</td>\n",
       "    </tr>\n",
       "    <tr>\n",
       "      <td>3</td>\n",
       "      <td>Wii Sports Resort</td>\n",
       "      <td>Wii</td>\n",
       "      <td>2009.0</td>\n",
       "      <td>Sports</td>\n",
       "      <td>15.61</td>\n",
       "      <td>10.93</td>\n",
       "      <td>3.28</td>\n",
       "      <td>2.95</td>\n",
       "      <td>80.0</td>\n",
       "      <td>8</td>\n",
       "      <td>E</td>\n",
       "    </tr>\n",
       "    <tr>\n",
       "      <td>4</td>\n",
       "      <td>Pokemon Red/Pokemon Blue</td>\n",
       "      <td>GB</td>\n",
       "      <td>1996.0</td>\n",
       "      <td>Role-Playing</td>\n",
       "      <td>11.27</td>\n",
       "      <td>8.89</td>\n",
       "      <td>10.22</td>\n",
       "      <td>1.00</td>\n",
       "      <td>NaN</td>\n",
       "      <td>NaN</td>\n",
       "      <td>NaN</td>\n",
       "    </tr>\n",
       "  </tbody>\n",
       "</table>\n",
       "</div>"
      ],
      "text/plain": [
       "                       Name Platform  Year_of_Release         Genre  NA_sales  \\\n",
       "0                Wii Sports      Wii           2006.0        Sports     41.36   \n",
       "1         Super Mario Bros.      NES           1985.0      Platform     29.08   \n",
       "2            Mario Kart Wii      Wii           2008.0        Racing     15.68   \n",
       "3         Wii Sports Resort      Wii           2009.0        Sports     15.61   \n",
       "4  Pokemon Red/Pokemon Blue       GB           1996.0  Role-Playing     11.27   \n",
       "\n",
       "   EU_sales  JP_sales  Other_sales  Critic_Score User_Score Rating  \n",
       "0     28.96      3.77         8.45          76.0          8      E  \n",
       "1      3.58      6.81         0.77           NaN        NaN    NaN  \n",
       "2     12.76      3.79         3.29          82.0        8.3      E  \n",
       "3     10.93      3.28         2.95          80.0          8      E  \n",
       "4      8.89     10.22         1.00           NaN        NaN    NaN  "
      ]
     },
     "execution_count": 70,
     "metadata": {},
     "output_type": "execute_result"
    }
   ],
   "source": [
    "df.head()"
   ]
  },
  {
   "cell_type": "code",
   "execution_count": 71,
   "metadata": {
    "scrolled": true
   },
   "outputs": [
    {
     "name": "stdout",
     "output_type": "stream",
     "text": [
      "<class 'pandas.core.frame.DataFrame'>\n",
      "RangeIndex: 16715 entries, 0 to 16714\n",
      "Data columns (total 11 columns):\n",
      "Name               16713 non-null object\n",
      "Platform           16715 non-null object\n",
      "Year_of_Release    16446 non-null float64\n",
      "Genre              16713 non-null object\n",
      "NA_sales           16715 non-null float64\n",
      "EU_sales           16715 non-null float64\n",
      "JP_sales           16715 non-null float64\n",
      "Other_sales        16715 non-null float64\n",
      "Critic_Score       8137 non-null float64\n",
      "User_Score         10014 non-null object\n",
      "Rating             9949 non-null object\n",
      "dtypes: float64(6), object(5)\n",
      "memory usage: 1.4+ MB\n"
     ]
    }
   ],
   "source": [
    "df.info()"
   ]
  },
  {
   "cell_type": "markdown",
   "metadata": {},
   "source": [
    "Посмотрим процент пропусков."
   ]
  },
  {
   "cell_type": "code",
   "execution_count": 72,
   "metadata": {},
   "outputs": [
    {
     "data": {
      "text/plain": [
       "Name               0.000120\n",
       "Platform           0.000000\n",
       "Year_of_Release    0.016093\n",
       "Genre              0.000120\n",
       "NA_sales           0.000000\n",
       "EU_sales           0.000000\n",
       "JP_sales           0.000000\n",
       "Other_sales        0.000000\n",
       "Critic_Score       0.513192\n",
       "User_Score         0.400897\n",
       "Rating             0.404786\n",
       "dtype: float64"
      ]
     },
     "execution_count": 72,
     "metadata": {},
     "output_type": "execute_result"
    }
   ],
   "source": [
    "df.isna().mean()"
   ]
  },
  {
   "cell_type": "markdown",
   "metadata": {},
   "source": [
    "**Вывод**"
   ]
  },
  {
   "cell_type": "markdown",
   "metadata": {},
   "source": [
    "В предоставленной таблице имеются пропуски (в некоторых столбцах около половины значений). Имеются столбцы с неверным типом данных, а также названия имеют буквы верхнего регистра. Требуется проверка на аномальные значения."
   ]
  },
  {
   "cell_type": "markdown",
   "metadata": {},
   "source": [
    "## Предобработка данных"
   ]
  },
  {
   "cell_type": "markdown",
   "metadata": {},
   "source": [
    "Заменю названия столбцов. Приведу их к нижнему регистру."
   ]
  },
  {
   "cell_type": "code",
   "execution_count": 73,
   "metadata": {},
   "outputs": [],
   "source": [
    "df.columns = df.columns.str.lower()"
   ]
  },
  {
   "cell_type": "code",
   "execution_count": 74,
   "metadata": {},
   "outputs": [
    {
     "data": {
      "text/html": [
       "<div>\n",
       "<style scoped>\n",
       "    .dataframe tbody tr th:only-of-type {\n",
       "        vertical-align: middle;\n",
       "    }\n",
       "\n",
       "    .dataframe tbody tr th {\n",
       "        vertical-align: top;\n",
       "    }\n",
       "\n",
       "    .dataframe thead th {\n",
       "        text-align: right;\n",
       "    }\n",
       "</style>\n",
       "<table border=\"1\" class=\"dataframe\">\n",
       "  <thead>\n",
       "    <tr style=\"text-align: right;\">\n",
       "      <th></th>\n",
       "      <th>name</th>\n",
       "      <th>platform</th>\n",
       "      <th>year_of_release</th>\n",
       "      <th>genre</th>\n",
       "      <th>na_sales</th>\n",
       "      <th>eu_sales</th>\n",
       "      <th>jp_sales</th>\n",
       "      <th>other_sales</th>\n",
       "      <th>critic_score</th>\n",
       "      <th>user_score</th>\n",
       "      <th>rating</th>\n",
       "    </tr>\n",
       "  </thead>\n",
       "  <tbody>\n",
       "    <tr>\n",
       "      <td>0</td>\n",
       "      <td>Wii Sports</td>\n",
       "      <td>Wii</td>\n",
       "      <td>2006.0</td>\n",
       "      <td>Sports</td>\n",
       "      <td>41.36</td>\n",
       "      <td>28.96</td>\n",
       "      <td>3.77</td>\n",
       "      <td>8.45</td>\n",
       "      <td>76.0</td>\n",
       "      <td>8</td>\n",
       "      <td>E</td>\n",
       "    </tr>\n",
       "    <tr>\n",
       "      <td>1</td>\n",
       "      <td>Super Mario Bros.</td>\n",
       "      <td>NES</td>\n",
       "      <td>1985.0</td>\n",
       "      <td>Platform</td>\n",
       "      <td>29.08</td>\n",
       "      <td>3.58</td>\n",
       "      <td>6.81</td>\n",
       "      <td>0.77</td>\n",
       "      <td>NaN</td>\n",
       "      <td>NaN</td>\n",
       "      <td>NaN</td>\n",
       "    </tr>\n",
       "    <tr>\n",
       "      <td>2</td>\n",
       "      <td>Mario Kart Wii</td>\n",
       "      <td>Wii</td>\n",
       "      <td>2008.0</td>\n",
       "      <td>Racing</td>\n",
       "      <td>15.68</td>\n",
       "      <td>12.76</td>\n",
       "      <td>3.79</td>\n",
       "      <td>3.29</td>\n",
       "      <td>82.0</td>\n",
       "      <td>8.3</td>\n",
       "      <td>E</td>\n",
       "    </tr>\n",
       "    <tr>\n",
       "      <td>3</td>\n",
       "      <td>Wii Sports Resort</td>\n",
       "      <td>Wii</td>\n",
       "      <td>2009.0</td>\n",
       "      <td>Sports</td>\n",
       "      <td>15.61</td>\n",
       "      <td>10.93</td>\n",
       "      <td>3.28</td>\n",
       "      <td>2.95</td>\n",
       "      <td>80.0</td>\n",
       "      <td>8</td>\n",
       "      <td>E</td>\n",
       "    </tr>\n",
       "    <tr>\n",
       "      <td>4</td>\n",
       "      <td>Pokemon Red/Pokemon Blue</td>\n",
       "      <td>GB</td>\n",
       "      <td>1996.0</td>\n",
       "      <td>Role-Playing</td>\n",
       "      <td>11.27</td>\n",
       "      <td>8.89</td>\n",
       "      <td>10.22</td>\n",
       "      <td>1.00</td>\n",
       "      <td>NaN</td>\n",
       "      <td>NaN</td>\n",
       "      <td>NaN</td>\n",
       "    </tr>\n",
       "  </tbody>\n",
       "</table>\n",
       "</div>"
      ],
      "text/plain": [
       "                       name platform  year_of_release         genre  na_sales  \\\n",
       "0                Wii Sports      Wii           2006.0        Sports     41.36   \n",
       "1         Super Mario Bros.      NES           1985.0      Platform     29.08   \n",
       "2            Mario Kart Wii      Wii           2008.0        Racing     15.68   \n",
       "3         Wii Sports Resort      Wii           2009.0        Sports     15.61   \n",
       "4  Pokemon Red/Pokemon Blue       GB           1996.0  Role-Playing     11.27   \n",
       "\n",
       "   eu_sales  jp_sales  other_sales  critic_score user_score rating  \n",
       "0     28.96      3.77         8.45          76.0          8      E  \n",
       "1      3.58      6.81         0.77           NaN        NaN    NaN  \n",
       "2     12.76      3.79         3.29          82.0        8.3      E  \n",
       "3     10.93      3.28         2.95          80.0          8      E  \n",
       "4      8.89     10.22         1.00           NaN        NaN    NaN  "
      ]
     },
     "execution_count": 74,
     "metadata": {},
     "output_type": "execute_result"
    }
   ],
   "source": [
    "df.head()"
   ]
  },
  {
   "cell_type": "markdown",
   "metadata": {},
   "source": [
    "Проанализируем пропуски в name."
   ]
  },
  {
   "cell_type": "code",
   "execution_count": 75,
   "metadata": {},
   "outputs": [
    {
     "data": {
      "text/html": [
       "<div>\n",
       "<style scoped>\n",
       "    .dataframe tbody tr th:only-of-type {\n",
       "        vertical-align: middle;\n",
       "    }\n",
       "\n",
       "    .dataframe tbody tr th {\n",
       "        vertical-align: top;\n",
       "    }\n",
       "\n",
       "    .dataframe thead th {\n",
       "        text-align: right;\n",
       "    }\n",
       "</style>\n",
       "<table border=\"1\" class=\"dataframe\">\n",
       "  <thead>\n",
       "    <tr style=\"text-align: right;\">\n",
       "      <th></th>\n",
       "      <th>name</th>\n",
       "      <th>platform</th>\n",
       "      <th>year_of_release</th>\n",
       "      <th>genre</th>\n",
       "      <th>na_sales</th>\n",
       "      <th>eu_sales</th>\n",
       "      <th>jp_sales</th>\n",
       "      <th>other_sales</th>\n",
       "      <th>critic_score</th>\n",
       "      <th>user_score</th>\n",
       "      <th>rating</th>\n",
       "    </tr>\n",
       "  </thead>\n",
       "  <tbody>\n",
       "    <tr>\n",
       "      <td>659</td>\n",
       "      <td>NaN</td>\n",
       "      <td>GEN</td>\n",
       "      <td>1993.0</td>\n",
       "      <td>NaN</td>\n",
       "      <td>1.78</td>\n",
       "      <td>0.53</td>\n",
       "      <td>0.00</td>\n",
       "      <td>0.08</td>\n",
       "      <td>NaN</td>\n",
       "      <td>NaN</td>\n",
       "      <td>NaN</td>\n",
       "    </tr>\n",
       "    <tr>\n",
       "      <td>14244</td>\n",
       "      <td>NaN</td>\n",
       "      <td>GEN</td>\n",
       "      <td>1993.0</td>\n",
       "      <td>NaN</td>\n",
       "      <td>0.00</td>\n",
       "      <td>0.00</td>\n",
       "      <td>0.03</td>\n",
       "      <td>0.00</td>\n",
       "      <td>NaN</td>\n",
       "      <td>NaN</td>\n",
       "      <td>NaN</td>\n",
       "    </tr>\n",
       "  </tbody>\n",
       "</table>\n",
       "</div>"
      ],
      "text/plain": [
       "      name platform  year_of_release genre  na_sales  eu_sales  jp_sales  \\\n",
       "659    NaN      GEN           1993.0   NaN      1.78      0.53      0.00   \n",
       "14244  NaN      GEN           1993.0   NaN      0.00      0.00      0.03   \n",
       "\n",
       "       other_sales  critic_score user_score rating  \n",
       "659           0.08           NaN        NaN    NaN  \n",
       "14244         0.00           NaN        NaN    NaN  "
      ]
     },
     "execution_count": 75,
     "metadata": {},
     "output_type": "execute_result"
    }
   ],
   "source": [
    "df[(df['name'].isna())]"
   ]
  },
  {
   "cell_type": "markdown",
   "metadata": {},
   "source": [
    "Таких всего 2, причем эти строки имеют пропуски в жанре, оценках и рейтинге. Строк мало, удалю их."
   ]
  },
  {
   "cell_type": "code",
   "execution_count": 76,
   "metadata": {},
   "outputs": [],
   "source": [
    "df = df.dropna(subset=['name']).reset_index(drop=True)"
   ]
  },
  {
   "cell_type": "code",
   "execution_count": 77,
   "metadata": {
    "scrolled": true
   },
   "outputs": [
    {
     "data": {
      "text/plain": [
       "name                  0\n",
       "platform              0\n",
       "year_of_release     269\n",
       "genre                 0\n",
       "na_sales              0\n",
       "eu_sales              0\n",
       "jp_sales              0\n",
       "other_sales           0\n",
       "critic_score       8576\n",
       "user_score         6699\n",
       "rating             6764\n",
       "dtype: int64"
      ]
     },
     "execution_count": 77,
     "metadata": {},
     "output_type": "execute_result"
    }
   ],
   "source": [
    "df.isna().sum()"
   ]
  },
  {
   "cell_type": "markdown",
   "metadata": {},
   "source": [
    "Пропусков в year_of_release всего 269. Проанализируем их."
   ]
  },
  {
   "cell_type": "code",
   "execution_count": 78,
   "metadata": {},
   "outputs": [
    {
     "data": {
      "text/html": [
       "<div>\n",
       "<style scoped>\n",
       "    .dataframe tbody tr th:only-of-type {\n",
       "        vertical-align: middle;\n",
       "    }\n",
       "\n",
       "    .dataframe tbody tr th {\n",
       "        vertical-align: top;\n",
       "    }\n",
       "\n",
       "    .dataframe thead th {\n",
       "        text-align: right;\n",
       "    }\n",
       "</style>\n",
       "<table border=\"1\" class=\"dataframe\">\n",
       "  <thead>\n",
       "    <tr style=\"text-align: right;\">\n",
       "      <th></th>\n",
       "      <th>year_of_release</th>\n",
       "      <th>na_sales</th>\n",
       "      <th>eu_sales</th>\n",
       "      <th>jp_sales</th>\n",
       "      <th>other_sales</th>\n",
       "      <th>critic_score</th>\n",
       "    </tr>\n",
       "  </thead>\n",
       "  <tbody>\n",
       "    <tr>\n",
       "      <td>count</td>\n",
       "      <td>0.0</td>\n",
       "      <td>269.000000</td>\n",
       "      <td>269.000000</td>\n",
       "      <td>269.000000</td>\n",
       "      <td>269.000000</td>\n",
       "      <td>154.000000</td>\n",
       "    </tr>\n",
       "    <tr>\n",
       "      <td>mean</td>\n",
       "      <td>NaN</td>\n",
       "      <td>0.219888</td>\n",
       "      <td>0.090929</td>\n",
       "      <td>0.024907</td>\n",
       "      <td>0.032007</td>\n",
       "      <td>67.584416</td>\n",
       "    </tr>\n",
       "    <tr>\n",
       "      <td>std</td>\n",
       "      <td>NaN</td>\n",
       "      <td>0.424907</td>\n",
       "      <td>0.207933</td>\n",
       "      <td>0.090160</td>\n",
       "      <td>0.075546</td>\n",
       "      <td>14.828740</td>\n",
       "    </tr>\n",
       "    <tr>\n",
       "      <td>min</td>\n",
       "      <td>NaN</td>\n",
       "      <td>0.000000</td>\n",
       "      <td>0.000000</td>\n",
       "      <td>0.000000</td>\n",
       "      <td>0.000000</td>\n",
       "      <td>22.000000</td>\n",
       "    </tr>\n",
       "    <tr>\n",
       "      <td>25%</td>\n",
       "      <td>NaN</td>\n",
       "      <td>0.010000</td>\n",
       "      <td>0.000000</td>\n",
       "      <td>0.000000</td>\n",
       "      <td>0.000000</td>\n",
       "      <td>57.000000</td>\n",
       "    </tr>\n",
       "    <tr>\n",
       "      <td>50%</td>\n",
       "      <td>NaN</td>\n",
       "      <td>0.090000</td>\n",
       "      <td>0.020000</td>\n",
       "      <td>0.000000</td>\n",
       "      <td>0.010000</td>\n",
       "      <td>70.000000</td>\n",
       "    </tr>\n",
       "    <tr>\n",
       "      <td>75%</td>\n",
       "      <td>NaN</td>\n",
       "      <td>0.240000</td>\n",
       "      <td>0.100000</td>\n",
       "      <td>0.000000</td>\n",
       "      <td>0.030000</td>\n",
       "      <td>78.000000</td>\n",
       "    </tr>\n",
       "    <tr>\n",
       "      <td>max</td>\n",
       "      <td>NaN</td>\n",
       "      <td>4.260000</td>\n",
       "      <td>2.360000</td>\n",
       "      <td>0.770000</td>\n",
       "      <td>0.710000</td>\n",
       "      <td>94.000000</td>\n",
       "    </tr>\n",
       "  </tbody>\n",
       "</table>\n",
       "</div>"
      ],
      "text/plain": [
       "       year_of_release    na_sales    eu_sales    jp_sales  other_sales  \\\n",
       "count              0.0  269.000000  269.000000  269.000000   269.000000   \n",
       "mean               NaN    0.219888    0.090929    0.024907     0.032007   \n",
       "std                NaN    0.424907    0.207933    0.090160     0.075546   \n",
       "min                NaN    0.000000    0.000000    0.000000     0.000000   \n",
       "25%                NaN    0.010000    0.000000    0.000000     0.000000   \n",
       "50%                NaN    0.090000    0.020000    0.000000     0.010000   \n",
       "75%                NaN    0.240000    0.100000    0.000000     0.030000   \n",
       "max                NaN    4.260000    2.360000    0.770000     0.710000   \n",
       "\n",
       "       critic_score  \n",
       "count    154.000000  \n",
       "mean      67.584416  \n",
       "std       14.828740  \n",
       "min       22.000000  \n",
       "25%       57.000000  \n",
       "50%       70.000000  \n",
       "75%       78.000000  \n",
       "max       94.000000  "
      ]
     },
     "execution_count": 78,
     "metadata": {},
     "output_type": "execute_result"
    }
   ],
   "source": [
    "df[df['year_of_release'].isna()].describe()"
   ]
  },
  {
   "cell_type": "markdown",
   "metadata": {},
   "source": [
    "Данные игры в основном своем колличестве были проданны в малом объеме. В связи с этим, можно предположить, что данные по ним собирались не полностью. Поэтому нет информации о дате выхода.\n",
    "\n",
    "Заполню пропуски -1 и переведу в тип данных int."
   ]
  },
  {
   "cell_type": "code",
   "execution_count": 79,
   "metadata": {},
   "outputs": [],
   "source": [
    "df['year_of_release'] = df['year_of_release'].fillna(-1)"
   ]
  },
  {
   "cell_type": "code",
   "execution_count": 80,
   "metadata": {},
   "outputs": [],
   "source": [
    "df['year_of_release'] = df['year_of_release'].astype('int')"
   ]
  },
  {
   "cell_type": "markdown",
   "metadata": {},
   "source": [
    "Возможно пропуски в столбцах critic_score, user_score и rating взаимосвязаны. Посмотрю сколько строк, которые имеют пропуски во всех вышеперечисленных столбцах."
   ]
  },
  {
   "cell_type": "code",
   "execution_count": 81,
   "metadata": {},
   "outputs": [
    {
     "data": {
      "text/plain": [
       "6619"
      ]
     },
     "execution_count": 81,
     "metadata": {},
     "output_type": "execute_result"
    }
   ],
   "source": [
    "len(df[df['critic_score'].isna() & df['user_score'].isna() & df['rating'].isna()])"
   ]
  },
  {
   "cell_type": "code",
   "execution_count": 82,
   "metadata": {},
   "outputs": [
    {
     "data": {
      "text/html": [
       "<div>\n",
       "<style scoped>\n",
       "    .dataframe tbody tr th:only-of-type {\n",
       "        vertical-align: middle;\n",
       "    }\n",
       "\n",
       "    .dataframe tbody tr th {\n",
       "        vertical-align: top;\n",
       "    }\n",
       "\n",
       "    .dataframe thead th {\n",
       "        text-align: right;\n",
       "    }\n",
       "</style>\n",
       "<table border=\"1\" class=\"dataframe\">\n",
       "  <thead>\n",
       "    <tr style=\"text-align: right;\">\n",
       "      <th></th>\n",
       "      <th>year_of_release</th>\n",
       "      <th>na_sales</th>\n",
       "      <th>eu_sales</th>\n",
       "      <th>jp_sales</th>\n",
       "      <th>other_sales</th>\n",
       "      <th>critic_score</th>\n",
       "    </tr>\n",
       "  </thead>\n",
       "  <tbody>\n",
       "    <tr>\n",
       "      <td>count</td>\n",
       "      <td>6619.000000</td>\n",
       "      <td>6619.000000</td>\n",
       "      <td>6619.000000</td>\n",
       "      <td>6619.000000</td>\n",
       "      <td>6619.000000</td>\n",
       "      <td>0.0</td>\n",
       "    </tr>\n",
       "    <tr>\n",
       "      <td>mean</td>\n",
       "      <td>1978.991388</td>\n",
       "      <td>0.186296</td>\n",
       "      <td>0.091163</td>\n",
       "      <td>0.126779</td>\n",
       "      <td>0.022515</td>\n",
       "      <td>NaN</td>\n",
       "    </tr>\n",
       "    <tr>\n",
       "      <td>std</td>\n",
       "      <td>225.970356</td>\n",
       "      <td>0.804296</td>\n",
       "      <td>0.351067</td>\n",
       "      <td>0.386667</td>\n",
       "      <td>0.093044</td>\n",
       "      <td>NaN</td>\n",
       "    </tr>\n",
       "    <tr>\n",
       "      <td>min</td>\n",
       "      <td>-1.000000</td>\n",
       "      <td>0.000000</td>\n",
       "      <td>0.000000</td>\n",
       "      <td>0.000000</td>\n",
       "      <td>0.000000</td>\n",
       "      <td>NaN</td>\n",
       "    </tr>\n",
       "    <tr>\n",
       "      <td>25%</td>\n",
       "      <td>1999.000000</td>\n",
       "      <td>0.000000</td>\n",
       "      <td>0.000000</td>\n",
       "      <td>0.000000</td>\n",
       "      <td>0.000000</td>\n",
       "      <td>NaN</td>\n",
       "    </tr>\n",
       "    <tr>\n",
       "      <td>50%</td>\n",
       "      <td>2006.000000</td>\n",
       "      <td>0.000000</td>\n",
       "      <td>0.000000</td>\n",
       "      <td>0.020000</td>\n",
       "      <td>0.000000</td>\n",
       "      <td>NaN</td>\n",
       "    </tr>\n",
       "    <tr>\n",
       "      <td>75%</td>\n",
       "      <td>2010.000000</td>\n",
       "      <td>0.120000</td>\n",
       "      <td>0.050000</td>\n",
       "      <td>0.100000</td>\n",
       "      <td>0.010000</td>\n",
       "      <td>NaN</td>\n",
       "    </tr>\n",
       "    <tr>\n",
       "      <td>max</td>\n",
       "      <td>2016.000000</td>\n",
       "      <td>29.080000</td>\n",
       "      <td>10.950000</td>\n",
       "      <td>10.220000</td>\n",
       "      <td>2.740000</td>\n",
       "      <td>NaN</td>\n",
       "    </tr>\n",
       "  </tbody>\n",
       "</table>\n",
       "</div>"
      ],
      "text/plain": [
       "       year_of_release     na_sales     eu_sales     jp_sales  other_sales  \\\n",
       "count      6619.000000  6619.000000  6619.000000  6619.000000  6619.000000   \n",
       "mean       1978.991388     0.186296     0.091163     0.126779     0.022515   \n",
       "std         225.970356     0.804296     0.351067     0.386667     0.093044   \n",
       "min          -1.000000     0.000000     0.000000     0.000000     0.000000   \n",
       "25%        1999.000000     0.000000     0.000000     0.000000     0.000000   \n",
       "50%        2006.000000     0.000000     0.000000     0.020000     0.000000   \n",
       "75%        2010.000000     0.120000     0.050000     0.100000     0.010000   \n",
       "max        2016.000000    29.080000    10.950000    10.220000     2.740000   \n",
       "\n",
       "       critic_score  \n",
       "count           0.0  \n",
       "mean            NaN  \n",
       "std             NaN  \n",
       "min             NaN  \n",
       "25%             NaN  \n",
       "50%             NaN  \n",
       "75%             NaN  \n",
       "max             NaN  "
      ]
     },
     "execution_count": 82,
     "metadata": {},
     "output_type": "execute_result"
    }
   ],
   "source": [
    "df[df['critic_score'].isna() & df['user_score'].isna() & df['rating'].isna()].describe()"
   ]
  },
  {
   "cell_type": "markdown",
   "metadata": {},
   "source": [
    "Можно сделать вывод, что игры с пропусками в данных столбцах малоизвестны и их не оценили.\n",
    "\n",
    "Оставлю в них NaN."
   ]
  },
  {
   "cell_type": "markdown",
   "metadata": {},
   "source": [
    "В user_score имеется тип object для удобства требуется перевести в float, но в нем есть значения tbd.\n",
    "\n",
    "TBD - аббревиатура от английского To Be Determined (будет определено) или To Be Decided (будет решено).\n",
    "Переведу TBD в NaN и заодно переведу столбец во float."
   ]
  },
  {
   "cell_type": "code",
   "execution_count": 83,
   "metadata": {},
   "outputs": [],
   "source": [
    "df['user_score'] = pd.to_numeric(df['user_score'], errors='coerce')"
   ]
  },
  {
   "cell_type": "markdown",
   "metadata": {},
   "source": [
    "Посмотрю уникальные значения рейтинга."
   ]
  },
  {
   "cell_type": "code",
   "execution_count": 84,
   "metadata": {
    "scrolled": true
   },
   "outputs": [
    {
     "data": {
      "text/plain": [
       "array(['E', nan, 'M', 'T', 'E10+', 'K-A', 'AO', 'EC', 'RP'], dtype=object)"
      ]
     },
     "execution_count": 84,
     "metadata": {},
     "output_type": "execute_result"
    }
   ],
   "source": [
    "df['rating'].unique()"
   ]
  },
  {
   "cell_type": "markdown",
   "metadata": {},
   "source": [
    "K-A означает Kids to Adults и входит в тип «E» («Everyone») — «Для всех». Поменяю все K-A на E."
   ]
  },
  {
   "cell_type": "code",
   "execution_count": 85,
   "metadata": {},
   "outputs": [],
   "source": [
    "df['rating'] = df['rating'].replace('K-A', 'E')"
   ]
  },
  {
   "cell_type": "markdown",
   "metadata": {},
   "source": [
    "Посчитаю суммарные продажи во всех регионах."
   ]
  },
  {
   "cell_type": "code",
   "execution_count": 86,
   "metadata": {},
   "outputs": [],
   "source": [
    "df['all_sales'] = df['na_sales'] + df['eu_sales'] + df['jp_sales'] + df['other_sales']"
   ]
  },
  {
   "cell_type": "markdown",
   "metadata": {},
   "source": [
    "**Вывод**"
   ]
  },
  {
   "cell_type": "markdown",
   "metadata": {},
   "source": [
    "В предоставленных данных основные пропуски были связаны со строками, в которых была информация о малоизместных играх. Было принято решения так и оставить в них NaN."
   ]
  },
  {
   "cell_type": "markdown",
   "metadata": {},
   "source": [
    "## Исследовательский анализ данных"
   ]
  },
  {
   "cell_type": "markdown",
   "metadata": {},
   "source": [
    "Посмотрим, сколько игр выпускалось в разные периоды."
   ]
  },
  {
   "cell_type": "code",
   "execution_count": 87,
   "metadata": {},
   "outputs": [
    {
     "data": {
      "text/plain": [
       "Text(0, 0.5, 'Капитализация')"
      ]
     },
     "execution_count": 87,
     "metadata": {},
     "output_type": "execute_result"
    },
    {
     "data": {
      "image/png": "[encoded data removed]",
      "text/plain": [
       "<Figure size 1440x720 with 1 Axes>"
      ]
     },
     "metadata": {
      "needs_background": "light"
     },
     "output_type": "display_data"
    }
   ],
   "source": [
    "df[df['year_of_release']!=-1].groupby('year_of_release')['name'].count().plot(kind='bar', figsize=[20,10], grid=True)\n",
    "plt.xlabel(\"Год\")\n",
    "plt.ylabel(\"Капитализация\")"
   ]
  },
  {
   "cell_type": "markdown",
   "metadata": {},
   "source": [
    "С 1980 сфера игр развивалась. В 2008-2009 был пик в данной индустрии. Для анализа будет полезен период с 2002 и позже. На это время, судя по капитализации игр, приходится основное развитие."
   ]
  },
  {
   "cell_type": "markdown",
   "metadata": {},
   "source": [
    "Выявим самые популярные платформы с точки зрения продаж игр."
   ]
  },
  {
   "cell_type": "code",
   "execution_count": 88,
   "metadata": {
    "scrolled": false
   },
   "outputs": [
    {
     "data": {
      "text/plain": [
       "Text(0, 0.5, 'Капитализация')"
      ]
     },
     "execution_count": 88,
     "metadata": {},
     "output_type": "execute_result"
    },
    {
     "data": {
      "image/png": "[encoded data removed]",
      "text/plain": [
       "<Figure size 1440x720 with 1 Axes>"
      ]
     },
     "metadata": {
      "needs_background": "light"
     },
     "output_type": "display_data"
    }
   ],
   "source": [
    "df.groupby('platform')['all_sales'].sum().sort_values(ascending=False).plot(kind='bar', figsize=[20,10], grid=True)\n",
    "plt.xlabel(\"Платформа\")\n",
    "plt.ylabel(\"Капитализация\")"
   ]
  },
  {
   "cell_type": "markdown",
   "metadata": {},
   "source": [
    "Самыми продаваемыми оказались: PS, DS, Wii, PS3, X360, PS2. Построю по каждой из них распределение продаж по годам."
   ]
  },
  {
   "cell_type": "code",
   "execution_count": 89,
   "metadata": {},
   "outputs": [
    {
     "data": {
      "text/plain": [
       "Text(0, 0.5, 'Капитализация')"
      ]
     },
     "execution_count": 89,
     "metadata": {},
     "output_type": "execute_result"
    },
    {
     "data": {
      "image/png": "[encoded data removed]",
      "text/plain": [
       "<Figure size 1440x720 with 1 Axes>"
      ]
     },
     "metadata": {
      "needs_background": "light"
     },
     "output_type": "display_data"
    }
   ],
   "source": [
    "df[(df['platform'].isin(df.groupby('platform')['all_sales'].sum()\n",
    "                        .sort_values(ascending=False).head(6).reset_index()['platform'].to_list()))\n",
    "   & (df['year_of_release'] != -1)].pivot_table(index='year_of_release',\n",
    "                                                columns='platform',\n",
    "                                                values='all_sales',\n",
    "                                                aggfunc='sum').reset_index().plot(x='year_of_release',\n",
    "                                                                                  xlim=(1990, 2020),\n",
    "                                                                                  figsize=[20,10],\n",
    "                                                                                  grid=True)\n",
    "plt.xlabel(\"Год\")\n",
    "plt.ylabel(\"Капитализация\")"
   ]
  },
  {
   "cell_type": "markdown",
   "metadata": {},
   "source": [
    "Подсчитаем средний срок жизни всех платформ."
   ]
  },
  {
   "cell_type": "code",
   "execution_count": 90,
   "metadata": {},
   "outputs": [],
   "source": [
    "data = df[(df['year_of_release'] != -1)].pivot_table(index='platform',\n",
    "                                                values='year_of_release',\n",
    "                                                aggfunc=['nunique', 'max']).reset_index()\n"
   ]
  },
  {
   "cell_type": "code",
   "execution_count": 91,
   "metadata": {},
   "outputs": [
    {
     "name": "stdout",
     "output_type": "stream",
     "text": [
      "Средний срок жизни = 7.67741935483871\n"
     ]
    }
   ],
   "source": [
    "print('Средний срок жизни =', data[( 'nunique', 'year_of_release')].mean())"
   ]
  },
  {
   "cell_type": "markdown",
   "metadata": {},
   "source": [
    "Анализ будет проводится с 2013 г. Выделю платформы, которые были произведены в 2013 и позже."
   ]
  },
  {
   "cell_type": "code",
   "execution_count": null,
   "metadata": {},
   "outputs": [],
   "source": [
    "df_act = df[df['year_of_release'] >= 2013]"
   ]
  },
  {
   "cell_type": "markdown",
   "metadata": {},
   "source": [
    "Пострим график распределения продаж по годам в разрезе платформ."
   ]
  },
  {
   "cell_type": "code",
   "execution_count": 93,
   "metadata": {},
   "outputs": [
    {
     "data": {
      "text/plain": [
       "Text(0, 0.5, 'Капитализация')"
      ]
     },
     "execution_count": 93,
     "metadata": {},
     "output_type": "execute_result"
    },
    {
     "data": {
      "image/png": "[encoded data removed]",
      "text/plain": [
       "<Figure size 1440x720 with 1 Axes>"
      ]
     },
     "metadata": {
      "needs_background": "light"
     },
     "output_type": "display_data"
    }
   ],
   "source": [
    "df_act[df_act['year_of_release'] != -1].pivot_table(index='year_of_release',\n",
    "                   columns='platform',\n",
    "                   values='all_sales',\n",
    "                   aggfunc='sum').reset_index().plot(x='year_of_release',\n",
    "                                                     xlim=(2011, 2018),\n",
    "                                                     figsize=[20,10],\n",
    "                                                     grid=True)\n",
    "plt.xlabel(\"Год\")\n",
    "plt.ylabel(\"Капитализация\")"
   ]
  },
  {
   "cell_type": "code",
   "execution_count": 94,
   "metadata": {},
   "outputs": [
    {
     "data": {
      "text/html": [
       "<div>\n",
       "<style scoped>\n",
       "    .dataframe tbody tr th:only-of-type {\n",
       "        vertical-align: middle;\n",
       "    }\n",
       "\n",
       "    .dataframe tbody tr th {\n",
       "        vertical-align: top;\n",
       "    }\n",
       "\n",
       "    .dataframe thead th {\n",
       "        text-align: right;\n",
       "    }\n",
       "</style>\n",
       "<table border=\"1\" class=\"dataframe\">\n",
       "  <thead>\n",
       "    <tr style=\"text-align: right;\">\n",
       "      <th></th>\n",
       "      <th>name</th>\n",
       "      <th>platform</th>\n",
       "      <th>year_of_release</th>\n",
       "      <th>genre</th>\n",
       "      <th>na_sales</th>\n",
       "      <th>eu_sales</th>\n",
       "      <th>jp_sales</th>\n",
       "      <th>other_sales</th>\n",
       "      <th>critic_score</th>\n",
       "      <th>user_score</th>\n",
       "      <th>rating</th>\n",
       "      <th>all_sales</th>\n",
       "    </tr>\n",
       "  </thead>\n",
       "  <tbody>\n",
       "    <tr>\n",
       "      <td>16</td>\n",
       "      <td>Grand Theft Auto V</td>\n",
       "      <td>PS3</td>\n",
       "      <td>2013</td>\n",
       "      <td>Action</td>\n",
       "      <td>7.02</td>\n",
       "      <td>9.09</td>\n",
       "      <td>0.98</td>\n",
       "      <td>3.96</td>\n",
       "      <td>97.0</td>\n",
       "      <td>8.2</td>\n",
       "      <td>M</td>\n",
       "      <td>21.05</td>\n",
       "    </tr>\n",
       "    <tr>\n",
       "      <td>23</td>\n",
       "      <td>Grand Theft Auto V</td>\n",
       "      <td>X360</td>\n",
       "      <td>2013</td>\n",
       "      <td>Action</td>\n",
       "      <td>9.66</td>\n",
       "      <td>5.14</td>\n",
       "      <td>0.06</td>\n",
       "      <td>1.41</td>\n",
       "      <td>97.0</td>\n",
       "      <td>8.1</td>\n",
       "      <td>M</td>\n",
       "      <td>16.27</td>\n",
       "    </tr>\n",
       "    <tr>\n",
       "      <td>31</td>\n",
       "      <td>Call of Duty: Black Ops 3</td>\n",
       "      <td>PS4</td>\n",
       "      <td>2015</td>\n",
       "      <td>Shooter</td>\n",
       "      <td>6.03</td>\n",
       "      <td>5.86</td>\n",
       "      <td>0.36</td>\n",
       "      <td>2.38</td>\n",
       "      <td>NaN</td>\n",
       "      <td>NaN</td>\n",
       "      <td>NaN</td>\n",
       "      <td>14.63</td>\n",
       "    </tr>\n",
       "    <tr>\n",
       "      <td>33</td>\n",
       "      <td>Pokemon X/Pokemon Y</td>\n",
       "      <td>3DS</td>\n",
       "      <td>2013</td>\n",
       "      <td>Role-Playing</td>\n",
       "      <td>5.28</td>\n",
       "      <td>4.19</td>\n",
       "      <td>4.35</td>\n",
       "      <td>0.78</td>\n",
       "      <td>NaN</td>\n",
       "      <td>NaN</td>\n",
       "      <td>NaN</td>\n",
       "      <td>14.60</td>\n",
       "    </tr>\n",
       "    <tr>\n",
       "      <td>42</td>\n",
       "      <td>Grand Theft Auto V</td>\n",
       "      <td>PS4</td>\n",
       "      <td>2014</td>\n",
       "      <td>Action</td>\n",
       "      <td>3.96</td>\n",
       "      <td>6.31</td>\n",
       "      <td>0.38</td>\n",
       "      <td>1.97</td>\n",
       "      <td>97.0</td>\n",
       "      <td>8.3</td>\n",
       "      <td>M</td>\n",
       "      <td>12.62</td>\n",
       "    </tr>\n",
       "  </tbody>\n",
       "</table>\n",
       "</div>"
      ],
      "text/plain": [
       "                         name platform  year_of_release         genre  \\\n",
       "16         Grand Theft Auto V      PS3             2013        Action   \n",
       "23         Grand Theft Auto V     X360             2013        Action   \n",
       "31  Call of Duty: Black Ops 3      PS4             2015       Shooter   \n",
       "33        Pokemon X/Pokemon Y      3DS             2013  Role-Playing   \n",
       "42         Grand Theft Auto V      PS4             2014        Action   \n",
       "\n",
       "    na_sales  eu_sales  jp_sales  other_sales  critic_score  user_score  \\\n",
       "16      7.02      9.09      0.98         3.96          97.0         8.2   \n",
       "23      9.66      5.14      0.06         1.41          97.0         8.1   \n",
       "31      6.03      5.86      0.36         2.38           NaN         NaN   \n",
       "33      5.28      4.19      4.35         0.78           NaN         NaN   \n",
       "42      3.96      6.31      0.38         1.97          97.0         8.3   \n",
       "\n",
       "   rating  all_sales  \n",
       "16      M      21.05  \n",
       "23      M      16.27  \n",
       "31    NaN      14.63  \n",
       "33    NaN      14.60  \n",
       "42      M      12.62  "
      ]
     },
     "execution_count": 94,
     "metadata": {},
     "output_type": "execute_result"
    }
   ],
   "source": [
    "df_act.head()"
   ]
  },
  {
   "cell_type": "markdown",
   "metadata": {},
   "source": [
    "По графику можно увидеть, что за данный период самыми продаваемыми были: Wii, X360, PS3. В целом продажи по всем платформам падают, но есть и потенциально прибыльные: PS4, XOne и 3DS."
   ]
  },
  {
   "cell_type": "markdown",
   "metadata": {},
   "source": [
    "Выведем boxplot для разных платформ."
   ]
  },
  {
   "cell_type": "code",
   "execution_count": 109,
   "metadata": {},
   "outputs": [
    {
     "data": {
      "image/png": "[encoded data removed]",
      "text/plain": [
       "<Figure size 1440x720 with 1 Axes>"
      ]
     },
     "metadata": {
      "needs_background": "light"
     },
     "output_type": "display_data"
    }
   ],
   "source": [
    "f, ax = plt.subplots(figsize=(20, 10))\n",
    "sns.boxplot(x=\"all_sales\", y=\"platform\", data=df_act, whis=[0, 100], width=.6)\n",
    "sns.stripplot(x=\"all_sales\", y=\"platform\", data=df_act,\n",
    "              size=4, color=\".3\", linewidth=0)\n",
    "ax.xaxis.grid(True)\n",
    "ax.set(xlim=(0, 25))\n",
    "sns.despine(trim=True, left=True)"
   ]
  },
  {
   "cell_type": "markdown",
   "metadata": {},
   "source": [
    "Изменим маштаб графиков"
   ]
  },
  {
   "cell_type": "code",
   "execution_count": 96,
   "metadata": {},
   "outputs": [
    {
     "data": {
      "image/png": "[encoded data removed]",
      "text/plain": [
       "<Figure size 1440x720 with 1 Axes>"
      ]
     },
     "metadata": {
      "needs_background": "light"
     },
     "output_type": "display_data"
    }
   ],
   "source": [
    "f, ax = plt.subplots(figsize=(20, 10))\n",
    "sns.boxplot(x=\"all_sales\", y=\"platform\", data=df_act, whis=[0, 100], width=.6)\n",
    "sns.stripplot(x=\"all_sales\", y=\"platform\", data=df_act,\n",
    "              size=4, color=\".3\", linewidth=0)\n",
    "ax.xaxis.grid(True)\n",
    "ax.set(xlim=(0, 5))\n",
    "sns.despine(trim=True, left=True)"
   ]
  },
  {
   "cell_type": "markdown",
   "metadata": {},
   "source": [
    "Средняя игра не выходит за капитализацию 1 млн. Но если проект оказывается успешным, то он во много раз превышает продажи большинства игр. На популярных платформах пользователи тратят больше денег."
   ]
  },
  {
   "cell_type": "markdown",
   "metadata": {},
   "source": [
    "Посмотрим корреляцию между параметрами данных внутри одной платформы PS3."
   ]
  },
  {
   "cell_type": "code",
   "execution_count": 97,
   "metadata": {},
   "outputs": [
    {
     "data": {
      "text/plain": [
       "<matplotlib.axes._subplots.AxesSubplot at 0x7f1821536a90>"
      ]
     },
     "execution_count": 97,
     "metadata": {},
     "output_type": "execute_result"
    },
    {
     "data": {
      "image/png": "[encoded data removed]",
      "text/plain": [
       "<Figure size 432x288 with 2 Axes>"
      ]
     },
     "metadata": {
      "needs_background": "light"
     },
     "output_type": "display_data"
    }
   ],
   "source": [
    "sns.heatmap(df_act[df_act['platform']=='PS3'].corr(), annot=True)"
   ]
  },
  {
   "cell_type": "code",
   "execution_count": 98,
   "metadata": {},
   "outputs": [
    {
     "data": {
      "text/plain": [
       "<seaborn.axisgrid.PairGrid at 0x7f1821520490>"
      ]
     },
     "execution_count": 98,
     "metadata": {},
     "output_type": "execute_result"
    },
    {
     "data": {
      "image/png": "[encoded data removed]",
      "text/plain": [
       "<Figure size 540x540 with 12 Axes>"
      ]
     },
     "metadata": {
      "needs_background": "light"
     },
     "output_type": "display_data"
    }
   ],
   "source": [
    "g = sns.PairGrid(df_act[(df_act['platform']=='PS3')\n",
    "                       & ~(df_act['critic_score'].isna())\n",
    "                       & ~(df_act['user_score'].isna())\n",
    "                       & ~(df_act['all_sales'].isna())][['critic_score', 'user_score', 'all_sales']], diag_sharey=False)\n",
    "g.map_upper(sns.scatterplot, s=15)\n",
    "g.map_lower(sns.kdeplot)\n",
    "g.map_diag(sns.kdeplot, lw=2)"
   ]
  },
  {
   "cell_type": "markdown",
   "metadata": {},
   "source": [
    "Оценка пользователей не влияет на продажи по любому из регионов. Оценка критиков имеет большее влияние на продажи, но все же несущественна. Оценки критиков и пользователей имеют среднюю корреляцию между собой. Можно предположить, что пользователи верят оценке критиков и на нее ориентируются. Еще заметно отличие в корреляции продаж Японии. Средний пользователь Японии следит за своими локальными трендами, мировые его меньше интересуют."
   ]
  },
  {
   "cell_type": "markdown",
   "metadata": {},
   "source": [
    "Для сравнения построю матрицу плотности и диаграмму корреляции для X360."
   ]
  },
  {
   "cell_type": "code",
   "execution_count": 99,
   "metadata": {},
   "outputs": [
    {
     "data": {
      "text/plain": [
       "<matplotlib.axes._subplots.AxesSubplot at 0x7f1820ab8190>"
      ]
     },
     "execution_count": 99,
     "metadata": {},
     "output_type": "execute_result"
    },
    {
     "data": {
      "image/png": "[encoded data removed]",
      "text/plain": [
       "<Figure size 432x288 with 2 Axes>"
      ]
     },
     "metadata": {
      "needs_background": "light"
     },
     "output_type": "display_data"
    }
   ],
   "source": [
    "sns.heatmap(df_act[df_act['platform']=='X360'].corr(), annot=True)"
   ]
  },
  {
   "cell_type": "code",
   "execution_count": 100,
   "metadata": {},
   "outputs": [
    {
     "data": {
      "text/plain": [
       "<seaborn.axisgrid.PairGrid at 0x7f18207bfc10>"
      ]
     },
     "execution_count": 100,
     "metadata": {},
     "output_type": "execute_result"
    },
    {
     "data": {
      "image/png": "[encoded data removed]",
      "text/plain": [
       "<Figure size 540x540 with 12 Axes>"
      ]
     },
     "metadata": {
      "needs_background": "light"
     },
     "output_type": "display_data"
    }
   ],
   "source": [
    "g = sns.PairGrid(df_act[(df_act['platform']=='X360')\n",
    "                       & ~(df_act['critic_score'].isna())\n",
    "                       & ~(df_act['user_score'].isna())\n",
    "                       & ~(df_act['all_sales'].isna())][['critic_score', 'user_score', 'all_sales']], diag_sharey=False)\n",
    "g.map_upper(sns.scatterplot, s=15)\n",
    "g.map_lower(sns.kdeplot)\n",
    "g.map_diag(sns.kdeplot, lw=2)"
   ]
  },
  {
   "cell_type": "markdown",
   "metadata": {},
   "source": [
    "В общем и целом виды распределений и корреляций между платформами мало чем отличаются."
   ]
  },
  {
   "cell_type": "markdown",
   "metadata": {},
   "source": [
    "Сравним прибыльность жанров."
   ]
  },
  {
   "cell_type": "code",
   "execution_count": 101,
   "metadata": {},
   "outputs": [
    {
     "data": {
      "text/plain": [
       "Text(0, 0.5, 'Капитализация')"
      ]
     },
     "execution_count": 101,
     "metadata": {},
     "output_type": "execute_result"
    },
    {
     "data": {
      "image/png": "[encoded data removed]",
      "text/plain": [
       "<Figure size 1440x720 with 1 Axes>"
      ]
     },
     "metadata": {
      "needs_background": "light"
     },
     "output_type": "display_data"
    }
   ],
   "source": [
    "df_act.groupby('genre')['all_sales'].sum().sort_values(ascending=False).plot(kind='bar', figsize=[20,10], grid=True)\n",
    "plt.xlabel(\"Жанр\")\n",
    "plt.ylabel(\"Капитализация\")"
   ]
  },
  {
   "cell_type": "code",
   "execution_count": 102,
   "metadata": {},
   "outputs": [
    {
     "data": {
      "image/png": "[encoded data removed]",
      "text/plain": [
       "<Figure size 1440x720 with 1 Axes>"
      ]
     },
     "metadata": {
      "needs_background": "light"
     },
     "output_type": "display_data"
    }
   ],
   "source": [
    "f, ax = plt.subplots(figsize=(20, 10))\n",
    "sns.boxplot(x=\"all_sales\", y=\"genre\", data=df_act, whis=[0, 100], width=.6)\n",
    "sns.stripplot(x=\"all_sales\", y=\"genre\", data=df_act,\n",
    "              size=4, color=\".3\", linewidth=0)\n",
    "ax.xaxis.grid(True)\n",
    "ax.set(xlim=(0, 5))\n",
    "sns.despine(trim=True, left=True)"
   ]
  },
  {
   "cell_type": "markdown",
   "metadata": {},
   "source": [
    "В первой тройке лидеров продаж по жанрам: Action, Sports, Shooter.\n",
    "\n",
    "Самые не популярные жанры: Adventure, Strategy, Puzzle."
   ]
  },
  {
   "cell_type": "markdown",
   "metadata": {},
   "source": [
    "**Вывод**"
   ]
  },
  {
   "cell_type": "markdown",
   "metadata": {},
   "source": [
    "В ходе исследовательской работы были выявлены интересные факты. В 2008-2009 был пик в индустрии игр. На данный период самыми популярными оказались платформы: PS, DS, Wii, PS3, X360, PS2. Средний срок жизни приставки 7.68 лет. На 2016 г. имеют потенциал: PS4, XOne и 3DS. Чтобы больше заработать разработчик должен ориентироваться на популярные жанры: Action, Sports, Shooter."
   ]
  },
  {
   "cell_type": "markdown",
   "metadata": {},
   "source": [
    "## Составление портрета пользователя каждого региона"
   ]
  },
  {
   "cell_type": "markdown",
   "metadata": {},
   "source": [
    "### Самые популярные платформы в каждом регионе"
   ]
  },
  {
   "cell_type": "markdown",
   "metadata": {},
   "source": [
    "Рассмотрим топ 5 платформ каждого региона."
   ]
  },
  {
   "cell_type": "code",
   "execution_count": 103,
   "metadata": {},
   "outputs": [
    {
     "data": {
      "image/png": "[encoded data removed]",
      "text/plain": [
       "<Figure size 1080x360 with 3 Axes>"
      ]
     },
     "metadata": {
      "needs_background": "light"
     },
     "output_type": "display_data"
    }
   ],
   "source": [
    "plt.subplot(1, 3, 1)\n",
    "df_act.groupby('platform')['na_sales'].sum().sort_values(ascending=False).head(5).plot(kind='bar', \n",
    "                                                                            figsize=[7,5],\n",
    "                                                                            grid=True,\n",
    "                                                                            title='Популярные платформы Северной Америки')\n",
    "plt.xlabel(\"Платформа\")\n",
    "plt.ylabel(\"Капитализация\")\n",
    "plt.subplot(1, 3, 2)\n",
    "df_act.groupby('platform')['eu_sales'].sum().sort_values(ascending=False).head(5).plot(kind='bar', \n",
    "                                                                            figsize=[7,5],\n",
    "                                                                            grid=True,\n",
    "                                                                            title='Популярные платформы Европы')\n",
    "plt.xlabel(\"Платформа\")\n",
    "plt.ylabel(\"Капитализация\")\n",
    "plt.subplot(1, 3, 3)\n",
    "df_act.groupby('platform')['jp_sales'].sum().sort_values(ascending=False).head(5).plot(kind='bar', \n",
    "                                                                            figsize=[15,5],\n",
    "                                                                            grid=True,\n",
    "                                                                            title='Популярные платформы Японии')\n",
    "plt.xlabel(\"Платформа\")\n",
    "plt.ylabel(\"Капитализация\")\n",
    "plt.show()"
   ]
  },
  {
   "cell_type": "markdown",
   "metadata": {},
   "source": [
    "**Вывод**"
   ]
  },
  {
   "cell_type": "markdown",
   "metadata": {},
   "source": [
    "Как и следовало ожидать, в каждом регионе популярны те платформы, которые в нем производятся."
   ]
  },
  {
   "cell_type": "markdown",
   "metadata": {},
   "source": [
    "### Самые популярные жанры в каждом регионе"
   ]
  },
  {
   "cell_type": "markdown",
   "metadata": {},
   "source": [
    "Рассмотрим топ 5 жанров каждого региона."
   ]
  },
  {
   "cell_type": "code",
   "execution_count": 104,
   "metadata": {},
   "outputs": [
    {
     "data": {
      "image/png": "[encoded data removed]",
      "text/plain": [
       "<Figure size 1080x360 with 3 Axes>"
      ]
     },
     "metadata": {
      "needs_background": "light"
     },
     "output_type": "display_data"
    }
   ],
   "source": [
    "plt.subplot(1, 3, 1)\n",
    "df_act.groupby('genre')['na_sales'].sum().sort_values(ascending=False).head(5).plot(kind='bar', \n",
    "                                                                            figsize=[7,5],\n",
    "                                                                            grid=True,\n",
    "                                                                            title='Популярные жанры Северной Америки')\n",
    "plt.xlabel(\"Жанр\")\n",
    "plt.ylabel(\"Капитализация\")\n",
    "plt.subplot(1, 3, 2)\n",
    "df_act.groupby('genre')['eu_sales'].sum().sort_values(ascending=False).head(5).plot(kind='bar', \n",
    "                                                                            figsize=[7,5],\n",
    "                                                                            grid=True,\n",
    "                                                                            title='Популярные жанры Европы')\n",
    "plt.xlabel(\"Жанр\")\n",
    "plt.ylabel(\"Капитализация\")\n",
    "plt.subplot(1, 3, 3)\n",
    "df_act.groupby('genre')['jp_sales'].sum().sort_values(ascending=False).head(5).plot(kind='bar', \n",
    "                                                                            figsize=[15,5],\n",
    "                                                                            grid=True,\n",
    "                                                                            title='Популярные жанры Японии')\n",
    "plt.xlabel(\"Жанр\")\n",
    "plt.ylabel(\"Капитализация\")\n",
    "plt.show()"
   ]
  },
  {
   "cell_type": "markdown",
   "metadata": {},
   "source": [
    "**Вывод**"
   ]
  },
  {
   "cell_type": "markdown",
   "metadata": {},
   "source": [
    "Если предпочтения жанра среднего пользователя Европы и Северной Америки примерно одинаковы, то в Японии явно выделяется жанр RPG."
   ]
  },
  {
   "cell_type": "markdown",
   "metadata": {},
   "source": [
    "### Оценка вляния рейтинга в каждом регионе"
   ]
  },
  {
   "cell_type": "markdown",
   "metadata": {},
   "source": [
    "Рейтинги ESRB:\n",
    "\n",
    "* «EC» («Early childhood») — «Для детей младшего возраста»\n",
    "* «E» («Everyone») — «Для всех»\n",
    "* «E10+» («Everyone 10 and older») — «Для всех от 10 лет и старше»\n",
    "* «T» («Teen») — «Подросткам»\n",
    "* «M» («Mature») — «Для взрослых»\n",
    "* «AO» («Adults Only 18+») — «Только для взрослых»\n",
    "* «RP» («Rating Pending») — «Рейтинг ожидается»"
   ]
  },
  {
   "cell_type": "markdown",
   "metadata": {},
   "source": [
    "Рассмотрим предпочтительные рейтинги игр в каждом регионе."
   ]
  },
  {
   "cell_type": "code",
   "execution_count": 105,
   "metadata": {},
   "outputs": [
    {
     "data": {
      "image/png": "[encoded data removed]",
      "text/plain": [
       "<Figure size 1080x360 with 3 Axes>"
      ]
     },
     "metadata": {
      "needs_background": "light"
     },
     "output_type": "display_data"
    }
   ],
   "source": [
    "plt.subplot(1, 3, 1)\n",
    "df_act.groupby('rating')['na_sales'].sum().sort_values(ascending=False).head(5).plot(kind='bar', \n",
    "                                                                            figsize=[7,5],\n",
    "                                                                            grid=True,\n",
    "                                                                            title='Влияние рейтинга в Северной Америке')\n",
    "plt.xlabel(\"Рейтинг\")\n",
    "plt.ylabel(\"Капитализация\")\n",
    "plt.subplot(1, 3, 2)\n",
    "df_act.groupby('rating')['eu_sales'].sum().sort_values(ascending=False).head(5).plot(kind='bar', \n",
    "                                                                            figsize=[7,5],\n",
    "                                                                            grid=True,\n",
    "                                                                            title='Влияние рейтинга в Европе')\n",
    "plt.xlabel(\"Рейтинг\")\n",
    "plt.ylabel(\"Капитализация\")\n",
    "plt.subplot(1, 3, 3)\n",
    "df_act.groupby('rating')['jp_sales'].sum().sort_values(ascending=False).head(5).plot(kind='bar', \n",
    "                                                                            figsize=[15,5],\n",
    "                                                                            grid=True,\n",
    "                                                                            title='Влияние рейтинга в Японии')\n",
    "plt.xlabel(\"Рейтинг\")\n",
    "plt.ylabel(\"Капитализация\")\n",
    "plt.show()"
   ]
  },
  {
   "cell_type": "markdown",
   "metadata": {},
   "source": [
    "**Вывод**"
   ]
  },
  {
   "cell_type": "markdown",
   "metadata": {},
   "source": [
    "Судя по графикам в Японии рейтинг влияет на продажи игр. Скорее всего детям не продают игры с рейтингом «M» («Mature»). В Европе и Северной Америке отличий нет."
   ]
  },
  {
   "cell_type": "markdown",
   "metadata": {},
   "source": [
    "## Общий вывод"
   ]
  },
  {
   "cell_type": "markdown",
   "metadata": {},
   "source": [
    "Данные, которые были предоставлены имели пропуски. В основном они связаны с отсутствием оценки пользователей и критиков малоизветных игр.\n",
    "\n",
    "В 2008-2009 был пик индустрии игр. После капитализация пошла на спад. Возможно это связано с появлением мощных смартфонов, которыми стали чаще пользоваться в сфере развлечений. Средний срок жизни приставки оказался 7.68 лет. Были выявлены платформы с возможным потенциалом: PS4, XOne и 3DS. А также предпочтительные жанры для заработка: Action, Sports, Shooter. \n",
    "\n",
    "Средний пользователь Японии сильно отличается предпочтениями в жанре, в игровой консоли и в рейтинге ESRB от представителей Северной Америки и Европы. Возможно это связано с отличающимся менталитетом восточных стран, либо законодательством. Средний пользователь Японии следит за своими локальными трендами, мировые его меньше интересуют."
   ]
  }
 ],
 "metadata": {
  "ExecuteTimeLog": [
   {
    "duration": 914,
    "start_time": "2021-12-06T17:52:57.971Z"
   },
   {
    "duration": 59,
    "start_time": "2021-12-06T17:53:40.371Z"
   },
   {
    "duration": 68,
    "start_time": "2021-12-06T17:53:48.083Z"
   },
   {
    "duration": 26,
    "start_time": "2021-12-06T17:54:00.714Z"
   },
   {
    "duration": 24,
    "start_time": "2021-12-06T17:54:52.014Z"
   },
   {
    "duration": 14,
    "start_time": "2021-12-06T17:55:23.194Z"
   },
   {
    "duration": 443,
    "start_time": "2021-12-08T15:29:50.785Z"
   },
   {
    "duration": 838,
    "start_time": "2021-12-08T15:29:54.562Z"
   },
   {
    "duration": 48,
    "start_time": "2021-12-08T15:29:55.403Z"
   },
   {
    "duration": 29,
    "start_time": "2021-12-08T15:29:55.454Z"
   },
   {
    "duration": 17,
    "start_time": "2021-12-08T15:29:55.485Z"
   },
   {
    "duration": 14,
    "start_time": "2021-12-08T15:29:55.504Z"
   },
   {
    "duration": 41,
    "start_time": "2021-12-08T15:29:55.520Z"
   },
   {
    "duration": 4,
    "start_time": "2021-12-08T15:30:04.937Z"
   },
   {
    "duration": 6,
    "start_time": "2021-12-08T15:30:12.303Z"
   },
   {
    "duration": 18,
    "start_time": "2021-12-08T15:31:08.598Z"
   },
   {
    "duration": 14,
    "start_time": "2021-12-08T15:31:16.231Z"
   },
   {
    "duration": 413,
    "start_time": "2021-12-08T15:33:47.953Z"
   },
   {
    "duration": 1599,
    "start_time": "2021-12-08T15:34:00.024Z"
   },
   {
    "duration": 6,
    "start_time": "2021-12-08T15:34:43.990Z"
   },
   {
    "duration": 6,
    "start_time": "2021-12-08T15:35:27.965Z"
   },
   {
    "duration": 9,
    "start_time": "2021-12-08T15:39:57.525Z"
   },
   {
    "duration": 28,
    "start_time": "2021-12-08T15:40:06.419Z"
   },
   {
    "duration": 126,
    "start_time": "2021-12-08T15:40:57.053Z"
   },
   {
    "duration": 432,
    "start_time": "2021-12-08T15:41:09.399Z"
   },
   {
    "duration": 133,
    "start_time": "2021-12-08T15:41:27.848Z"
   },
   {
    "duration": 33,
    "start_time": "2021-12-08T15:41:31.473Z"
   },
   {
    "duration": 20,
    "start_time": "2021-12-08T15:41:51.767Z"
   },
   {
    "duration": 17,
    "start_time": "2021-12-08T15:45:53.054Z"
   },
   {
    "duration": 20,
    "start_time": "2021-12-08T15:46:00.391Z"
   },
   {
    "duration": 17,
    "start_time": "2021-12-08T15:46:29.218Z"
   },
   {
    "duration": 32,
    "start_time": "2021-12-08T15:47:32.644Z"
   },
   {
    "duration": 42,
    "start_time": "2021-12-08T15:56:17.676Z"
   },
   {
    "duration": 5,
    "start_time": "2021-12-08T16:02:38.268Z"
   },
   {
    "duration": 13,
    "start_time": "2021-12-08T16:02:44.549Z"
   },
   {
    "duration": 6,
    "start_time": "2021-12-08T16:03:16.062Z"
   },
   {
    "duration": 14,
    "start_time": "2021-12-08T16:03:24.869Z"
   },
   {
    "duration": 29,
    "start_time": "2021-12-08T16:06:20.577Z"
   },
   {
    "duration": 42,
    "start_time": "2021-12-08T16:06:31.138Z"
   },
   {
    "duration": 29,
    "start_time": "2021-12-08T16:08:19.159Z"
   },
   {
    "duration": 5,
    "start_time": "2021-12-08T16:11:57.717Z"
   },
   {
    "duration": 384,
    "start_time": "2021-12-08T16:13:01.500Z"
   },
   {
    "duration": 4,
    "start_time": "2021-12-08T16:13:12.184Z"
   },
   {
    "duration": 55,
    "start_time": "2021-12-08T16:13:12.191Z"
   },
   {
    "duration": 20,
    "start_time": "2021-12-08T16:13:12.249Z"
   },
   {
    "duration": 16,
    "start_time": "2021-12-08T16:13:12.273Z"
   },
   {
    "duration": 17,
    "start_time": "2021-12-08T16:13:12.292Z"
   },
   {
    "duration": 5,
    "start_time": "2021-12-08T16:13:12.312Z"
   },
   {
    "duration": 56,
    "start_time": "2021-12-08T16:13:12.320Z"
   },
   {
    "duration": 16,
    "start_time": "2021-12-08T16:13:12.379Z"
   },
   {
    "duration": 19,
    "start_time": "2021-12-08T16:13:12.398Z"
   },
   {
    "duration": 52,
    "start_time": "2021-12-08T16:13:12.419Z"
   },
   {
    "duration": 11,
    "start_time": "2021-12-08T16:13:12.474Z"
   },
   {
    "duration": 42,
    "start_time": "2021-12-08T16:13:12.488Z"
   },
   {
    "duration": 29,
    "start_time": "2021-12-08T16:13:12.533Z"
   },
   {
    "duration": 6,
    "start_time": "2021-12-08T16:13:12.565Z"
   },
   {
    "duration": 96,
    "start_time": "2021-12-08T16:13:12.575Z"
   },
   {
    "duration": 637,
    "start_time": "2021-12-08T16:13:12.674Z"
   },
   {
    "duration": 8,
    "start_time": "2021-12-08T16:13:25.096Z"
   },
   {
    "duration": 27,
    "start_time": "2021-12-08T16:13:38.025Z"
   },
   {
    "duration": 32,
    "start_time": "2021-12-08T16:14:44.402Z"
   },
   {
    "duration": 12,
    "start_time": "2021-12-08T16:14:55.401Z"
   },
   {
    "duration": 65,
    "start_time": "2021-12-08T16:19:16.383Z"
   },
   {
    "duration": 12,
    "start_time": "2021-12-08T16:30:02.216Z"
   },
   {
    "duration": 14,
    "start_time": "2021-12-08T16:30:09.253Z"
   },
   {
    "duration": 8,
    "start_time": "2021-12-08T16:31:22.776Z"
   },
   {
    "duration": 17,
    "start_time": "2021-12-08T16:34:23.540Z"
   },
   {
    "duration": 513,
    "start_time": "2021-12-08T16:34:32.608Z"
   },
   {
    "duration": 29,
    "start_time": "2021-12-08T16:35:22.957Z"
   },
   {
    "duration": 387,
    "start_time": "2021-12-08T16:35:32.110Z"
   },
   {
    "duration": 11,
    "start_time": "2021-12-08T16:35:49.113Z"
   },
   {
    "duration": 12,
    "start_time": "2021-12-08T16:38:15.264Z"
   },
   {
    "duration": 24,
    "start_time": "2021-12-08T16:38:23.379Z"
   },
   {
    "duration": 151227,
    "start_time": "2021-12-08T18:55:04.683Z"
   },
   {
    "duration": 151208,
    "start_time": "2021-12-08T18:55:04.704Z"
   },
   {
    "duration": 151198,
    "start_time": "2021-12-08T18:55:04.715Z"
   },
   {
    "duration": 151197,
    "start_time": "2021-12-08T18:55:04.718Z"
   },
   {
    "duration": 151195,
    "start_time": "2021-12-08T18:55:04.721Z"
   },
   {
    "duration": 151194,
    "start_time": "2021-12-08T18:55:04.723Z"
   },
   {
    "duration": 151193,
    "start_time": "2021-12-08T18:55:04.726Z"
   },
   {
    "duration": 151192,
    "start_time": "2021-12-08T18:55:04.728Z"
   },
   {
    "duration": 151191,
    "start_time": "2021-12-08T18:55:04.730Z"
   },
   {
    "duration": 151191,
    "start_time": "2021-12-08T18:55:04.732Z"
   },
   {
    "duration": 151190,
    "start_time": "2021-12-08T18:55:04.734Z"
   },
   {
    "duration": 151189,
    "start_time": "2021-12-08T18:55:04.736Z"
   },
   {
    "duration": 151183,
    "start_time": "2021-12-08T18:55:04.743Z"
   },
   {
    "duration": 151183,
    "start_time": "2021-12-08T18:55:04.745Z"
   },
   {
    "duration": 151182,
    "start_time": "2021-12-08T18:55:04.747Z"
   },
   {
    "duration": 151181,
    "start_time": "2021-12-08T18:55:04.749Z"
   },
   {
    "duration": 151180,
    "start_time": "2021-12-08T18:55:04.751Z"
   },
   {
    "duration": 151179,
    "start_time": "2021-12-08T18:55:04.753Z"
   },
   {
    "duration": 4,
    "start_time": "2021-12-08T18:57:39.804Z"
   },
   {
    "duration": 50,
    "start_time": "2021-12-08T18:57:39.810Z"
   },
   {
    "duration": 19,
    "start_time": "2021-12-08T18:57:39.863Z"
   },
   {
    "duration": 19,
    "start_time": "2021-12-08T18:57:39.884Z"
   },
   {
    "duration": 14,
    "start_time": "2021-12-08T18:57:39.906Z"
   },
   {
    "duration": 3,
    "start_time": "2021-12-08T18:57:39.923Z"
   },
   {
    "duration": 18,
    "start_time": "2021-12-08T18:57:39.959Z"
   },
   {
    "duration": 20,
    "start_time": "2021-12-08T18:57:39.981Z"
   },
   {
    "duration": 14,
    "start_time": "2021-12-08T18:57:40.003Z"
   },
   {
    "duration": 44,
    "start_time": "2021-12-08T18:57:40.020Z"
   },
   {
    "duration": 39,
    "start_time": "2021-12-08T18:57:40.067Z"
   },
   {
    "duration": 4,
    "start_time": "2021-12-08T18:57:40.109Z"
   },
   {
    "duration": 7,
    "start_time": "2021-12-08T18:57:40.115Z"
   },
   {
    "duration": 43,
    "start_time": "2021-12-08T18:57:40.125Z"
   },
   {
    "duration": 51,
    "start_time": "2021-12-08T18:57:40.171Z"
   },
   {
    "duration": 36,
    "start_time": "2021-12-08T18:57:40.225Z"
   },
   {
    "duration": 6,
    "start_time": "2021-12-08T18:57:40.263Z"
   },
   {
    "duration": 5,
    "start_time": "2021-12-08T18:59:22.010Z"
   },
   {
    "duration": 50,
    "start_time": "2021-12-08T18:59:22.018Z"
   },
   {
    "duration": 20,
    "start_time": "2021-12-08T18:59:22.072Z"
   },
   {
    "duration": 15,
    "start_time": "2021-12-08T18:59:22.095Z"
   },
   {
    "duration": 16,
    "start_time": "2021-12-08T18:59:22.112Z"
   },
   {
    "duration": 4,
    "start_time": "2021-12-08T18:59:22.130Z"
   },
   {
    "duration": 21,
    "start_time": "2021-12-08T18:59:22.161Z"
   },
   {
    "duration": 21,
    "start_time": "2021-12-08T18:59:22.187Z"
   },
   {
    "duration": 55,
    "start_time": "2021-12-08T18:59:22.211Z"
   },
   {
    "duration": 14,
    "start_time": "2021-12-08T18:59:22.269Z"
   },
   {
    "duration": 41,
    "start_time": "2021-12-08T18:59:22.285Z"
   },
   {
    "duration": 5,
    "start_time": "2021-12-08T18:59:22.359Z"
   },
   {
    "duration": 6,
    "start_time": "2021-12-08T18:59:22.366Z"
   },
   {
    "duration": 11,
    "start_time": "2021-12-08T18:59:22.375Z"
   },
   {
    "duration": 77,
    "start_time": "2021-12-08T18:59:22.388Z"
   },
   {
    "duration": 12,
    "start_time": "2021-12-08T18:59:22.468Z"
   },
   {
    "duration": 7,
    "start_time": "2021-12-08T18:59:22.483Z"
   },
   {
    "duration": 4,
    "start_time": "2021-12-08T18:59:22.493Z"
   },
   {
    "duration": 506,
    "start_time": "2021-12-08T18:59:42.275Z"
   },
   {
    "duration": 819,
    "start_time": "2021-12-08T19:00:02.819Z"
   },
   {
    "duration": 876,
    "start_time": "2021-12-08T19:00:08.709Z"
   },
   {
    "duration": 431,
    "start_time": "2021-12-08T19:00:46.750Z"
   },
   {
    "duration": 791,
    "start_time": "2021-12-08T19:00:57.740Z"
   },
   {
    "duration": 1050,
    "start_time": "2021-12-08T19:01:05.287Z"
   },
   {
    "duration": 922,
    "start_time": "2021-12-08T19:03:57.682Z"
   },
   {
    "duration": 888,
    "start_time": "2021-12-08T19:14:16.349Z"
   },
   {
    "duration": 11,
    "start_time": "2021-12-08T19:14:38.510Z"
   },
   {
    "duration": 768,
    "start_time": "2021-12-08T19:15:05.699Z"
   },
   {
    "duration": 780,
    "start_time": "2021-12-08T19:18:53.401Z"
   },
   {
    "duration": 34,
    "start_time": "2021-12-08T19:22:47.274Z"
   },
   {
    "duration": 988,
    "start_time": "2021-12-08T19:25:22.818Z"
   },
   {
    "duration": 79,
    "start_time": "2021-12-08T19:25:30.338Z"
   },
   {
    "duration": 49,
    "start_time": "2021-12-08T19:25:49.615Z"
   },
   {
    "duration": 7889,
    "start_time": "2021-12-08T19:26:51.881Z"
   },
   {
    "duration": 51,
    "start_time": "2021-12-08T19:27:11.363Z"
   },
   {
    "duration": 51,
    "start_time": "2021-12-08T19:27:26.683Z"
   },
   {
    "duration": 31,
    "start_time": "2021-12-08T19:28:13.656Z"
   },
   {
    "duration": 9501,
    "start_time": "2021-12-08T19:28:49.777Z"
   },
   {
    "duration": 580,
    "start_time": "2021-12-08T19:29:32.435Z"
   },
   {
    "duration": 361,
    "start_time": "2021-12-08T19:30:05.657Z"
   },
   {
    "duration": 10802,
    "start_time": "2021-12-08T19:30:27.280Z"
   },
   {
    "duration": 39,
    "start_time": "2021-12-08T19:30:55.440Z"
   },
   {
    "duration": 38,
    "start_time": "2021-12-08T19:31:41.587Z"
   },
   {
    "duration": 43,
    "start_time": "2021-12-08T19:31:51.450Z"
   },
   {
    "duration": 357,
    "start_time": "2021-12-08T19:32:09.415Z"
   },
   {
    "duration": 361,
    "start_time": "2021-12-08T19:32:35.672Z"
   },
   {
    "duration": 391,
    "start_time": "2021-12-08T19:34:07.150Z"
   },
   {
    "duration": 487,
    "start_time": "2021-12-08T19:34:43.840Z"
   },
   {
    "duration": 368,
    "start_time": "2021-12-08T19:35:43.206Z"
   },
   {
    "duration": 361,
    "start_time": "2021-12-08T19:35:51.620Z"
   },
   {
    "duration": 669,
    "start_time": "2021-12-08T19:36:33.241Z"
   },
   {
    "duration": 680,
    "start_time": "2021-12-08T19:36:46.162Z"
   },
   {
    "duration": 683,
    "start_time": "2021-12-08T19:37:18.273Z"
   },
   {
    "duration": 775,
    "start_time": "2021-12-08T19:44:35.010Z"
   },
   {
    "duration": 192,
    "start_time": "2021-12-08T19:59:37.655Z"
   },
   {
    "duration": 35,
    "start_time": "2021-12-08T20:00:57.025Z"
   },
   {
    "duration": 45,
    "start_time": "2021-12-08T20:01:33.684Z"
   },
   {
    "duration": 33,
    "start_time": "2021-12-08T20:01:46.318Z"
   },
   {
    "duration": 1569,
    "start_time": "2021-12-08T20:02:10.164Z"
   },
   {
    "duration": 4,
    "start_time": "2021-12-08T20:02:26.180Z"
   },
   {
    "duration": 10,
    "start_time": "2021-12-08T20:02:30.733Z"
   },
   {
    "duration": 7,
    "start_time": "2021-12-08T20:03:35.570Z"
   },
   {
    "duration": 11,
    "start_time": "2021-12-08T20:03:47.816Z"
   },
   {
    "duration": 5,
    "start_time": "2021-12-08T20:04:55.798Z"
   },
   {
    "duration": 3,
    "start_time": "2021-12-08T20:05:40.219Z"
   },
   {
    "duration": 56,
    "start_time": "2021-12-08T20:05:40.225Z"
   },
   {
    "duration": 19,
    "start_time": "2021-12-08T20:05:40.284Z"
   },
   {
    "duration": 15,
    "start_time": "2021-12-08T20:05:40.306Z"
   },
   {
    "duration": 45,
    "start_time": "2021-12-08T20:05:40.324Z"
   },
   {
    "duration": 4,
    "start_time": "2021-12-08T20:05:40.372Z"
   },
   {
    "duration": 27,
    "start_time": "2021-12-08T20:05:40.379Z"
   },
   {
    "duration": 51,
    "start_time": "2021-12-08T20:05:40.409Z"
   },
   {
    "duration": 12,
    "start_time": "2021-12-08T20:05:40.463Z"
   },
   {
    "duration": 13,
    "start_time": "2021-12-08T20:05:40.478Z"
   },
   {
    "duration": 68,
    "start_time": "2021-12-08T20:05:40.493Z"
   },
   {
    "duration": 5,
    "start_time": "2021-12-08T20:05:40.564Z"
   },
   {
    "duration": 9,
    "start_time": "2021-12-08T20:05:40.571Z"
   },
   {
    "duration": 12,
    "start_time": "2021-12-08T20:05:40.583Z"
   },
   {
    "duration": 78,
    "start_time": "2021-12-08T20:05:40.597Z"
   },
   {
    "duration": 11,
    "start_time": "2021-12-08T20:05:40.678Z"
   },
   {
    "duration": 12,
    "start_time": "2021-12-08T20:05:40.692Z"
   },
   {
    "duration": 906,
    "start_time": "2021-12-08T20:05:40.706Z"
   },
   {
    "duration": 784,
    "start_time": "2021-12-08T20:05:41.616Z"
   },
   {
    "duration": 686,
    "start_time": "2021-12-08T20:05:42.402Z"
   },
   {
    "duration": 31,
    "start_time": "2021-12-08T20:05:43.090Z"
   },
   {
    "duration": 3,
    "start_time": "2021-12-08T20:05:43.124Z"
   },
   {
    "duration": 32,
    "start_time": "2021-12-08T20:05:43.129Z"
   },
   {
    "duration": 32,
    "start_time": "2021-12-08T20:11:45.635Z"
   },
   {
    "duration": 5,
    "start_time": "2021-12-08T20:11:46.356Z"
   },
   {
    "duration": 6,
    "start_time": "2021-12-08T20:11:47.165Z"
   },
   {
    "duration": 13,
    "start_time": "2021-12-08T20:12:15.508Z"
   },
   {
    "duration": 9,
    "start_time": "2021-12-08T20:20:47.974Z"
   },
   {
    "duration": 8,
    "start_time": "2021-12-08T20:21:23.580Z"
   },
   {
    "duration": 9,
    "start_time": "2021-12-08T20:22:31.599Z"
   },
   {
    "duration": 30,
    "start_time": "2021-12-08T20:22:36.695Z"
   },
   {
    "duration": 754,
    "start_time": "2021-12-08T21:39:06.217Z"
   },
   {
    "duration": 6,
    "start_time": "2021-12-08T21:40:14.766Z"
   },
   {
    "duration": 700,
    "start_time": "2021-12-08T21:41:02.445Z"
   },
   {
    "duration": 712,
    "start_time": "2021-12-08T21:41:17.209Z"
   },
   {
    "duration": 1057,
    "start_time": "2021-12-08T21:41:49.376Z"
   },
   {
    "duration": 1094,
    "start_time": "2021-12-08T21:42:09.112Z"
   },
   {
    "duration": 722,
    "start_time": "2021-12-08T21:53:34.343Z"
   },
   {
    "duration": 571,
    "start_time": "2021-12-08T21:55:24.504Z"
   },
   {
    "duration": 50,
    "start_time": "2021-12-08T21:55:25.077Z"
   },
   {
    "duration": 18,
    "start_time": "2021-12-08T21:55:25.130Z"
   },
   {
    "duration": 23,
    "start_time": "2021-12-08T21:55:25.151Z"
   },
   {
    "duration": 18,
    "start_time": "2021-12-08T21:55:25.178Z"
   },
   {
    "duration": 4,
    "start_time": "2021-12-08T21:55:25.198Z"
   },
   {
    "duration": 54,
    "start_time": "2021-12-08T21:55:25.207Z"
   },
   {
    "duration": 21,
    "start_time": "2021-12-08T21:55:25.266Z"
   },
   {
    "duration": 19,
    "start_time": "2021-12-08T21:55:25.290Z"
   },
   {
    "duration": 10,
    "start_time": "2021-12-08T21:55:25.312Z"
   },
   {
    "duration": 67,
    "start_time": "2021-12-08T21:55:25.324Z"
   },
   {
    "duration": 4,
    "start_time": "2021-12-08T21:55:25.393Z"
   },
   {
    "duration": 14,
    "start_time": "2021-12-08T21:55:25.399Z"
   },
   {
    "duration": 15,
    "start_time": "2021-12-08T21:55:25.416Z"
   },
   {
    "duration": 65,
    "start_time": "2021-12-08T21:55:25.434Z"
   },
   {
    "duration": 13,
    "start_time": "2021-12-08T21:55:25.502Z"
   },
   {
    "duration": 19,
    "start_time": "2021-12-08T21:55:25.517Z"
   },
   {
    "duration": 881,
    "start_time": "2021-12-08T21:55:25.539Z"
   },
   {
    "duration": 873,
    "start_time": "2021-12-08T21:55:26.422Z"
   },
   {
    "duration": 778,
    "start_time": "2021-12-08T21:55:27.298Z"
   },
   {
    "duration": 29,
    "start_time": "2021-12-08T21:55:28.079Z"
   },
   {
    "duration": 3,
    "start_time": "2021-12-08T21:55:28.110Z"
   },
   {
    "duration": 5,
    "start_time": "2021-12-08T21:55:28.118Z"
   },
   {
    "duration": 8,
    "start_time": "2021-12-08T21:55:28.160Z"
   },
   {
    "duration": 827,
    "start_time": "2021-12-08T21:55:28.171Z"
   },
   {
    "duration": 20,
    "start_time": "2021-12-08T21:56:30.761Z"
   },
   {
    "duration": 22,
    "start_time": "2021-12-08T21:58:33.009Z"
   },
   {
    "duration": 454,
    "start_time": "2021-12-08T21:58:52.640Z"
   },
   {
    "duration": 508,
    "start_time": "2021-12-08T21:59:26.683Z"
   },
   {
    "duration": 429,
    "start_time": "2021-12-08T21:59:41.161Z"
   },
   {
    "duration": 451,
    "start_time": "2021-12-08T21:59:49.754Z"
   },
   {
    "duration": 431,
    "start_time": "2021-12-08T21:59:54.845Z"
   },
   {
    "duration": 840,
    "start_time": "2021-12-08T22:00:48.659Z"
   },
   {
    "duration": 1046,
    "start_time": "2021-12-08T22:01:14.403Z"
   },
   {
    "duration": 771,
    "start_time": "2021-12-08T22:01:29.102Z"
   },
   {
    "duration": 803,
    "start_time": "2021-12-08T22:01:52.575Z"
   },
   {
    "duration": 1247,
    "start_time": "2021-12-08T22:02:07.478Z"
   },
   {
    "duration": 906,
    "start_time": "2021-12-08T22:02:44.302Z"
   },
   {
    "duration": 912,
    "start_time": "2021-12-08T22:03:11.224Z"
   },
   {
    "duration": 918,
    "start_time": "2021-12-08T22:03:32.585Z"
   },
   {
    "duration": 872,
    "start_time": "2021-12-08T22:03:40.753Z"
   },
   {
    "duration": 933,
    "start_time": "2021-12-08T22:03:45.981Z"
   },
   {
    "duration": 661,
    "start_time": "2021-12-08T22:04:21.586Z"
   },
   {
    "duration": 454,
    "start_time": "2021-12-08T22:05:20.192Z"
   },
   {
    "duration": 824,
    "start_time": "2021-12-08T22:05:32.778Z"
   },
   {
    "duration": 812,
    "start_time": "2021-12-08T22:05:42.707Z"
   },
   {
    "duration": 815,
    "start_time": "2021-12-08T22:05:48.779Z"
   },
   {
    "duration": 817,
    "start_time": "2021-12-08T22:06:46.364Z"
   },
   {
    "duration": 664,
    "start_time": "2021-12-08T22:08:49.706Z"
   },
   {
    "duration": 140,
    "start_time": "2021-12-08T22:09:12.997Z"
   },
   {
    "duration": 4,
    "start_time": "2021-12-08T22:09:33.935Z"
   },
   {
    "duration": 65,
    "start_time": "2021-12-08T22:09:33.943Z"
   },
   {
    "duration": 49,
    "start_time": "2021-12-08T22:09:34.012Z"
   },
   {
    "duration": 20,
    "start_time": "2021-12-08T22:09:34.065Z"
   },
   {
    "duration": 21,
    "start_time": "2021-12-08T22:09:34.088Z"
   },
   {
    "duration": 6,
    "start_time": "2021-12-08T22:09:34.112Z"
   },
   {
    "duration": 56,
    "start_time": "2021-12-08T22:09:34.121Z"
   },
   {
    "duration": 19,
    "start_time": "2021-12-08T22:09:34.180Z"
   },
   {
    "duration": 12,
    "start_time": "2021-12-08T22:09:34.201Z"
   },
   {
    "duration": 53,
    "start_time": "2021-12-08T22:09:34.215Z"
   },
   {
    "duration": 38,
    "start_time": "2021-12-08T22:09:34.271Z"
   },
   {
    "duration": 4,
    "start_time": "2021-12-08T22:09:34.311Z"
   },
   {
    "duration": 41,
    "start_time": "2021-12-08T22:09:34.318Z"
   },
   {
    "duration": 16,
    "start_time": "2021-12-08T22:09:34.362Z"
   },
   {
    "duration": 45,
    "start_time": "2021-12-08T22:09:34.381Z"
   },
   {
    "duration": 41,
    "start_time": "2021-12-08T22:09:34.429Z"
   },
   {
    "duration": 9,
    "start_time": "2021-12-08T22:09:34.472Z"
   },
   {
    "duration": 913,
    "start_time": "2021-12-08T22:09:34.483Z"
   },
   {
    "duration": 1068,
    "start_time": "2021-12-08T22:09:35.400Z"
   },
   {
    "duration": 988,
    "start_time": "2021-12-08T22:09:36.471Z"
   },
   {
    "duration": 31,
    "start_time": "2021-12-08T22:09:37.462Z"
   },
   {
    "duration": 4,
    "start_time": "2021-12-08T22:09:37.495Z"
   },
   {
    "duration": 10,
    "start_time": "2021-12-08T22:09:37.501Z"
   },
   {
    "duration": 8,
    "start_time": "2021-12-08T22:09:37.513Z"
   },
   {
    "duration": 892,
    "start_time": "2021-12-08T22:09:37.523Z"
   },
   {
    "duration": 20,
    "start_time": "2021-12-08T22:09:38.417Z"
   },
   {
    "duration": 3,
    "start_time": "2021-12-08T22:09:38.459Z"
   },
   {
    "duration": 470,
    "start_time": "2021-12-08T22:09:38.465Z"
   },
   {
    "duration": 4,
    "start_time": "2021-12-08T22:10:43.046Z"
   },
   {
    "duration": 56,
    "start_time": "2021-12-08T22:10:43.054Z"
   },
   {
    "duration": 45,
    "start_time": "2021-12-08T22:10:43.114Z"
   },
   {
    "duration": 14,
    "start_time": "2021-12-08T22:10:43.162Z"
   },
   {
    "duration": 14,
    "start_time": "2021-12-08T22:10:43.179Z"
   },
   {
    "duration": 7,
    "start_time": "2021-12-08T22:10:43.196Z"
   },
   {
    "duration": 61,
    "start_time": "2021-12-08T22:10:43.206Z"
   },
   {
    "duration": 20,
    "start_time": "2021-12-08T22:10:43.271Z"
   },
   {
    "duration": 11,
    "start_time": "2021-12-08T22:10:43.294Z"
   },
   {
    "duration": 11,
    "start_time": "2021-12-08T22:10:43.307Z"
   },
   {
    "duration": 42,
    "start_time": "2021-12-08T22:10:43.360Z"
   },
   {
    "duration": 4,
    "start_time": "2021-12-08T22:10:43.404Z"
   },
   {
    "duration": 9,
    "start_time": "2021-12-08T22:10:43.410Z"
   },
   {
    "duration": 43,
    "start_time": "2021-12-08T22:10:43.421Z"
   },
   {
    "duration": 45,
    "start_time": "2021-12-08T22:10:43.467Z"
   },
   {
    "duration": 12,
    "start_time": "2021-12-08T22:10:43.514Z"
   },
   {
    "duration": 8,
    "start_time": "2021-12-08T22:10:43.559Z"
   },
   {
    "duration": 924,
    "start_time": "2021-12-08T22:10:43.570Z"
   },
   {
    "duration": 810,
    "start_time": "2021-12-08T22:10:44.496Z"
   },
   {
    "duration": 718,
    "start_time": "2021-12-08T22:10:45.308Z"
   },
   {
    "duration": 63,
    "start_time": "2021-12-08T22:10:46.029Z"
   },
   {
    "duration": 5,
    "start_time": "2021-12-08T22:10:46.095Z"
   },
   {
    "duration": 9,
    "start_time": "2021-12-08T22:10:46.107Z"
   },
   {
    "duration": 39,
    "start_time": "2021-12-08T22:10:46.121Z"
   },
   {
    "duration": 759,
    "start_time": "2021-12-08T22:10:46.163Z"
   },
   {
    "duration": 21,
    "start_time": "2021-12-08T22:10:46.924Z"
   },
   {
    "duration": 4,
    "start_time": "2021-12-08T22:10:46.960Z"
   },
   {
    "duration": 498,
    "start_time": "2021-12-08T22:10:46.967Z"
   },
   {
    "duration": 456,
    "start_time": "2021-12-08T22:11:32.966Z"
   },
   {
    "duration": 390,
    "start_time": "2021-12-08T22:12:09.573Z"
   },
   {
    "duration": 393,
    "start_time": "2021-12-08T22:12:51.639Z"
   },
   {
    "duration": 674,
    "start_time": "2021-12-08T22:13:38.059Z"
   },
   {
    "duration": 786,
    "start_time": "2021-12-08T22:14:34.124Z"
   },
   {
    "duration": 1027,
    "start_time": "2021-12-08T22:14:42.159Z"
   },
   {
    "duration": 1017,
    "start_time": "2021-12-08T22:15:10.202Z"
   },
   {
    "duration": 1009,
    "start_time": "2021-12-08T22:15:16.782Z"
   },
   {
    "duration": 839,
    "start_time": "2021-12-08T22:15:25.737Z"
   },
   {
    "duration": 1219,
    "start_time": "2021-12-08T22:15:35.100Z"
   },
   {
    "duration": 794,
    "start_time": "2021-12-08T22:15:44.735Z"
   },
   {
    "duration": 795,
    "start_time": "2021-12-08T22:15:56.538Z"
   },
   {
    "duration": 1185,
    "start_time": "2021-12-08T22:16:38.098Z"
   },
   {
    "duration": 1184,
    "start_time": "2021-12-08T22:16:43.802Z"
   },
   {
    "duration": 780,
    "start_time": "2021-12-08T22:16:51.500Z"
   },
   {
    "duration": 810,
    "start_time": "2021-12-08T22:17:02.987Z"
   },
   {
    "duration": 809,
    "start_time": "2021-12-08T22:17:11.315Z"
   },
   {
    "duration": 1270,
    "start_time": "2021-12-08T22:18:11.008Z"
   },
   {
    "duration": 3,
    "start_time": "2021-12-08T22:18:15.475Z"
   },
   {
    "duration": 50,
    "start_time": "2021-12-08T22:18:15.481Z"
   },
   {
    "duration": 27,
    "start_time": "2021-12-08T22:18:15.535Z"
   },
   {
    "duration": 13,
    "start_time": "2021-12-08T22:18:15.565Z"
   },
   {
    "duration": 15,
    "start_time": "2021-12-08T22:18:15.581Z"
   },
   {
    "duration": 4,
    "start_time": "2021-12-08T22:18:15.598Z"
   },
   {
    "duration": 70,
    "start_time": "2021-12-08T22:18:15.605Z"
   },
   {
    "duration": 23,
    "start_time": "2021-12-08T22:18:15.679Z"
   },
   {
    "duration": 15,
    "start_time": "2021-12-08T22:18:15.704Z"
   },
   {
    "duration": 38,
    "start_time": "2021-12-08T22:18:15.722Z"
   },
   {
    "duration": 56,
    "start_time": "2021-12-08T22:18:15.763Z"
   },
   {
    "duration": 6,
    "start_time": "2021-12-08T22:18:15.822Z"
   },
   {
    "duration": 32,
    "start_time": "2021-12-08T22:18:15.830Z"
   },
   {
    "duration": 12,
    "start_time": "2021-12-08T22:18:15.864Z"
   },
   {
    "duration": 45,
    "start_time": "2021-12-08T22:18:15.879Z"
   },
   {
    "duration": 13,
    "start_time": "2021-12-08T22:18:15.959Z"
   },
   {
    "duration": 9,
    "start_time": "2021-12-08T22:18:15.975Z"
   },
   {
    "duration": 881,
    "start_time": "2021-12-08T22:18:15.987Z"
   },
   {
    "duration": 781,
    "start_time": "2021-12-08T22:18:16.874Z"
   },
   {
    "duration": 702,
    "start_time": "2021-12-08T22:18:17.661Z"
   },
   {
    "duration": 33,
    "start_time": "2021-12-08T22:18:18.365Z"
   },
   {
    "duration": 4,
    "start_time": "2021-12-08T22:18:18.400Z"
   },
   {
    "duration": 9,
    "start_time": "2021-12-08T22:18:18.406Z"
   },
   {
    "duration": 42,
    "start_time": "2021-12-08T22:18:18.417Z"
   },
   {
    "duration": 758,
    "start_time": "2021-12-08T22:18:18.462Z"
   },
   {
    "duration": 21,
    "start_time": "2021-12-08T22:18:19.222Z"
   },
   {
    "duration": 871,
    "start_time": "2021-12-08T22:18:19.260Z"
   },
   {
    "duration": 876,
    "start_time": "2021-12-08T22:18:55.122Z"
   },
   {
    "duration": 836,
    "start_time": "2021-12-08T22:21:08.605Z"
   },
   {
    "duration": 802,
    "start_time": "2021-12-08T22:21:44.989Z"
   },
   {
    "duration": 792,
    "start_time": "2021-12-08T22:21:54.829Z"
   },
   {
    "duration": 853,
    "start_time": "2021-12-08T22:22:02.272Z"
   },
   {
    "duration": 838,
    "start_time": "2021-12-08T22:22:13.751Z"
   },
   {
    "duration": 817,
    "start_time": "2021-12-08T22:22:31.442Z"
   },
   {
    "duration": 786,
    "start_time": "2021-12-08T22:22:37.207Z"
   },
   {
    "duration": 816,
    "start_time": "2021-12-08T22:22:42.977Z"
   },
   {
    "duration": 426,
    "start_time": "2021-12-08T22:22:53.165Z"
   },
   {
    "duration": 905,
    "start_time": "2021-12-08T22:22:59.005Z"
   },
   {
    "duration": 1091,
    "start_time": "2021-12-08T22:23:26.887Z"
   },
   {
    "duration": 1093,
    "start_time": "2021-12-08T22:23:34.390Z"
   },
   {
    "duration": 1020,
    "start_time": "2021-12-08T22:23:52.244Z"
   },
   {
    "duration": 1108,
    "start_time": "2021-12-08T22:23:59.451Z"
   },
   {
    "duration": 1228,
    "start_time": "2021-12-08T22:24:28.256Z"
   },
   {
    "duration": 1051,
    "start_time": "2021-12-08T22:24:38.201Z"
   },
   {
    "duration": 1184,
    "start_time": "2021-12-08T22:24:45.147Z"
   },
   {
    "duration": 4,
    "start_time": "2021-12-08T22:30:37.613Z"
   },
   {
    "duration": 49,
    "start_time": "2021-12-08T22:30:37.619Z"
   },
   {
    "duration": 18,
    "start_time": "2021-12-08T22:30:37.671Z"
   },
   {
    "duration": 14,
    "start_time": "2021-12-08T22:30:37.692Z"
   },
   {
    "duration": 51,
    "start_time": "2021-12-08T22:30:37.708Z"
   },
   {
    "duration": 4,
    "start_time": "2021-12-08T22:30:37.762Z"
   },
   {
    "duration": 19,
    "start_time": "2021-12-08T22:30:37.769Z"
   },
   {
    "duration": 20,
    "start_time": "2021-12-08T22:30:37.791Z"
   },
   {
    "duration": 13,
    "start_time": "2021-12-08T22:30:37.813Z"
   },
   {
    "duration": 12,
    "start_time": "2021-12-08T22:30:37.860Z"
   },
   {
    "duration": 38,
    "start_time": "2021-12-08T22:30:37.874Z"
   },
   {
    "duration": 4,
    "start_time": "2021-12-08T22:30:37.914Z"
   },
   {
    "duration": 42,
    "start_time": "2021-12-08T22:30:37.920Z"
   },
   {
    "duration": 12,
    "start_time": "2021-12-08T22:30:37.964Z"
   },
   {
    "duration": 45,
    "start_time": "2021-12-08T22:30:37.978Z"
   },
   {
    "duration": 37,
    "start_time": "2021-12-08T22:30:38.025Z"
   },
   {
    "duration": 8,
    "start_time": "2021-12-08T22:30:38.064Z"
   },
   {
    "duration": 848,
    "start_time": "2021-12-08T22:30:38.074Z"
   },
   {
    "duration": 759,
    "start_time": "2021-12-08T22:30:38.926Z"
   },
   {
    "duration": 692,
    "start_time": "2021-12-08T22:30:39.688Z"
   },
   {
    "duration": 30,
    "start_time": "2021-12-08T22:30:40.382Z"
   },
   {
    "duration": 4,
    "start_time": "2021-12-08T22:30:40.414Z"
   },
   {
    "duration": 8,
    "start_time": "2021-12-08T22:30:40.420Z"
   },
   {
    "duration": 35,
    "start_time": "2021-12-08T22:30:40.430Z"
   },
   {
    "duration": 732,
    "start_time": "2021-12-08T22:30:40.468Z"
   },
   {
    "duration": 20,
    "start_time": "2021-12-08T22:30:41.203Z"
   },
   {
    "duration": 1242,
    "start_time": "2021-12-08T22:30:41.225Z"
   },
   {
    "duration": 377,
    "start_time": "2021-12-09T12:21:31.557Z"
   },
   {
    "duration": 1247,
    "start_time": "2021-12-09T12:21:39.120Z"
   },
   {
    "duration": 39,
    "start_time": "2021-12-09T12:21:40.369Z"
   },
   {
    "duration": 16,
    "start_time": "2021-12-09T12:21:40.410Z"
   },
   {
    "duration": 11,
    "start_time": "2021-12-09T12:21:40.429Z"
   },
   {
    "duration": 10,
    "start_time": "2021-12-09T12:21:40.442Z"
   },
   {
    "duration": 5,
    "start_time": "2021-12-09T12:21:40.454Z"
   },
   {
    "duration": 14,
    "start_time": "2021-12-09T12:21:40.460Z"
   },
   {
    "duration": 41,
    "start_time": "2021-12-09T12:21:40.475Z"
   },
   {
    "duration": 9,
    "start_time": "2021-12-09T12:21:40.519Z"
   },
   {
    "duration": 9,
    "start_time": "2021-12-09T12:21:40.530Z"
   },
   {
    "duration": 26,
    "start_time": "2021-12-09T12:21:40.540Z"
   },
   {
    "duration": 3,
    "start_time": "2021-12-09T12:21:40.568Z"
   },
   {
    "duration": 36,
    "start_time": "2021-12-09T12:21:40.572Z"
   },
   {
    "duration": 10,
    "start_time": "2021-12-09T12:21:40.610Z"
   },
   {
    "duration": 30,
    "start_time": "2021-12-09T12:21:40.622Z"
   },
   {
    "duration": 8,
    "start_time": "2021-12-09T12:21:40.654Z"
   },
   {
    "duration": 10,
    "start_time": "2021-12-09T12:21:40.664Z"
   },
   {
    "duration": 699,
    "start_time": "2021-12-09T12:21:40.676Z"
   },
   {
    "duration": 681,
    "start_time": "2021-12-09T12:21:41.378Z"
   },
   {
    "duration": 439,
    "start_time": "2021-12-09T12:21:42.061Z"
   },
   {
    "duration": 24,
    "start_time": "2021-12-09T12:21:42.501Z"
   },
   {
    "duration": 3,
    "start_time": "2021-12-09T12:21:42.526Z"
   },
   {
    "duration": 9,
    "start_time": "2021-12-09T12:21:42.531Z"
   },
   {
    "duration": 12,
    "start_time": "2021-12-09T12:21:42.542Z"
   },
   {
    "duration": 479,
    "start_time": "2021-12-09T12:21:42.556Z"
   },
   {
    "duration": 14,
    "start_time": "2021-12-09T12:21:43.037Z"
   },
   {
    "duration": 727,
    "start_time": "2021-12-09T12:21:43.054Z"
   },
   {
    "duration": 25,
    "start_time": "2021-12-09T12:21:43.783Z"
   },
   {
    "duration": 607,
    "start_time": "2021-12-09T12:24:10.257Z"
   },
   {
    "duration": 572,
    "start_time": "2021-12-09T12:27:03.769Z"
   },
   {
    "duration": 557,
    "start_time": "2021-12-09T12:27:36.679Z"
   },
   {
    "duration": 3,
    "start_time": "2021-12-09T13:13:52.028Z"
   },
   {
    "duration": 39,
    "start_time": "2021-12-09T13:13:52.033Z"
   },
   {
    "duration": 12,
    "start_time": "2021-12-09T13:13:52.074Z"
   },
   {
    "duration": 10,
    "start_time": "2021-12-09T13:13:52.088Z"
   },
   {
    "duration": 14,
    "start_time": "2021-12-09T13:13:52.100Z"
   },
   {
    "duration": 2,
    "start_time": "2021-12-09T13:13:52.116Z"
   },
   {
    "duration": 21,
    "start_time": "2021-12-09T13:13:52.120Z"
   },
   {
    "duration": 12,
    "start_time": "2021-12-09T13:13:52.143Z"
   },
   {
    "duration": 13,
    "start_time": "2021-12-09T13:13:52.157Z"
   },
   {
    "duration": 9,
    "start_time": "2021-12-09T13:13:52.172Z"
   },
   {
    "duration": 47,
    "start_time": "2021-12-09T13:13:52.183Z"
   },
   {
    "duration": 4,
    "start_time": "2021-12-09T13:13:52.232Z"
   },
   {
    "duration": 11,
    "start_time": "2021-12-09T13:13:52.238Z"
   },
   {
    "duration": 9,
    "start_time": "2021-12-09T13:13:52.251Z"
   },
   {
    "duration": 54,
    "start_time": "2021-12-09T13:13:52.262Z"
   },
   {
    "duration": 9,
    "start_time": "2021-12-09T13:13:52.318Z"
   },
   {
    "duration": 5,
    "start_time": "2021-12-09T13:13:52.329Z"
   },
   {
    "duration": 515,
    "start_time": "2021-12-09T13:13:52.336Z"
   },
   {
    "duration": 472,
    "start_time": "2021-12-09T13:13:52.854Z"
   },
   {
    "duration": 428,
    "start_time": "2021-12-09T13:13:53.327Z"
   },
   {
    "duration": 21,
    "start_time": "2021-12-09T13:13:53.757Z"
   },
   {
    "duration": 3,
    "start_time": "2021-12-09T13:13:53.779Z"
   },
   {
    "duration": 21,
    "start_time": "2021-12-09T13:13:53.785Z"
   },
   {
    "duration": 7,
    "start_time": "2021-12-09T13:13:53.808Z"
   },
   {
    "duration": 452,
    "start_time": "2021-12-09T13:13:53.816Z"
   },
   {
    "duration": 12,
    "start_time": "2021-12-09T13:13:54.270Z"
   },
   {
    "duration": 680,
    "start_time": "2021-12-09T13:13:54.284Z"
   },
   {
    "duration": 619,
    "start_time": "2021-12-09T13:13:54.966Z"
   },
   {
    "duration": 510,
    "start_time": "2021-12-09T13:28:39.028Z"
   },
   {
    "duration": 525,
    "start_time": "2021-12-09T13:29:11.647Z"
   },
   {
    "duration": 76831,
    "start_time": "2021-12-09T13:44:46.439Z"
   },
   {
    "duration": 602,
    "start_time": "2021-12-09T13:50:36.258Z"
   },
   {
    "duration": 43553,
    "start_time": "2021-12-09T13:52:07.706Z"
   },
   {
    "duration": 10156,
    "start_time": "2021-12-09T13:55:12.207Z"
   },
   {
    "duration": 5734,
    "start_time": "2021-12-09T13:55:33.781Z"
   },
   {
    "duration": 1800,
    "start_time": "2021-12-09T13:56:01.821Z"
   },
   {
    "duration": 5062,
    "start_time": "2021-12-09T13:56:14.527Z"
   },
   {
    "duration": 532,
    "start_time": "2021-12-09T13:57:48.229Z"
   },
   {
    "duration": 5116,
    "start_time": "2021-12-09T13:58:02.750Z"
   },
   {
    "duration": 715,
    "start_time": "2021-12-09T14:03:47.050Z"
   },
   {
    "duration": 424,
    "start_time": "2021-12-09T14:07:29.085Z"
   },
   {
    "duration": 495,
    "start_time": "2021-12-09T14:09:38.332Z"
   },
   {
    "duration": 3,
    "start_time": "2021-12-09T14:10:07.914Z"
   },
   {
    "duration": 1017,
    "start_time": "2021-12-09T14:10:11.867Z"
   },
   {
    "duration": 379,
    "start_time": "2021-12-09T14:12:00.797Z"
   },
   {
    "duration": 207,
    "start_time": "2021-12-10T14:58:21.706Z"
   },
   {
    "duration": 1077,
    "start_time": "2021-12-10T14:58:27.833Z"
   },
   {
    "duration": 38,
    "start_time": "2021-12-10T14:58:28.911Z"
   },
   {
    "duration": 14,
    "start_time": "2021-12-10T14:58:28.951Z"
   },
   {
    "duration": 9,
    "start_time": "2021-12-10T14:58:28.967Z"
   },
   {
    "duration": 17,
    "start_time": "2021-12-10T14:58:28.978Z"
   },
   {
    "duration": 3,
    "start_time": "2021-12-10T14:58:28.997Z"
   },
   {
    "duration": 26,
    "start_time": "2021-12-10T14:58:29.001Z"
   },
   {
    "duration": 21,
    "start_time": "2021-12-10T14:58:29.029Z"
   },
   {
    "duration": 8,
    "start_time": "2021-12-10T14:58:29.052Z"
   },
   {
    "duration": 8,
    "start_time": "2021-12-10T14:58:29.062Z"
   },
   {
    "duration": 39,
    "start_time": "2021-12-10T14:58:29.072Z"
   },
   {
    "duration": 3,
    "start_time": "2021-12-10T14:58:29.112Z"
   },
   {
    "duration": 6,
    "start_time": "2021-12-10T14:58:29.117Z"
   },
   {
    "duration": 10,
    "start_time": "2021-12-10T14:58:29.124Z"
   },
   {
    "duration": 28,
    "start_time": "2021-12-10T14:58:29.135Z"
   },
   {
    "duration": 31,
    "start_time": "2021-12-10T14:58:29.164Z"
   },
   {
    "duration": 6,
    "start_time": "2021-12-10T14:58:29.197Z"
   },
   {
    "duration": 544,
    "start_time": "2021-12-10T14:58:29.205Z"
   },
   {
    "duration": 487,
    "start_time": "2021-12-10T14:58:29.750Z"
   },
   {
    "duration": 432,
    "start_time": "2021-12-10T14:58:30.238Z"
   },
   {
    "duration": 27,
    "start_time": "2021-12-10T14:58:30.672Z"
   },
   {
    "duration": 3,
    "start_time": "2021-12-10T14:58:30.701Z"
   },
   {
    "duration": 12,
    "start_time": "2021-12-10T14:58:30.706Z"
   },
   {
    "duration": 25,
    "start_time": "2021-12-10T14:58:30.719Z"
   },
   {
    "duration": 449,
    "start_time": "2021-12-10T14:58:30.746Z"
   },
   {
    "duration": 14,
    "start_time": "2021-12-10T14:58:31.197Z"
   },
   {
    "duration": 739,
    "start_time": "2021-12-10T14:58:31.213Z"
   },
   {
    "duration": 624,
    "start_time": "2021-12-10T14:58:31.954Z"
   },
   {
    "duration": 4973,
    "start_time": "2021-12-10T14:58:32.580Z"
   },
   {
    "duration": 584,
    "start_time": "2021-12-10T14:58:37.555Z"
   },
   {
    "duration": 5028,
    "start_time": "2021-12-10T14:58:38.141Z"
   },
   {
    "duration": 395,
    "start_time": "2021-12-10T14:58:43.170Z"
   },
   {
    "duration": 4,
    "start_time": "2021-12-10T14:58:56.545Z"
   },
   {
    "duration": 44,
    "start_time": "2021-12-10T14:58:56.550Z"
   },
   {
    "duration": 13,
    "start_time": "2021-12-10T14:58:56.596Z"
   },
   {
    "duration": 12,
    "start_time": "2021-12-10T14:58:56.611Z"
   },
   {
    "duration": 11,
    "start_time": "2021-12-10T14:58:56.625Z"
   },
   {
    "duration": 3,
    "start_time": "2021-12-10T14:58:56.638Z"
   },
   {
    "duration": 50,
    "start_time": "2021-12-10T14:58:56.642Z"
   },
   {
    "duration": 14,
    "start_time": "2021-12-10T14:58:56.696Z"
   },
   {
    "duration": 9,
    "start_time": "2021-12-10T14:58:56.713Z"
   },
   {
    "duration": 9,
    "start_time": "2021-12-10T14:58:56.724Z"
   },
   {
    "duration": 33,
    "start_time": "2021-12-10T14:58:56.735Z"
   },
   {
    "duration": 4,
    "start_time": "2021-12-10T14:58:56.792Z"
   },
   {
    "duration": 9,
    "start_time": "2021-12-10T14:58:56.797Z"
   },
   {
    "duration": 14,
    "start_time": "2021-12-10T14:58:56.808Z"
   },
   {
    "duration": 31,
    "start_time": "2021-12-10T14:58:56.823Z"
   },
   {
    "duration": 8,
    "start_time": "2021-12-10T14:58:56.856Z"
   },
   {
    "duration": 6,
    "start_time": "2021-12-10T14:58:56.866Z"
   },
   {
    "duration": 575,
    "start_time": "2021-12-10T14:58:56.874Z"
   },
   {
    "duration": 482,
    "start_time": "2021-12-10T14:58:57.451Z"
   },
   {
    "duration": 441,
    "start_time": "2021-12-10T14:58:57.935Z"
   },
   {
    "duration": 28,
    "start_time": "2021-12-10T14:58:58.378Z"
   },
   {
    "duration": 3,
    "start_time": "2021-12-10T14:58:58.409Z"
   },
   {
    "duration": 5,
    "start_time": "2021-12-10T14:58:58.415Z"
   },
   {
    "duration": 7,
    "start_time": "2021-12-10T14:58:58.422Z"
   },
   {
    "duration": 482,
    "start_time": "2021-12-10T14:58:58.430Z"
   },
   {
    "duration": 15,
    "start_time": "2021-12-10T14:58:58.915Z"
   },
   {
    "duration": 733,
    "start_time": "2021-12-10T14:58:58.931Z"
   },
   {
    "duration": 685,
    "start_time": "2021-12-10T14:58:59.666Z"
   },
   {
    "duration": 5140,
    "start_time": "2021-12-10T14:59:00.353Z"
   },
   {
    "duration": 564,
    "start_time": "2021-12-10T14:59:05.495Z"
   },
   {
    "duration": 5081,
    "start_time": "2021-12-10T14:59:06.061Z"
   },
   {
    "duration": 377,
    "start_time": "2021-12-10T14:59:11.143Z"
   },
   {
    "duration": 375,
    "start_time": "2021-12-10T15:01:53.610Z"
   },
   {
    "duration": 368,
    "start_time": "2021-12-10T15:02:05.917Z"
   },
   {
    "duration": 516,
    "start_time": "2021-12-10T15:02:35.157Z"
   },
   {
    "duration": 468,
    "start_time": "2021-12-10T15:03:17.612Z"
   },
   {
    "duration": 418,
    "start_time": "2021-12-10T15:03:43.892Z"
   },
   {
    "duration": 438,
    "start_time": "2021-12-10T15:03:59.605Z"
   },
   {
    "duration": 4417,
    "start_time": "2021-12-10T15:05:42.818Z"
   },
   {
    "duration": 3,
    "start_time": "2021-12-10T15:06:39.067Z"
   },
   {
    "duration": 41,
    "start_time": "2021-12-10T15:06:39.072Z"
   },
   {
    "duration": 13,
    "start_time": "2021-12-10T15:06:39.115Z"
   },
   {
    "duration": 13,
    "start_time": "2021-12-10T15:06:39.130Z"
   },
   {
    "duration": 10,
    "start_time": "2021-12-10T15:06:39.144Z"
   },
   {
    "duration": 2,
    "start_time": "2021-12-10T15:06:39.156Z"
   },
   {
    "duration": 12,
    "start_time": "2021-12-10T15:06:39.192Z"
   },
   {
    "duration": 13,
    "start_time": "2021-12-10T15:06:39.206Z"
   },
   {
    "duration": 8,
    "start_time": "2021-12-10T15:06:39.221Z"
   },
   {
    "duration": 8,
    "start_time": "2021-12-10T15:06:39.230Z"
   },
   {
    "duration": 58,
    "start_time": "2021-12-10T15:06:39.239Z"
   },
   {
    "duration": 3,
    "start_time": "2021-12-10T15:06:39.299Z"
   },
   {
    "duration": 8,
    "start_time": "2021-12-10T15:06:39.303Z"
   },
   {
    "duration": 11,
    "start_time": "2021-12-10T15:06:39.312Z"
   },
   {
    "duration": 32,
    "start_time": "2021-12-10T15:06:39.325Z"
   },
   {
    "duration": 8,
    "start_time": "2021-12-10T15:06:39.359Z"
   },
   {
    "duration": 22,
    "start_time": "2021-12-10T15:06:39.369Z"
   },
   {
    "duration": 533,
    "start_time": "2021-12-10T15:06:39.393Z"
   },
   {
    "duration": 628,
    "start_time": "2021-12-10T15:06:39.928Z"
   },
   {
    "duration": 430,
    "start_time": "2021-12-10T15:06:40.558Z"
   },
   {
    "duration": 20,
    "start_time": "2021-12-10T15:06:40.989Z"
   },
   {
    "duration": 2,
    "start_time": "2021-12-10T15:06:41.011Z"
   },
   {
    "duration": 7,
    "start_time": "2021-12-10T15:06:41.015Z"
   },
   {
    "duration": 8,
    "start_time": "2021-12-10T15:06:41.024Z"
   },
   {
    "duration": 465,
    "start_time": "2021-12-10T15:06:41.033Z"
   },
   {
    "duration": 14,
    "start_time": "2021-12-10T15:06:41.500Z"
   },
   {
    "duration": 746,
    "start_time": "2021-12-10T15:06:41.515Z"
   },
   {
    "duration": 579,
    "start_time": "2021-12-10T15:06:42.262Z"
   },
   {
    "duration": 4488,
    "start_time": "2021-12-10T15:06:42.842Z"
   },
   {
    "duration": 541,
    "start_time": "2021-12-10T15:06:47.331Z"
   },
   {
    "duration": 4871,
    "start_time": "2021-12-10T15:06:47.873Z"
   },
   {
    "duration": 382,
    "start_time": "2021-12-10T15:06:52.745Z"
   },
   {
    "duration": 58,
    "start_time": "2021-12-10T15:15:33.451Z"
   },
   {
    "duration": 8,
    "start_time": "2021-12-10T15:17:16.794Z"
   },
   {
    "duration": 8,
    "start_time": "2021-12-10T15:18:03.521Z"
   },
   {
    "duration": 235,
    "start_time": "2021-12-10T15:18:25.082Z"
   },
   {
    "duration": 179,
    "start_time": "2021-12-10T15:18:31.420Z"
   },
   {
    "duration": 13,
    "start_time": "2021-12-10T15:18:59.095Z"
   },
   {
    "duration": 175,
    "start_time": "2021-12-10T15:19:06.254Z"
   },
   {
    "duration": 120,
    "start_time": "2021-12-10T15:19:21.080Z"
   },
   {
    "duration": 158,
    "start_time": "2021-12-10T15:19:24.827Z"
   },
   {
    "duration": 184,
    "start_time": "2021-12-10T15:19:31.458Z"
   },
   {
    "duration": 156,
    "start_time": "2021-12-10T15:19:36.374Z"
   },
   {
    "duration": 162,
    "start_time": "2021-12-10T15:19:43.153Z"
   },
   {
    "duration": 167,
    "start_time": "2021-12-10T15:19:49.646Z"
   },
   {
    "duration": 172,
    "start_time": "2021-12-10T15:20:21.975Z"
   },
   {
    "duration": 174,
    "start_time": "2021-12-10T15:21:41.452Z"
   },
   {
    "duration": 180,
    "start_time": "2021-12-10T15:22:32.105Z"
   },
   {
    "duration": 175,
    "start_time": "2021-12-10T15:22:58.801Z"
   },
   {
    "duration": 181,
    "start_time": "2021-12-10T15:23:12.390Z"
   },
   {
    "duration": 178,
    "start_time": "2021-12-10T15:23:59.446Z"
   },
   {
    "duration": 177,
    "start_time": "2021-12-10T15:25:09.014Z"
   },
   {
    "duration": 21,
    "start_time": "2021-12-10T15:42:54.845Z"
   },
   {
    "duration": 5,
    "start_time": "2021-12-10T15:44:19.531Z"
   },
   {
    "duration": 167,
    "start_time": "2021-12-10T15:49:19.681Z"
   },
   {
    "duration": 173,
    "start_time": "2021-12-10T15:50:00.324Z"
   },
   {
    "duration": 59,
    "start_time": "2021-12-10T15:50:30.659Z"
   },
   {
    "duration": 188,
    "start_time": "2021-12-10T15:50:43.494Z"
   },
   {
    "duration": 178,
    "start_time": "2021-12-10T15:51:06.997Z"
   },
   {
    "duration": 172,
    "start_time": "2021-12-10T15:57:09.942Z"
   },
   {
    "duration": 167,
    "start_time": "2021-12-10T16:01:15.598Z"
   },
   {
    "duration": 180,
    "start_time": "2021-12-10T16:01:58.485Z"
   },
   {
    "duration": 7,
    "start_time": "2021-12-10T16:02:45.300Z"
   },
   {
    "duration": 7,
    "start_time": "2021-12-10T16:05:12.316Z"
   },
   {
    "duration": 7,
    "start_time": "2021-12-10T16:05:22.156Z"
   },
   {
    "duration": 5,
    "start_time": "2021-12-10T16:08:05.475Z"
   },
   {
    "duration": 5,
    "start_time": "2021-12-10T16:08:11.658Z"
   },
   {
    "duration": 4,
    "start_time": "2021-12-10T16:08:36.456Z"
   },
   {
    "duration": 42,
    "start_time": "2021-12-10T16:08:36.462Z"
   },
   {
    "duration": 15,
    "start_time": "2021-12-10T16:08:36.506Z"
   },
   {
    "duration": 12,
    "start_time": "2021-12-10T16:08:36.524Z"
   },
   {
    "duration": 12,
    "start_time": "2021-12-10T16:08:36.538Z"
   },
   {
    "duration": 3,
    "start_time": "2021-12-10T16:08:36.552Z"
   },
   {
    "duration": 46,
    "start_time": "2021-12-10T16:08:36.557Z"
   },
   {
    "duration": 15,
    "start_time": "2021-12-10T16:08:36.606Z"
   },
   {
    "duration": 9,
    "start_time": "2021-12-10T16:08:36.623Z"
   },
   {
    "duration": 9,
    "start_time": "2021-12-10T16:08:36.634Z"
   },
   {
    "duration": 68,
    "start_time": "2021-12-10T16:08:36.645Z"
   },
   {
    "duration": 3,
    "start_time": "2021-12-10T16:08:36.715Z"
   },
   {
    "duration": 6,
    "start_time": "2021-12-10T16:08:36.720Z"
   },
   {
    "duration": 10,
    "start_time": "2021-12-10T16:08:36.728Z"
   },
   {
    "duration": 59,
    "start_time": "2021-12-10T16:08:36.740Z"
   },
   {
    "duration": 8,
    "start_time": "2021-12-10T16:08:36.800Z"
   },
   {
    "duration": 11,
    "start_time": "2021-12-10T16:08:36.810Z"
   },
   {
    "duration": 6,
    "start_time": "2021-12-10T16:08:36.822Z"
   },
   {
    "duration": 9,
    "start_time": "2021-12-10T16:08:36.831Z"
   },
   {
    "duration": 588,
    "start_time": "2021-12-10T16:08:36.842Z"
   },
   {
    "duration": 522,
    "start_time": "2021-12-10T16:08:37.431Z"
   },
   {
    "duration": 472,
    "start_time": "2021-12-10T16:08:37.955Z"
   },
   {
    "duration": 22,
    "start_time": "2021-12-10T16:08:38.429Z"
   },
   {
    "duration": 2,
    "start_time": "2021-12-10T16:08:38.453Z"
   },
   {
    "duration": 7,
    "start_time": "2021-12-10T16:08:38.457Z"
   },
   {
    "duration": 30,
    "start_time": "2021-12-10T16:08:38.465Z"
   },
   {
    "duration": 486,
    "start_time": "2021-12-10T16:08:38.497Z"
   },
   {
    "duration": 15,
    "start_time": "2021-12-10T16:08:38.985Z"
   },
   {
    "duration": 1073,
    "start_time": "2021-12-10T16:08:39.001Z"
   },
   {
    "duration": 574,
    "start_time": "2021-12-10T16:08:40.076Z"
   },
   {
    "duration": 4692,
    "start_time": "2021-12-10T16:08:40.652Z"
   },
   {
    "duration": 632,
    "start_time": "2021-12-10T16:08:45.346Z"
   },
   {
    "duration": 4790,
    "start_time": "2021-12-10T16:08:45.980Z"
   },
   {
    "duration": 411,
    "start_time": "2021-12-10T16:08:50.772Z"
   },
   {
    "duration": 201,
    "start_time": "2021-12-10T16:08:51.185Z"
   },
   {
    "duration": 205,
    "start_time": "2021-12-10T16:08:51.391Z"
   },
   {
    "duration": 196,
    "start_time": "2021-12-10T16:08:51.599Z"
   },
   {
    "duration": 193,
    "start_time": "2021-12-10T16:08:51.798Z"
   },
   {
    "duration": 192,
    "start_time": "2021-12-10T16:08:51.993Z"
   },
   {
    "duration": 189,
    "start_time": "2021-12-10T16:08:52.191Z"
   },
   {
    "duration": 11,
    "start_time": "2021-12-10T16:08:52.381Z"
   },
   {
    "duration": 180,
    "start_time": "2021-12-10T16:08:52.394Z"
   },
   {
    "duration": 5,
    "start_time": "2021-12-10T16:08:52.576Z"
   },
   {
    "duration": 102,
    "start_time": "2021-12-10T16:10:45.207Z"
   },
   {
    "duration": 171,
    "start_time": "2021-12-10T16:11:12.199Z"
   },
   {
    "duration": 82,
    "start_time": "2021-12-10T16:37:59.561Z"
   },
   {
    "duration": 186,
    "start_time": "2021-12-10T16:38:26.368Z"
   },
   {
    "duration": 186,
    "start_time": "2021-12-10T16:41:25.821Z"
   },
   {
    "duration": 182,
    "start_time": "2021-12-10T16:41:30.900Z"
   },
   {
    "duration": 217,
    "start_time": "2021-12-10T16:53:00.696Z"
   },
   {
    "duration": 3,
    "start_time": "2021-12-10T16:53:28.570Z"
   },
   {
    "duration": 44,
    "start_time": "2021-12-10T16:53:28.575Z"
   },
   {
    "duration": 13,
    "start_time": "2021-12-10T16:53:28.621Z"
   },
   {
    "duration": 12,
    "start_time": "2021-12-10T16:53:28.636Z"
   },
   {
    "duration": 9,
    "start_time": "2021-12-10T16:53:28.649Z"
   },
   {
    "duration": 3,
    "start_time": "2021-12-10T16:53:28.660Z"
   },
   {
    "duration": 12,
    "start_time": "2021-12-10T16:53:28.691Z"
   },
   {
    "duration": 13,
    "start_time": "2021-12-10T16:53:28.705Z"
   },
   {
    "duration": 9,
    "start_time": "2021-12-10T16:53:28.720Z"
   },
   {
    "duration": 8,
    "start_time": "2021-12-10T16:53:28.730Z"
   },
   {
    "duration": 56,
    "start_time": "2021-12-10T16:53:28.739Z"
   },
   {
    "duration": 4,
    "start_time": "2021-12-10T16:53:28.796Z"
   },
   {
    "duration": 5,
    "start_time": "2021-12-10T16:53:28.802Z"
   },
   {
    "duration": 9,
    "start_time": "2021-12-10T16:53:28.808Z"
   },
   {
    "duration": 29,
    "start_time": "2021-12-10T16:53:28.818Z"
   },
   {
    "duration": 8,
    "start_time": "2021-12-10T16:53:28.849Z"
   },
   {
    "duration": 36,
    "start_time": "2021-12-10T16:53:28.859Z"
   },
   {
    "duration": 14,
    "start_time": "2021-12-10T16:53:28.896Z"
   },
   {
    "duration": 7,
    "start_time": "2021-12-10T16:53:28.911Z"
   },
   {
    "duration": 513,
    "start_time": "2021-12-10T16:53:28.920Z"
   },
   {
    "duration": 474,
    "start_time": "2021-12-10T16:53:29.435Z"
   },
   {
    "duration": 431,
    "start_time": "2021-12-10T16:53:29.911Z"
   },
   {
    "duration": 20,
    "start_time": "2021-12-10T16:53:30.345Z"
   },
   {
    "duration": 3,
    "start_time": "2021-12-10T16:53:30.367Z"
   },
   {
    "duration": 22,
    "start_time": "2021-12-10T16:53:30.372Z"
   },
   {
    "duration": 15,
    "start_time": "2021-12-10T16:53:30.395Z"
   },
   {
    "duration": 726,
    "start_time": "2021-12-10T16:53:30.412Z"
   },
   {
    "duration": 14,
    "start_time": "2021-12-10T16:53:31.139Z"
   },
   {
    "duration": 698,
    "start_time": "2021-12-10T16:53:31.155Z"
   },
   {
    "duration": 567,
    "start_time": "2021-12-10T16:53:31.855Z"
   },
   {
    "duration": 4422,
    "start_time": "2021-12-10T16:53:32.424Z"
   },
   {
    "duration": 580,
    "start_time": "2021-12-10T16:53:36.848Z"
   },
   {
    "duration": 4483,
    "start_time": "2021-12-10T16:53:37.430Z"
   },
   {
    "duration": 397,
    "start_time": "2021-12-10T16:53:41.915Z"
   },
   {
    "duration": 188,
    "start_time": "2021-12-10T16:53:42.314Z"
   },
   {
    "duration": 194,
    "start_time": "2021-12-10T16:53:42.504Z"
   },
   {
    "duration": 194,
    "start_time": "2021-12-10T16:53:42.701Z"
   },
   {
    "duration": 79,
    "start_time": "2021-12-10T16:53:42.897Z"
   },
   {
    "duration": 152621,
    "start_time": "2021-12-10T16:51:10.356Z"
   },
   {
    "duration": 152611,
    "start_time": "2021-12-10T16:51:10.367Z"
   },
   {
    "duration": 152609,
    "start_time": "2021-12-10T16:51:10.371Z"
   },
   {
    "duration": 152600,
    "start_time": "2021-12-10T16:51:10.380Z"
   },
   {
    "duration": 152596,
    "start_time": "2021-12-10T16:51:10.385Z"
   },
   {
    "duration": 152585,
    "start_time": "2021-12-10T16:51:10.397Z"
   },
   {
    "duration": 3,
    "start_time": "2021-12-10T16:54:03.824Z"
   },
   {
    "duration": 42,
    "start_time": "2021-12-10T16:54:03.829Z"
   },
   {
    "duration": 11,
    "start_time": "2021-12-10T16:54:03.873Z"
   },
   {
    "duration": 20,
    "start_time": "2021-12-10T16:54:03.887Z"
   },
   {
    "duration": 12,
    "start_time": "2021-12-10T16:54:03.909Z"
   },
   {
    "duration": 6,
    "start_time": "2021-12-10T16:54:03.923Z"
   },
   {
    "duration": 22,
    "start_time": "2021-12-10T16:54:03.931Z"
   },
   {
    "duration": 19,
    "start_time": "2021-12-10T16:54:03.956Z"
   },
   {
    "duration": 9,
    "start_time": "2021-12-10T16:54:03.992Z"
   },
   {
    "duration": 15,
    "start_time": "2021-12-10T16:54:04.002Z"
   },
   {
    "duration": 33,
    "start_time": "2021-12-10T16:54:04.019Z"
   },
   {
    "duration": 4,
    "start_time": "2021-12-10T16:54:04.054Z"
   },
   {
    "duration": 8,
    "start_time": "2021-12-10T16:54:04.060Z"
   },
   {
    "duration": 28,
    "start_time": "2021-12-10T16:54:04.069Z"
   },
   {
    "duration": 29,
    "start_time": "2021-12-10T16:54:04.099Z"
   },
   {
    "duration": 8,
    "start_time": "2021-12-10T16:54:04.130Z"
   },
   {
    "duration": 7,
    "start_time": "2021-12-10T16:54:04.140Z"
   },
   {
    "duration": 6,
    "start_time": "2021-12-10T16:54:04.148Z"
   },
   {
    "duration": 34,
    "start_time": "2021-12-10T16:54:04.157Z"
   },
   {
    "duration": 536,
    "start_time": "2021-12-10T16:54:04.193Z"
   },
   {
    "duration": 477,
    "start_time": "2021-12-10T16:54:04.731Z"
   },
   {
    "duration": 421,
    "start_time": "2021-12-10T16:54:05.210Z"
   },
   {
    "duration": 19,
    "start_time": "2021-12-10T16:54:05.633Z"
   },
   {
    "duration": 3,
    "start_time": "2021-12-10T16:54:05.653Z"
   },
   {
    "duration": 26,
    "start_time": "2021-12-10T16:54:05.658Z"
   },
   {
    "duration": 14,
    "start_time": "2021-12-10T16:54:05.685Z"
   },
   {
    "duration": 457,
    "start_time": "2021-12-10T16:54:05.701Z"
   },
   {
    "duration": 14,
    "start_time": "2021-12-10T16:54:06.159Z"
   },
   {
    "duration": 767,
    "start_time": "2021-12-10T16:54:06.174Z"
   },
   {
    "duration": 553,
    "start_time": "2021-12-10T16:54:06.943Z"
   },
   {
    "duration": 4873,
    "start_time": "2021-12-10T16:54:07.498Z"
   },
   {
    "duration": 567,
    "start_time": "2021-12-10T16:54:12.373Z"
   },
   {
    "duration": 4773,
    "start_time": "2021-12-10T16:54:12.941Z"
   },
   {
    "duration": 382,
    "start_time": "2021-12-10T16:54:17.716Z"
   },
   {
    "duration": 195,
    "start_time": "2021-12-10T16:54:18.101Z"
   },
   {
    "duration": 191,
    "start_time": "2021-12-10T16:54:18.298Z"
   },
   {
    "duration": 182,
    "start_time": "2021-12-10T16:54:18.492Z"
   },
   {
    "duration": 169,
    "start_time": "2021-12-10T16:54:18.676Z"
   },
   {
    "duration": 173,
    "start_time": "2021-12-10T16:54:18.847Z"
   },
   {
    "duration": 185,
    "start_time": "2021-12-10T16:54:19.022Z"
   },
   {
    "duration": 185,
    "start_time": "2021-12-10T16:54:19.208Z"
   },
   {
    "duration": 187,
    "start_time": "2021-12-10T16:54:19.394Z"
   },
   {
    "duration": 201,
    "start_time": "2021-12-10T16:54:19.583Z"
   },
   {
    "duration": 350,
    "start_time": "2021-12-10T16:54:19.786Z"
   },
   {
    "duration": 10,
    "start_time": "2021-12-10T16:55:09.393Z"
   },
   {
    "duration": 11,
    "start_time": "2021-12-10T16:56:39.890Z"
   },
   {
    "duration": 11,
    "start_time": "2021-12-10T16:59:13.220Z"
   },
   {
    "duration": 11,
    "start_time": "2021-12-10T16:59:21.235Z"
   },
   {
    "duration": 11,
    "start_time": "2021-12-10T16:59:25.569Z"
   },
   {
    "duration": 13,
    "start_time": "2021-12-10T17:02:42.426Z"
   },
   {
    "duration": 375,
    "start_time": "2021-12-11T18:02:06.743Z"
   },
   {
    "duration": 1114,
    "start_time": "2021-12-11T18:02:09.875Z"
   },
   {
    "duration": 36,
    "start_time": "2021-12-11T18:02:10.990Z"
   },
   {
    "duration": 15,
    "start_time": "2021-12-11T18:02:11.027Z"
   },
   {
    "duration": 14,
    "start_time": "2021-12-11T18:02:11.044Z"
   },
   {
    "duration": 30,
    "start_time": "2021-12-11T18:02:11.060Z"
   },
   {
    "duration": 2,
    "start_time": "2021-12-11T18:02:11.092Z"
   },
   {
    "duration": 13,
    "start_time": "2021-12-11T18:02:11.096Z"
   },
   {
    "duration": 13,
    "start_time": "2021-12-11T18:02:11.111Z"
   },
   {
    "duration": 8,
    "start_time": "2021-12-11T18:02:11.126Z"
   },
   {
    "duration": 7,
    "start_time": "2021-12-11T18:02:11.136Z"
   },
   {
    "duration": 24,
    "start_time": "2021-12-11T18:02:11.188Z"
   },
   {
    "duration": 3,
    "start_time": "2021-12-11T18:02:11.213Z"
   },
   {
    "duration": 4,
    "start_time": "2021-12-11T18:02:11.218Z"
   },
   {
    "duration": 8,
    "start_time": "2021-12-11T18:02:11.224Z"
   },
   {
    "duration": 58,
    "start_time": "2021-12-11T18:02:11.233Z"
   },
   {
    "duration": 7,
    "start_time": "2021-12-11T18:02:11.293Z"
   },
   {
    "duration": 7,
    "start_time": "2021-12-11T18:02:11.301Z"
   },
   {
    "duration": 5,
    "start_time": "2021-12-11T18:02:11.310Z"
   },
   {
    "duration": 8,
    "start_time": "2021-12-11T18:02:11.317Z"
   },
   {
    "duration": 527,
    "start_time": "2021-12-11T18:02:11.326Z"
   },
   {
    "duration": 434,
    "start_time": "2021-12-11T18:02:11.855Z"
   },
   {
    "duration": 402,
    "start_time": "2021-12-11T18:02:12.291Z"
   },
   {
    "duration": 28,
    "start_time": "2021-12-11T18:02:12.697Z"
   },
   {
    "duration": 4,
    "start_time": "2021-12-11T18:02:12.727Z"
   },
   {
    "duration": 5,
    "start_time": "2021-12-11T18:02:12.733Z"
   },
   {
    "duration": 8,
    "start_time": "2021-12-11T18:02:12.740Z"
   },
   {
    "duration": 620,
    "start_time": "2021-12-11T18:02:12.750Z"
   },
   {
    "duration": 25,
    "start_time": "2021-12-11T18:02:13.371Z"
   },
   {
    "duration": 1008,
    "start_time": "2021-12-11T18:02:13.398Z"
   },
   {
    "duration": 818,
    "start_time": "2021-12-11T18:02:14.408Z"
   },
   {
    "duration": 6856,
    "start_time": "2021-12-11T18:02:15.228Z"
   },
   {
    "duration": 745,
    "start_time": "2021-12-11T18:02:22.085Z"
   },
   {
    "duration": 7267,
    "start_time": "2021-12-11T18:02:22.832Z"
   },
   {
    "duration": 353,
    "start_time": "2021-12-11T18:02:30.100Z"
   },
   {
    "duration": 168,
    "start_time": "2021-12-11T18:02:30.455Z"
   },
   {
    "duration": 172,
    "start_time": "2021-12-11T18:02:30.625Z"
   },
   {
    "duration": 171,
    "start_time": "2021-12-11T18:02:30.798Z"
   },
   {
    "duration": 166,
    "start_time": "2021-12-11T18:02:30.971Z"
   },
   {
    "duration": 163,
    "start_time": "2021-12-11T18:02:31.139Z"
   },
   {
    "duration": 173,
    "start_time": "2021-12-11T18:02:31.304Z"
   },
   {
    "duration": 167,
    "start_time": "2021-12-11T18:02:31.479Z"
   },
   {
    "duration": 252,
    "start_time": "2021-12-11T18:02:31.648Z"
   },
   {
    "duration": 169,
    "start_time": "2021-12-11T18:02:31.902Z"
   },
   {
    "duration": 19,
    "start_time": "2021-12-11T18:02:32.073Z"
   },
   {
    "duration": 9,
    "start_time": "2021-12-11T18:02:32.094Z"
   },
   {
    "duration": 332,
    "start_time": "2021-12-11T18:02:32.106Z"
   },
   {
    "duration": 9,
    "start_time": "2021-12-11T18:02:45.174Z"
   },
   {
    "duration": 9,
    "start_time": "2021-12-11T18:02:49.221Z"
   },
   {
    "duration": 11,
    "start_time": "2021-12-11T18:03:01.837Z"
   },
   {
    "duration": 14,
    "start_time": "2021-12-11T18:03:14.316Z"
   },
   {
    "duration": 8,
    "start_time": "2021-12-11T18:03:22.718Z"
   },
   {
    "duration": 10,
    "start_time": "2021-12-11T18:03:32.597Z"
   },
   {
    "duration": 9,
    "start_time": "2021-12-11T18:03:43.934Z"
   },
   {
    "duration": 12,
    "start_time": "2021-12-11T18:04:04.295Z"
   },
   {
    "duration": 12,
    "start_time": "2021-12-11T18:04:58.822Z"
   },
   {
    "duration": 7,
    "start_time": "2021-12-11T18:05:06.493Z"
   },
   {
    "duration": 8,
    "start_time": "2021-12-11T18:05:13.501Z"
   },
   {
    "duration": 253,
    "start_time": "2021-12-11T18:08:05.740Z"
   },
   {
    "duration": 266,
    "start_time": "2021-12-11T18:08:12.420Z"
   },
   {
    "duration": 12,
    "start_time": "2021-12-11T18:08:19.341Z"
   },
   {
    "duration": 5,
    "start_time": "2021-12-11T18:11:38.645Z"
   },
   {
    "duration": 397,
    "start_time": "2021-12-11T18:11:42.444Z"
   },
   {
    "duration": 6,
    "start_time": "2021-12-11T18:12:05.171Z"
   },
   {
    "duration": 714,
    "start_time": "2021-12-11T18:12:09.539Z"
   },
   {
    "duration": 6,
    "start_time": "2021-12-11T18:12:27.979Z"
   },
   {
    "duration": 423,
    "start_time": "2021-12-11T18:12:30.483Z"
   },
   {
    "duration": 6,
    "start_time": "2021-12-11T18:12:59.526Z"
   },
   {
    "duration": 286,
    "start_time": "2021-12-11T18:12:59.534Z"
   },
   {
    "duration": 310,
    "start_time": "2021-12-11T18:13:01.809Z"
   },
   {
    "duration": 7,
    "start_time": "2021-12-11T18:13:10.154Z"
   },
   {
    "duration": 399,
    "start_time": "2021-12-11T18:13:12.643Z"
   },
   {
    "duration": 411,
    "start_time": "2021-12-11T18:13:31.947Z"
   },
   {
    "duration": 80,
    "start_time": "2021-12-11T18:20:19.243Z"
   },
   {
    "duration": 391,
    "start_time": "2021-12-11T18:20:58.026Z"
   },
   {
    "duration": 4,
    "start_time": "2021-12-11T18:21:52.752Z"
   },
   {
    "duration": 20,
    "start_time": "2021-12-11T18:22:03.968Z"
   },
   {
    "duration": 4,
    "start_time": "2021-12-11T18:22:27.134Z"
   },
   {
    "duration": 7,
    "start_time": "2021-12-11T18:22:34.224Z"
   },
   {
    "duration": 6,
    "start_time": "2021-12-11T18:22:43.769Z"
   },
   {
    "duration": 7,
    "start_time": "2021-12-11T18:22:48.073Z"
   },
   {
    "duration": 7,
    "start_time": "2021-12-11T18:22:55.288Z"
   },
   {
    "duration": 6736,
    "start_time": "2021-12-11T18:23:07.128Z"
   },
   {
    "duration": 7,
    "start_time": "2021-12-11T18:23:24.296Z"
   },
   {
    "duration": 6,
    "start_time": "2021-12-11T18:23:30.121Z"
   },
   {
    "duration": 10,
    "start_time": "2021-12-11T18:23:47.144Z"
   },
   {
    "duration": 8,
    "start_time": "2021-12-11T18:24:02.017Z"
   },
   {
    "duration": 8,
    "start_time": "2021-12-11T18:24:09.896Z"
   },
   {
    "duration": 7,
    "start_time": "2021-12-11T18:24:13.009Z"
   },
   {
    "duration": 359,
    "start_time": "2021-12-11T18:24:25.385Z"
   },
   {
    "duration": 385,
    "start_time": "2021-12-11T18:24:55.058Z"
   },
   {
    "duration": 372,
    "start_time": "2021-12-11T18:25:03.280Z"
   },
   {
    "duration": 374,
    "start_time": "2021-12-11T18:25:19.897Z"
   },
   {
    "duration": 80,
    "start_time": "2021-12-11T18:26:37.904Z"
   },
   {
    "duration": 84,
    "start_time": "2021-12-11T18:26:47.103Z"
   },
   {
    "duration": 20,
    "start_time": "2021-12-11T18:27:02.625Z"
   },
   {
    "duration": 27,
    "start_time": "2021-12-11T18:27:07.536Z"
   },
   {
    "duration": 25,
    "start_time": "2021-12-11T18:27:36.733Z"
   },
   {
    "duration": 21,
    "start_time": "2021-12-11T18:28:18.319Z"
   },
   {
    "duration": 25,
    "start_time": "2021-12-11T18:29:11.320Z"
   },
   {
    "duration": 6117,
    "start_time": "2021-12-11T18:29:27.903Z"
   },
   {
    "duration": 29,
    "start_time": "2021-12-11T18:29:41.736Z"
   },
   {
    "duration": 22,
    "start_time": "2021-12-11T18:29:49.487Z"
   },
   {
    "duration": 23,
    "start_time": "2021-12-11T18:30:06.071Z"
   },
   {
    "duration": 22,
    "start_time": "2021-12-11T18:30:12.799Z"
   },
   {
    "duration": 22,
    "start_time": "2021-12-11T18:30:42.311Z"
   },
   {
    "duration": 3,
    "start_time": "2021-12-11T18:30:55.759Z"
   },
   {
    "duration": 20,
    "start_time": "2021-12-11T18:30:58.823Z"
   },
   {
    "duration": 22,
    "start_time": "2021-12-11T18:31:03.015Z"
   },
   {
    "duration": 4,
    "start_time": "2021-12-11T18:31:03.607Z"
   },
   {
    "duration": 648,
    "start_time": "2021-12-11T18:36:59.019Z"
   },
   {
    "duration": 658,
    "start_time": "2021-12-11T18:37:14.543Z"
   },
   {
    "duration": 627,
    "start_time": "2021-12-11T18:37:22.278Z"
   },
   {
    "duration": 616,
    "start_time": "2021-12-11T18:37:36.607Z"
   },
   {
    "duration": 1118,
    "start_time": "2021-12-11T18:40:21.517Z"
   },
   {
    "duration": 719,
    "start_time": "2021-12-11T18:40:35.820Z"
   },
   {
    "duration": 369,
    "start_time": "2021-12-11T18:47:46.027Z"
   },
   {
    "duration": 275,
    "start_time": "2021-12-11T18:47:57.755Z"
   },
   {
    "duration": 274,
    "start_time": "2021-12-11T18:48:12.195Z"
   },
   {
    "duration": 306,
    "start_time": "2021-12-11T18:50:27.995Z"
   },
   {
    "duration": 321,
    "start_time": "2021-12-11T18:50:54.587Z"
   },
   {
    "duration": 509,
    "start_time": "2021-12-11T18:51:42.307Z"
   },
   {
    "duration": 322,
    "start_time": "2021-12-11T18:54:25.825Z"
   },
   {
    "duration": 328,
    "start_time": "2021-12-11T18:54:43.705Z"
   },
   {
    "duration": 157,
    "start_time": "2021-12-11T19:02:29.040Z"
   },
   {
    "duration": 407,
    "start_time": "2021-12-11T19:08:30.616Z"
   },
   {
    "duration": 16,
    "start_time": "2021-12-11T19:09:00.796Z"
   },
   {
    "duration": 21,
    "start_time": "2021-12-11T19:09:42.955Z"
   },
   {
    "duration": 14,
    "start_time": "2021-12-11T19:10:39.423Z"
   },
   {
    "duration": 3,
    "start_time": "2021-12-11T19:13:22.483Z"
   },
   {
    "duration": 34,
    "start_time": "2021-12-11T19:13:22.488Z"
   },
   {
    "duration": 11,
    "start_time": "2021-12-11T19:13:22.524Z"
   },
   {
    "duration": 10,
    "start_time": "2021-12-11T19:13:22.536Z"
   },
   {
    "duration": 41,
    "start_time": "2021-12-11T19:13:22.548Z"
   },
   {
    "duration": 3,
    "start_time": "2021-12-11T19:13:22.591Z"
   },
   {
    "duration": 15,
    "start_time": "2021-12-11T19:13:22.596Z"
   },
   {
    "duration": 13,
    "start_time": "2021-12-11T19:13:22.613Z"
   },
   {
    "duration": 8,
    "start_time": "2021-12-11T19:13:22.629Z"
   },
   {
    "duration": 8,
    "start_time": "2021-12-11T19:13:22.639Z"
   },
   {
    "duration": 22,
    "start_time": "2021-12-11T19:13:22.688Z"
   },
   {
    "duration": 3,
    "start_time": "2021-12-11T19:13:22.712Z"
   },
   {
    "duration": 5,
    "start_time": "2021-12-11T19:13:22.716Z"
   },
   {
    "duration": 7,
    "start_time": "2021-12-11T19:13:22.723Z"
   },
   {
    "duration": 24,
    "start_time": "2021-12-11T19:13:22.732Z"
   },
   {
    "duration": 37,
    "start_time": "2021-12-11T19:13:22.757Z"
   },
   {
    "duration": 8,
    "start_time": "2021-12-11T19:13:22.795Z"
   },
   {
    "duration": 5,
    "start_time": "2021-12-11T19:13:22.804Z"
   },
   {
    "duration": 5,
    "start_time": "2021-12-11T19:13:22.810Z"
   },
   {
    "duration": 490,
    "start_time": "2021-12-11T19:13:22.816Z"
   },
   {
    "duration": 423,
    "start_time": "2021-12-11T19:13:23.307Z"
   },
   {
    "duration": 7,
    "start_time": "2021-12-11T19:13:23.731Z"
   },
   {
    "duration": 395,
    "start_time": "2021-12-11T19:13:23.740Z"
   },
   {
    "duration": 23,
    "start_time": "2021-12-11T19:13:24.137Z"
   },
   {
    "duration": 5,
    "start_time": "2021-12-11T19:13:24.161Z"
   },
   {
    "duration": 5990,
    "start_time": "2021-12-11T19:13:24.168Z"
   },
   {
    "duration": -134,
    "start_time": "2021-12-11T19:13:30.294Z"
   },
   {
    "duration": -135,
    "start_time": "2021-12-11T19:13:30.296Z"
   },
   {
    "duration": -136,
    "start_time": "2021-12-11T19:13:30.298Z"
   },
   {
    "duration": -137,
    "start_time": "2021-12-11T19:13:30.300Z"
   },
   {
    "duration": -138,
    "start_time": "2021-12-11T19:13:30.302Z"
   },
   {
    "duration": -140,
    "start_time": "2021-12-11T19:13:30.304Z"
   },
   {
    "duration": -141,
    "start_time": "2021-12-11T19:13:30.306Z"
   },
   {
    "duration": -142,
    "start_time": "2021-12-11T19:13:30.308Z"
   },
   {
    "duration": -143,
    "start_time": "2021-12-11T19:13:30.310Z"
   },
   {
    "duration": -144,
    "start_time": "2021-12-11T19:13:30.312Z"
   },
   {
    "duration": -145,
    "start_time": "2021-12-11T19:13:30.314Z"
   },
   {
    "duration": -146,
    "start_time": "2021-12-11T19:13:30.316Z"
   },
   {
    "duration": -152,
    "start_time": "2021-12-11T19:13:30.324Z"
   },
   {
    "duration": -159,
    "start_time": "2021-12-11T19:13:30.331Z"
   },
   {
    "duration": -161,
    "start_time": "2021-12-11T19:13:30.334Z"
   },
   {
    "duration": -161,
    "start_time": "2021-12-11T19:13:30.336Z"
   },
   {
    "duration": -164,
    "start_time": "2021-12-11T19:13:30.339Z"
   },
   {
    "duration": -165,
    "start_time": "2021-12-11T19:13:30.341Z"
   },
   {
    "duration": -166,
    "start_time": "2021-12-11T19:13:30.343Z"
   },
   {
    "duration": -167,
    "start_time": "2021-12-11T19:13:30.345Z"
   },
   {
    "duration": -168,
    "start_time": "2021-12-11T19:13:30.347Z"
   },
   {
    "duration": 6206,
    "start_time": "2021-12-11T19:13:49.725Z"
   },
   {
    "duration": 27,
    "start_time": "2021-12-11T19:14:58.485Z"
   },
   {
    "duration": 5,
    "start_time": "2021-12-11T19:15:01.269Z"
   },
   {
    "duration": 233,
    "start_time": "2021-12-11T19:15:10.356Z"
   },
   {
    "duration": 9,
    "start_time": "2021-12-11T19:15:29.445Z"
   },
   {
    "duration": 8,
    "start_time": "2021-12-11T19:15:53.853Z"
   },
   {
    "duration": 392,
    "start_time": "2021-12-11T19:16:00.756Z"
   },
   {
    "duration": 3,
    "start_time": "2021-12-11T19:16:07.721Z"
   },
   {
    "duration": 37,
    "start_time": "2021-12-11T19:16:07.725Z"
   },
   {
    "duration": 10,
    "start_time": "2021-12-11T19:16:07.764Z"
   },
   {
    "duration": 11,
    "start_time": "2021-12-11T19:16:07.776Z"
   },
   {
    "duration": 7,
    "start_time": "2021-12-11T19:16:07.788Z"
   },
   {
    "duration": 2,
    "start_time": "2021-12-11T19:16:07.797Z"
   },
   {
    "duration": 14,
    "start_time": "2021-12-11T19:16:07.800Z"
   },
   {
    "duration": 11,
    "start_time": "2021-12-11T19:16:07.817Z"
   },
   {
    "duration": 8,
    "start_time": "2021-12-11T19:16:07.829Z"
   },
   {
    "duration": 7,
    "start_time": "2021-12-11T19:16:07.838Z"
   },
   {
    "duration": 62,
    "start_time": "2021-12-11T19:16:07.846Z"
   },
   {
    "duration": 3,
    "start_time": "2021-12-11T19:16:07.910Z"
   },
   {
    "duration": 6,
    "start_time": "2021-12-11T19:16:07.914Z"
   },
   {
    "duration": 9,
    "start_time": "2021-12-11T19:16:07.922Z"
   },
   {
    "duration": 24,
    "start_time": "2021-12-11T19:16:07.932Z"
   },
   {
    "duration": 31,
    "start_time": "2021-12-11T19:16:07.958Z"
   },
   {
    "duration": 7,
    "start_time": "2021-12-11T19:16:07.990Z"
   },
   {
    "duration": 5,
    "start_time": "2021-12-11T19:16:07.998Z"
   },
   {
    "duration": 6,
    "start_time": "2021-12-11T19:16:08.004Z"
   },
   {
    "duration": 482,
    "start_time": "2021-12-11T19:16:08.011Z"
   },
   {
    "duration": 428,
    "start_time": "2021-12-11T19:16:08.494Z"
   },
   {
    "duration": 7,
    "start_time": "2021-12-11T19:16:08.924Z"
   },
   {
    "duration": 500,
    "start_time": "2021-12-11T19:16:08.935Z"
   },
   {
    "duration": 27,
    "start_time": "2021-12-11T19:16:09.437Z"
   },
   {
    "duration": 4,
    "start_time": "2021-12-11T19:16:09.465Z"
   },
   {
    "duration": 7,
    "start_time": "2021-12-11T19:16:09.488Z"
   },
   {
    "duration": 418,
    "start_time": "2021-12-11T19:16:09.497Z"
   },
   {
    "duration": 12,
    "start_time": "2021-12-11T19:16:09.917Z"
   },
   {
    "duration": 723,
    "start_time": "2021-12-11T19:16:09.930Z"
   },
   {
    "duration": 661,
    "start_time": "2021-12-11T19:16:10.655Z"
   },
   {
    "duration": 591,
    "start_time": "2021-12-11T19:16:11.317Z"
   },
   {
    "duration": 4645,
    "start_time": "2021-12-11T19:16:11.910Z"
   },
   {
    "duration": 514,
    "start_time": "2021-12-11T19:16:16.557Z"
   },
   {
    "duration": 4221,
    "start_time": "2021-12-11T19:16:17.073Z"
   },
   {
    "duration": 348,
    "start_time": "2021-12-11T19:16:21.296Z"
   },
   {
    "duration": 697,
    "start_time": "2021-12-11T19:16:21.646Z"
   },
   {
    "duration": 173,
    "start_time": "2021-12-11T19:16:22.345Z"
   },
   {
    "duration": 185,
    "start_time": "2021-12-11T19:16:22.520Z"
   },
   {
    "duration": 175,
    "start_time": "2021-12-11T19:16:22.707Z"
   },
   {
    "duration": 166,
    "start_time": "2021-12-11T19:16:22.884Z"
   },
   {
    "duration": 158,
    "start_time": "2021-12-11T19:16:23.051Z"
   },
   {
    "duration": 165,
    "start_time": "2021-12-11T19:16:23.211Z"
   },
   {
    "duration": 164,
    "start_time": "2021-12-11T19:16:23.378Z"
   },
   {
    "duration": 153,
    "start_time": "2021-12-11T19:16:23.544Z"
   },
   {
    "duration": 165,
    "start_time": "2021-12-11T19:16:23.699Z"
   },
   {
    "duration": 10,
    "start_time": "2021-12-11T19:16:23.866Z"
   },
   {
    "duration": 9,
    "start_time": "2021-12-11T19:16:23.888Z"
   },
   {
    "duration": 296,
    "start_time": "2021-12-11T19:22:15.795Z"
   },
   {
    "duration": 78,
    "start_time": "2021-12-11T19:22:55.220Z"
   },
   {
    "duration": 464,
    "start_time": "2021-12-11T19:23:02.324Z"
   },
   {
    "duration": 411,
    "start_time": "2021-12-11T19:23:16.844Z"
   },
   {
    "duration": 283,
    "start_time": "2021-12-11T19:23:59.618Z"
   },
   {
    "duration": 364,
    "start_time": "2021-12-11T19:24:15.427Z"
   },
   {
    "duration": 415,
    "start_time": "2021-12-11T19:24:27.724Z"
   },
   {
    "duration": 400,
    "start_time": "2021-12-11T19:24:38.666Z"
   },
   {
    "duration": 417,
    "start_time": "2021-12-11T19:24:54.203Z"
   },
   {
    "duration": 11,
    "start_time": "2021-12-11T19:25:08.451Z"
   },
   {
    "duration": 348,
    "start_time": "2021-12-11T19:26:39.602Z"
   },
   {
    "duration": 476,
    "start_time": "2021-12-11T19:26:48.108Z"
   },
   {
    "duration": 375,
    "start_time": "2021-12-11T19:26:57.026Z"
   },
   {
    "duration": 554,
    "start_time": "2021-12-11T19:27:14.068Z"
   },
   {
    "duration": 407,
    "start_time": "2021-12-11T19:27:18.586Z"
   },
   {
    "duration": 367,
    "start_time": "2021-12-11T19:27:30.058Z"
   },
   {
    "duration": 440,
    "start_time": "2021-12-11T19:27:35.258Z"
   },
   {
    "duration": 452,
    "start_time": "2021-12-11T19:27:41.394Z"
   },
   {
    "duration": 457,
    "start_time": "2021-12-11T19:27:55.706Z"
   },
   {
    "duration": 371,
    "start_time": "2021-12-11T19:28:08.194Z"
   },
   {
    "duration": 321,
    "start_time": "2021-12-11T19:28:25.842Z"
   },
   {
    "duration": 308,
    "start_time": "2021-12-11T19:28:39.115Z"
   },
   {
    "duration": 355,
    "start_time": "2021-12-11T19:29:07.034Z"
   },
   {
    "duration": 317,
    "start_time": "2021-12-11T19:29:27.729Z"
   },
   {
    "duration": 611,
    "start_time": "2021-12-11T19:29:42.754Z"
   },
   {
    "duration": 343,
    "start_time": "2021-12-11T19:29:54.361Z"
   },
   {
    "duration": 458,
    "start_time": "2021-12-11T19:29:57.802Z"
   },
   {
    "duration": 351,
    "start_time": "2021-12-11T19:30:12.514Z"
   },
   {
    "duration": 366,
    "start_time": "2021-12-11T19:30:18.041Z"
   },
   {
    "duration": 310,
    "start_time": "2021-12-11T19:30:23.017Z"
   },
   {
    "duration": 782,
    "start_time": "2021-12-11T19:32:07.937Z"
   },
   {
    "duration": 355,
    "start_time": "2021-12-11T19:32:32.777Z"
   },
   {
    "duration": 593,
    "start_time": "2021-12-11T19:32:51.465Z"
   },
   {
    "duration": 591,
    "start_time": "2021-12-11T19:32:54.448Z"
   },
   {
    "duration": 378,
    "start_time": "2021-12-11T19:33:10.160Z"
   },
   {
    "duration": 268,
    "start_time": "2021-12-11T19:34:31.593Z"
   },
   {
    "duration": 237,
    "start_time": "2021-12-11T19:36:07.424Z"
   },
   {
    "duration": 253,
    "start_time": "2021-12-11T19:36:21.129Z"
   },
   {
    "duration": 357,
    "start_time": "2021-12-11T19:36:43.120Z"
   },
   {
    "duration": 416,
    "start_time": "2021-12-11T19:38:17.687Z"
   },
   {
    "duration": 380,
    "start_time": "2021-12-11T19:38:28.351Z"
   },
   {
    "duration": 451,
    "start_time": "2021-12-11T19:38:34.617Z"
   },
   {
    "duration": 430,
    "start_time": "2021-12-11T19:38:47.784Z"
   },
   {
    "duration": 458,
    "start_time": "2021-12-11T19:38:55.271Z"
   },
   {
    "duration": 419,
    "start_time": "2021-12-11T19:39:03.055Z"
   },
   {
    "duration": 406,
    "start_time": "2021-12-11T19:39:25.951Z"
   },
   {
    "duration": 367,
    "start_time": "2021-12-11T19:43:08.192Z"
   },
   {
    "duration": 405,
    "start_time": "2021-12-11T19:43:16.711Z"
   },
   {
    "duration": 426,
    "start_time": "2021-12-11T19:44:59.255Z"
   },
   {
    "duration": 411,
    "start_time": "2021-12-11T19:46:10.285Z"
   },
   {
    "duration": 405,
    "start_time": "2021-12-11T19:46:31.478Z"
   },
   {
    "duration": 406,
    "start_time": "2021-12-11T19:46:49.470Z"
   },
   {
    "duration": 3,
    "start_time": "2021-12-11T19:48:53.233Z"
   },
   {
    "duration": 36,
    "start_time": "2021-12-11T19:48:53.238Z"
   },
   {
    "duration": 11,
    "start_time": "2021-12-11T19:48:53.276Z"
   },
   {
    "duration": 10,
    "start_time": "2021-12-11T19:48:53.289Z"
   },
   {
    "duration": 7,
    "start_time": "2021-12-11T19:48:53.301Z"
   },
   {
    "duration": 3,
    "start_time": "2021-12-11T19:48:53.310Z"
   },
   {
    "duration": 12,
    "start_time": "2021-12-11T19:48:53.314Z"
   },
   {
    "duration": 13,
    "start_time": "2021-12-11T19:48:53.327Z"
   },
   {
    "duration": 49,
    "start_time": "2021-12-11T19:48:53.342Z"
   },
   {
    "duration": 7,
    "start_time": "2021-12-11T19:48:53.393Z"
   },
   {
    "duration": 23,
    "start_time": "2021-12-11T19:48:53.402Z"
   },
   {
    "duration": 4,
    "start_time": "2021-12-11T19:48:53.427Z"
   },
   {
    "duration": 5,
    "start_time": "2021-12-11T19:48:53.432Z"
   },
   {
    "duration": 9,
    "start_time": "2021-12-11T19:48:53.439Z"
   },
   {
    "duration": 64,
    "start_time": "2021-12-11T19:48:53.450Z"
   },
   {
    "duration": 8,
    "start_time": "2021-12-11T19:48:53.516Z"
   },
   {
    "duration": 8,
    "start_time": "2021-12-11T19:48:53.525Z"
   },
   {
    "duration": 4,
    "start_time": "2021-12-11T19:48:53.535Z"
   },
   {
    "duration": 6,
    "start_time": "2021-12-11T19:48:53.540Z"
   },
   {
    "duration": 487,
    "start_time": "2021-12-11T19:48:53.547Z"
   },
   {
    "duration": 432,
    "start_time": "2021-12-11T19:48:54.036Z"
   },
   {
    "duration": 389,
    "start_time": "2021-12-11T19:48:54.470Z"
   },
   {
    "duration": 39,
    "start_time": "2021-12-11T19:48:54.861Z"
   },
   {
    "duration": 3,
    "start_time": "2021-12-11T19:48:54.902Z"
   },
   {
    "duration": 9,
    "start_time": "2021-12-11T19:48:54.907Z"
   },
   {
    "duration": 419,
    "start_time": "2021-12-11T19:48:54.918Z"
   },
   {
    "duration": 14,
    "start_time": "2021-12-11T19:48:55.342Z"
   },
   {
    "duration": 668,
    "start_time": "2021-12-11T19:48:55.359Z"
   },
   {
    "duration": 701,
    "start_time": "2021-12-11T19:48:56.028Z"
   },
   {
    "duration": 621,
    "start_time": "2021-12-11T19:48:56.730Z"
   },
   {
    "duration": 4624,
    "start_time": "2021-12-11T19:48:57.352Z"
   },
   {
    "duration": 503,
    "start_time": "2021-12-11T19:49:01.978Z"
   },
   {
    "duration": 4106,
    "start_time": "2021-12-11T19:49:02.483Z"
   },
   {
    "duration": 362,
    "start_time": "2021-12-11T19:49:06.591Z"
   },
   {
    "duration": 775,
    "start_time": "2021-12-11T19:49:06.955Z"
   },
   {
    "duration": 459,
    "start_time": "2021-12-11T19:49:07.732Z"
   },
   {
    "duration": 434,
    "start_time": "2021-12-11T19:49:08.192Z"
   },
   {
    "duration": 407,
    "start_time": "2021-12-11T19:49:08.628Z"
   },
   {
    "duration": 12,
    "start_time": "2021-12-11T19:49:09.037Z"
   },
   {
    "duration": 9,
    "start_time": "2021-12-11T19:49:09.051Z"
   },
   {
    "duration": 3,
    "start_time": "2021-12-11T19:53:51.904Z"
   },
   {
    "duration": 37,
    "start_time": "2021-12-11T19:53:51.909Z"
   },
   {
    "duration": 10,
    "start_time": "2021-12-11T19:53:51.948Z"
   },
   {
    "duration": 22,
    "start_time": "2021-12-11T19:53:51.960Z"
   },
   {
    "duration": 16,
    "start_time": "2021-12-11T19:53:51.984Z"
   },
   {
    "duration": 3,
    "start_time": "2021-12-11T19:53:52.001Z"
   },
   {
    "duration": 13,
    "start_time": "2021-12-11T19:53:52.006Z"
   },
   {
    "duration": 12,
    "start_time": "2021-12-11T19:53:52.022Z"
   },
   {
    "duration": 7,
    "start_time": "2021-12-11T19:53:52.036Z"
   },
   {
    "duration": 44,
    "start_time": "2021-12-11T19:53:52.045Z"
   },
   {
    "duration": 24,
    "start_time": "2021-12-11T19:53:52.091Z"
   },
   {
    "duration": 3,
    "start_time": "2021-12-11T19:53:52.116Z"
   },
   {
    "duration": 6,
    "start_time": "2021-12-11T19:53:52.120Z"
   },
   {
    "duration": 8,
    "start_time": "2021-12-11T19:53:52.127Z"
   },
   {
    "duration": 53,
    "start_time": "2021-12-11T19:53:52.137Z"
   },
   {
    "duration": 8,
    "start_time": "2021-12-11T19:53:52.192Z"
   },
   {
    "duration": 6,
    "start_time": "2021-12-11T19:53:52.202Z"
   },
   {
    "duration": 10,
    "start_time": "2021-12-11T19:53:52.209Z"
   },
   {
    "duration": 10,
    "start_time": "2021-12-11T19:53:52.220Z"
   },
   {
    "duration": 479,
    "start_time": "2021-12-11T19:53:52.231Z"
   },
   {
    "duration": 438,
    "start_time": "2021-12-11T19:53:52.712Z"
   },
   {
    "duration": 485,
    "start_time": "2021-12-11T19:53:53.152Z"
   },
   {
    "duration": 24,
    "start_time": "2021-12-11T19:53:53.640Z"
   },
   {
    "duration": 4,
    "start_time": "2021-12-11T19:53:53.666Z"
   },
   {
    "duration": 23,
    "start_time": "2021-12-11T19:53:53.671Z"
   },
   {
    "duration": 408,
    "start_time": "2021-12-11T19:53:53.695Z"
   },
   {
    "duration": 11,
    "start_time": "2021-12-11T19:53:54.105Z"
   },
   {
    "duration": 675,
    "start_time": "2021-12-11T19:53:54.118Z"
   },
   {
    "duration": 652,
    "start_time": "2021-12-11T19:53:54.794Z"
   },
   {
    "duration": 514,
    "start_time": "2021-12-11T19:53:55.448Z"
   },
   {
    "duration": 3963,
    "start_time": "2021-12-11T19:53:55.963Z"
   },
   {
    "duration": 488,
    "start_time": "2021-12-11T19:53:59.928Z"
   },
   {
    "duration": 5271,
    "start_time": "2021-12-11T19:54:00.417Z"
   },
   {
    "duration": 522,
    "start_time": "2021-12-11T19:54:05.690Z"
   },
   {
    "duration": 1518,
    "start_time": "2021-12-11T19:54:06.214Z"
   },
   {
    "duration": 395,
    "start_time": "2021-12-11T19:54:07.734Z"
   },
   {
    "duration": 396,
    "start_time": "2021-12-11T19:54:08.131Z"
   },
   {
    "duration": 392,
    "start_time": "2021-12-11T19:54:08.529Z"
   },
   {
    "duration": 10,
    "start_time": "2021-12-11T19:54:08.923Z"
   },
   {
    "duration": 10,
    "start_time": "2021-12-11T19:54:08.934Z"
   },
   {
    "duration": 1183,
    "start_time": "2021-12-12T23:10:48.006Z"
   },
   {
    "duration": 38,
    "start_time": "2021-12-12T23:10:49.191Z"
   },
   {
    "duration": 16,
    "start_time": "2021-12-12T23:10:49.231Z"
   },
   {
    "duration": 15,
    "start_time": "2021-12-12T23:10:49.249Z"
   },
   {
    "duration": 10,
    "start_time": "2021-12-12T23:10:49.266Z"
   },
   {
    "duration": 3,
    "start_time": "2021-12-12T23:10:49.278Z"
   },
   {
    "duration": 13,
    "start_time": "2021-12-12T23:10:49.283Z"
   },
   {
    "duration": 49,
    "start_time": "2021-12-12T23:10:49.299Z"
   },
   {
    "duration": 19,
    "start_time": "2021-12-12T23:10:49.352Z"
   },
   {
    "duration": 12,
    "start_time": "2021-12-12T23:10:49.373Z"
   },
   {
    "duration": 33,
    "start_time": "2021-12-12T23:10:49.387Z"
   },
   {
    "duration": 26,
    "start_time": "2021-12-12T23:10:49.422Z"
   },
   {
    "duration": 5,
    "start_time": "2021-12-12T23:10:49.451Z"
   },
   {
    "duration": 20,
    "start_time": "2021-12-12T23:10:49.459Z"
   },
   {
    "duration": 29,
    "start_time": "2021-12-12T23:10:49.481Z"
   },
   {
    "duration": 8,
    "start_time": "2021-12-12T23:10:49.512Z"
   },
   {
    "duration": 33,
    "start_time": "2021-12-12T23:10:49.521Z"
   },
   {
    "duration": 13,
    "start_time": "2021-12-12T23:10:49.556Z"
   },
   {
    "duration": 6,
    "start_time": "2021-12-12T23:10:49.571Z"
   },
   {
    "duration": 577,
    "start_time": "2021-12-12T23:10:49.579Z"
   },
   {
    "duration": 501,
    "start_time": "2021-12-12T23:10:50.159Z"
   },
   {
    "duration": 444,
    "start_time": "2021-12-12T23:10:50.662Z"
   },
   {
    "duration": 48,
    "start_time": "2021-12-12T23:10:51.110Z"
   },
   {
    "duration": 5,
    "start_time": "2021-12-12T23:10:51.160Z"
   },
   {
    "duration": 364,
    "start_time": "2021-12-12T23:10:51.166Z"
   },
   {
    "duration": 155269,
    "start_time": "2021-12-12T23:08:16.263Z"
   },
   {
    "duration": 155260,
    "start_time": "2021-12-12T23:08:16.273Z"
   },
   {
    "duration": 155257,
    "start_time": "2021-12-12T23:08:16.278Z"
   },
   {
    "duration": 155249,
    "start_time": "2021-12-12T23:08:16.287Z"
   },
   {
    "duration": 155246,
    "start_time": "2021-12-12T23:08:16.292Z"
   },
   {
    "duration": 155240,
    "start_time": "2021-12-12T23:08:16.299Z"
   },
   {
    "duration": 155233,
    "start_time": "2021-12-12T23:08:16.308Z"
   },
   {
    "duration": 155228,
    "start_time": "2021-12-12T23:08:16.314Z"
   },
   {
    "duration": 155221,
    "start_time": "2021-12-12T23:08:16.323Z"
   },
   {
    "duration": 155217,
    "start_time": "2021-12-12T23:08:16.328Z"
   },
   {
    "duration": 155210,
    "start_time": "2021-12-12T23:08:16.337Z"
   },
   {
    "duration": 155206,
    "start_time": "2021-12-12T23:08:16.342Z"
   },
   {
    "duration": 155203,
    "start_time": "2021-12-12T23:08:16.347Z"
   },
   {
    "duration": 155197,
    "start_time": "2021-12-12T23:08:16.356Z"
   },
   {
    "duration": 155192,
    "start_time": "2021-12-12T23:08:16.362Z"
   },
   {
    "duration": 9,
    "start_time": "2021-12-12T23:11:39.808Z"
   },
   {
    "duration": 3,
    "start_time": "2021-12-12T23:12:49.935Z"
   },
   {
    "duration": 53,
    "start_time": "2021-12-12T23:12:49.940Z"
   },
   {
    "duration": 13,
    "start_time": "2021-12-12T23:12:49.995Z"
   },
   {
    "duration": 17,
    "start_time": "2021-12-12T23:12:50.010Z"
   },
   {
    "duration": 16,
    "start_time": "2021-12-12T23:12:50.029Z"
   },
   {
    "duration": 3,
    "start_time": "2021-12-12T23:12:50.047Z"
   },
   {
    "duration": 15,
    "start_time": "2021-12-12T23:12:50.053Z"
   },
   {
    "duration": 17,
    "start_time": "2021-12-12T23:12:50.071Z"
   },
   {
    "duration": 9,
    "start_time": "2021-12-12T23:12:50.090Z"
   },
   {
    "duration": 9,
    "start_time": "2021-12-12T23:12:50.101Z"
   },
   {
    "duration": 25,
    "start_time": "2021-12-12T23:12:50.145Z"
   },
   {
    "duration": 3,
    "start_time": "2021-12-12T23:12:50.172Z"
   },
   {
    "duration": 8,
    "start_time": "2021-12-12T23:12:50.176Z"
   },
   {
    "duration": 9,
    "start_time": "2021-12-12T23:12:50.186Z"
   },
   {
    "duration": 53,
    "start_time": "2021-12-12T23:12:50.196Z"
   },
   {
    "duration": 8,
    "start_time": "2021-12-12T23:12:50.251Z"
   },
   {
    "duration": 8,
    "start_time": "2021-12-12T23:12:50.261Z"
   },
   {
    "duration": 10,
    "start_time": "2021-12-12T23:12:50.270Z"
   },
   {
    "duration": 7,
    "start_time": "2021-12-12T23:12:50.284Z"
   },
   {
    "duration": 520,
    "start_time": "2021-12-12T23:12:50.293Z"
   },
   {
    "duration": 522,
    "start_time": "2021-12-12T23:12:50.814Z"
   },
   {
    "duration": 423,
    "start_time": "2021-12-12T23:12:51.338Z"
   },
   {
    "duration": 30,
    "start_time": "2021-12-12T23:12:51.763Z"
   },
   {
    "duration": 4,
    "start_time": "2021-12-12T23:12:51.794Z"
   },
   {
    "duration": 13,
    "start_time": "2021-12-12T23:12:51.800Z"
   },
   {
    "duration": 453,
    "start_time": "2021-12-12T23:12:51.815Z"
   },
   {
    "duration": 13,
    "start_time": "2021-12-12T23:12:52.269Z"
   },
   {
    "duration": 661,
    "start_time": "2021-12-12T23:12:52.285Z"
   },
   {
    "duration": 687,
    "start_time": "2021-12-12T23:12:52.948Z"
   },
   {
    "duration": 540,
    "start_time": "2021-12-12T23:12:53.637Z"
   },
   {
    "duration": 3504,
    "start_time": "2021-12-12T23:12:54.178Z"
   },
   {
    "duration": 506,
    "start_time": "2021-12-12T23:12:57.684Z"
   },
   {
    "duration": 3489,
    "start_time": "2021-12-12T23:12:58.192Z"
   },
   {
    "duration": 377,
    "start_time": "2021-12-12T23:13:01.683Z"
   },
   {
    "duration": 702,
    "start_time": "2021-12-12T23:13:02.062Z"
   },
   {
    "duration": 431,
    "start_time": "2021-12-12T23:13:02.766Z"
   },
   {
    "duration": 461,
    "start_time": "2021-12-12T23:13:03.199Z"
   },
   {
    "duration": 424,
    "start_time": "2021-12-12T23:13:03.662Z"
   },
   {
    "duration": 11,
    "start_time": "2021-12-12T23:13:04.088Z"
   },
   {
    "duration": 22,
    "start_time": "2021-12-12T23:13:04.101Z"
   },
   {
    "duration": 497,
    "start_time": "2021-12-12T23:13:56.520Z"
   },
   {
    "duration": 3,
    "start_time": "2021-12-12T23:15:42.773Z"
   },
   {
    "duration": 41,
    "start_time": "2021-12-12T23:15:42.778Z"
   },
   {
    "duration": 12,
    "start_time": "2021-12-12T23:15:42.821Z"
   },
   {
    "duration": 11,
    "start_time": "2021-12-12T23:15:42.835Z"
   },
   {
    "duration": 10,
    "start_time": "2021-12-12T23:15:42.847Z"
   },
   {
    "duration": 3,
    "start_time": "2021-12-12T23:15:42.858Z"
   },
   {
    "duration": 14,
    "start_time": "2021-12-12T23:15:42.863Z"
   },
   {
    "duration": 18,
    "start_time": "2021-12-12T23:15:42.879Z"
   },
   {
    "duration": 7,
    "start_time": "2021-12-12T23:15:42.899Z"
   },
   {
    "duration": 38,
    "start_time": "2021-12-12T23:15:42.907Z"
   },
   {
    "duration": 25,
    "start_time": "2021-12-12T23:15:42.947Z"
   },
   {
    "duration": 3,
    "start_time": "2021-12-12T23:15:42.973Z"
   },
   {
    "duration": 24,
    "start_time": "2021-12-12T23:15:42.978Z"
   },
   {
    "duration": 13,
    "start_time": "2021-12-12T23:15:43.004Z"
   },
   {
    "duration": 30,
    "start_time": "2021-12-12T23:15:43.019Z"
   },
   {
    "duration": 8,
    "start_time": "2021-12-12T23:15:43.051Z"
   },
   {
    "duration": 10,
    "start_time": "2021-12-12T23:15:43.060Z"
   },
   {
    "duration": 6,
    "start_time": "2021-12-12T23:15:43.071Z"
   },
   {
    "duration": 4,
    "start_time": "2021-12-12T23:15:43.080Z"
   },
   {
    "duration": 500,
    "start_time": "2021-12-12T23:15:43.085Z"
   },
   {
    "duration": 548,
    "start_time": "2021-12-12T23:15:43.586Z"
   },
   {
    "duration": 543,
    "start_time": "2021-12-12T23:15:44.136Z"
   },
   {
    "duration": 28,
    "start_time": "2021-12-12T23:15:44.680Z"
   },
   {
    "duration": 4,
    "start_time": "2021-12-12T23:15:44.710Z"
   },
   {
    "duration": 19,
    "start_time": "2021-12-12T23:15:44.715Z"
   },
   {
    "duration": 441,
    "start_time": "2021-12-12T23:15:44.735Z"
   },
   {
    "duration": 12,
    "start_time": "2021-12-12T23:15:45.178Z"
   },
   {
    "duration": 745,
    "start_time": "2021-12-12T23:15:45.192Z"
   },
   {
    "duration": 688,
    "start_time": "2021-12-12T23:15:45.939Z"
   },
   {
    "duration": 524,
    "start_time": "2021-12-12T23:15:46.629Z"
   },
   {
    "duration": 3634,
    "start_time": "2021-12-12T23:15:47.155Z"
   },
   {
    "duration": 515,
    "start_time": "2021-12-12T23:15:50.790Z"
   },
   {
    "duration": 3496,
    "start_time": "2021-12-12T23:15:51.307Z"
   },
   {
    "duration": 411,
    "start_time": "2021-12-12T23:15:54.805Z"
   },
   {
    "duration": 714,
    "start_time": "2021-12-12T23:15:55.218Z"
   },
   {
    "duration": 418,
    "start_time": "2021-12-12T23:15:55.934Z"
   },
   {
    "duration": 403,
    "start_time": "2021-12-12T23:15:56.353Z"
   },
   {
    "duration": 419,
    "start_time": "2021-12-12T23:15:56.758Z"
   },
   {
    "duration": 8,
    "start_time": "2021-12-12T23:15:57.179Z"
   },
   {
    "duration": 8,
    "start_time": "2021-12-12T23:15:57.189Z"
   },
   {
    "duration": 643,
    "start_time": "2021-12-12T23:19:37.186Z"
   },
   {
    "duration": 793,
    "start_time": "2021-12-12T23:19:54.906Z"
   }
  ],
  "kernelspec": {
   "display_name": "Python 3 (ipykernel)",
   "language": "python",
   "name": "python3"
  },
  "language_info": {
   "codemirror_mode": {
    "name": "ipython",
    "version": 3
   },
   "file_extension": ".py",
   "mimetype": "text/x-python",
   "name": "python",
   "nbconvert_exporter": "python",
   "pygments_lexer": "ipython3",
   "version": "3.8.8"
  },
  "toc": {
   "base_numbering": 1,
   "nav_menu": {},
   "number_sections": true,
   "sideBar": true,
   "skip_h1_title": true,
   "title_cell": "Table of Contents",
   "title_sidebar": "Contents",
   "toc_cell": false,
   "toc_position": {},
   "toc_section_display": true,
   "toc_window_display": false
  }
 },
 "nbformat": 4,
 "nbformat_minor": 2
}
